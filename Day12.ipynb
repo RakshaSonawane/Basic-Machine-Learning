{
 "cells": [
  {
   "cell_type": "code",
   "execution_count": null,
   "id": "78537d25-deb7-4091-be41-d5553629c33d",
   "metadata": {},
   "outputs": [],
   "source": [
    "import numpy as np\n",
    "import matplotlib.pyplot as plt"
   ]
  },
  {
   "cell_type": "code",
   "execution_count": null,
   "id": "44705911-f95f-4e5c-919d-a29863daaa83",
   "metadata": {},
   "outputs": [],
   "source": [
    "x = np.linspace(0, 2*np.pi, 100)\n",
    "y = np.cos(x)"
   ]
  },
  {
   "cell_type": "code",
   "execution_count": null,
   "id": "c216bc10-9317-4380-80ff-2d5946f9fe98",
   "metadata": {},
   "outputs": [],
   "source": [
    "print(x)\n",
    "print(y)"
   ]
  },
  {
   "cell_type": "code",
   "execution_count": null,
   "id": "32431afb-e9fc-4884-b50b-3c73bf6ed717",
   "metadata": {},
   "outputs": [],
   "source": [
    "fig, ax = plt.subplots()\n",
    "ax.plot(x, y, color='blue')\n",
    "plt.show()"
   ]
  },
  {
   "cell_type": "code",
   "execution_count": null,
   "id": "f7ff4fcd-1a99-4049-8ad2-c66db4513410",
   "metadata": {},
   "outputs": [],
   "source": [
    "fig, ax = plt.subplots()\n",
    "ax.scatter(x, y, color='blue')\n",
    "plt.show()"
   ]
  },
  {
   "cell_type": "code",
   "execution_count": null,
   "id": "fd9c4f7d-ed4b-4401-b16c-e590f4555cd9",
   "metadata": {},
   "outputs": [],
   "source": [
    "fig, ax = plt.subplots()\n",
    "fig, axs = plt.subplots(1,3)\n",
    "plt.show()"
   ]
  },
  {
   "cell_type": "code",
   "execution_count": null,
   "id": "d1934ae7-1efe-4541-8787-b0e58e15f2a8",
   "metadata": {},
   "outputs": [],
   "source": [
    "from matplotlib.gridspec import GridSpec\n",
    "G = GridSpec(1,2)\n",
    "plt.show()"
   ]
  },
  {
   "cell_type": "code",
   "execution_count": null,
   "id": "404c13bd-7c23-475d-80ac-d7826095aa4e",
   "metadata": {},
   "outputs": [],
   "source": [
    "fig, ax = plt.subplots()\n",
    "ax.bar(x, y, color='green')\n",
    "plt.show()"
   ]
  },
  {
   "cell_type": "code",
   "execution_count": null,
   "id": "7b94bfd8-2006-46fc-bc94-7965372aa908",
   "metadata": {},
   "outputs": [],
   "source": [
    "import pandas as pd\n",
    "df = pd.read_csv(r\"C:\\Users\\uSER\\Downloads\\california_housing_test.csv\")\n",
    "df"
   ]
  },
  {
   "cell_type": "code",
   "execution_count": null,
   "id": "661622b6-c7b7-4ad5-b8bf-b40bd58d06d9",
   "metadata": {},
   "outputs": [],
   "source": [
    "x = df['population']\n",
    "x = x.values"
   ]
  },
  {
   "cell_type": "code",
   "execution_count": null,
   "id": "cf96cfad-f701-419e-ac01-07addca9fbbd",
   "metadata": {},
   "outputs": [],
   "source": [
    "y = df['households']\n",
    "y= y.values"
   ]
  },
  {
   "cell_type": "code",
   "execution_count": null,
   "id": "84265c82-f276-4068-a322-8ec5b5b8ec13",
   "metadata": {},
   "outputs": [],
   "source": [
    "fig, ax = plt.subplots()\n",
    "ax.bar(x, y, color='green')\n",
    "plt.show()"
   ]
  },
  {
   "cell_type": "code",
   "execution_count": null,
   "id": "5ddd9ecd-77ad-4a84-a89a-39b3adaa885f",
   "metadata": {},
   "outputs": [],
   "source": [
    "fig, ax = plt.subplots()\n",
    "ax.scatter(x, y, color='pink')\n",
    "ax.bar(x, y, color='red')\n",
    "plt.show()"
   ]
  },
  {
   "cell_type": "code",
   "execution_count": null,
   "id": "8db1c7c6-cf96-4593-9336-a4dcd863276a",
   "metadata": {},
   "outputs": [],
   "source": [
    "\n",
    "df.info()"
   ]
  },
  {
   "cell_type": "code",
   "execution_count": null,
   "id": "41837674-b513-495c-a1ce-e375d191f8cd",
   "metadata": {
    "scrolled": true
   },
   "outputs": [],
   "source": [
    "x1 = df[['total_bedrooms']]\n",
    "y1 = df[['households']]\n",
    "import numpy as np  \n",
    "from sklearn.linear_model import LinearRegression\n",
    "model = LinearRegression()\n",
    "model.fit(x1, y1)\n",
    "model.coef_\n",
    "plt.plot(x1, x1*model.coef_)"
   ]
  },
  {
   "cell_type": "code",
   "execution_count": null,
   "id": "e87126f2-7030-4451-9271-4bddaa25b071",
   "metadata": {},
   "outputs": [],
   "source": [
    "data = pd.read_csv(r\"C:\\Users\\uSER\\Downloads\\Iris.csv\")\n",
    "data"
   ]
  },
  {
   "cell_type": "code",
   "execution_count": null,
   "id": "b302c479-fcdd-4bc1-962e-724d975c6ba7",
   "metadata": {},
   "outputs": [],
   "source": [
    "data.info()"
   ]
  },
  {
   "cell_type": "code",
   "execution_count": null,
   "id": "b3de80a8-4423-4599-bfec-36bd62327a83",
   "metadata": {},
   "outputs": [],
   "source": [
    "data['Species'].unique()"
   ]
  },
  {
   "cell_type": "code",
   "execution_count": null,
   "id": "fee06730-a625-4c3a-a3d6-0f4e9082ab88",
   "metadata": {},
   "outputs": [],
   "source": [
    "data = data.replace([\"Iris-setosa\", 'Iris-versicolor'], (0,1))\n",
    "data = data.replace('Iris-virginica', 1)\n",
    "data"
   ]
  },
  {
   "cell_type": "code",
   "execution_count": null,
   "id": "62160a82-73fd-4f50-a104-4c6b7fad81b7",
   "metadata": {},
   "outputs": [],
   "source": [
    "data.shape"
   ]
  },
  {
   "cell_type": "code",
   "execution_count": null,
   "id": "1d568244-77b5-415f-b329-01384fff162b",
   "metadata": {},
   "outputs": [],
   "source": [
    "\n",
    "x1 = data[['SepalLengthCm']]\n",
    "y1 = data[['Species']]\n",
    "import numpy as np  \n",
    "from sklearn.linear_model import LogisticRegression\n",
    "model = LogisticRegression()\n",
    "model.fit(x1, y1)\n",
    "model.coef_\n",
    "plt.plot(x1, x1*model.coef_)"
   ]
  },
  {
   "cell_type": "code",
   "execution_count": null,
   "id": "8b5b84ee-4e75-4062-a7af-7068b51ef9b0",
   "metadata": {},
   "outputs": [],
   "source": [
    "X1_train = x1[:-20]\n",
    "X1_test = x1[-20:]\n",
    "Y1_train = y1[:-20]\n",
    "Y1_test = y1[-20:]"
   ]
  },
  {
   "cell_type": "code",
   "execution_count": null,
   "id": "770467fe-5d23-4ee2-89dc-a5e43dac765c",
   "metadata": {},
   "outputs": [],
   "source": [
    "regr = LogisticRegression()"
   ]
  },
  {
   "cell_type": "code",
   "execution_count": null,
   "id": "82f7cab6-b72b-4c35-bb0e-f4a51de7b8e8",
   "metadata": {},
   "outputs": [],
   "source": [
    "regr.fit(X1_train, Y1_train)"
   ]
  },
  {
   "cell_type": "code",
   "execution_count": null,
   "id": "cfaf1d66-50b4-4515-8d2a-ea68cb6e4c23",
   "metadata": {},
   "outputs": [],
   "source": [
    "Y1_pred = regr.predict(X1_test)"
   ]
  },
  {
   "cell_type": "code",
   "execution_count": null,
   "id": "f1a25e60-1cf4-4538-9097-166959396c77",
   "metadata": {},
   "outputs": [],
   "source": [
    "plt.scatter(X1_train, Y1_train)\n",
    "plt.plot(X1_train, X1_train*model.coef_)"
   ]
  },
  {
   "cell_type": "code",
   "execution_count": null,
   "id": "e513142a-0969-437c-937d-3de784862c72",
   "metadata": {},
   "outputs": [],
   "source": [
    "plt.title('Linear Regression Line Graph')\n",
    "plt.xlabel('SepalLengthCm')\n",
    "plt.ylabel('Species')\n",
    "plt.grid(True)\n",
    "plt.figtext(0.995, 0.01, 'Footnote', ha='right', va='bottom')\n",
    "plt.legend(loc='best', framealpha=0.5, prop={'size':'small'})\n",
    "plt.tight_layout(pad=1)\n",
    "plt.gcf().set_size_inches(8,4)   \n",
    "x1 = data[['SepalLengthCm']]\n",
    "y1 = data[['Species']]\n",
    "\n",
    "plt.plot(x1, x1*model.coef_)"
   ]
  },
  {
   "cell_type": "code",
   "execution_count": null,
   "id": "f8312d93-de8e-4542-8841-441297bf0b38",
   "metadata": {},
   "outputs": [],
   "source": [
    "fig, ax = plt.subplots()\n",
    "fig,(ax1,ax2,ax3) = plt.subplots(nrows=3, ncols=1, sharex=True, figsize=(8,4))"
   ]
  },
  {
   "cell_type": "code",
   "execution_count": null,
   "id": "13c8a71c-0f05-427e-99f8-1189eb991e35",
   "metadata": {},
   "outputs": [],
   "source": [
    "fig, ax = plt.subplots()\n",
    "fig,(ax1,ax2,ax3) = plt.subplots(nrows=1, ncols=3, sharex=True, figsize=(8,4))"
   ]
  },
  {
   "cell_type": "code",
   "execution_count": null,
   "id": "68de778d-b71e-48a0-a5d3-0f3b20c30460",
   "metadata": {},
   "outputs": [],
   "source": [
    "fig.delaxes(ax2)"
   ]
  },
  {
   "cell_type": "code",
   "execution_count": null,
   "id": "aa538757-68c5-4fd1-8a98-c89a241b3b92",
   "metadata": {},
   "outputs": [],
   "source": [
    "fig"
   ]
  },
  {
   "cell_type": "markdown",
   "id": "d6ae88ec-2bfd-4c92-be5b-2343f72e3132",
   "metadata": {},
   "source": [
    "from statsmodels.sandbox.regression.predstd\\\n",
    "import wls_prediction_std\n",
    "sdev, lower, upper = wls_prediction_std(fitted, exog=x_pred2, alpha=0.05)\n",
    "ax.fill_between(x_pred, lower, upper, color='#888888', alpha=0.1)\n",
    "fig.savefig('filename4.png', dpi=125)"
   ]
  },
  {
   "cell_type": "code",
   "execution_count": null,
   "id": "77296cda-bd4c-421a-aa9c-54de2314e126",
   "metadata": {},
   "outputs": [],
   "source": [
    "N = 100\n",
    "x = np.random.rand(N)\n",
    "y = np.random.rand(N)\n",
    "size = ((np.random.rand(N) + 1) * 8) ** 2\n",
    "colours = np.random.rand(N)\n",
    "fig, ax = plt.subplots(figsize = (8,4))\n",
    "l = ax.scatter(x, y, s=size, c=colours)\n",
    "fig.colorbar(l)\n",
    "ax.set_xlim((-0.05, 1.05))\n",
    "ax.set_ylim((-0.05, 1.05))\n",
    "fig.suptitle('Dramatic Scatter Plot')\n",
    "fig.tight_layout(pad=2)\n",
    "ax.grid(True)\n",
    "fig.savefig('filename.png', dpi=125)"
   ]
  },
  {
   "cell_type": "code",
   "execution_count": null,
   "id": "f170e0bc-f64e-4e5e-9c39-ccd7f8d9a268",
   "metadata": {},
   "outputs": [],
   "source": [
    "fig, ax = plt.subplots(figsize=(8,5))\n",
    "markers = list('ov^<>12348sphHdD+x|_')\n",
    "N = 10\n",
    "for i, m in enumerate(markers):\n",
    "    x = np.arange(N)\n",
    "    y = np.repeat(i+1, N)\n",
    "    ax.scatter(x, y, marker=m, label=m, s=50, c='#984485')\n",
    "\n",
    "ax.set_xlim((-1, N))\n",
    "ax.set_ylim((0, len(markers)+1))\n",
    "ax.legend(loc='upper left', ncol=3, prop={'size':'xx-large'}, shadow=True, title='Marker Legend')\n",
    "ax.get_legend().get_title().set_color(\"red\")\n",
    "fig.suptitle('Markers' + '(with an oversized legend)')\n",
    "fig.tight_layout(pad=2)\n",
    "fig.savefig('filename.png', dpi=125)"
   ]
  },
  {
   "cell_type": "code",
   "execution_count": null,
   "id": "ce9a8edf-3cc2-4d1c-b6be-c5553affe44f",
   "metadata": {},
   "outputs": [],
   "source": [
    "N = 5\n",
    "labels = list('ABCDEFGHIJKLM' [0:N])\n",
    "Data = np.array(range(N))\n",
    "np.random.rand(N)\n",
    "fig, ax = plt.subplots(figsize=(8, 3.5))\n",
    "width = 0.8\n",
    "tickLocations = np.arange(N)\n",
    "rectLocations = tickLocations-(width/2.0)\n",
    "ax.bar(rectLocations, Data, width, color='pink', edgecolor='#984485', linewidth=4.0)\n",
    "ax.set_xticks(ticks = tickLocations)\n",
    "ax.set_xticklabels(labels)\n",
    "ax.set_xlim(min(tickLocations)-0.6, max(tickLocations)+0.6)\n",
    "ax.set_yticks(range(N) [1:])\n",
    "ax.set_ylim((0,N))\n",
    "ax.yaxis.grid(True)\n",
    "fig.suptitle(\"Bar Plot With\"+\"Oversized Edges\")\n",
    "fig.tight_layout(pad=2)\n",
    "fig.savefig('filename.png', dpi=125)"
   ]
  },
  {
   "cell_type": "code",
   "execution_count": null,
   "id": "adb2f48a-9af1-488e-8ca4-5df2e5883935",
   "metadata": {},
   "outputs": [],
   "source": [
    "Data"
   ]
  },
  {
   "cell_type": "code",
   "execution_count": null,
   "id": "6de11c03-52dd-4e68-93f1-3966e5138f2f",
   "metadata": {},
   "outputs": [],
   "source": []
  },
  {
   "cell_type": "code",
   "execution_count": null,
   "id": "a0815944-a70f-4342-b6fd-12cb1194adf1",
   "metadata": {},
   "outputs": [],
   "source": [
    "data = pd.read_csv(r\"C:\\Users\\uSER\\Downloads\\Iris.csv\")\n",
    "data"
   ]
  },
  {
   "cell_type": "code",
   "execution_count": null,
   "id": "6c9adf46-945f-4efa-bbb3-30294bd119b0",
   "metadata": {},
   "outputs": [],
   "source": [
    "df1 = df1.groupby('Species').mean()"
   ]
  },
  {
   "cell_type": "code",
   "execution_count": null,
   "id": "0026e1d0-0f29-492c-94fa-3a3f3f1c0c09",
   "metadata": {},
   "outputs": [],
   "source": [
    "df1"
   ]
  },
  {
   "cell_type": "code",
   "execution_count": null,
   "id": "e73a2a00-a8b0-41f8-90d9-1423f9e5fa78",
   "metadata": {},
   "outputs": [],
   "source": [
    "labels = np.array(df1.index)\n",
    "data= np.array(df1['SepalLengthCm'].values)"
   ]
  },
  {
   "cell_type": "code",
   "execution_count": null,
   "id": "12edb9b4-6e1a-4e13-a710-e714d671a574",
   "metadata": {},
   "outputs": [],
   "source": [
    "fig, ax = plt.subplots()\n",
    "plt.bar(labels, data)\n",
    "plt.show()"
   ]
  },
  {
   "cell_type": "code",
   "execution_count": 10,
   "id": "c125b353-684a-43e9-88c9-277b87b4973a",
   "metadata": {},
   "outputs": [
    {
     "data": {
      "image/png": "[encoded data removed]",
      "text/plain": [
       "<Figure size 1500x500 with 3 Axes>"
      ]
     },
     "metadata": {},
     "output_type": "display_data"
    }
   ],
   "source": [
    "import pandas as pd\n",
    "import matplotlib.pyplot as plt\n",
    "from sklearn.datasets import load_iris\n",
    "iris = load_iris()\n",
    "iris_df = pd.DataFrame(data=iris.data, columns=iris.feature_names)\n",
    "iris_df['variety'] = iris.target\n",
    "\n",
    "iris_df['variety'] = iris_df['variety'].map({0: 'setosa', 1: 'versicolor', 2: 'virginica'})\n",
    "\n",
    "mean_sepal_length = iris_df.groupby('variety')['sepal length (cm)'].mean().reset_index()\n",
    "\n",
    "fig, axs = plt.subplots(1, 3, figsize=(15, 5))\n",
    "\n",
    "varieties = mean_sepal_length['variety'].tolist()\n",
    "\n",
    "for i, variety in enumerate(varieties):\n",
    "    axs[i].bar(variety, mean_sepal_length.loc[mean_sepal_length['variety'] == variety, 'sepal length (cm)'])\n",
    "    axs[i].set_title(f'Mean Sepal Length of {variety}')\n",
    "    axs[i].set_xlabel('Variety')\n",
    "    axs[i].set_ylabel('Mean Sepal Length (cm)')\n",
    "\n",
    "plt.tight_layout()\n",
    "plt.show()"
   ]
  },
  {
   "cell_type": "code",
   "execution_count": 2,
   "id": "52b5e7bc-e06b-4cc0-af63-d6758e3407e4",
   "metadata": {},
   "outputs": [
    {
     "data": {
      "text/html": [
       "<div>\n",
       "<style scoped>\n",
       "    .dataframe tbody tr th:only-of-type {\n",
       "        vertical-align: middle;\n",
       "    }\n",
       "\n",
       "    .dataframe tbody tr th {\n",
       "        vertical-align: top;\n",
       "    }\n",
       "\n",
       "    .dataframe thead th {\n",
       "        text-align: right;\n",
       "    }\n",
       "</style>\n",
       "<table border=\"1\" class=\"dataframe\">\n",
       "  <thead>\n",
       "    <tr style=\"text-align: right;\">\n",
       "      <th></th>\n",
       "      <th>Id</th>\n",
       "      <th>SepalLengthCm</th>\n",
       "      <th>SepalWidthCm</th>\n",
       "      <th>PetalLengthCm</th>\n",
       "      <th>PetalWidthCm</th>\n",
       "      <th>Species</th>\n",
       "    </tr>\n",
       "  </thead>\n",
       "  <tbody>\n",
       "    <tr>\n",
       "      <th>0</th>\n",
       "      <td>1</td>\n",
       "      <td>5.1</td>\n",
       "      <td>3.5</td>\n",
       "      <td>1.4</td>\n",
       "      <td>0.2</td>\n",
       "      <td>Iris-setosa</td>\n",
       "    </tr>\n",
       "    <tr>\n",
       "      <th>1</th>\n",
       "      <td>2</td>\n",
       "      <td>4.9</td>\n",
       "      <td>3.0</td>\n",
       "      <td>1.4</td>\n",
       "      <td>0.2</td>\n",
       "      <td>Iris-setosa</td>\n",
       "    </tr>\n",
       "    <tr>\n",
       "      <th>2</th>\n",
       "      <td>3</td>\n",
       "      <td>4.7</td>\n",
       "      <td>3.2</td>\n",
       "      <td>1.3</td>\n",
       "      <td>0.2</td>\n",
       "      <td>Iris-setosa</td>\n",
       "    </tr>\n",
       "    <tr>\n",
       "      <th>3</th>\n",
       "      <td>4</td>\n",
       "      <td>4.6</td>\n",
       "      <td>3.1</td>\n",
       "      <td>1.5</td>\n",
       "      <td>0.2</td>\n",
       "      <td>Iris-setosa</td>\n",
       "    </tr>\n",
       "    <tr>\n",
       "      <th>4</th>\n",
       "      <td>5</td>\n",
       "      <td>5.0</td>\n",
       "      <td>3.6</td>\n",
       "      <td>1.4</td>\n",
       "      <td>0.2</td>\n",
       "      <td>Iris-setosa</td>\n",
       "    </tr>\n",
       "    <tr>\n",
       "      <th>...</th>\n",
       "      <td>...</td>\n",
       "      <td>...</td>\n",
       "      <td>...</td>\n",
       "      <td>...</td>\n",
       "      <td>...</td>\n",
       "      <td>...</td>\n",
       "    </tr>\n",
       "    <tr>\n",
       "      <th>145</th>\n",
       "      <td>146</td>\n",
       "      <td>6.7</td>\n",
       "      <td>3.0</td>\n",
       "      <td>5.2</td>\n",
       "      <td>2.3</td>\n",
       "      <td>Iris-virginica</td>\n",
       "    </tr>\n",
       "    <tr>\n",
       "      <th>146</th>\n",
       "      <td>147</td>\n",
       "      <td>6.3</td>\n",
       "      <td>2.5</td>\n",
       "      <td>5.0</td>\n",
       "      <td>1.9</td>\n",
       "      <td>Iris-virginica</td>\n",
       "    </tr>\n",
       "    <tr>\n",
       "      <th>147</th>\n",
       "      <td>148</td>\n",
       "      <td>6.5</td>\n",
       "      <td>3.0</td>\n",
       "      <td>5.2</td>\n",
       "      <td>2.0</td>\n",
       "      <td>Iris-virginica</td>\n",
       "    </tr>\n",
       "    <tr>\n",
       "      <th>148</th>\n",
       "      <td>149</td>\n",
       "      <td>6.2</td>\n",
       "      <td>3.4</td>\n",
       "      <td>5.4</td>\n",
       "      <td>2.3</td>\n",
       "      <td>Iris-virginica</td>\n",
       "    </tr>\n",
       "    <tr>\n",
       "      <th>149</th>\n",
       "      <td>150</td>\n",
       "      <td>5.9</td>\n",
       "      <td>3.0</td>\n",
       "      <td>5.1</td>\n",
       "      <td>1.8</td>\n",
       "      <td>Iris-virginica</td>\n",
       "    </tr>\n",
       "  </tbody>\n",
       "</table>\n",
       "<p>150 rows × 6 columns</p>\n",
       "</div>"
      ],
      "text/plain": [
       "      Id  SepalLengthCm  SepalWidthCm  PetalLengthCm  PetalWidthCm  \\\n",
       "0      1            5.1           3.5            1.4           0.2   \n",
       "1      2            4.9           3.0            1.4           0.2   \n",
       "2      3            4.7           3.2            1.3           0.2   \n",
       "3      4            4.6           3.1            1.5           0.2   \n",
       "4      5            5.0           3.6            1.4           0.2   \n",
       "..   ...            ...           ...            ...           ...   \n",
       "145  146            6.7           3.0            5.2           2.3   \n",
       "146  147            6.3           2.5            5.0           1.9   \n",
       "147  148            6.5           3.0            5.2           2.0   \n",
       "148  149            6.2           3.4            5.4           2.3   \n",
       "149  150            5.9           3.0            5.1           1.8   \n",
       "\n",
       "            Species  \n",
       "0       Iris-setosa  \n",
       "1       Iris-setosa  \n",
       "2       Iris-setosa  \n",
       "3       Iris-setosa  \n",
       "4       Iris-setosa  \n",
       "..              ...  \n",
       "145  Iris-virginica  \n",
       "146  Iris-virginica  \n",
       "147  Iris-virginica  \n",
       "148  Iris-virginica  \n",
       "149  Iris-virginica  \n",
       "\n",
       "[150 rows x 6 columns]"
      ]
     },
     "execution_count": 2,
     "metadata": {},
     "output_type": "execute_result"
    }
   ],
   "source": [
    "import pandas as pd\n",
    "import matplotlib.pyplot as plt\n",
    "data = pd.read_csv(r\"C:\\Users\\uSER\\Downloads\\Iris.csv\")\n",
    "data"
   ]
  },
  {
   "cell_type": "code",
   "execution_count": 8,
   "id": "7b913f45-6e58-4473-a5e5-c5053f2abc8f",
   "metadata": {},
   "outputs": [
    {
     "data": {
      "text/plain": [
       "Species\n",
       "Iris-setosa        5.006\n",
       "Iris-versicolor    5.936\n",
       "Iris-virginica     6.588\n",
       "Name: SepalLengthCm, dtype: float64"
      ]
     },
     "execution_count": 8,
     "metadata": {},
     "output_type": "execute_result"
    }
   ],
   "source": [
    "df = data.groupby('Species')['SepalLengthCm'].mean()\n",
    "df"
   ]
  },
  {
   "cell_type": "code",
   "execution_count": 12,
   "id": "3e9d6779-8444-4ce5-8393-a448119cadda",
   "metadata": {},
   "outputs": [
    {
     "data": {
      "text/plain": [
       "Text(0, 0.5, 'SepalLengthCm ')"
      ]
     },
     "execution_count": 12,
     "metadata": {},
     "output_type": "execute_result"
    },
    {
     "data": {
      "image/png": "[encoded data removed]",
      "text/plain": [
       "<Figure size 1500x500 with 3 Axes>"
      ]
     },
     "metadata": {},
     "output_type": "display_data"
    }
   ],
   "source": [
    "fig, axs = plt.subplots(1, 3, figsize=(15, 5))\n",
    "for i in enumerate\n",
    "plt.title('Bar Graph')\n",
    "plt.xlabel('Variety')\n",
    "plt.ylabel('SepalLengthCm ')"
   ]
  },
  {
   "cell_type": "code",
   "execution_count": null,
   "id": "6b0119a5-affd-45fd-83dd-d6249c7efc8f",
   "metadata": {},
   "outputs": [],
   "source": []
  },
  {
   "cell_type": "code",
   "execution_count": null,
   "id": "a64422ee-7182-4c46-89e1-fb77eb4de3db",
   "metadata": {},
   "outputs": [],
   "source": []
  }
 ],
 "metadata": {
  "kernelspec": {
   "display_name": "Python 3 (ipykernel)",
   "language": "python",
   "name": "python3"
  },
  "language_info": {
   "codemirror_mode": {
    "name": "ipython",
    "version": 3
   },
   "file_extension": ".py",
   "mimetype": "text/x-python",
   "name": "python",
   "nbconvert_exporter": "python",
   "pygments_lexer": "ipython3",
   "version": "3.12.1"
  }
 },
 "nbformat": 4,
 "nbformat_minor": 5
}
