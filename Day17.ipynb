{
 "cells": [
  {
   "cell_type": "code",
   "execution_count": null,
   "id": "7792f1dc-fa07-4cd8-9b0d-f9dba205fc69",
   "metadata": {},
   "outputs": [],
   "source": [
    "X = [1,2,3]\n",
    "L = ['a', X, 'b']\n",
    "D = {'x':X, 'y':2}\n",
    "print(X)\n",
    "print(L)\n",
    "print(D)"
   ]
  },
  {
   "cell_type": "code",
   "execution_count": null,
   "id": "3234f1f4-5306-4dd8-b9c1-6b0866c414fc",
   "metadata": {},
   "outputs": [],
   "source": [
    "X[1] = 'Suprise'\n",
    "L = ['a', X, 'b']\n",
    "D = {'x':X, 'y':2}\n",
    "print(X)\n",
    "print(L)\n",
    "print(D)"
   ]
  },
  {
   "cell_type": "code",
   "execution_count": null,
   "id": "a4081b27-114f-4e30-88f8-1c022e180015",
   "metadata": {},
   "outputs": [],
   "source": [
    "L = [1,2,3]\n",
    "D = {'a':1, 'b':2}"
   ]
  },
  {
   "cell_type": "code",
   "execution_count": null,
   "id": "8ba23dd6-b634-4111-b476-4a7e35a1492b",
   "metadata": {},
   "outputs": [],
   "source": [
    "A = L[:]    #Copy\n",
    "B= D.copy()    #Copy"
   ]
  },
  {
   "cell_type": "code",
   "execution_count": null,
   "id": "1a2ff9dc-759c-4449-b02b-dbc8745a5fea",
   "metadata": {},
   "outputs": [],
   "source": [
    "A[1] = 'Ni'\n",
    "B['c'] = 'spam'\n",
    "L,D,A,B"
   ]
  },
  {
   "cell_type": "markdown",
   "id": "234eb1f5-d77a-4429-ab82-5b512b2dca23",
   "metadata": {},
   "source": [
    "Actual List and Dictionary remains same \n",
    "\n",
    "changes are made in copy of List and DIctionary"
   ]
  },
  {
   "cell_type": "code",
   "execution_count": null,
   "id": "65ab3e0c-c9c8-4348-be85-449af61bbd90",
   "metadata": {},
   "outputs": [],
   "source": [
    "L1 = [1, ('a', 3)]\n",
    "L2 = [1, ('a', 3)]\n",
    "L1 == L2, L1 is L2"
   ]
  },
  {
   "cell_type": "code",
   "execution_count": null,
   "id": "7b0a00e6-cbb5-46d4-8051-99d199a1ff55",
   "metadata": {},
   "outputs": [],
   "source": [
    "L =[1,2,3,4,3]\n",
    "for i in range(0, 5):\n",
    "    for j in range(0,5):\n",
    "        if L[i] is L[j]:\n",
    "            print('True',L[i], L[j])\n",
    "        else:\n",
    "            print('False', L[i], L[j])\n"
   ]
  },
  {
   "cell_type": "code",
   "execution_count": null,
   "id": "3b817b85-c30f-4b3e-bc53-ae8966645555",
   "metadata": {},
   "outputs": [],
   "source": [
    "S1 = 'spam'\n",
    "S2 = 'spam'\n",
    "S1 == S2, S1 == S2"
   ]
  },
  {
   "cell_type": "code",
   "execution_count": null,
   "id": "8c94dc0b-7daf-4fdc-b20c-53bdee238c71",
   "metadata": {},
   "outputs": [],
   "source": [
    "S1 = 'a longer string'\n",
    "S2 = 'a longer string'\n",
    "S1 == S2, S1 is S2"
   ]
  },
  {
   "cell_type": "code",
   "execution_count": null,
   "id": "b1282ace-9cbf-42fb-b120-60a01cfc9a3c",
   "metadata": {},
   "outputs": [],
   "source": [
    "L1 = [1, ('a', 3)]\n",
    "L2 = [1, ('a', 2)]\n",
    "L1 < L2, L1 == L2, L1> L2"
   ]
  },
  {
   "cell_type": "markdown",
   "id": "2f670a66-2253-4596-821d-c7e93d38b249",
   "metadata": {},
   "source": [
    "In general, Python compare type as follow:\n",
    "Numbers are compared relative magnitude\n",
    "Strings are compared lexicographically, character by character ('abc' < 'ac')\n",
    "List and tuple are compared by comparing each component from left to right\n",
    "\n",
    "Dictionaries compare as equal if their sorted(key, value) list are equal. Relative magnitude coparison are not supported for dictionaries in Python 3.0, but they work in 2.6 and earlier as though comparing sorted (key, value) list\n",
    "\n",
    "Nonnumeric mixed-type comparisons (e.g., 1 < 'spam') are errors in Python 3.0.\r\n",
    "They are allowed in Python 2.6, but use a fixed but arbitrary ordering rule. By\r\n",
    "proxy, this also applies to sorts, which use comparisons internally: nonnumeric\r\n",
    "mixed-type collections cannot be sorted in 3.0."
   ]
  },
  {
   "cell_type": "code",
   "execution_count": null,
   "id": "b5e034ae-f775-4655-82c1-cf488d9984f1",
   "metadata": {},
   "outputs": [],
   "source": [
    "L = ['grail']\n",
    "L.append(L)\n",
    "L"
   ]
  },
  {
   "cell_type": "code",
   "execution_count": null,
   "id": "918c0656-0986-468c-9cda-7e1cc8bd96b5",
   "metadata": {},
   "outputs": [],
   "source": [
    "__X__ = 10\n",
    "__X__"
   ]
  },
  {
   "cell_type": "code",
   "execution_count": null,
   "id": "70242d34-dfd8-46e4-bca7-cad6f0ac39cf",
   "metadata": {},
   "outputs": [],
   "source": [
    "__X = 10\n",
    "__X"
   ]
  },
  {
   "cell_type": "code",
   "execution_count": null,
   "id": "93765c73-c2cb-4345-828b-c419b8d08719",
   "metadata": {},
   "outputs": [],
   "source": [
    "x='spam'\n",
    "y = 99\n",
    "z = ['eggs']\n",
    "print(x, y, z, sep=' | ')"
   ]
  },
  {
   "cell_type": "code",
   "execution_count": null,
   "id": "0e23208f-104e-40a5-a109-79f6782a65d1",
   "metadata": {},
   "outputs": [],
   "source": [
    "print(x, y, z, end='...\\n')\n",
    "print(x, y, z, end=''); print(x,y,z)"
   ]
  },
  {
   "cell_type": "code",
   "execution_count": null,
   "id": "3fa86386-7dd1-46a5-9696-b70ddc753cbb",
   "metadata": {},
   "outputs": [],
   "source": [
    "for (a,b,c) in [(1,2,3), (4,5,6),]:\n",
    "    print(a,b,c)"
   ]
  },
  {
   "cell_type": "code",
   "execution_count": null,
   "id": "eedb5124-903d-4f84-b7c5-d92603f7d1c9",
   "metadata": {},
   "outputs": [],
   "source": [
    "a, *b ,c = (1,2,3,4,5)\n",
    "a,b,c"
   ]
  },
  {
   "cell_type": "code",
   "execution_count": null,
   "id": "1d7c66f5-f312-492a-8cd7-93bf57929d90",
   "metadata": {},
   "outputs": [],
   "source": [
    "*a, b ,c = (1,2,3,4,5)\n",
    "a,b,c"
   ]
  },
  {
   "cell_type": "code",
   "execution_count": null,
   "id": "d55f7e5a-97d0-49cc-9aa8-d5cb59abcdbb",
   "metadata": {},
   "outputs": [],
   "source": [
    "a, b ,*c = (1,2,3,4,5)\n",
    "a,b,c"
   ]
  },
  {
   "cell_type": "code",
   "execution_count": null,
   "id": "f07faed4-a7b9-4193-8e1d-542b3183242d",
   "metadata": {},
   "outputs": [],
   "source": [
    "*a, b ,c = (1,2,3,4,5)\n",
    "a,b,c"
   ]
  },
  {
   "cell_type": "code",
   "execution_count": null,
   "id": "8ff3c72c-06d6-499d-8935-d6376d254304",
   "metadata": {},
   "outputs": [],
   "source": [
    "for (a, *b ,c) in [(1,2,3,4),(5,6,7,8)]:\n",
    "    print(a,b,c)"
   ]
  },
  {
   "cell_type": "code",
   "execution_count": null,
   "id": "560d7e94-84d0-4354-a75f-7b25a8829885",
   "metadata": {},
   "outputs": [],
   "source": [
    "for all in [(1,2,3,4),(5,6,7,8)]:\n",
    "    a,b,c = all[0], all[1:3], all[3]\n",
    "    print(a,b,c)"
   ]
  },
  {
   "cell_type": "code",
   "execution_count": null,
   "id": "19d1e51e-b77a-4718-bd5d-482879983a91",
   "metadata": {},
   "outputs": [],
   "source": [
    "seq1 = 'spam'\n",
    "seq2 = 'scam'\n",
    "res =[]\n",
    "for i in seq1:\n",
    "    if i in seq2:\n",
    "        res.append(i)\n",
    "\n",
    "res"
   ]
  },
  {
   "cell_type": "code",
   "execution_count": null,
   "id": "11839d19-9fa2-4ac7-ab8c-b17ab45afe90",
   "metadata": {},
   "outputs": [],
   "source": [
    "a = (\"John\", \"Charles\", \"Mike\")\n",
    "b = (\"Jenny\", \"Christy\", \"Monica\")\n",
    "\n",
    "x =zip(a, b)\n",
    "print(tuple(x))"
   ]
  },
  {
   "cell_type": "code",
   "execution_count": null,
   "id": "205812b0-fd53-434d-af71-bdfd0bbbddcf",
   "metadata": {},
   "outputs": [],
   "source": [
    "L1 = [1,2,3,4]\n",
    "L2 = [5,6,7,8]\n",
    "zip(L1, L2), list(zip(L1,L2))"
   ]
  },
  {
   "cell_type": "code",
   "execution_count": null,
   "id": "7d3645dc-bfc4-478d-a8cf-34383f90cc12",
   "metadata": {},
   "outputs": [],
   "source": [
    "for (x,y) in zip(L1, L2):\n",
    "    print(x,y, '--', x+y)"
   ]
  },
  {
   "cell_type": "markdown",
   "id": "48d31c94-4947-4ed3-a61c-9f3db433fbc6",
   "metadata": {},
   "source": [
    "#### Valriable Types:\n",
    "**Nominal :**\n",
    " Unordered categorical variable\n",
    "\n",
    "**Ordinal :** There is an ordering but no implication of equal distance between the different points of scale\n",
    "\n",
    "**Interval :** \n",
    "There are equal difference between successive points on the scale but the position of zero arbitary\n",
    "\n",
    "**Ratio :** \n",
    "The relative magnitude of the score and the differences between them matter. The position of zero is fixed\n",
    "t."
   ]
  },
  {
   "cell_type": "markdown",
   "id": "b8c14dbf-0fc1-47a8-8ba4-aa68d867db64",
   "metadata": {},
   "source": [
    "### Descriptive Statistic"
   ]
  },
  {
   "cell_type": "code",
   "execution_count": null,
   "id": "73798047-d5e4-4ad3-94aa-e75709a7f74d",
   "metadata": {},
   "outputs": [],
   "source": [
    "import numpy as np\n",
    "import pandas as pd\n",
    "import matplotlib.pyplot as plt\n"
   ]
  },
  {
   "cell_type": "code",
   "execution_count": null,
   "id": "a1a8e01e-24b3-45fa-ba4a-07b5aa90f8a8",
   "metadata": {},
   "outputs": [],
   "source": [
    "Score = [24,24,45,62,30,34,24,27,34,30,9,20,35]\n",
    "type(Score), type(Score[0])"
   ]
  },
  {
   "cell_type": "code",
   "execution_count": null,
   "id": "8455197f-f2b7-4221-9b32-1d569c0c7fa8",
   "metadata": {},
   "outputs": [],
   "source": [
    "np.min(Score), np.max(Score), np.mean(Score)"
   ]
  },
  {
   "cell_type": "code",
   "execution_count": null,
   "id": "316e3e1a-0a7c-4288-8270-38ce599f31f1",
   "metadata": {},
   "outputs": [],
   "source": [
    "data = pd.read_table(\"https://archive.ics.uci.edu/ml/machine-learning-databases/adult/adult.data\", sep=\",\", \n",
    "                    names = (\"age\", \"type_employer\", \"fnlwgt\", \"education\", \"education_num\", \"martial\",\"occupation\",\"relationship\",\"race\", \"sex\",\"capital_gain\",\"capital_loss\", \"hr_per_week\", \"country\", \"income\"))\n",
    "data"
   ]
  },
  {
   "cell_type": "code",
   "execution_count": null,
   "id": "394b37b7-617f-4ac0-badb-207aa835a9eb",
   "metadata": {},
   "outputs": [],
   "source": [
    "ages = data['age'].values"
   ]
  },
  {
   "cell_type": "code",
   "execution_count": null,
   "id": "7e82ca80-7810-4678-b1fa-d5d76fdcb63e",
   "metadata": {},
   "outputs": [],
   "source": [
    "print(len(ages))\n",
    "print(np.min(ages))\n",
    "print(np.max(ages))\n",
    "print(np.mean(ages))\n",
    "print(np.median(ages))"
   ]
  },
  {
   "cell_type": "code",
   "execution_count": null,
   "id": "4da79ef7-0f1c-4421-8a96-838a0fc03d5a",
   "metadata": {},
   "outputs": [],
   "source": [
    "plt.hist(ages, 20)\n",
    "plt.title(\"1994 Census Histogram\")\n",
    "plt.xlabel(\"Age\")\n",
    "plt.ylabel(\"Frequency\")\n",
    "plt.show()"
   ]
  },
  {
   "cell_type": "code",
   "execution_count": null,
   "id": "87aa752d-dd55-4b40-8f47-2a01a37fa672",
   "metadata": {},
   "outputs": [],
   "source": [
    "np.percentile(ages, 25), np.percentile(ages, 75)"
   ]
  },
  {
   "cell_type": "code",
   "execution_count": null,
   "id": "f03710e8-1e21-41f8-9a7b-ab78880c41dd",
   "metadata": {},
   "outputs": [],
   "source": [
    "Q1 = np.percentile(ages, 25)\n",
    "Q2 = np.percentile(ages, 50)\n",
    "Q3 = np.percentile(ages, 75)\n",
    "iqr = Q3-Q1\n",
    "iqr"
   ]
  },
  {
   "cell_type": "code",
   "execution_count": null,
   "id": "457d713e-ef88-4418-b486-cdc37f7dca2b",
   "metadata": {},
   "outputs": [],
   "source": [
    "Lower_Bound = Q1 - 1.5*iqr\n",
    "Upper_Bound = Q1 + 1.5*iqr\n",
    "Lower_Bound, Upper_Bound"
   ]
  },
  {
   "cell_type": "code",
   "execution_count": null,
   "id": "596ad106-da44-4fe4-a858-8a961f0137a9",
   "metadata": {},
   "outputs": [],
   "source": [
    "import scipy\n",
    "mu = 0 \n",
    "variance = 2\n",
    "sigma = np.sqrt(variance) \n",
    "x = np.linspace(mu - 3 * variance, mu + 3 * variance, 100)\n",
    "x=plt.plot(x, scipy.stats.norm.pdf(x, mu, sigma))    #probability density function"
   ]
  },
  {
   "cell_type": "markdown",
   "id": "4065f902-da5d-406e-bdf1-0dfd9bec09be",
   "metadata": {},
   "source": [
    "## Chi square Distribution"
   ]
  },
  {
   "cell_type": "code",
   "execution_count": null,
   "id": "b97ed01b-3dad-4f5c-ab57-5860db871b6d",
   "metadata": {},
   "outputs": [],
   "source": [
    "fvalues = np.linspace(.1, 5, 100)\n",
    "plt.plot(fvalues, scipy.stats.f.pdf(fvalues, 1, 30),color = 'blue',  label=\"F(1, 30)\")\n",
    "plt.plot(fvalues, scipy.stats.f.pdf(fvalues, 5, 30),color = 'red', label=\"F(5, 30)\")\n",
    "plt.legend()"
   ]
  },
  {
   "cell_type": "code",
   "execution_count": 52,
   "id": "87ccb1e2-ac80-4579-97b2-23383b4527d5",
   "metadata": {},
   "outputs": [
    {
     "name": "stdin",
     "output_type": "stream",
     "text": [
      "Enter Total number of vehicles: 22\n",
      "Enter Total number of Wheels: 22\n"
     ]
    },
    {
     "name": "stdout",
     "output_type": "stream",
     "text": [
      "Invalid input\n"
     ]
    }
   ],
   "source": [
    "V = int(input(\"Enter Total number of vehicles:\"))\n",
    "W = int(input(\"Enter Total number of Wheels:\"))\n",
    "count = 0\n",
    "for i in range(0, V):\n",
    "    for j in range(0, V):\n",
    "        if ((i+j == V) and ((2*i + 4*j)==W)):\n",
    "            print(\"Two Wheeler:\", i, \"Four Wheeler:\", j)\n",
    "        else:\n",
    "            count +=1\n",
    "\n",
    "if count==(V**2):\n",
    "    print(\"Invalid input\")"
   ]
  },
  {
   "cell_type": "code",
   "execution_count": 49,
   "id": "1c700d43-e6c6-43e8-b304-a51b2d720001",
   "metadata": {},
   "outputs": [
    {
     "name": "stdin",
     "output_type": "stream",
     "text": [
      "Enter Total number of vehicles: 10\n",
      "Enter Total number of Wheels: 20\n"
     ]
    },
    {
     "name": "stdout",
     "output_type": "stream",
     "text": [
      "10 0\n"
     ]
    }
   ],
   "source": [
    "V = int(input(\"Enter Total number of vehicles:\"))\n",
    "W = int(input(\"Enter Total number of Wheels:\"))\n",
    "y = (W-2*V)//2\n",
    "x = V-y\n",
    "if (x>=0 and y>=0):\n",
    "    print(x, y)\n",
    "else:\n",
    "    print(\"Invalid Input\")"
   ]
  },
  {
   "cell_type": "code",
   "execution_count": null,
   "id": "a3044f64-650a-4ce8-b1f1-1720bdbaa962",
   "metadata": {},
   "outputs": [],
   "source": []
  }
 ],
 "metadata": {
  "kernelspec": {
   "display_name": "Python 3 (ipykernel)",
   "language": "python",
   "name": "python3"
  },
  "language_info": {
   "codemirror_mode": {
    "name": "ipython",
    "version": 3
   },
   "file_extension": ".py",
   "mimetype": "text/x-python",
   "name": "python",
   "nbconvert_exporter": "python",
   "pygments_lexer": "ipython3",
   "version": "3.12.1"
  }
 },
 "nbformat": 4,
 "nbformat_minor": 5
}
