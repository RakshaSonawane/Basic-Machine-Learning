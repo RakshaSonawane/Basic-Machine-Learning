{
 "cells": [
  {
   "cell_type": "code",
   "execution_count": 27,
   "id": "2c31b5af-a787-4f69-bc24-4dea05ff64d7",
   "metadata": {},
   "outputs": [],
   "source": [
    "import pandas as pd\n",
    "import statistics as std\n",
    "import warnings\n",
    "warnings.filterwarnings(\"ignore\")"
   ]
  },
  {
   "cell_type": "code",
   "execution_count": 32,
   "id": "023c0e30-e5b1-492f-b0a8-0ac83d65dab8",
   "metadata": {},
   "outputs": [],
   "source": [
    "df=pd.DataFrame({\"Name\":[\"Jane\", \"Michael\", \"Willian\", \"Rosy\", \"Hana\", \"Ferdie\", \"Graeme\"],\n",
    "   \"Salary\":[50000,54000,50000,189000,55000,40000,59000]})\n"
   ]
  },
  {
   "cell_type": "code",
   "execution_count": 33,
   "id": "286fb4fa-d4d5-49fa-ad9f-145928424a30",
   "metadata": {},
   "outputs": [
    {
     "data": {
      "text/html": [
       "<div>\n",
       "<style scoped>\n",
       "    .dataframe tbody tr th:only-of-type {\n",
       "        vertical-align: middle;\n",
       "    }\n",
       "\n",
       "    .dataframe tbody tr th {\n",
       "        vertical-align: top;\n",
       "    }\n",
       "\n",
       "    .dataframe thead th {\n",
       "        text-align: right;\n",
       "    }\n",
       "</style>\n",
       "<table border=\"1\" class=\"dataframe\">\n",
       "  <thead>\n",
       "    <tr style=\"text-align: right;\">\n",
       "      <th></th>\n",
       "      <th>Name</th>\n",
       "      <th>Salary</th>\n",
       "    </tr>\n",
       "  </thead>\n",
       "  <tbody>\n",
       "    <tr>\n",
       "      <th>0</th>\n",
       "      <td>Jane</td>\n",
       "      <td>50000</td>\n",
       "    </tr>\n",
       "    <tr>\n",
       "      <th>1</th>\n",
       "      <td>Michael</td>\n",
       "      <td>54000</td>\n",
       "    </tr>\n",
       "    <tr>\n",
       "      <th>2</th>\n",
       "      <td>Willian</td>\n",
       "      <td>50000</td>\n",
       "    </tr>\n",
       "    <tr>\n",
       "      <th>3</th>\n",
       "      <td>Rosy</td>\n",
       "      <td>189000</td>\n",
       "    </tr>\n",
       "    <tr>\n",
       "      <th>4</th>\n",
       "      <td>Hana</td>\n",
       "      <td>55000</td>\n",
       "    </tr>\n",
       "    <tr>\n",
       "      <th>5</th>\n",
       "      <td>Ferdie</td>\n",
       "      <td>40000</td>\n",
       "    </tr>\n",
       "    <tr>\n",
       "      <th>6</th>\n",
       "      <td>Graeme</td>\n",
       "      <td>59000</td>\n",
       "    </tr>\n",
       "  </tbody>\n",
       "</table>\n",
       "</div>"
      ],
      "text/plain": [
       "      Name  Salary\n",
       "0     Jane   50000\n",
       "1  Michael   54000\n",
       "2  Willian   50000\n",
       "3     Rosy  189000\n",
       "4     Hana   55000\n",
       "5   Ferdie   40000\n",
       "6   Graeme   59000"
      ]
     },
     "execution_count": 33,
     "metadata": {},
     "output_type": "execute_result"
    }
   ],
   "source": [
    "df"
   ]
  },
  {
   "cell_type": "code",
   "execution_count": 37,
   "id": "554d6091-2de6-4cd7-9037-d9b91152f212",
   "metadata": {},
   "outputs": [
    {
     "data": {
      "text/plain": [
       "71000.0"
      ]
     },
     "execution_count": 37,
     "metadata": {},
     "output_type": "execute_result"
    }
   ],
   "source": [
    "mean=df[\"Salary\"].mean()\n",
    "mean"
   ]
  },
  {
   "cell_type": "code",
   "execution_count": 38,
   "id": "44b985e2-6a45-460d-817e-ffc5c5a15fd1",
   "metadata": {},
   "outputs": [
    {
     "data": {
      "text/plain": [
       "0    50000\n",
       "Name: Salary, dtype: int64"
      ]
     },
     "execution_count": 38,
     "metadata": {},
     "output_type": "execute_result"
    }
   ],
   "source": [
    "mode=df[\"Salary\"].mode()\n",
    "mode"
   ]
  },
  {
   "cell_type": "code",
   "execution_count": 39,
   "id": "c601049e-aee0-4277-9dea-7019bb9ed340",
   "metadata": {},
   "outputs": [
    {
     "data": {
      "text/plain": [
       "54000.0"
      ]
     },
     "execution_count": 39,
     "metadata": {},
     "output_type": "execute_result"
    }
   ],
   "source": [
    "median=df[\"Salary\"].median()\n",
    "median"
   ]
  },
  {
   "cell_type": "code",
   "execution_count": 40,
   "id": "cb5e13d9-7df7-4f1a-b7e1-ef8e218d5bad",
   "metadata": {},
   "outputs": [
    {
     "data": {
      "text/plain": [
       "2742666666.6666665"
      ]
     },
     "execution_count": 40,
     "metadata": {},
     "output_type": "execute_result"
    }
   ],
   "source": [
    "variance=df[\"Salary\"].var()\n",
    "variance"
   ]
  },
  {
   "cell_type": "code",
   "execution_count": 41,
   "id": "5c1e5f30-180e-4ce5-9f55-444aaf7c41d7",
   "metadata": {},
   "outputs": [
    {
     "data": {
      "text/plain": [
       "52370.47514264756"
      ]
     },
     "execution_count": 41,
     "metadata": {},
     "output_type": "execute_result"
    }
   ],
   "source": [
    "standard_deviation=df[\"Salary\"].std()\n",
    "standard_deviation"
   ]
  },
  {
   "cell_type": "code",
   "execution_count": null,
   "id": "c0fa3ffb-cbdb-4868-8082-f4caa2e0eba7",
   "metadata": {},
   "outputs": [],
   "source": []
  }
 ],
 "metadata": {
  "kernelspec": {
   "display_name": "Python 3 (ipykernel)",
   "language": "python",
   "name": "python3"
  },
  "language_info": {
   "codemirror_mode": {
    "name": "ipython",
    "version": 3
   },
   "file_extension": ".py",
   "mimetype": "text/x-python",
   "name": "python",
   "nbconvert_exporter": "python",
   "pygments_lexer": "ipython3",
   "version": "3.12.4"
  }
 },
 "nbformat": 4,
 "nbformat_minor": 5
}
