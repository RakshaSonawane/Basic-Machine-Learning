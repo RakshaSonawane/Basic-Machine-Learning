{
 "cells": [
  {
   "cell_type": "markdown",
   "id": "d5f6b5bf-cfbb-4f05-b27a-c26bdd5f7f2b",
   "metadata": {},
   "source": [
    "# Pandas Library"
   ]
  },
  {
   "cell_type": "code",
   "execution_count": 1,
   "id": "4afe0765-159d-40f7-b3b5-80eb37284229",
   "metadata": {},
   "outputs": [
    {
     "name": "stderr",
     "output_type": "stream",
     "text": [
      "C:\\Users\\uSER\\AppData\\Local\\Temp\\ipykernel_8592\\501393285.py:1: DeprecationWarning: \n",
      "Pyarrow will become a required dependency of pandas in the next major release of pandas (pandas 3.0),\n",
      "(to allow more performant data types, such as the Arrow string type, and better interoperability with other libraries)\n",
      "but was not found to be installed on your system.\n",
      "If this would cause problems for you,\n",
      "please provide us feedback at https://github.com/pandas-dev/pandas/issues/54466\n",
      "        \n",
      "  import pandas as pd    #used for file handling\n"
     ]
    }
   ],
   "source": [
    "import pandas as pd    #used for file handling\n",
    "import warnings \n",
    "warnings.filterwarnings('ignore')\n",
    "from pandas import Series, DataFrame"
   ]
  },
  {
   "cell_type": "code",
   "execution_count": 2,
   "id": "01fc97a8-72d7-499d-8b76-208b498b484d",
   "metadata": {},
   "outputs": [
    {
     "name": "stdout",
     "output_type": "stream",
     "text": [
      "\n",
      "\t 0    0\n",
      "1    1\n",
      "2    2\n",
      "3    3\n",
      "dtype: int64 0    1\n",
      "1    2\n",
      "2    3\n",
      "3    4\n",
      "dtype: int64 0    1\n",
      "1    3\n",
      "2    5\n",
      "3    7\n",
      "dtype: int64 0    aaa\n",
      "1    bbb\n",
      "dtype: object "
     ]
    },
    {
     "data": {
      "text/plain": [
       "RangeIndex(start=0, stop=4, step=1)"
      ]
     },
     "execution_count": 2,
     "metadata": {},
     "output_type": "execute_result"
    }
   ],
   "source": [
    "s1 = Series(range(0,4))\n",
    "s2 = Series(range(1,5))\n",
    "s3 = s1 + s2\n",
    "s4 = Series(['a', 'b'])*3\n",
    "print('\\n\\t',s1,end=' ')\n",
    "print(s2,end=' ')\n",
    "print(s3,end=' ')\n",
    "print(s4,end=' ')\n",
    "s2.index"
   ]
  },
  {
   "cell_type": "code",
   "execution_count": 3,
   "id": "75a31a8b-ed7c-448a-860b-0e106537ee5e",
   "metadata": {},
   "outputs": [
    {
     "data": {
      "text/html": [
       "<div>\n",
       "<style scoped>\n",
       "    .dataframe tbody tr th:only-of-type {\n",
       "        vertical-align: middle;\n",
       "    }\n",
       "\n",
       "    .dataframe tbody tr th {\n",
       "        vertical-align: top;\n",
       "    }\n",
       "\n",
       "    .dataframe thead th {\n",
       "        text-align: right;\n",
       "    }\n",
       "</style>\n",
       "<table border=\"1\" class=\"dataframe\">\n",
       "  <thead>\n",
       "    <tr style=\"text-align: right;\">\n",
       "      <th></th>\n",
       "      <th>longitude</th>\n",
       "      <th>latitude</th>\n",
       "      <th>housing_median_age</th>\n",
       "      <th>total_rooms</th>\n",
       "      <th>total_bedrooms</th>\n",
       "      <th>population</th>\n",
       "      <th>households</th>\n",
       "      <th>median_income</th>\n",
       "      <th>median_house_value</th>\n",
       "    </tr>\n",
       "  </thead>\n",
       "  <tbody>\n",
       "    <tr>\n",
       "      <th>0</th>\n",
       "      <td>-122.05</td>\n",
       "      <td>37.37</td>\n",
       "      <td>27.0</td>\n",
       "      <td>3885.0</td>\n",
       "      <td>661.0</td>\n",
       "      <td>1537.0</td>\n",
       "      <td>606.0</td>\n",
       "      <td>6.6085</td>\n",
       "      <td>344700.0</td>\n",
       "    </tr>\n",
       "    <tr>\n",
       "      <th>1</th>\n",
       "      <td>-118.30</td>\n",
       "      <td>34.26</td>\n",
       "      <td>43.0</td>\n",
       "      <td>1510.0</td>\n",
       "      <td>310.0</td>\n",
       "      <td>809.0</td>\n",
       "      <td>277.0</td>\n",
       "      <td>3.5990</td>\n",
       "      <td>176500.0</td>\n",
       "    </tr>\n",
       "    <tr>\n",
       "      <th>2</th>\n",
       "      <td>-117.81</td>\n",
       "      <td>33.78</td>\n",
       "      <td>27.0</td>\n",
       "      <td>3589.0</td>\n",
       "      <td>507.0</td>\n",
       "      <td>1484.0</td>\n",
       "      <td>495.0</td>\n",
       "      <td>5.7934</td>\n",
       "      <td>270500.0</td>\n",
       "    </tr>\n",
       "    <tr>\n",
       "      <th>3</th>\n",
       "      <td>-118.36</td>\n",
       "      <td>33.82</td>\n",
       "      <td>28.0</td>\n",
       "      <td>67.0</td>\n",
       "      <td>15.0</td>\n",
       "      <td>49.0</td>\n",
       "      <td>11.0</td>\n",
       "      <td>6.1359</td>\n",
       "      <td>330000.0</td>\n",
       "    </tr>\n",
       "    <tr>\n",
       "      <th>4</th>\n",
       "      <td>-119.67</td>\n",
       "      <td>36.33</td>\n",
       "      <td>19.0</td>\n",
       "      <td>1241.0</td>\n",
       "      <td>244.0</td>\n",
       "      <td>850.0</td>\n",
       "      <td>237.0</td>\n",
       "      <td>2.9375</td>\n",
       "      <td>81700.0</td>\n",
       "    </tr>\n",
       "    <tr>\n",
       "      <th>...</th>\n",
       "      <td>...</td>\n",
       "      <td>...</td>\n",
       "      <td>...</td>\n",
       "      <td>...</td>\n",
       "      <td>...</td>\n",
       "      <td>...</td>\n",
       "      <td>...</td>\n",
       "      <td>...</td>\n",
       "      <td>...</td>\n",
       "    </tr>\n",
       "    <tr>\n",
       "      <th>2995</th>\n",
       "      <td>-119.86</td>\n",
       "      <td>34.42</td>\n",
       "      <td>23.0</td>\n",
       "      <td>1450.0</td>\n",
       "      <td>642.0</td>\n",
       "      <td>1258.0</td>\n",
       "      <td>607.0</td>\n",
       "      <td>1.1790</td>\n",
       "      <td>225000.0</td>\n",
       "    </tr>\n",
       "    <tr>\n",
       "      <th>2996</th>\n",
       "      <td>-118.14</td>\n",
       "      <td>34.06</td>\n",
       "      <td>27.0</td>\n",
       "      <td>5257.0</td>\n",
       "      <td>1082.0</td>\n",
       "      <td>3496.0</td>\n",
       "      <td>1036.0</td>\n",
       "      <td>3.3906</td>\n",
       "      <td>237200.0</td>\n",
       "    </tr>\n",
       "    <tr>\n",
       "      <th>2997</th>\n",
       "      <td>-119.70</td>\n",
       "      <td>36.30</td>\n",
       "      <td>10.0</td>\n",
       "      <td>956.0</td>\n",
       "      <td>201.0</td>\n",
       "      <td>693.0</td>\n",
       "      <td>220.0</td>\n",
       "      <td>2.2895</td>\n",
       "      <td>62000.0</td>\n",
       "    </tr>\n",
       "    <tr>\n",
       "      <th>2998</th>\n",
       "      <td>-117.12</td>\n",
       "      <td>34.10</td>\n",
       "      <td>40.0</td>\n",
       "      <td>96.0</td>\n",
       "      <td>14.0</td>\n",
       "      <td>46.0</td>\n",
       "      <td>14.0</td>\n",
       "      <td>3.2708</td>\n",
       "      <td>162500.0</td>\n",
       "    </tr>\n",
       "    <tr>\n",
       "      <th>2999</th>\n",
       "      <td>-119.63</td>\n",
       "      <td>34.42</td>\n",
       "      <td>42.0</td>\n",
       "      <td>1765.0</td>\n",
       "      <td>263.0</td>\n",
       "      <td>753.0</td>\n",
       "      <td>260.0</td>\n",
       "      <td>8.5608</td>\n",
       "      <td>500001.0</td>\n",
       "    </tr>\n",
       "  </tbody>\n",
       "</table>\n",
       "<p>3000 rows × 9 columns</p>\n",
       "</div>"
      ],
      "text/plain": [
       "      longitude  latitude  housing_median_age  total_rooms  total_bedrooms  \\\n",
       "0       -122.05     37.37                27.0       3885.0           661.0   \n",
       "1       -118.30     34.26                43.0       1510.0           310.0   \n",
       "2       -117.81     33.78                27.0       3589.0           507.0   \n",
       "3       -118.36     33.82                28.0         67.0            15.0   \n",
       "4       -119.67     36.33                19.0       1241.0           244.0   \n",
       "...         ...       ...                 ...          ...             ...   \n",
       "2995    -119.86     34.42                23.0       1450.0           642.0   \n",
       "2996    -118.14     34.06                27.0       5257.0          1082.0   \n",
       "2997    -119.70     36.30                10.0        956.0           201.0   \n",
       "2998    -117.12     34.10                40.0         96.0            14.0   \n",
       "2999    -119.63     34.42                42.0       1765.0           263.0   \n",
       "\n",
       "      population  households  median_income  median_house_value  \n",
       "0         1537.0       606.0         6.6085            344700.0  \n",
       "1          809.0       277.0         3.5990            176500.0  \n",
       "2         1484.0       495.0         5.7934            270500.0  \n",
       "3           49.0        11.0         6.1359            330000.0  \n",
       "4          850.0       237.0         2.9375             81700.0  \n",
       "...          ...         ...            ...                 ...  \n",
       "2995      1258.0       607.0         1.1790            225000.0  \n",
       "2996      3496.0      1036.0         3.3906            237200.0  \n",
       "2997       693.0       220.0         2.2895             62000.0  \n",
       "2998        46.0        14.0         3.2708            162500.0  \n",
       "2999       753.0       260.0         8.5608            500001.0  \n",
       "\n",
       "[3000 rows x 9 columns]"
      ]
     },
     "execution_count": 3,
     "metadata": {},
     "output_type": "execute_result"
    }
   ],
   "source": [
    "df = pd.read_csv(r\"C:\\Users\\uSER\\Downloads\\california_housing_test.csv\")\n",
    "df"
   ]
  },
  {
   "cell_type": "code",
   "execution_count": 4,
   "id": "48b12297-e559-4193-8011-2e5f20f9696a",
   "metadata": {},
   "outputs": [
    {
     "data": {
      "text/plain": [
       "Index(['longitude', 'latitude', 'housing_median_age', 'total_rooms',\n",
       "       'total_bedrooms', 'population', 'households', 'median_income',\n",
       "       'median_house_value'],\n",
       "      dtype='object')"
      ]
     },
     "execution_count": 4,
     "metadata": {},
     "output_type": "execute_result"
    }
   ],
   "source": [
    "df.columns"
   ]
  },
  {
   "cell_type": "code",
   "execution_count": 5,
   "id": "af8018b1-d046-4924-af09-c5b805d5675a",
   "metadata": {},
   "outputs": [
    {
     "data": {
      "text/plain": [
       "RangeIndex(start=0, stop=3000, step=1)"
      ]
     },
     "execution_count": 5,
     "metadata": {},
     "output_type": "execute_result"
    }
   ],
   "source": [
    "df.index"
   ]
  },
  {
   "cell_type": "markdown",
   "id": "7d24b64e-e30e-4ebf-8d89-b7935fcff06f",
   "metadata": {},
   "source": [
    "The index object: The pandas index provides the axis labels for the series and dataframme objects. It can only contain hashable objects. A pandas Series has one dimension and DataFrame has two dimensions"
   ]
  },
  {
   "cell_type": "markdown",
   "id": "47ec3681-01e0-46f9-8c69-1810e646ae21",
   "metadata": {},
   "source": [
    "#### is_monotonic_decreasing and is_monotonic_increasing functions only works on numerical values\n",
    "#### It also fails if header value is false"
   ]
  },
  {
   "cell_type": "code",
   "execution_count": 6,
   "id": "f66ce633-ab4d-47fb-8299-bfb013410957",
   "metadata": {},
   "outputs": [
    {
     "data": {
      "text/plain": [
       "False"
      ]
     },
     "execution_count": 6,
     "metadata": {},
     "output_type": "execute_result"
    }
   ],
   "source": [
    "df.columns.is_monotonic_decreasing"
   ]
  },
  {
   "cell_type": "code",
   "execution_count": 7,
   "id": "7d46b755-774e-4855-b5bc-ae426c6de884",
   "metadata": {},
   "outputs": [
    {
     "data": {
      "text/plain": [
       "False"
      ]
     },
     "execution_count": 7,
     "metadata": {},
     "output_type": "execute_result"
    }
   ],
   "source": [
    "df.columns.is_monotonic_increasing"
   ]
  },
  {
   "cell_type": "code",
   "execution_count": 8,
   "id": "b1514142-ee08-4e32-9af8-91a782358e83",
   "metadata": {},
   "outputs": [
    {
     "data": {
      "text/plain": [
       "False"
      ]
     },
     "execution_count": 8,
     "metadata": {},
     "output_type": "execute_result"
    }
   ],
   "source": [
    "df.index.is_monotonic_decreasing"
   ]
  },
  {
   "cell_type": "code",
   "execution_count": 9,
   "id": "f85659c1-5221-45ce-86b3-ba4848fb3bae",
   "metadata": {},
   "outputs": [
    {
     "data": {
      "text/plain": [
       "True"
      ]
     },
     "execution_count": 9,
     "metadata": {},
     "output_type": "execute_result"
    }
   ],
   "source": [
    "df.index.is_monotonic_increasing"
   ]
  },
  {
   "cell_type": "code",
   "execution_count": 10,
   "id": "da87ee28-4f7c-45dc-86b2-79d18a77095f",
   "metadata": {},
   "outputs": [
    {
     "data": {
      "text/plain": [
       "False"
      ]
     },
     "execution_count": 10,
     "metadata": {},
     "output_type": "execute_result"
    }
   ],
   "source": [
    "df.index.has_duplicates"
   ]
  },
  {
   "cell_type": "code",
   "execution_count": 11,
   "id": "0062b1f3-b707-4b22-9ade-608d41b82cd0",
   "metadata": {},
   "outputs": [
    {
     "data": {
      "text/plain": [
       "False"
      ]
     },
     "execution_count": 11,
     "metadata": {},
     "output_type": "execute_result"
    }
   ],
   "source": [
    "df.columns.has_duplicates"
   ]
  },
  {
   "cell_type": "code",
   "execution_count": 12,
   "id": "379bc593-6667-47a3-9adb-80ebf78df8bd",
   "metadata": {},
   "outputs": [
    {
     "data": {
      "text/plain": [
       "1"
      ]
     },
     "execution_count": 12,
     "metadata": {},
     "output_type": "execute_result"
    }
   ],
   "source": [
    "df.index.nlevels"
   ]
  },
  {
   "cell_type": "markdown",
   "id": "cdb0fd8a-a37d-488b-9827-33e65b136499",
   "metadata": {},
   "source": [
    "values() is not callable because values() is not function it is datamember values"
   ]
  },
  {
   "cell_type": "code",
   "execution_count": 13,
   "id": "bb2a786e-97c9-4622-8d44-a6953a08abeb",
   "metadata": {},
   "outputs": [
    {
     "data": {
      "text/plain": [
       "array([37.37, 34.26, 33.78, ..., 36.3 , 34.1 , 34.42])"
      ]
     },
     "execution_count": 13,
     "metadata": {},
     "output_type": "execute_result"
    }
   ],
   "source": [
    "df['latitude'].values"
   ]
  },
  {
   "cell_type": "code",
   "execution_count": 14,
   "id": "121f0673-993d-4d3a-a999-359634f96cab",
   "metadata": {},
   "outputs": [
    {
     "data": {
      "text/plain": [
       "False"
      ]
     },
     "execution_count": 14,
     "metadata": {},
     "output_type": "execute_result"
    }
   ],
   "source": [
    "df['latitude'].equals(0)"
   ]
  },
  {
   "cell_type": "code",
   "execution_count": 15,
   "id": "0d3e349e-d7b7-4552-9b61-bb3de4044935",
   "metadata": {},
   "outputs": [
    {
     "data": {
      "text/plain": [
       "False"
      ]
     },
     "execution_count": 15,
     "metadata": {},
     "output_type": "execute_result"
    }
   ],
   "source": [
    "df.equals(0)"
   ]
  },
  {
   "cell_type": "code",
   "execution_count": 16,
   "id": "8d09c52e-15dd-449b-9a61-533e1e0ddf9b",
   "metadata": {},
   "outputs": [
    {
     "data": {
      "text/html": [
       "<div>\n",
       "<style scoped>\n",
       "    .dataframe tbody tr th:only-of-type {\n",
       "        vertical-align: middle;\n",
       "    }\n",
       "\n",
       "    .dataframe tbody tr th {\n",
       "        vertical-align: top;\n",
       "    }\n",
       "\n",
       "    .dataframe thead th {\n",
       "        text-align: right;\n",
       "    }\n",
       "</style>\n",
       "<table border=\"1\" class=\"dataframe\">\n",
       "  <thead>\n",
       "    <tr style=\"text-align: right;\">\n",
       "      <th></th>\n",
       "    </tr>\n",
       "    <tr>\n",
       "      <th>longitude,\"latitude\",\"housing_median_age\",\"total_rooms\",\"total_bedrooms\",\"population\",\"households\",\"median_income\",\"median_house_value\"</th>\n",
       "    </tr>\n",
       "  </thead>\n",
       "  <tbody>\n",
       "    <tr>\n",
       "      <th>-122.050000,37.370000,27.000000,3885.000000,661.000000,1537.000000,606.000000,6.608500,344700.000000</th>\n",
       "    </tr>\n",
       "    <tr>\n",
       "      <th>-118.300000,34.260000,43.000000,1510.000000,310.000000,809.000000,277.000000,3.599000,176500.000000</th>\n",
       "    </tr>\n",
       "    <tr>\n",
       "      <th>-117.810000,33.780000,27.000000,3589.000000,507.000000,1484.000000,495.000000,5.793400,270500.000000</th>\n",
       "    </tr>\n",
       "    <tr>\n",
       "      <th>-118.360000,33.820000,28.000000,67.000000,15.000000,49.000000,11.000000,6.135900,330000.000000</th>\n",
       "    </tr>\n",
       "    <tr>\n",
       "      <th>-119.670000,36.330000,19.000000,1241.000000,244.000000,850.000000,237.000000,2.937500,81700.000000</th>\n",
       "    </tr>\n",
       "    <tr>\n",
       "      <th>...</th>\n",
       "    </tr>\n",
       "    <tr>\n",
       "      <th>-119.860000,34.420000,23.000000,1450.000000,642.000000,1258.000000,607.000000,1.179000,225000.000000</th>\n",
       "    </tr>\n",
       "    <tr>\n",
       "      <th>-118.140000,34.060000,27.000000,5257.000000,1082.000000,3496.000000,1036.000000,3.390600,237200.000000</th>\n",
       "    </tr>\n",
       "    <tr>\n",
       "      <th>-119.700000,36.300000,10.000000,956.000000,201.000000,693.000000,220.000000,2.289500,62000.000000</th>\n",
       "    </tr>\n",
       "    <tr>\n",
       "      <th>-117.120000,34.100000,40.000000,96.000000,14.000000,46.000000,14.000000,3.270800,162500.000000</th>\n",
       "    </tr>\n",
       "    <tr>\n",
       "      <th>-119.630000,34.420000,42.000000,1765.000000,263.000000,753.000000,260.000000,8.560800,500001.000000</th>\n",
       "    </tr>\n",
       "  </tbody>\n",
       "</table>\n",
       "<p>3000 rows × 0 columns</p>\n",
       "</div>"
      ],
      "text/plain": [
       "Empty DataFrame\n",
       "Columns: []\n",
       "Index: [-122.050000,37.370000,27.000000,3885.000000,661.000000,1537.000000,606.000000,6.608500,344700.000000, -118.300000,34.260000,43.000000,1510.000000,310.000000,809.000000,277.000000,3.599000,176500.000000, -117.810000,33.780000,27.000000,3589.000000,507.000000,1484.000000,495.000000,5.793400,270500.000000, -118.360000,33.820000,28.000000,67.000000,15.000000,49.000000,11.000000,6.135900,330000.000000, -119.670000,36.330000,19.000000,1241.000000,244.000000,850.000000,237.000000,2.937500,81700.000000, -119.560000,36.510000,37.000000,1018.000000,213.000000,663.000000,204.000000,1.663500,67000.000000, -121.430000,38.630000,43.000000,1009.000000,225.000000,604.000000,218.000000,1.664100,67000.000000, -120.650000,35.480000,19.000000,2310.000000,471.000000,1341.000000,441.000000,3.225000,166900.000000, -122.840000,38.400000,15.000000,3080.000000,617.000000,1446.000000,599.000000,3.669600,194400.000000, -118.020000,34.080000,31.000000,2402.000000,632.000000,2830.000000,603.000000,2.333300,164200.000000, -118.240000,33.980000,45.000000,972.000000,249.000000,1288.000000,261.000000,2.205400,125000.000000, -119.120000,35.850000,37.000000,736.000000,166.000000,564.000000,138.000000,2.416700,58300.000000, -121.930000,37.250000,36.000000,1089.000000,182.000000,535.000000,170.000000,4.690000,252600.000000, -117.030000,32.970000,16.000000,3936.000000,694.000000,1935.000000,659.000000,4.562500,231200.000000, -117.970000,33.730000,27.000000,2097.000000,325.000000,1217.000000,331.000000,5.712100,222500.000000, -117.990000,33.810000,42.000000,161.000000,40.000000,157.000000,50.000000,2.200000,153100.000000, -120.810000,37.530000,15.000000,570.000000,123.000000,189.000000,107.000000,1.875000,181300.000000, -121.200000,38.690000,26.000000,3077.000000,607.000000,1603.000000,595.000000,2.717400,137500.000000, -118.880000,34.210000,26.000000,1590.000000,196.000000,654.000000,199.000000,6.585100,300000.000000, -122.590000,38.010000,35.000000,8814.000000,1307.000000,3450.000000,1258.000000,6.172400,414300.000000, -122.150000,37.750000,40.000000,1445.000000,256.000000,849.000000,255.000000,3.891300,126300.000000, -121.370000,38.680000,36.000000,1775.000000,296.000000,937.000000,305.000000,3.178600,83400.000000, -118.160000,34.070000,47.000000,2994.000000,543.000000,1651.000000,561.000000,3.864400,241500.000000, -122.200000,37.790000,45.000000,2021.000000,528.000000,1410.000000,480.000000,2.778800,115400.000000, -117.280000,33.280000,13.000000,6131.000000,1040.000000,4049.000000,940.000000,3.815600,150700.000000, -118.030000,34.160000,36.000000,1401.000000,218.000000,667.000000,225.000000,7.161500,484700.000000, -122.420000,37.760000,52.000000,3587.000000,1030.000000,2259.000000,979.000000,2.540300,250000.000000, -118.390000,33.990000,32.000000,2612.000000,418.000000,1030.000000,402.000000,6.603000,369200.000000, -118.450000,34.070000,19.000000,4845.000000,1609.000000,3751.000000,1539.000000,1.583000,350000.000000, -118.480000,34.010000,30.000000,3078.000000,954.000000,1561.000000,901.000000,3.485200,425000.000000, -119.350000,36.330000,14.000000,1195.000000,220.000000,568.000000,229.000000,3.148600,105600.000000, -118.300000,33.910000,34.000000,1617.000000,493.000000,1530.000000,500.000000,2.618200,172600.000000, -121.130000,39.310000,17.000000,3442.000000,705.000000,1693.000000,619.000000,2.810200,128900.000000, -118.080000,34.550000,5.000000,16181.000000,2971.000000,8152.000000,2651.000000,4.523700,141800.000000, -118.320000,33.940000,38.000000,1067.000000,170.000000,499.000000,169.000000,4.638900,183800.000000, -118.110000,34.000000,33.000000,2886.000000,726.000000,2650.000000,728.000000,2.625000,178700.000000, -122.530000,37.970000,52.000000,1560.000000,451.000000,700.000000,419.000000,2.512500,270800.000000, -118.020000,33.920000,34.000000,1478.000000,251.000000,956.000000,277.000000,5.523800,185300.000000, -118.050000,33.930000,31.000000,894.000000,203.000000,883.000000,190.000000,3.677100,141500.000000, -119.010000,34.230000,11.000000,5785.000000,1035.000000,2760.000000,985.000000,4.693000,232200.000000, -119.320000,36.200000,15.000000,1562.000000,275.000000,961.000000,287.000000,3.423100,83300.000000, -116.920000,32.770000,16.000000,2770.000000,406.000000,1269.000000,429.000000,6.678300,275000.000000, -118.060000,34.150000,37.000000,1980.000000,226.000000,697.000000,226.000000,15.000100,500001.000000, -117.270000,34.090000,36.000000,848.000000,186.000000,737.000000,169.000000,0.983800,79300.000000, -118.230000,34.130000,48.000000,1308.000000,286.000000,835.000000,294.000000,4.289100,214800.000000, -117.240000,33.170000,4.000000,9998.000000,1874.000000,3925.000000,1672.000000,4.282600,237500.000000, -121.910000,37.440000,24.000000,1212.000000,251.000000,799.000000,242.000000,5.080800,212500.000000, -118.290000,33.940000,47.000000,1782.000000,338.000000,1003.000000,329.000000,2.539800,105700.000000, -121.350000,38.000000,6.000000,1649.000000,369.000000,732.000000,350.000000,3.423100,123800.000000, -117.990000,33.780000,19.000000,7399.000000,1698.000000,3554.000000,1593.000000,3.104900,173900.000000, -120.990000,37.700000,14.000000,9849.000000,1887.000000,4356.000000,1780.000000,3.587700,160900.000000, -119.420000,35.970000,21.000000,554.000000,121.000000,426.000000,122.000000,2.351600,47500.000000, -122.210000,37.800000,39.000000,2003.000000,500.000000,1109.000000,464.000000,3.068200,156500.000000, -118.170000,33.800000,26.000000,1589.000000,380.000000,883.000000,366.000000,3.531300,187500.000000, -117.900000,34.090000,39.000000,1726.000000,333.000000,892.000000,335.000000,4.340900,191800.000000, -117.990000,33.930000,36.000000,1287.000000,233.000000,779.000000,229.000000,4.852300,175800.000000, -121.420000,38.720000,10.000000,3054.000000,528.000000,1932.000000,510.000000,3.090300,91900.000000, -118.770000,34.260000,26.000000,3038.000000,468.000000,1825.000000,468.000000,5.638500,196900.000000, -121.930000,37.330000,44.000000,1449.000000,291.000000,676.000000,282.000000,3.575000,292200.000000, -121.820000,37.250000,16.000000,2650.000000,600.000000,1969.000000,586.000000,3.946100,194300.000000, -122.290000,37.560000,36.000000,805.000000,140.000000,445.000000,139.000000,5.822100,289400.000000, -121.780000,37.230000,18.000000,1747.000000,317.000000,1055.000000,285.000000,5.898000,229100.000000, -118.410000,34.000000,35.000000,1062.000000,305.000000,1026.000000,307.000000,2.715300,265500.000000, -121.670000,40.870000,31.000000,1581.000000,299.000000,776.000000,287.000000,2.906300,77800.000000, -118.000000,33.920000,26.000000,2830.000000,399.000000,1204.000000,404.000000,6.127300,289600.000000, -117.220000,32.730000,38.000000,3966.000000,768.000000,1640.000000,729.000000,3.840900,291400.000000, -121.080000,37.690000,19.000000,6473.000000,1212.000000,3559.000000,1123.000000,3.224600,129300.000000, -117.530000,33.920000,12.000000,2290.000000,319.000000,728.000000,228.000000,6.156100,233500.000000, -117.460000,34.080000,18.000000,3830.000000,750.000000,2767.000000,702.000000,3.660200,120700.000000, -117.970000,33.860000,35.000000,1691.000000,367.000000,1265.000000,378.000000,3.585500,174300.000000, -121.920000,37.330000,52.000000,2125.000000,382.000000,930.000000,387.000000,5.283100,299500.000000, -118.200000,34.040000,44.000000,1582.000000,544.000000,1998.000000,515.000000,1.688800,125000.000000, -118.060000,33.800000,22.000000,1892.000000,442.000000,1015.000000,404.000000,4.137900,212500.000000, -122.050000,37.360000,34.000000,2400.000000,419.000000,1017.000000,384.000000,4.136900,316900.000000, -123.790000,39.500000,24.000000,1421.000000,291.000000,588.000000,274.000000,2.325000,157300.000000, -120.790000,37.490000,44.000000,1186.000000,225.000000,687.000000,234.000000,3.416700,160700.000000, -121.890000,37.350000,47.000000,2879.000000,631.000000,2229.000000,606.000000,3.259900,183100.000000, -118.430000,34.200000,29.000000,3051.000000,694.000000,1942.000000,679.000000,3.111800,238100.000000, -118.750000,34.170000,18.000000,6217.000000,858.000000,2703.000000,834.000000,6.807500,325900.000000, -122.470000,37.990000,22.000000,7274.000000,1002.000000,2468.000000,957.000000,7.494000,439200.000000, -120.690000,37.400000,46.000000,860.000000,130.000000,496.000000,147.000000,3.516700,137500.000000, -118.280000,34.050000,44.000000,968.000000,384.000000,1805.000000,375.000000,1.480100,212500.000000, -118.440000,34.250000,35.000000,1583.000000,324.000000,1481.000000,351.000000,3.700000,176000.000000, -122.050000,38.260000,21.000000,7195.000000,1416.000000,3927.000000,1377.000000,3.091200,126300.000000, -121.990000,37.350000,18.000000,1712.000000,509.000000,972.000000,467.000000,4.397100,238900.000000, -121.020000,37.680000,28.000000,2875.000000,560.000000,1608.000000,558.000000,3.548900,106400.000000, -119.850000,36.740000,35.000000,1191.000000,190.000000,537.000000,182.000000,3.537500,96700.000000, -118.020000,34.080000,28.000000,2769.000000,631.000000,2452.000000,581.000000,2.607100,175900.000000, -123.520000,41.010000,17.000000,1564.000000,345.000000,517.000000,222.000000,2.154200,83800.000000, -122.400000,37.620000,44.000000,1619.000000,362.000000,1064.000000,335.000000,4.023800,224200.000000, -118.130000,34.150000,24.000000,1125.000000,341.000000,579.000000,321.000000,2.812500,141700.000000, -122.000000,37.980000,32.000000,1013.000000,169.000000,436.000000,173.000000,5.111800,226900.000000, -118.450000,34.250000,36.000000,1453.000000,270.000000,808.000000,275.000000,4.383900,204600.000000, -117.500000,33.870000,4.000000,6755.000000,1017.000000,2866.000000,850.000000,5.049300,239800.000000, -122.220000,37.840000,50.000000,2935.000000,473.000000,1031.000000,479.000000,7.500000,295200.000000, -119.820000,36.640000,30.000000,1694.000000,312.000000,1008.000000,321.000000,2.246600,96000.000000, -120.210000,36.770000,20.000000,1745.000000,348.000000,1093.000000,302.000000,2.319400,90600.000000, -120.970000,38.420000,16.000000,1748.000000,322.000000,4930.000000,287.000000,4.302900,121900.000000, -121.190000,38.870000,20.000000,3118.000000,500.000000,1405.000000,519.000000,6.000000,209400.000000, -118.200000,33.770000,52.000000,1375.000000,457.000000,1089.000000,317.000000,2.234400,200000.000000, ...]\n",
       "\n",
       "[3000 rows x 0 columns]"
      ]
     },
     "execution_count": 16,
     "metadata": {},
     "output_type": "execute_result"
    }
   ],
   "source": [
    "df = pd.read_csv(r\"C:\\Users\\uSER\\Downloads\\california_housing_test.csv\") \n",
    "df = pd.read_csv(r\"C:\\Users\\uSER\\Downloads\\california_housing_test.csv\", header=0,\n",
    " index_col=0, quotechar='\"', sep=':',\n",
    " na_values = ['na', '-', '.', '']) \n",
    "df"
   ]
  },
  {
   "cell_type": "code",
   "execution_count": 17,
   "id": "c8818ee5-e4aa-4e8b-8788-690e8b2e7956",
   "metadata": {},
   "outputs": [
    {
     "data": {
      "text/html": [
       "<div>\n",
       "<style scoped>\n",
       "    .dataframe tbody tr th:only-of-type {\n",
       "        vertical-align: middle;\n",
       "    }\n",
       "\n",
       "    .dataframe tbody tr th {\n",
       "        vertical-align: top;\n",
       "    }\n",
       "\n",
       "    .dataframe thead th {\n",
       "        text-align: right;\n",
       "    }\n",
       "</style>\n",
       "<table border=\"1\" class=\"dataframe\">\n",
       "  <thead>\n",
       "    <tr style=\"text-align: right;\">\n",
       "      <th></th>\n",
       "      <th>Animal</th>\n",
       "      <th>Cuteness</th>\n",
       "      <th>Desirable</th>\n",
       "    </tr>\n",
       "  </thead>\n",
       "  <tbody>\n",
       "    <tr>\n",
       "      <th>row-1</th>\n",
       "      <td>dog</td>\n",
       "      <td>8.7</td>\n",
       "      <td>True</td>\n",
       "    </tr>\n",
       "    <tr>\n",
       "      <th>row-2</th>\n",
       "      <td>bat</td>\n",
       "      <td>2.6</td>\n",
       "      <td>False</td>\n",
       "    </tr>\n",
       "  </tbody>\n",
       "</table>\n",
       "</div>"
      ],
      "text/plain": [
       "      Animal  Cuteness Desirable\n",
       "row-1    dog       8.7      True\n",
       "row-2    bat       2.6    False "
      ]
     },
     "execution_count": 17,
     "metadata": {},
     "output_type": "execute_result"
    }
   ],
   "source": [
    "from io import StringIO\n",
    "data = \"\"\", Animal, Cuteness, Desirable\n",
    "row-1, dog, 8.7, True\n",
    "row-2, bat, 2.6, False \"\"\"\n",
    "df = pd.read_csv(StringIO(data),\n",
    "                header=0, index_col=0,\n",
    "                skipinitialspace=True)\n",
    "df"
   ]
  },
  {
   "cell_type": "code",
   "execution_count": 18,
   "id": "c193ccc8-2b89-4213-8037-c7a94ee28486",
   "metadata": {},
   "outputs": [
    {
     "data": {
      "text/plain": [
       "{'Sheet1':         Name  Score\n",
       " 0     Raksha    8.3\n",
       " 1    Janhavi    8.8\n",
       " 2  Shubhangi    9.6\n",
       " 3     Shruti    9.1}"
      ]
     },
     "execution_count": 18,
     "metadata": {},
     "output_type": "execute_result"
    }
   ],
   "source": [
    "workbook = pd.ExcelFile(r\"C:\\Users\\uSER\\Downloads\\Sample_Excel.xlsx\")\n",
    "dictionary= {}\n",
    "for sheet_name in workbook.sheet_names:\n",
    "    df = workbook.parse(sheet_name)\n",
    "    dictionary[sheet_name] = df\n",
    "dictionary"
   ]
  },
  {
   "cell_type": "markdown",
   "id": "8e57bd5b-ad9d-4abd-9500-b6308256081b",
   "metadata": {},
   "source": [
    "## Dictionary to series"
   ]
  },
  {
   "cell_type": "code",
   "execution_count": 19,
   "id": "63f9ae88-0023-45b2-91f0-3a0d920e0013",
   "metadata": {},
   "outputs": [
    {
     "name": "stdout",
     "output_type": "stream",
     "text": [
      "Index(['Tom', 'Dick', 'Har'], dtype='object')\n",
      "\n",
      "df1: Column wise\n",
      "       A  B\n",
      "Tom   1  3\n",
      "Dick  4  2\n",
      "Har   9  5\n",
      "\n",
      "df2: Row wise\n",
      " A  Tom     1\n",
      "   Dick    4\n",
      "   Har     9\n",
      "B  Tom     3\n",
      "   Dick    2\n",
      "   Har     5\n",
      "dtype: int64\n"
     ]
    }
   ],
   "source": [
    "s1 = Series({'Tom':1, 'Dick':4, 'Har':9})\n",
    "s2 = Series({'Tom':3, 'Dick':2, 'Har':5})\n",
    "print(s1.index)\n",
    "df1 = pd.concat({'A':s1, 'B':s2}, axis=1)\n",
    "print('\\ndf1: Column wise\\n',df1)\n",
    "df2 = pd.concat({'A':s1, 'B':s2}, axis=0)\n",
    "print('\\ndf2: Row wise\\n',df2)"
   ]
  },
  {
   "cell_type": "code",
   "execution_count": 20,
   "id": "190f6428-c976-407f-97b4-7b784da73a44",
   "metadata": {},
   "outputs": [
    {
     "name": "stdout",
     "output_type": "stream",
     "text": [
      "<class 'pandas.core.frame.DataFrame'>\n",
      "RangeIndex: 4 entries, 0 to 3\n",
      "Data columns (total 2 columns):\n",
      " #   Column  Non-Null Count  Dtype  \n",
      "---  ------  --------------  -----  \n",
      " 0   Name    4 non-null      object \n",
      " 1   Score   4 non-null      float64\n",
      "dtypes: float64(1), object(1)\n",
      "memory usage: 196.0+ bytes\n"
     ]
    }
   ],
   "source": [
    "df.info()"
   ]
  },
  {
   "cell_type": "code",
   "execution_count": 21,
   "id": "1d9697d6-6568-4efe-ab28-5b28f8f701e0",
   "metadata": {},
   "outputs": [
    {
     "name": "stdout",
     "output_type": "stream",
     "text": [
      "        Name  Score\n",
      "0     Raksha    8.3\n",
      "1    Janhavi    8.8\n",
      "2  Shubhangi    9.6\n",
      "3     Shruti    9.1\n",
      "        Name  Score\n",
      "0     Raksha    8.3\n",
      "1    Janhavi    8.8\n",
      "2  Shubhangi    9.6\n",
      "3     Shruti    9.1\n",
      "          Score\n",
      "count  4.000000\n",
      "mean   8.950000\n",
      "std    0.544671\n",
      "min    8.300000\n",
      "25%    8.675000\n",
      "50%    8.950000\n",
      "75%    9.225000\n",
      "max    9.600000\n",
      "        Name  Score\n",
      "0     Raksha    8.3\n",
      "1    Janhavi    8.8\n",
      "2  Shubhangi    9.6\n",
      "3     Shruti    9.1\n"
     ]
    }
   ],
   "source": [
    "n=4\n",
    "dfh = df.head(n)\n",
    "dft = df.tail(n)\n",
    "dfs = df.describe()\n",
    "df_iloc = df.iloc[:5, :5]\n",
    "print(dfh)\n",
    "print(dft)\n",
    "print(dfs)\n",
    "print(df_iloc)"
   ]
  },
  {
   "cell_type": "code",
   "execution_count": 22,
   "id": "ab22cf18-3095-4a65-9555-07a7e01c8a0a",
   "metadata": {},
   "outputs": [
    {
     "data": {
      "text/html": [
       "<div>\n",
       "<style scoped>\n",
       "    .dataframe tbody tr th:only-of-type {\n",
       "        vertical-align: middle;\n",
       "    }\n",
       "\n",
       "    .dataframe tbody tr th {\n",
       "        vertical-align: top;\n",
       "    }\n",
       "\n",
       "    .dataframe thead th {\n",
       "        text-align: right;\n",
       "    }\n",
       "</style>\n",
       "<table border=\"1\" class=\"dataframe\">\n",
       "  <thead>\n",
       "    <tr style=\"text-align: right;\">\n",
       "      <th></th>\n",
       "      <th>0</th>\n",
       "      <th>1</th>\n",
       "      <th>2</th>\n",
       "      <th>3</th>\n",
       "    </tr>\n",
       "  </thead>\n",
       "  <tbody>\n",
       "    <tr>\n",
       "      <th>Name</th>\n",
       "      <td>Raksha</td>\n",
       "      <td>Janhavi</td>\n",
       "      <td>Shubhangi</td>\n",
       "      <td>Shruti</td>\n",
       "    </tr>\n",
       "    <tr>\n",
       "      <th>Score</th>\n",
       "      <td>8.3</td>\n",
       "      <td>8.8</td>\n",
       "      <td>9.6</td>\n",
       "      <td>9.1</td>\n",
       "    </tr>\n",
       "  </tbody>\n",
       "</table>\n",
       "</div>"
      ],
      "text/plain": [
       "            0        1          2       3\n",
       "Name   Raksha  Janhavi  Shubhangi  Shruti\n",
       "Score     8.3      8.8        9.6     9.1"
      ]
     },
     "execution_count": 22,
     "metadata": {},
     "output_type": "execute_result"
    }
   ],
   "source": [
    "dft = df.T\n",
    "dft"
   ]
  },
  {
   "cell_type": "code",
   "execution_count": 23,
   "id": "0f0c92a4-438e-44ae-8123-97f813a7c765",
   "metadata": {},
   "outputs": [
    {
     "data": {
      "text/plain": [
       "[RangeIndex(start=0, stop=4, step=1), Index(['Name', 'Score'], dtype='object')]"
      ]
     },
     "execution_count": 23,
     "metadata": {},
     "output_type": "execute_result"
    }
   ],
   "source": [
    "l = df.axes\n",
    "(r,c) = df.axes\n",
    "l"
   ]
  },
  {
   "cell_type": "code",
   "execution_count": 24,
   "id": "bb9df3d8-1347-4c5e-b01e-647a5e1e12cd",
   "metadata": {},
   "outputs": [
    {
     "data": {
      "text/plain": [
       "Name      object\n",
       "Score    float64\n",
       "dtype: object"
      ]
     },
     "execution_count": 24,
     "metadata": {},
     "output_type": "execute_result"
    }
   ],
   "source": [
    "s = df.dtypes\n",
    "s"
   ]
  },
  {
   "cell_type": "code",
   "execution_count": 25,
   "id": "b12f7bd4-eecb-4e83-a98e-0efc59bc2297",
   "metadata": {},
   "outputs": [
    {
     "data": {
      "text/plain": [
       "False"
      ]
     },
     "execution_count": 25,
     "metadata": {},
     "output_type": "execute_result"
    }
   ],
   "source": [
    "b = df.empty\n",
    "b"
   ]
  },
  {
   "cell_type": "code",
   "execution_count": 26,
   "id": "d39a083e-c182-4b28-af9d-573d971e6cf5",
   "metadata": {},
   "outputs": [
    {
     "data": {
      "text/plain": [
       "2"
      ]
     },
     "execution_count": 26,
     "metadata": {},
     "output_type": "execute_result"
    }
   ],
   "source": [
    "i = df.ndim\n",
    "i"
   ]
  },
  {
   "cell_type": "code",
   "execution_count": 27,
   "id": "8152acd0-7de5-4713-9ca9-9d96cd716c74",
   "metadata": {},
   "outputs": [
    {
     "data": {
      "text/plain": [
       "(4, 2)"
      ]
     },
     "execution_count": 27,
     "metadata": {},
     "output_type": "execute_result"
    }
   ],
   "source": [
    "t = df.shape\n",
    "t"
   ]
  },
  {
   "cell_type": "code",
   "execution_count": 28,
   "id": "f7b29187-05a7-43d0-94c2-21c4c66dc887",
   "metadata": {},
   "outputs": [
    {
     "data": {
      "text/plain": [
       "8"
      ]
     },
     "execution_count": 28,
     "metadata": {},
     "output_type": "execute_result"
    }
   ],
   "source": [
    "i = df.size\n",
    "i"
   ]
  },
  {
   "cell_type": "code",
   "execution_count": 29,
   "id": "e5f505ed-a751-4291-8a23-95e626b371b3",
   "metadata": {},
   "outputs": [
    {
     "data": {
      "text/plain": [
       "array([['Raksha', 8.3],\n",
       "       ['Janhavi', 8.8],\n",
       "       ['Shubhangi', 9.6],\n",
       "       ['Shruti', 9.1]], dtype=object)"
      ]
     },
     "execution_count": 29,
     "metadata": {},
     "output_type": "execute_result"
    }
   ],
   "source": [
    "a = df.values\n",
    "a"
   ]
  },
  {
   "cell_type": "code",
   "execution_count": 30,
   "id": "e8f25091-ac81-421d-b710-1b74bee52d83",
   "metadata": {},
   "outputs": [
    {
     "data": {
      "text/plain": [
       "pandas.core.frame.DataFrame"
      ]
     },
     "execution_count": 30,
     "metadata": {},
     "output_type": "execute_result"
    }
   ],
   "source": [
    "type(df)"
   ]
  },
  {
   "cell_type": "code",
   "execution_count": 31,
   "id": "67b21971-760e-47ba-aa59-19464522fde7",
   "metadata": {},
   "outputs": [
    {
     "data": {
      "text/plain": [
       "numpy.ndarray"
      ]
     },
     "execution_count": 31,
     "metadata": {},
     "output_type": "execute_result"
    }
   ],
   "source": [
    "type(df.values)"
   ]
  },
  {
   "cell_type": "code",
   "execution_count": 32,
   "id": "2237fc66-c686-4bc7-bba4-712beaf71f2e",
   "metadata": {},
   "outputs": [
    {
     "data": {
      "text/html": [
       "<div>\n",
       "<style scoped>\n",
       "    .dataframe tbody tr th:only-of-type {\n",
       "        vertical-align: middle;\n",
       "    }\n",
       "\n",
       "    .dataframe tbody tr th {\n",
       "        vertical-align: top;\n",
       "    }\n",
       "\n",
       "    .dataframe thead th {\n",
       "        text-align: right;\n",
       "    }\n",
       "</style>\n",
       "<table border=\"1\" class=\"dataframe\">\n",
       "  <thead>\n",
       "    <tr style=\"text-align: right;\">\n",
       "      <th></th>\n",
       "      <th>Name</th>\n",
       "      <th>Score</th>\n",
       "    </tr>\n",
       "  </thead>\n",
       "  <tbody>\n",
       "    <tr>\n",
       "      <th>0</th>\n",
       "      <td>Raksha</td>\n",
       "      <td>8.3</td>\n",
       "    </tr>\n",
       "    <tr>\n",
       "      <th>1</th>\n",
       "      <td>Janhavi</td>\n",
       "      <td>8.8</td>\n",
       "    </tr>\n",
       "    <tr>\n",
       "      <th>2</th>\n",
       "      <td>Shubhangi</td>\n",
       "      <td>9.6</td>\n",
       "    </tr>\n",
       "    <tr>\n",
       "      <th>3</th>\n",
       "      <td>Shruti</td>\n",
       "      <td>9.1</td>\n",
       "    </tr>\n",
       "  </tbody>\n",
       "</table>\n",
       "</div>"
      ],
      "text/plain": [
       "        Name  Score\n",
       "0     Raksha    8.3\n",
       "1    Janhavi    8.8\n",
       "2  Shubhangi    9.6\n",
       "3     Shruti    9.1"
      ]
     },
     "execution_count": 32,
     "metadata": {},
     "output_type": "execute_result"
    }
   ],
   "source": [
    "dfc = df\n",
    "dfc"
   ]
  },
  {
   "cell_type": "code",
   "execution_count": 33,
   "id": "1ef33a40-a8e3-4dbf-8334-b1b639f9c512",
   "metadata": {},
   "outputs": [
    {
     "data": {
      "text/html": [
       "<div>\n",
       "<style scoped>\n",
       "    .dataframe tbody tr th:only-of-type {\n",
       "        vertical-align: middle;\n",
       "    }\n",
       "\n",
       "    .dataframe tbody tr th {\n",
       "        vertical-align: top;\n",
       "    }\n",
       "\n",
       "    .dataframe thead th {\n",
       "        text-align: right;\n",
       "    }\n",
       "</style>\n",
       "<table border=\"1\" class=\"dataframe\">\n",
       "  <thead>\n",
       "    <tr style=\"text-align: right;\">\n",
       "      <th></th>\n",
       "      <th>Name</th>\n",
       "      <th>Score</th>\n",
       "    </tr>\n",
       "  </thead>\n",
       "  <tbody>\n",
       "    <tr>\n",
       "      <th>0</th>\n",
       "      <td>Raksha</td>\n",
       "      <td>8.3</td>\n",
       "    </tr>\n",
       "    <tr>\n",
       "      <th>1</th>\n",
       "      <td>Janhavi</td>\n",
       "      <td>8.8</td>\n",
       "    </tr>\n",
       "    <tr>\n",
       "      <th>2</th>\n",
       "      <td>Shubhangi</td>\n",
       "      <td>9.6</td>\n",
       "    </tr>\n",
       "    <tr>\n",
       "      <th>3</th>\n",
       "      <td>Shruti</td>\n",
       "      <td>9.1</td>\n",
       "    </tr>\n",
       "  </tbody>\n",
       "</table>\n",
       "</div>"
      ],
      "text/plain": [
       "        Name  Score\n",
       "0     Raksha    8.3\n",
       "1    Janhavi    8.8\n",
       "2  Shubhangi    9.6\n",
       "3     Shruti    9.1"
      ]
     },
     "execution_count": 33,
     "metadata": {},
     "output_type": "execute_result"
    }
   ],
   "source": [
    "dfc = df.copy()\n",
    "dfc"
   ]
  },
  {
   "cell_type": "code",
   "execution_count": 34,
   "id": "3378267b-479c-4f8c-8d9c-d8efea90cf0f",
   "metadata": {},
   "outputs": [
    {
     "data": {
      "text/html": [
       "<div>\n",
       "<style scoped>\n",
       "    .dataframe tbody tr th:only-of-type {\n",
       "        vertical-align: middle;\n",
       "    }\n",
       "\n",
       "    .dataframe tbody tr th {\n",
       "        vertical-align: top;\n",
       "    }\n",
       "\n",
       "    .dataframe thead th {\n",
       "        text-align: right;\n",
       "    }\n",
       "</style>\n",
       "<table border=\"1\" class=\"dataframe\">\n",
       "  <thead>\n",
       "    <tr style=\"text-align: right;\">\n",
       "      <th></th>\n",
       "      <th>Name</th>\n",
       "      <th>Score</th>\n",
       "    </tr>\n",
       "  </thead>\n",
       "  <tbody>\n",
       "    <tr>\n",
       "      <th>0</th>\n",
       "      <td>2.0</td>\n",
       "      <td>1.0</td>\n",
       "    </tr>\n",
       "    <tr>\n",
       "      <th>1</th>\n",
       "      <td>1.0</td>\n",
       "      <td>2.0</td>\n",
       "    </tr>\n",
       "    <tr>\n",
       "      <th>2</th>\n",
       "      <td>4.0</td>\n",
       "      <td>4.0</td>\n",
       "    </tr>\n",
       "    <tr>\n",
       "      <th>3</th>\n",
       "      <td>3.0</td>\n",
       "      <td>3.0</td>\n",
       "    </tr>\n",
       "  </tbody>\n",
       "</table>\n",
       "</div>"
      ],
      "text/plain": [
       "   Name  Score\n",
       "0   2.0    1.0\n",
       "1   1.0    2.0\n",
       "2   4.0    4.0\n",
       "3   3.0    3.0"
      ]
     },
     "execution_count": 34,
     "metadata": {},
     "output_type": "execute_result"
    }
   ],
   "source": [
    "dfr = df.rank()\n",
    "dfr"
   ]
  },
  {
   "cell_type": "markdown",
   "id": "dfbeb1ac-eb17-47f8-ae97-48b1f28fd13b",
   "metadata": {},
   "source": [
    "dfs = df.sort_values()\n",
    "dfs"
   ]
  },
  {
   "cell_type": "code",
   "execution_count": 35,
   "id": "d1bc51f5-fc4b-4711-b93d-2db1dc5c2b59",
   "metadata": {},
   "outputs": [
    {
     "data": {
      "text/html": [
       "<div>\n",
       "<style scoped>\n",
       "    .dataframe tbody tr th:only-of-type {\n",
       "        vertical-align: middle;\n",
       "    }\n",
       "\n",
       "    .dataframe tbody tr th {\n",
       "        vertical-align: top;\n",
       "    }\n",
       "\n",
       "    .dataframe thead th {\n",
       "        text-align: right;\n",
       "    }\n",
       "</style>\n",
       "<table border=\"1\" class=\"dataframe\">\n",
       "  <thead>\n",
       "    <tr style=\"text-align: right;\">\n",
       "      <th></th>\n",
       "      <th>Name</th>\n",
       "      <th>Score</th>\n",
       "    </tr>\n",
       "  </thead>\n",
       "  <tbody>\n",
       "    <tr>\n",
       "      <th>0</th>\n",
       "      <td>Raksha</td>\n",
       "      <td>8.3</td>\n",
       "    </tr>\n",
       "    <tr>\n",
       "      <th>1</th>\n",
       "      <td>Janhavi</td>\n",
       "      <td>8.8</td>\n",
       "    </tr>\n",
       "    <tr>\n",
       "      <th>2</th>\n",
       "      <td>Shubhangi</td>\n",
       "      <td>9.6</td>\n",
       "    </tr>\n",
       "    <tr>\n",
       "      <th>3</th>\n",
       "      <td>Shruti</td>\n",
       "      <td>9.1</td>\n",
       "    </tr>\n",
       "  </tbody>\n",
       "</table>\n",
       "</div>"
      ],
      "text/plain": [
       "        Name Score\n",
       "0     Raksha   8.3\n",
       "1    Janhavi   8.8\n",
       "2  Shubhangi   9.6\n",
       "3     Shruti   9.1"
      ]
     },
     "execution_count": 35,
     "metadata": {},
     "output_type": "execute_result"
    }
   ],
   "source": [
    "dfc = df.astype(str)\n",
    "dfc"
   ]
  },
  {
   "cell_type": "code",
   "execution_count": 36,
   "id": "dd5a1bde-bf4b-4a09-aae6-6295545244d4",
   "metadata": {},
   "outputs": [
    {
     "data": {
      "text/html": [
       "<div>\n",
       "<style scoped>\n",
       "    .dataframe tbody tr th:only-of-type {\n",
       "        vertical-align: middle;\n",
       "    }\n",
       "\n",
       "    .dataframe tbody tr th {\n",
       "        vertical-align: top;\n",
       "    }\n",
       "\n",
       "    .dataframe thead th {\n",
       "        text-align: right;\n",
       "    }\n",
       "</style>\n",
       "<table border=\"1\" class=\"dataframe\">\n",
       "  <thead>\n",
       "    <tr style=\"text-align: right;\">\n",
       "      <th></th>\n",
       "      <th>Name</th>\n",
       "      <th>Score</th>\n",
       "    </tr>\n",
       "  </thead>\n",
       "  <tbody>\n",
       "    <tr>\n",
       "      <th>0</th>\n",
       "      <td>Raksha</td>\n",
       "      <td>8.3</td>\n",
       "    </tr>\n",
       "    <tr>\n",
       "      <th>1</th>\n",
       "      <td>Janhavi</td>\n",
       "      <td>8.8</td>\n",
       "    </tr>\n",
       "    <tr>\n",
       "      <th>2</th>\n",
       "      <td>Shubhangi</td>\n",
       "      <td>9.6</td>\n",
       "    </tr>\n",
       "    <tr>\n",
       "      <th>3</th>\n",
       "      <td>Shruti</td>\n",
       "      <td>9.1</td>\n",
       "    </tr>\n",
       "  </tbody>\n",
       "</table>\n",
       "</div>"
      ],
      "text/plain": [
       "        Name  Score\n",
       "0     Raksha    8.3\n",
       "1    Janhavi    8.8\n",
       "2  Shubhangi    9.6\n",
       "3     Shruti    9.1"
      ]
     },
     "execution_count": 36,
     "metadata": {},
     "output_type": "execute_result"
    }
   ],
   "source": [
    "df.to_csv(\"name.csv\", encoding = 'utf-8')\n",
    "df"
   ]
  },
  {
   "cell_type": "code",
   "execution_count": 37,
   "id": "1c7f20f3-4813-421b-a38c-5bf96e2ed7a9",
   "metadata": {},
   "outputs": [],
   "source": [
    "from pandas import ExcelWriter\n",
    "writer = ExcelWriter('filename.xlsx')\n",
    "df1 = pd.DataFrame({'Data':[11,12,13,14]})\n",
    "df1.to_excel(writer, 'Sheet1')\n",
    "df2.to_excel(writer, 'Sheet2')\n",
    "writer.close()"
   ]
  },
  {
   "cell_type": "code",
   "execution_count": 38,
   "id": "4e1ef998-463a-4d6c-a531-1bf5cd7b39a3",
   "metadata": {},
   "outputs": [
    {
     "data": {
      "text/plain": [
       "Index(['Name', 'Score'], dtype='object')"
      ]
     },
     "execution_count": 38,
     "metadata": {},
     "output_type": "execute_result"
    }
   ],
   "source": [
    "df.columns"
   ]
  },
  {
   "cell_type": "code",
   "execution_count": 39,
   "id": "6406ad22-8f1f-48e8-bb60-2879110ddf07",
   "metadata": {},
   "outputs": [
    {
     "data": {
      "text/plain": [
       "'Name'"
      ]
     },
     "execution_count": 39,
     "metadata": {},
     "output_type": "execute_result"
    }
   ],
   "source": [
    "df.columns[0]"
   ]
  },
  {
   "cell_type": "code",
   "execution_count": 40,
   "id": "5348988a-fa39-4098-a71b-d5ffd135e1e2",
   "metadata": {},
   "outputs": [
    {
     "data": {
      "text/plain": [
       "['Name', 'Score']"
      ]
     },
     "execution_count": 40,
     "metadata": {},
     "output_type": "execute_result"
    }
   ],
   "source": [
    "df.columns.tolist()"
   ]
  },
  {
   "cell_type": "code",
   "execution_count": 41,
   "id": "bf6f4707-5fc1-473e-a317-85e610fb298a",
   "metadata": {},
   "outputs": [
    {
     "data": {
      "text/html": [
       "<div>\n",
       "<style scoped>\n",
       "    .dataframe tbody tr th:only-of-type {\n",
       "        vertical-align: middle;\n",
       "    }\n",
       "\n",
       "    .dataframe tbody tr th {\n",
       "        vertical-align: top;\n",
       "    }\n",
       "\n",
       "    .dataframe thead th {\n",
       "        text-align: right;\n",
       "    }\n",
       "</style>\n",
       "<table border=\"1\" class=\"dataframe\">\n",
       "  <thead>\n",
       "    <tr style=\"text-align: right;\">\n",
       "      <th></th>\n",
       "      <th>Student</th>\n",
       "      <th>Score</th>\n",
       "    </tr>\n",
       "  </thead>\n",
       "  <tbody>\n",
       "    <tr>\n",
       "      <th>0</th>\n",
       "      <td>Raksha</td>\n",
       "      <td>8.3</td>\n",
       "    </tr>\n",
       "    <tr>\n",
       "      <th>1</th>\n",
       "      <td>Janhavi</td>\n",
       "      <td>8.8</td>\n",
       "    </tr>\n",
       "    <tr>\n",
       "      <th>2</th>\n",
       "      <td>Shubhangi</td>\n",
       "      <td>9.6</td>\n",
       "    </tr>\n",
       "    <tr>\n",
       "      <th>3</th>\n",
       "      <td>Shruti</td>\n",
       "      <td>9.1</td>\n",
       "    </tr>\n",
       "  </tbody>\n",
       "</table>\n",
       "</div>"
      ],
      "text/plain": [
       "     Student  Score\n",
       "0     Raksha    8.3\n",
       "1    Janhavi    8.8\n",
       "2  Shubhangi    9.6\n",
       "3     Shruti    9.1"
      ]
     },
     "execution_count": 41,
     "metadata": {},
     "output_type": "execute_result"
    }
   ],
   "source": [
    "df.rename(columns = {'old':'new'}, inplace=True)\n",
    "df = df.rename(columns={'Name':'Student'})\n",
    "df"
   ]
  },
  {
   "cell_type": "code",
   "execution_count": 42,
   "id": "23eb78d8-eac6-49ec-ba78-60e5b88f50d2",
   "metadata": {},
   "outputs": [],
   "source": [
    "s = df['Student']    #returns series"
   ]
  },
  {
   "cell_type": "code",
   "execution_count": 43,
   "id": "73b4bffa-8331-495d-894d-dfc73050cfe0",
   "metadata": {},
   "outputs": [
    {
     "data": {
      "text/plain": [
       "pandas.core.series.Series"
      ]
     },
     "execution_count": 43,
     "metadata": {},
     "output_type": "execute_result"
    }
   ],
   "source": [
    "type(s)"
   ]
  },
  {
   "cell_type": "code",
   "execution_count": 44,
   "id": "90761d9b-abb3-4bc7-8f59-9247845c54e2",
   "metadata": {},
   "outputs": [],
   "source": [
    "df = df[['Student']]    #returns DataFrame"
   ]
  },
  {
   "cell_type": "code",
   "execution_count": 45,
   "id": "c8a90a9d-1a58-460b-bad6-a30a773adec2",
   "metadata": {},
   "outputs": [
    {
     "data": {
      "text/plain": [
       "pandas.core.frame.DataFrame"
      ]
     },
     "execution_count": 45,
     "metadata": {},
     "output_type": "execute_result"
    }
   ],
   "source": [
    "type(df)"
   ]
  },
  {
   "cell_type": "code",
   "execution_count": 46,
   "id": "c34e875c-95db-43a4-a35a-dcc40c83a2de",
   "metadata": {},
   "outputs": [],
   "source": [
    "#df = df[['Score','Age']]"
   ]
  },
  {
   "cell_type": "markdown",
   "id": "c6439d25-4bc5-44ab-8140-22168f4ade9a",
   "metadata": {},
   "source": [
    "s = df['Student']\n",
    "df.Student = df."
   ]
  },
  {
   "cell_type": "markdown",
   "id": "fd45b902-9618-4677-bb7c-3419fa365dad",
   "metadata": {},
   "source": [
    "import numpy as np\n",
    "s1 = Series({'Tom':1, 'Dick':4, 'Har':9})\n",
    "s2 = Series({'Tom':3, 'Dick':2, 'Har':5})\n",
    "df1 = pd.concat({'A':s1, 'B':s2}, axis=1)\n",
    "df2 = pd.concat({'B':s1, 'A':s2}, axis=1)\n",
    "df['Age'] = range(len(df))\n",
    "df['Age'] = np.repeat(np.nan,len(df))\n",
    "df['random'] = np.random.rand(len(df))\n",
    "df['index_as_col'] = df.index\n",
    "df1[['A','B']] = df2[['A','B']]\n",
    "df3 = df1.concat(df2) "
   ]
  },
  {
   "cell_type": "markdown",
   "id": "99c60516-b5f4-409e-800c-fb820ee6ac8c",
   "metadata": {},
   "source": [
    "df[['Age', 'Score']] = df[['Score', 'Age']]"
   ]
  },
  {
   "cell_type": "code",
   "execution_count": 50,
   "id": "a9229288-ac0e-4b14-b026-4e7c48f33464",
   "metadata": {},
   "outputs": [
    {
     "data": {
      "text/html": [
       "<div>\n",
       "<style scoped>\n",
       "    .dataframe tbody tr th:only-of-type {\n",
       "        vertical-align: middle;\n",
       "    }\n",
       "\n",
       "    .dataframe tbody tr th {\n",
       "        vertical-align: top;\n",
       "    }\n",
       "\n",
       "    .dataframe thead th {\n",
       "        text-align: right;\n",
       "    }\n",
       "</style>\n",
       "<table border=\"1\" class=\"dataframe\">\n",
       "  <thead>\n",
       "    <tr style=\"text-align: right;\">\n",
       "      <th></th>\n",
       "      <th>Student</th>\n",
       "    </tr>\n",
       "  </thead>\n",
       "  <tbody>\n",
       "    <tr>\n",
       "      <th>0</th>\n",
       "      <td>Raksha</td>\n",
       "    </tr>\n",
       "    <tr>\n",
       "      <th>1</th>\n",
       "      <td>Janhavi</td>\n",
       "    </tr>\n",
       "    <tr>\n",
       "      <th>2</th>\n",
       "      <td>Shubhangi</td>\n",
       "    </tr>\n",
       "    <tr>\n",
       "      <th>3</th>\n",
       "      <td>Shruti</td>\n",
       "    </tr>\n",
       "  </tbody>\n",
       "</table>\n",
       "</div>"
      ],
      "text/plain": [
       "     Student\n",
       "0     Raksha\n",
       "1    Janhavi\n",
       "2  Shubhangi\n",
       "3     Shruti"
      ]
     },
     "execution_count": 50,
     "metadata": {},
     "output_type": "execute_result"
    }
   ],
   "source": [
    "data = df.copy()\n",
    "data = data.drop('Student', axis=1)\n",
    "data\n",
    "df"
   ]
  },
  {
   "cell_type": "code",
   "execution_count": 48,
   "id": "a334e5a2-2fcd-40de-b6f0-d71fe1a0c887",
   "metadata": {},
   "outputs": [
    {
     "ename": "KeyError",
     "evalue": "\"['Score', 'Age'] not found in axis\"",
     "output_type": "error",
     "traceback": [
      "\u001b[1;31m---------------------------------------------------------------------------\u001b[0m",
      "\u001b[1;31mKeyError\u001b[0m                                  Traceback (most recent call last)",
      "Cell \u001b[1;32mIn[48], line 1\u001b[0m\n\u001b[1;32m----> 1\u001b[0m df \u001b[38;5;241m=\u001b[39m \u001b[43mdf\u001b[49m\u001b[38;5;241;43m.\u001b[39;49m\u001b[43mdrop\u001b[49m\u001b[43m(\u001b[49m\u001b[43m[\u001b[49m\u001b[38;5;124;43m'\u001b[39;49m\u001b[38;5;124;43mScore\u001b[39;49m\u001b[38;5;124;43m'\u001b[39;49m\u001b[43m,\u001b[49m\u001b[43m \u001b[49m\u001b[38;5;124;43m'\u001b[39;49m\u001b[38;5;124;43mAge\u001b[39;49m\u001b[38;5;124;43m'\u001b[39;49m\u001b[43m]\u001b[49m\u001b[43m,\u001b[49m\u001b[43m \u001b[49m\u001b[43maxis\u001b[49m\u001b[38;5;241;43m=\u001b[39;49m\u001b[38;5;241;43m1\u001b[39;49m\u001b[43m)\u001b[49m\n\u001b[0;32m      2\u001b[0m s \u001b[38;5;241m=\u001b[39m df\u001b[38;5;241m.\u001b[39mpop(\u001b[38;5;124m'\u001b[39m\u001b[38;5;124mAge\u001b[39m\u001b[38;5;124m'\u001b[39m)\n\u001b[0;32m      3\u001b[0m \u001b[38;5;28;01mdel\u001b[39;00m df[\u001b[38;5;124m'\u001b[39m\u001b[38;5;124mAge\u001b[39m\u001b[38;5;124m'\u001b[39m]\n",
      "File \u001b[1;32m~\\AppData\\Local\\Programs\\Python\\Python312\\Lib\\site-packages\\pandas\\core\\frame.py:5568\u001b[0m, in \u001b[0;36mDataFrame.drop\u001b[1;34m(self, labels, axis, index, columns, level, inplace, errors)\u001b[0m\n\u001b[0;32m   5420\u001b[0m \u001b[38;5;28;01mdef\u001b[39;00m \u001b[38;5;21mdrop\u001b[39m(\n\u001b[0;32m   5421\u001b[0m     \u001b[38;5;28mself\u001b[39m,\n\u001b[0;32m   5422\u001b[0m     labels: IndexLabel \u001b[38;5;241m|\u001b[39m \u001b[38;5;28;01mNone\u001b[39;00m \u001b[38;5;241m=\u001b[39m \u001b[38;5;28;01mNone\u001b[39;00m,\n\u001b[1;32m   (...)\u001b[0m\n\u001b[0;32m   5429\u001b[0m     errors: IgnoreRaise \u001b[38;5;241m=\u001b[39m \u001b[38;5;124m\"\u001b[39m\u001b[38;5;124mraise\u001b[39m\u001b[38;5;124m\"\u001b[39m,\n\u001b[0;32m   5430\u001b[0m ) \u001b[38;5;241m-\u001b[39m\u001b[38;5;241m>\u001b[39m DataFrame \u001b[38;5;241m|\u001b[39m \u001b[38;5;28;01mNone\u001b[39;00m:\n\u001b[0;32m   5431\u001b[0m \u001b[38;5;250m    \u001b[39m\u001b[38;5;124;03m\"\"\"\u001b[39;00m\n\u001b[0;32m   5432\u001b[0m \u001b[38;5;124;03m    Drop specified labels from rows or columns.\u001b[39;00m\n\u001b[0;32m   5433\u001b[0m \n\u001b[1;32m   (...)\u001b[0m\n\u001b[0;32m   5566\u001b[0m \u001b[38;5;124;03m            weight  1.0     0.8\u001b[39;00m\n\u001b[0;32m   5567\u001b[0m \u001b[38;5;124;03m    \"\"\"\u001b[39;00m\n\u001b[1;32m-> 5568\u001b[0m     \u001b[38;5;28;01mreturn\u001b[39;00m \u001b[38;5;28;43msuper\u001b[39;49m\u001b[43m(\u001b[49m\u001b[43m)\u001b[49m\u001b[38;5;241;43m.\u001b[39;49m\u001b[43mdrop\u001b[49m\u001b[43m(\u001b[49m\n\u001b[0;32m   5569\u001b[0m \u001b[43m        \u001b[49m\u001b[43mlabels\u001b[49m\u001b[38;5;241;43m=\u001b[39;49m\u001b[43mlabels\u001b[49m\u001b[43m,\u001b[49m\n\u001b[0;32m   5570\u001b[0m \u001b[43m        \u001b[49m\u001b[43maxis\u001b[49m\u001b[38;5;241;43m=\u001b[39;49m\u001b[43maxis\u001b[49m\u001b[43m,\u001b[49m\n\u001b[0;32m   5571\u001b[0m \u001b[43m        \u001b[49m\u001b[43mindex\u001b[49m\u001b[38;5;241;43m=\u001b[39;49m\u001b[43mindex\u001b[49m\u001b[43m,\u001b[49m\n\u001b[0;32m   5572\u001b[0m \u001b[43m        \u001b[49m\u001b[43mcolumns\u001b[49m\u001b[38;5;241;43m=\u001b[39;49m\u001b[43mcolumns\u001b[49m\u001b[43m,\u001b[49m\n\u001b[0;32m   5573\u001b[0m \u001b[43m        \u001b[49m\u001b[43mlevel\u001b[49m\u001b[38;5;241;43m=\u001b[39;49m\u001b[43mlevel\u001b[49m\u001b[43m,\u001b[49m\n\u001b[0;32m   5574\u001b[0m \u001b[43m        \u001b[49m\u001b[43minplace\u001b[49m\u001b[38;5;241;43m=\u001b[39;49m\u001b[43minplace\u001b[49m\u001b[43m,\u001b[49m\n\u001b[0;32m   5575\u001b[0m \u001b[43m        \u001b[49m\u001b[43merrors\u001b[49m\u001b[38;5;241;43m=\u001b[39;49m\u001b[43merrors\u001b[49m\u001b[43m,\u001b[49m\n\u001b[0;32m   5576\u001b[0m \u001b[43m    \u001b[49m\u001b[43m)\u001b[49m\n",
      "File \u001b[1;32m~\\AppData\\Local\\Programs\\Python\\Python312\\Lib\\site-packages\\pandas\\core\\generic.py:4782\u001b[0m, in \u001b[0;36mNDFrame.drop\u001b[1;34m(self, labels, axis, index, columns, level, inplace, errors)\u001b[0m\n\u001b[0;32m   4780\u001b[0m \u001b[38;5;28;01mfor\u001b[39;00m axis, labels \u001b[38;5;129;01min\u001b[39;00m axes\u001b[38;5;241m.\u001b[39mitems():\n\u001b[0;32m   4781\u001b[0m     \u001b[38;5;28;01mif\u001b[39;00m labels \u001b[38;5;129;01mis\u001b[39;00m \u001b[38;5;129;01mnot\u001b[39;00m \u001b[38;5;28;01mNone\u001b[39;00m:\n\u001b[1;32m-> 4782\u001b[0m         obj \u001b[38;5;241m=\u001b[39m \u001b[43mobj\u001b[49m\u001b[38;5;241;43m.\u001b[39;49m\u001b[43m_drop_axis\u001b[49m\u001b[43m(\u001b[49m\u001b[43mlabels\u001b[49m\u001b[43m,\u001b[49m\u001b[43m \u001b[49m\u001b[43maxis\u001b[49m\u001b[43m,\u001b[49m\u001b[43m \u001b[49m\u001b[43mlevel\u001b[49m\u001b[38;5;241;43m=\u001b[39;49m\u001b[43mlevel\u001b[49m\u001b[43m,\u001b[49m\u001b[43m \u001b[49m\u001b[43merrors\u001b[49m\u001b[38;5;241;43m=\u001b[39;49m\u001b[43merrors\u001b[49m\u001b[43m)\u001b[49m\n\u001b[0;32m   4784\u001b[0m \u001b[38;5;28;01mif\u001b[39;00m inplace:\n\u001b[0;32m   4785\u001b[0m     \u001b[38;5;28mself\u001b[39m\u001b[38;5;241m.\u001b[39m_update_inplace(obj)\n",
      "File \u001b[1;32m~\\AppData\\Local\\Programs\\Python\\Python312\\Lib\\site-packages\\pandas\\core\\generic.py:4824\u001b[0m, in \u001b[0;36mNDFrame._drop_axis\u001b[1;34m(self, labels, axis, level, errors, only_slice)\u001b[0m\n\u001b[0;32m   4822\u001b[0m         new_axis \u001b[38;5;241m=\u001b[39m axis\u001b[38;5;241m.\u001b[39mdrop(labels, level\u001b[38;5;241m=\u001b[39mlevel, errors\u001b[38;5;241m=\u001b[39merrors)\n\u001b[0;32m   4823\u001b[0m     \u001b[38;5;28;01melse\u001b[39;00m:\n\u001b[1;32m-> 4824\u001b[0m         new_axis \u001b[38;5;241m=\u001b[39m \u001b[43maxis\u001b[49m\u001b[38;5;241;43m.\u001b[39;49m\u001b[43mdrop\u001b[49m\u001b[43m(\u001b[49m\u001b[43mlabels\u001b[49m\u001b[43m,\u001b[49m\u001b[43m \u001b[49m\u001b[43merrors\u001b[49m\u001b[38;5;241;43m=\u001b[39;49m\u001b[43merrors\u001b[49m\u001b[43m)\u001b[49m\n\u001b[0;32m   4825\u001b[0m     indexer \u001b[38;5;241m=\u001b[39m axis\u001b[38;5;241m.\u001b[39mget_indexer(new_axis)\n\u001b[0;32m   4827\u001b[0m \u001b[38;5;66;03m# Case for non-unique axis\u001b[39;00m\n\u001b[0;32m   4828\u001b[0m \u001b[38;5;28;01melse\u001b[39;00m:\n",
      "File \u001b[1;32m~\\AppData\\Local\\Programs\\Python\\Python312\\Lib\\site-packages\\pandas\\core\\indexes\\base.py:7069\u001b[0m, in \u001b[0;36mIndex.drop\u001b[1;34m(self, labels, errors)\u001b[0m\n\u001b[0;32m   7067\u001b[0m \u001b[38;5;28;01mif\u001b[39;00m mask\u001b[38;5;241m.\u001b[39many():\n\u001b[0;32m   7068\u001b[0m     \u001b[38;5;28;01mif\u001b[39;00m errors \u001b[38;5;241m!=\u001b[39m \u001b[38;5;124m\"\u001b[39m\u001b[38;5;124mignore\u001b[39m\u001b[38;5;124m\"\u001b[39m:\n\u001b[1;32m-> 7069\u001b[0m         \u001b[38;5;28;01mraise\u001b[39;00m \u001b[38;5;167;01mKeyError\u001b[39;00m(\u001b[38;5;124mf\u001b[39m\u001b[38;5;124m\"\u001b[39m\u001b[38;5;132;01m{\u001b[39;00mlabels[mask]\u001b[38;5;241m.\u001b[39mtolist()\u001b[38;5;132;01m}\u001b[39;00m\u001b[38;5;124m not found in axis\u001b[39m\u001b[38;5;124m\"\u001b[39m)\n\u001b[0;32m   7070\u001b[0m     indexer \u001b[38;5;241m=\u001b[39m indexer[\u001b[38;5;241m~\u001b[39mmask]\n\u001b[0;32m   7071\u001b[0m \u001b[38;5;28;01mreturn\u001b[39;00m \u001b[38;5;28mself\u001b[39m\u001b[38;5;241m.\u001b[39mdelete(indexer)\n",
      "\u001b[1;31mKeyError\u001b[0m: \"['Score', 'Age'] not found in axis\""
     ]
    }
   ],
   "source": [
    "df = df.drop(['Score', 'Age'], axis=1)\n",
    "s = df.pop('Age')\n",
    "del df['Age']\n",
    "df.drop(df.columns[0], inplace=True)"
   ]
  }
 ],
 "metadata": {
  "kernelspec": {
   "display_name": "Python 3 (ipykernel)",
   "language": "python",
   "name": "python3"
  },
  "language_info": {
   "codemirror_mode": {
    "name": "ipython",
    "version": 3
   },
   "file_extension": ".py",
   "mimetype": "text/x-python",
   "name": "python",
   "nbconvert_exporter": "python",
   "pygments_lexer": "ipython3",
   "version": "3.12.1"
  }
 },
 "nbformat": 4,
 "nbformat_minor": 5
}
