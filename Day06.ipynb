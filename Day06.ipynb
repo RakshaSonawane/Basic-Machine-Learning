{
 "cells": [
  {
   "cell_type": "code",
   "execution_count": 8,
   "id": "a22dd431-291e-445f-b78a-855eea45f6cb",
   "metadata": {},
   "outputs": [
    {
     "name": "stdin",
     "output_type": "stream",
     "text": [
      "Enter a number: 0\n"
     ]
    },
    {
     "name": "stdout",
     "output_type": "stream",
     "text": [
      "Number is zero\n",
      "<class 'int'>\n"
     ]
    }
   ],
   "source": [
    "num=eval(input(\"Enter a number:\")) #Eval function finds the datatype of input and act accordingly\n",
    "if num>0:\n",
    "    print(\"Number is Positive\")\n",
    "elif num==0:\n",
    "    print(\"Number is zero\")\n",
    "else:\n",
    "    print(\"Number is Negative\")\n",
    "print(type(num))\n",
    "\n",
    "#Type error==Traceback error"
   ]
  },
  {
   "cell_type": "markdown",
   "id": "eff74cce-4bf0-4490-9147-b64688bdbff7",
   "metadata": {},
   "source": [
    "Based on percentage of marks calculate the grade"
   ]
  },
  {
   "cell_type": "code",
   "execution_count": 10,
   "id": "0fd55fc2-6a00-4c22-a767-2e3610cde7c0",
   "metadata": {},
   "outputs": [
    {
     "name": "stdin",
     "output_type": "stream",
     "text": [
      "Enter your percentage: -1\n"
     ]
    },
    {
     "name": "stdout",
     "output_type": "stream",
     "text": [
      "You have Fail\n"
     ]
    }
   ],
   "source": [
    "Score=eval(input(\"Enter your percentage:\"))\n",
    "\n",
    "if (Score >=75):\n",
    "    print(\"You have got Distinction\")\n",
    "elif (Score >= 65):\n",
    "    print(\"You have got First class\")\n",
    "elif (Score >= 55):\n",
    "    print(\"You have got Second Class\")\n",
    "elif (Score >=35):\n",
    "    print(\"You have Pass\")\n",
    "else:\n",
    "    print(\"You have Fail\")"
   ]
  },
  {
   "cell_type": "markdown",
   "id": "bf055c23-f1af-4eae-859b-ef835d5c64e4",
   "metadata": {},
   "source": [
    "Form a list and take marks as input. \n",
    "input: Name, Marks"
   ]
  },
  {
   "cell_type": "code",
   "execution_count": 40,
   "id": "6bb79ee8-e2a6-4bb6-b7b5-9db5cb314817",
   "metadata": {},
   "outputs": [
    {
     "name": "stdin",
     "output_type": "stream",
     "text": [
      "Enter Number of student: 3\n",
      "Enter Name of Student Ram\n"
     ]
    },
    {
     "name": "stdout",
     "output_type": "stream",
     "text": [
      "Ram\n"
     ]
    },
    {
     "name": "stdin",
     "output_type": "stream",
     "text": [
      "Enter Marks of Student 78\n",
      "Enter Name of Student Sita\n"
     ]
    },
    {
     "name": "stdout",
     "output_type": "stream",
     "text": [
      "Sita\n"
     ]
    },
    {
     "name": "stdin",
     "output_type": "stream",
     "text": [
      "Enter Marks of Student 56\n",
      "Enter Name of Student Shyam\n"
     ]
    },
    {
     "name": "stdout",
     "output_type": "stream",
     "text": [
      "Shyam\n"
     ]
    },
    {
     "name": "stdin",
     "output_type": "stream",
     "text": [
      "Enter Marks of Student 23\n"
     ]
    },
    {
     "name": "stdout",
     "output_type": "stream",
     "text": [
      "['Ram', 'DISTINCTION']\n",
      "['Sita', 'SECOND CLASS']\n",
      "['Shyam', 'FAIL']\n"
     ]
    }
   ],
   "source": [
    "index=0\n",
    "ind=0\n",
    "distinction=\"DISTINCTION\"\n",
    "first_class=\"FIRST CLASS\"\n",
    "second_class=\"SECOND CLASS\"\n",
    "Pass=\"PASS\"\n",
    "Fail=\"FAIL\"\n",
    "\n",
    "num=int(input(\"Enter Number of student:\"))\n",
    "\n",
    "Name_list = []\n",
    "Mark_list = []\n",
    "List=[]\n",
    "\n",
    "for ind in range(num):\n",
    "    name=str(input(\"Enter Name of Student\"))\n",
    "    Name_list.append(name)\n",
    "    print(Name_list[ind])\n",
    "    marks=eval(input(\"Enter Marks of Student\"))\n",
    "    Mark_list.append(marks)\n",
    "    ind+=1\n",
    "\n",
    "for i in range(len(Mark_list)):\n",
    "    if (Mark_list[i] >= 75):\n",
    "        List.append([Name_list[i], distinction])\n",
    "    elif (Mark_list[i] >= 65):\n",
    "        List[index]=[Name_list[i], first_class]\n",
    "    elif (Mark_list[i] >= 55):\n",
    "        List[index]=[Name_list[i], second_class]\n",
    "    elif (Mark_list[i] >= 35):\n",
    "        List[index]=[Name_list[i], Pass]\n",
    "    else:\n",
    "        List[index]=[Name_list[i], Fail]\n",
    "\n",
    "    print(List[index])\n",
    "        "
   ]
  },
  {
   "cell_type": "code",
   "execution_count": 41,
   "id": "6818da3b-3a0f-44b2-939a-d91a6e242f36",
   "metadata": {},
   "outputs": [
    {
     "name": "stdout",
     "output_type": "stream",
     "text": [
      "<class 'tuple'>\n"
     ]
    },
    {
     "data": {
      "text/plain": [
       "(1, [4, 50, 6], 9)"
      ]
     },
     "execution_count": 41,
     "metadata": {},
     "output_type": "execute_result"
    }
   ],
   "source": [
    "list=(1, [4,5,6],9)\n",
    "print(type(list))\n",
    "list[1][1]=50\n",
    "list"
   ]
  },
  {
   "cell_type": "markdown",
   "id": "3ba4c627-5c77-4496-91a5-f5f92051d075",
   "metadata": {},
   "source": [
    "Total Quantity\n",
    "Total cost of each item\n",
    "Total cost of entire grocery list"
   ]
  },
  {
   "cell_type": "code",
   "execution_count": 1,
   "id": "67b96a7a-738d-49fe-a51b-0a9fde3aea01",
   "metadata": {},
   "outputs": [
    {
     "ename": "SyntaxError",
     "evalue": "invalid syntax. Perhaps you forgot a comma? (3148019434.py, line 16)",
     "output_type": "error",
     "traceback": [
      "\u001b[1;36m  Cell \u001b[1;32mIn[1], line 16\u001b[1;36m\u001b[0m\n\u001b[1;33m    print(\"Item: \",List{\"item\"}, \" Price:\", price)\u001b[0m\n\u001b[1;37m                   ^\u001b[0m\n\u001b[1;31mSyntaxError\u001b[0m\u001b[1;31m:\u001b[0m invalid syntax. Perhaps you forgot a comma?\n"
     ]
    }
   ],
   "source": [
    "List={}\n",
    "size=int(input(\"Number of Items :\"))\n",
    "total_quantity=0\n",
    "total_cost=0\n",
    "\n",
    "for i in range(size):\n",
    "    item=input(\"Enter Item:\")\n",
    "    quantity=int(input(\"Enter Quantity:\"))\n",
    "    price=float(input(\"Enter Price:\"))\n",
    "    List[i]={\"Item\": item,\"Quantity\": quantity,\"Price\": price }\n",
    "\n",
    "    total_quantity+=quantity\n",
    "    total_cost+=(quantity*price)\n",
    "\n",
    "for item, price in List:\n",
    "    print(\"Item: \",List{\"item\"}, \" Price:\", price)\n",
    "\n",
    "print(total_quantity)\n",
    "print(total_cost)\n",
    "\n",
    "\n",
    "\n"
   ]
  },
  {
   "cell_type": "markdown",
   "id": "d4091ee3-984f-4d75-a853-b72eabee86b3",
   "metadata": {},
   "source": [
    "## Write a python program that checks if a password entered by the user meets certain criteria.\n",
    "criteria:\n",
    " mininmun length of 8 characters\n",
    "contains at least one uppercase letter\n",
    "contains at least one lowercase letter\n",
    "contains at Least one number\n",
    "\n",
    "Bonus:include a check for special characters(e.g,!@#*)\n",
    "Expertise Level:Beginner"
   ]
  },
  {
   "cell_type": "code",
   "execution_count": 17,
   "id": "6c57ce7e-a5da-495c-98fb-b8adf84437d5",
   "metadata": {},
   "outputs": [
    {
     "name": "stdin",
     "output_type": "stream",
     "text": [
      "Enter your password: Raksha@12333\n"
     ]
    },
    {
     "ename": "AttributeError",
     "evalue": "'str' object has no attribute 'punctuation'",
     "output_type": "error",
     "traceback": [
      "\u001b[1;31m---------------------------------------------------------------------------\u001b[0m",
      "\u001b[1;31mAttributeError\u001b[0m                            Traceback (most recent call last)",
      "Cell \u001b[1;32mIn[17], line 14\u001b[0m\n\u001b[0;32m     12\u001b[0m         \u001b[38;5;28;01mif\u001b[39;00m i\u001b[38;5;241m.\u001b[39misdigit():\n\u001b[0;32m     13\u001b[0m             cnt3\u001b[38;5;241m+\u001b[39m\u001b[38;5;241m=\u001b[39m\u001b[38;5;241m1\u001b[39m\n\u001b[1;32m---> 14\u001b[0m         \u001b[38;5;28;01mif\u001b[39;00m \u001b[43mpass1\u001b[49m\u001b[38;5;241;43m.\u001b[39;49m\u001b[43mpunctuation\u001b[49m:\n\u001b[0;32m     15\u001b[0m             cnt4\u001b[38;5;241m+\u001b[39m\u001b[38;5;241m=\u001b[39m\u001b[38;5;241m1\u001b[39m\n\u001b[0;32m     17\u001b[0m \u001b[38;5;28;01mif\u001b[39;00m (cnt1 \u001b[38;5;241m>\u001b[39m\u001b[38;5;241m=\u001b[39m \u001b[38;5;241m1\u001b[39m \u001b[38;5;129;01mand\u001b[39;00m cnt2\u001b[38;5;241m>\u001b[39m\u001b[38;5;241m=\u001b[39m\u001b[38;5;241m1\u001b[39m \u001b[38;5;129;01mand\u001b[39;00m cnt3\u001b[38;5;241m>\u001b[39m\u001b[38;5;241m=\u001b[39m\u001b[38;5;241m1\u001b[39m \u001b[38;5;129;01mand\u001b[39;00m cnt4\u001b[38;5;241m>\u001b[39m\u001b[38;5;241m=\u001b[39m\u001b[38;5;241m1\u001b[39m):\n",
      "\u001b[1;31mAttributeError\u001b[0m: 'str' object has no attribute 'punctuation'"
     ]
    }
   ],
   "source": [
    "pass1=input(\"Enter your password:\")\n",
    "cnt1=0\n",
    "cnt2=0\n",
    "cnt3=0\n",
    "cnt4=0\n",
    "if (len(pass1) >= 8):\n",
    "    for i in pass1:\n",
    "        if i.isupper():\n",
    "            cnt1+=1\n",
    "        if i.islower():\n",
    "            cnt2+=1\n",
    "        if i.isdigit():\n",
    "            cnt3+=1\n",
    "        if pass1.punctuation:\n",
    "            cnt4+=1\n",
    "\n",
    "if (cnt1 >= 1 and cnt2>=1 and cnt3>=1 and cnt4>=1):\n",
    "    print(\"Correct Password\")\n",
    "else:\n",
    "    print(\"Incorrect password\")"
   ]
  },
  {
   "cell_type": "markdown",
   "id": "a1273f03-9998-4191-9f00-6f9d3c6dde28",
   "metadata": {},
   "source": [
    "## Guessing Game\n",
    "Write a python program that plays a simple guessing game with the user\n",
    "\n",
    "The program should think of random number between 1 and 100\n",
    "The user should guess the number\n",
    "The program should provide feedback to the user(higher, lower or correct guess)\n",
    "The program should keep track of the number of guesses it takes the user to guess the correct number"
   ]
  },
  {
   "cell_type": "code",
   "execution_count": null,
   "id": "3f7aa13e-131b-4963-9ca9-8b0a6c06f8c8",
   "metadata": {},
   "outputs": [],
   "source": []
  },
  {
   "cell_type": "markdown",
   "id": "b97df11e-58db-47f5-b70b-be117370c64f",
   "metadata": {},
   "source": [
    "# File Handling"
   ]
  },
  {
   "cell_type": "markdown",
   "id": "ca79eac7-ebb7-4e32-ac87-c3f8834d621c",
   "metadata": {},
   "source": [
    "## CRUD: \n",
    "Create \n",
    "\n",
    "\n",
    "Read\n",
    "\n",
    "\n",
    "Update\n",
    "\n",
    "\n",
    "Delete"
   ]
  },
  {
   "cell_type": "code",
   "execution_count": 50,
   "id": "b5483ceb-57d8-425d-9c59-2049b3bffe36",
   "metadata": {},
   "outputs": [],
   "source": [
    "import os"
   ]
  },
  {
   "cell_type": "code",
   "execution_count": 51,
   "id": "dacc199a-e7c8-4d17-867f-6ab58f3a8159",
   "metadata": {},
   "outputs": [
    {
     "data": {
      "text/plain": [
       "'C:\\\\Users\\\\uSER\\\\Symboysis Training'"
      ]
     },
     "execution_count": 51,
     "metadata": {},
     "output_type": "execute_result"
    }
   ],
   "source": [
    "os.getcwd()"
   ]
  },
  {
   "cell_type": "code",
   "execution_count": 64,
   "id": "371d4134-bc6b-4fdc-a1aa-befad15b844b",
   "metadata": {},
   "outputs": [],
   "source": [
    "p=open(\"myFile.txt\", 'r')\n",
    "p.close()"
   ]
  },
  {
   "cell_type": "code",
   "execution_count": 65,
   "id": "4aa43751-10f9-4dc5-b0f9-a5cb2de18ce2",
   "metadata": {},
   "outputs": [],
   "source": [
    "p=open(\"myFile.txt\", 'w')\n",
    "p.write(\"Hello Comrades\")\n",
    "p.close()"
   ]
  },
  {
   "cell_type": "code",
   "execution_count": 66,
   "id": "0daf1d81-55bd-496e-9524-393a4d8d104c",
   "metadata": {},
   "outputs": [],
   "source": [
    "p=open(\"myFile.txt\", 'a')\n",
    "p.write(\" Welcome\")\n",
    "p.close()"
   ]
  },
  {
   "cell_type": "code",
   "execution_count": 67,
   "id": "a5b89f6a-cb7a-43b4-bafa-2696a795ffa3",
   "metadata": {},
   "outputs": [
    {
     "name": "stdout",
     "output_type": "stream",
     "text": [
      "['Hello Comrades Welcome']\n"
     ]
    }
   ],
   "source": [
    "p=open(\"myFile.txt\", 'r')\n",
    "line=p.readlines()\n",
    "print(line)"
   ]
  },
  {
   "cell_type": "code",
   "execution_count": 78,
   "id": "12e566db-6324-4f7e-9a20-e9e118fcbbb9",
   "metadata": {},
   "outputs": [
    {
     "name": "stdin",
     "output_type": "stream",
     "text": [
      "Enter the Number: 2222\n"
     ]
    },
    {
     "name": "stdout",
     "output_type": "stream",
     "text": [
      "8\n"
     ]
    }
   ],
   "source": [
    "l=[]\n",
    "\n",
    "def sum_digits(num):\n",
    "    if(num == 0):\n",
    "        return 1\n",
    "    dig=num%10\n",
    "    l.append(dig)\n",
    "    sum_digits(num//10)\n",
    "\n",
    "num=int(input(\"Enter the Number:\"))\n",
    "sum_digits(num)\n",
    "\n",
    "print(sum(l))"
   ]
  },
  {
   "cell_type": "markdown",
   "id": "18ec5118-c9a7-41ae-9f30-4e122ce68ef7",
   "metadata": {},
   "source": [
    "## Program takes a string and counts number of lowercase in string"
   ]
  },
  {
   "cell_type": "code",
   "execution_count": 84,
   "id": "4183116a-f294-43d3-8cd1-0d04b9685f6f",
   "metadata": {},
   "outputs": [
    {
     "name": "stdin",
     "output_type": "stream",
     "text": [
      "Enter String HelLo\n"
     ]
    },
    {
     "name": "stdout",
     "output_type": "stream",
     "text": [
      "Number of Lowercase Character:  3\n"
     ]
    }
   ],
   "source": [
    "str=input(\"Enter String\")\n",
    "cnt=0\n",
    "for i in str:\n",
    "    if i.islower():\n",
    "        cnt+=1\n",
    "print(\"Number of Lowercase Character: \",cnt)"
   ]
  },
  {
   "cell_type": "code",
   "execution_count": null,
   "id": "a006037a-fa23-4612-a05e-72db03eddf9c",
   "metadata": {},
   "outputs": [],
   "source": []
  },
  {
   "cell_type": "code",
   "execution_count": null,
   "id": "456538a3-78d4-40f6-837b-c276266d718f",
   "metadata": {},
   "outputs": [],
   "source": []
  },
  {
   "cell_type": "code",
   "execution_count": null,
   "id": "870e38fe-1bd2-4a3b-8e20-185386e12d94",
   "metadata": {},
   "outputs": [],
   "source": []
  },
  {
   "cell_type": "code",
   "execution_count": null,
   "id": "5a90f43f-5fb4-497b-8ce8-f4910d071174",
   "metadata": {},
   "outputs": [],
   "source": []
  },
  {
   "cell_type": "code",
   "execution_count": null,
   "id": "8ba47a58-1f2c-416e-b0eb-8ac418bcdefb",
   "metadata": {},
   "outputs": [],
   "source": []
  },
  {
   "cell_type": "code",
   "execution_count": null,
   "id": "9a4d43ed-54fd-4bd9-9681-cde18f1ac002",
   "metadata": {},
   "outputs": [],
   "source": []
  },
  {
   "cell_type": "code",
   "execution_count": null,
   "id": "2bebdeac-2f88-4050-a7cd-de9109a18228",
   "metadata": {},
   "outputs": [],
   "source": []
  },
  {
   "cell_type": "code",
   "execution_count": null,
   "id": "69a547f7-e6a9-4045-979c-3cc469aff6f1",
   "metadata": {},
   "outputs": [],
   "source": [
    "\n"
   ]
  },
  {
   "cell_type": "code",
   "execution_count": null,
   "id": "4d437574-8855-4739-bcfe-117bbbf63613",
   "metadata": {},
   "outputs": [],
   "source": []
  },
  {
   "cell_type": "code",
   "execution_count": null,
   "id": "0f0b642a-06eb-48f3-8143-86a2969ade02",
   "metadata": {},
   "outputs": [],
   "source": []
  },
  {
   "cell_type": "code",
   "execution_count": null,
   "id": "78859272-20e3-4d14-a4f0-8488f098959e",
   "metadata": {},
   "outputs": [],
   "source": []
  },
  {
   "cell_type": "code",
   "execution_count": null,
   "id": "5727ef16-686f-4dae-8ec4-8c4f4a85bf9d",
   "metadata": {},
   "outputs": [],
   "source": []
  },
  {
   "cell_type": "code",
   "execution_count": null,
   "id": "bc6da723-278d-4ef8-b3a9-96d02f94194c",
   "metadata": {},
   "outputs": [],
   "source": []
  },
  {
   "cell_type": "code",
   "execution_count": null,
   "id": "3884e16f-0f66-4784-a77e-8ef32f3c9d23",
   "metadata": {},
   "outputs": [],
   "source": []
  },
  {
   "cell_type": "code",
   "execution_count": null,
   "id": "64ea78f3-5531-45f9-a767-25a48f78f1a9",
   "metadata": {},
   "outputs": [],
   "source": []
  },
  {
   "cell_type": "code",
   "execution_count": null,
   "id": "28340bcb-7b27-4383-afdf-9b58003036c3",
   "metadata": {},
   "outputs": [],
   "source": []
  },
  {
   "cell_type": "code",
   "execution_count": null,
   "id": "ed17955c-e976-450f-bc31-16a91aa4f368",
   "metadata": {},
   "outputs": [],
   "source": []
  },
  {
   "cell_type": "code",
   "execution_count": null,
   "id": "d4a23f73-9b0f-4e50-b439-58d2836be3ed",
   "metadata": {},
   "outputs": [],
   "source": []
  },
  {
   "cell_type": "code",
   "execution_count": null,
   "id": "52925a95-687e-4a4c-ad48-c1f1c4a3cc86",
   "metadata": {},
   "outputs": [],
   "source": []
  },
  {
   "cell_type": "code",
   "execution_count": null,
   "id": "de4250b9-48ee-4010-8f94-a9d7718e0179",
   "metadata": {},
   "outputs": [],
   "source": []
  },
  {
   "cell_type": "code",
   "execution_count": null,
   "id": "d3cf3393-65a0-4030-bbba-3391eb2eb92f",
   "metadata": {},
   "outputs": [],
   "source": []
  },
  {
   "cell_type": "code",
   "execution_count": null,
   "id": "9d16f280-fe43-4748-be60-2a7d83fc4991",
   "metadata": {},
   "outputs": [],
   "source": []
  },
  {
   "cell_type": "code",
   "execution_count": null,
   "id": "2826033e-97ac-42b4-9aec-1bbd3ea55038",
   "metadata": {},
   "outputs": [],
   "source": []
  },
  {
   "cell_type": "code",
   "execution_count": null,
   "id": "a039ca60-fffb-48b9-a222-8b40aaa09e22",
   "metadata": {},
   "outputs": [],
   "source": []
  },
  {
   "cell_type": "code",
   "execution_count": null,
   "id": "41225436-ec6b-49fc-8cfb-0ac45694e039",
   "metadata": {},
   "outputs": [],
   "source": []
  },
  {
   "cell_type": "code",
   "execution_count": null,
   "id": "bf16a95b-ef76-4a73-92c1-6eb1ea744b31",
   "metadata": {},
   "outputs": [],
   "source": []
  },
  {
   "cell_type": "code",
   "execution_count": null,
   "id": "825ba7a3-61df-4883-8079-c673c3df3c4a",
   "metadata": {},
   "outputs": [],
   "source": []
  },
  {
   "cell_type": "code",
   "execution_count": null,
   "id": "834422a3-8ad3-45f6-a51d-cf8a89b6ce82",
   "metadata": {},
   "outputs": [],
   "source": []
  },
  {
   "cell_type": "code",
   "execution_count": null,
   "id": "c7430f1b-ffde-42b6-9fe8-db6b0343b870",
   "metadata": {},
   "outputs": [],
   "source": []
  },
  {
   "cell_type": "code",
   "execution_count": null,
   "id": "47f2b2f1-2c9b-446a-a317-3e607ad0c1bf",
   "metadata": {},
   "outputs": [],
   "source": []
  },
  {
   "cell_type": "code",
   "execution_count": null,
   "id": "eeced0ce-afd0-4a48-ab5f-c049d36ce975",
   "metadata": {},
   "outputs": [],
   "source": []
  },
  {
   "cell_type": "code",
   "execution_count": null,
   "id": "93834de8-a8aa-439d-96fb-6476d9d69119",
   "metadata": {},
   "outputs": [],
   "source": []
  },
  {
   "cell_type": "code",
   "execution_count": null,
   "id": "3c2a5cdf-da52-4d50-9c04-1d0e58a293c5",
   "metadata": {},
   "outputs": [],
   "source": []
  },
  {
   "cell_type": "code",
   "execution_count": null,
   "id": "9b9440bc-5e00-4940-afc5-f51876461fd4",
   "metadata": {},
   "outputs": [],
   "source": []
  },
  {
   "cell_type": "code",
   "execution_count": null,
   "id": "fe4ed899-41a5-4900-ba39-ca5a7f5ad45e",
   "metadata": {},
   "outputs": [],
   "source": []
  },
  {
   "cell_type": "code",
   "execution_count": null,
   "id": "04cf7ca8-14fa-416b-8029-01cd9aeecde1",
   "metadata": {},
   "outputs": [],
   "source": []
  },
  {
   "cell_type": "code",
   "execution_count": null,
   "id": "26e17cea-c62c-4739-9d3a-a1a3d027b829",
   "metadata": {},
   "outputs": [],
   "source": []
  },
  {
   "cell_type": "code",
   "execution_count": null,
   "id": "599dc0aa-9521-4654-a59a-7770160f3604",
   "metadata": {},
   "outputs": [],
   "source": []
  },
  {
   "cell_type": "code",
   "execution_count": null,
   "id": "03a93e50-b932-438c-8e1d-de1ea05781d9",
   "metadata": {},
   "outputs": [],
   "source": []
  },
  {
   "cell_type": "code",
   "execution_count": null,
   "id": "7d4ae0f1-225f-49b8-92c5-eadbfe6907ee",
   "metadata": {},
   "outputs": [],
   "source": []
  },
  {
   "cell_type": "code",
   "execution_count": null,
   "id": "ffb6c477-36df-4213-aa27-217cd2d2e93b",
   "metadata": {},
   "outputs": [],
   "source": []
  },
  {
   "cell_type": "code",
   "execution_count": null,
   "id": "f18fdf62-9539-4ec2-af2d-4221b71ba997",
   "metadata": {},
   "outputs": [],
   "source": []
  },
  {
   "cell_type": "code",
   "execution_count": null,
   "id": "af1488f3-e2c3-425f-9939-678494a670e7",
   "metadata": {},
   "outputs": [],
   "source": []
  },
  {
   "cell_type": "code",
   "execution_count": null,
   "id": "01d5ec62-bb84-4b93-b56c-6c00af19e37b",
   "metadata": {},
   "outputs": [],
   "source": []
  },
  {
   "cell_type": "code",
   "execution_count": null,
   "id": "70b578b8-b121-4c44-99f8-6cf79a973628",
   "metadata": {},
   "outputs": [],
   "source": []
  },
  {
   "cell_type": "code",
   "execution_count": null,
   "id": "96ceee44-803c-4135-bb42-3bfc4092629b",
   "metadata": {},
   "outputs": [],
   "source": []
  },
  {
   "cell_type": "code",
   "execution_count": null,
   "id": "e22670c4-cf17-4402-849d-9d4bd34d0aa5",
   "metadata": {},
   "outputs": [],
   "source": []
  },
  {
   "cell_type": "code",
   "execution_count": null,
   "id": "c52e6f69-c4b8-4bc8-926c-b22d776b0a02",
   "metadata": {},
   "outputs": [],
   "source": []
  },
  {
   "cell_type": "code",
   "execution_count": null,
   "id": "1e24eff3-350a-4cf7-8e5a-24ed19ac65c6",
   "metadata": {},
   "outputs": [],
   "source": []
  },
  {
   "cell_type": "code",
   "execution_count": null,
   "id": "c0d527dd-ecf3-465a-82a4-2137cf99c035",
   "metadata": {},
   "outputs": [],
   "source": []
  },
  {
   "cell_type": "code",
   "execution_count": null,
   "id": "bfc8788e-ee49-482e-86a3-a56a7ee685db",
   "metadata": {},
   "outputs": [],
   "source": []
  },
  {
   "cell_type": "code",
   "execution_count": null,
   "id": "c8f7edba-7246-40b3-944c-8b5736c417b5",
   "metadata": {},
   "outputs": [],
   "source": []
  },
  {
   "cell_type": "code",
   "execution_count": null,
   "id": "9f0aa9d3-4482-447b-9575-0607ad034897",
   "metadata": {},
   "outputs": [],
   "source": []
  }
 ],
 "metadata": {
  "kernelspec": {
   "display_name": "Python 3 (ipykernel)",
   "language": "python",
   "name": "python3"
  },
  "language_info": {
   "codemirror_mode": {
    "name": "ipython",
    "version": 3
   },
   "file_extension": ".py",
   "mimetype": "text/x-python",
   "name": "python",
   "nbconvert_exporter": "python",
   "pygments_lexer": "ipython3",
   "version": "3.12.1"
  }
 },
 "nbformat": 4,
 "nbformat_minor": 5
}
