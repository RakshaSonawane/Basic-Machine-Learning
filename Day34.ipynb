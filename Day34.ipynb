{
 "cells": [
  {
   "cell_type": "code",
   "execution_count": 1,
   "id": "7469b85f-ed4c-4565-820c-1a41babd65c1",
   "metadata": {},
   "outputs": [],
   "source": [
    "import re"
   ]
  },
  {
   "cell_type": "code",
   "execution_count": 24,
   "id": "7bcc4499-67d9-4ddb-ace3-b44eeaf1040a",
   "metadata": {},
   "outputs": [
    {
     "name": "stdout",
     "output_type": "stream",
     "text": [
      "matchObj.group() :  Cats are as smarter as than Dogs\n",
      "matchObj.group(1) :  Cats are\n",
      "matchObj.group(2) :  smarter\n",
      "matchObj.group(3) :  than Dogs\n"
     ]
    }
   ],
   "source": [
    "line = \"Cats are as smarter as than Dogs\"\n",
    "matchObj = re.match(r'(.*) as (.*?) AS (.*)', line, re.M|re.I)   # re.M = Multiline & re.I = Ignorecase \n",
    "if matchObj:\n",
    "  print (\"matchObj.group() : \", matchObj.group())\n",
    "  print (\"matchObj.group(1) : \", matchObj.group(1))\n",
    "  print (\"matchObj.group(2) : \", matchObj.group(2))\n",
    "  print (\"matchObj.group(3) : \", matchObj.group(3))\n",
    "else:\n",
    "  print (\"No match!!\")"
   ]
  },
  {
   "cell_type": "code",
   "execution_count": null,
   "id": "f4de9274-661a-4f80-889d-299ad19a905a",
   "metadata": {},
   "outputs": [],
   "source": []
  },
  {
   "cell_type": "code",
   "execution_count": null,
   "id": "4dc35332-fb60-4645-9ec1-14896c130454",
   "metadata": {},
   "outputs": [],
   "source": []
  }
 ],
 "metadata": {
  "kernelspec": {
   "display_name": "Python 3 (ipykernel)",
   "language": "python",
   "name": "python3"
  },
  "language_info": {
   "codemirror_mode": {
    "name": "ipython",
    "version": 3
   },
   "file_extension": ".py",
   "mimetype": "text/x-python",
   "name": "python",
   "nbconvert_exporter": "python",
   "pygments_lexer": "ipython3",
   "version": "3.12.4"
  }
 },
 "nbformat": 4,
 "nbformat_minor": 5
}
