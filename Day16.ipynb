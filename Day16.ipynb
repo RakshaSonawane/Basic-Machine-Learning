{
 "cells": [
  {
   "cell_type": "code",
   "execution_count": 7,
   "id": "7becb8a6-6d02-43cc-aaed-706f789de486",
   "metadata": {},
   "outputs": [
    {
     "data": {
      "text/plain": [
       "'Ray'"
      ]
     },
     "execution_count": 7,
     "metadata": {},
     "output_type": "execute_result"
    }
   ],
   "source": [
    "class Student:\n",
    "    def __init__(self, Name):\n",
    "        self.Name = Name\n",
    "        self.Marks = Marks\n",
    "    def LastName(self):\n",
    "        return self.split(' ')\n",
    "\n",
    "ram = Student.LastName('Ram Ray')[-1]\n",
    "ram"
   ]
  },
  {
   "cell_type": "code",
   "execution_count": 11,
   "id": "a5ba5869-5886-4291-ad96-ba71f2513869",
   "metadata": {},
   "outputs": [
    {
     "data": {
      "text/plain": [
       "'3.333333e-01'"
      ]
     },
     "execution_count": 11,
     "metadata": {},
     "output_type": "execute_result"
    }
   ],
   "source": [
    "num = 0.3333333333\n",
    "'%e' % num"
   ]
  },
  {
   "cell_type": "code",
   "execution_count": 12,
   "id": "abb64439-0b8e-4b72-9c16-3e5fea0a96f6",
   "metadata": {},
   "outputs": [
    {
     "data": {
      "text/plain": [
       "'0.33'"
      ]
     },
     "execution_count": 12,
     "metadata": {},
     "output_type": "execute_result"
    }
   ],
   "source": [
    "'%4.2f'% num"
   ]
  },
  {
   "cell_type": "code",
   "execution_count": 13,
   "id": "ccdf0436-fd99-4259-aa75-4ac64a72c6e8",
   "metadata": {},
   "outputs": [
    {
     "data": {
      "text/plain": [
       "'0.33'"
      ]
     },
     "execution_count": 13,
     "metadata": {},
     "output_type": "execute_result"
    }
   ],
   "source": [
    "'{0:4.2f}'.format(num)"
   ]
  },
  {
   "cell_type": "code",
   "execution_count": 51,
   "id": "a3c13de9-3378-4210-aba8-6471f0a47748",
   "metadata": {},
   "outputs": [],
   "source": [
    "class Student:\n",
    "    def __init__(self, Name, Roll, Marks):\n",
    "        self.Name = Name\n",
    "        self.Roll = Roll\n",
    "        self.Marks = Marks\n",
    "    def grace(Marks):\n",
    "        if Marks >= 40:\n",
    "            return 'Pass: 0 Grace'\n",
    "        else:\n",
    "            return ('Grace Marks: ',40 - Marks)\n",
    "        \n",
    "    def display_status(Name, Roll, Marks):\n",
    "        if (Marks >= 40):\n",
    "            print('[',Roll,'] ', Name, ' Passed with ', Marks, ' Marks')\n",
    "        else:\n",
    "            print('[', Roll, '] ', Name, ' Failed')\n",
    "    "
   ]
  },
  {
   "cell_type": "code",
   "execution_count": 52,
   "id": "55078d67-2cb3-45e9-bdf9-484cb1a9714c",
   "metadata": {},
   "outputs": [
    {
     "name": "stdout",
     "output_type": "stream",
     "text": [
      "[ 10 ]  Ram  Passed with  50  Marks\n",
      "None\n",
      "[ 12 ]  Sham  Failed\n",
      "None\n",
      "Pass: 0 Grace\n",
      "('Grace Marks: ', 10)\n"
     ]
    }
   ],
   "source": [
    "Ram = Student.display_status(\"Ram\", 10, 50)\n",
    "print(Ram)\n",
    "Sham = Student.display_status(\"Sham\", 12, 30)\n",
    "print(Sham)\n",
    "Ram = Student.grace(50)\n",
    "print(Ram)\n",
    "Sham = Student.grace(30)\n",
    "print(Sham)"
   ]
  },
  {
   "cell_type": "code",
   "execution_count": 57,
   "id": "9b351a85-1f96-41ea-8f2f-c7be0066502c",
   "metadata": {},
   "outputs": [
    {
     "data": {
      "text/plain": [
       "3"
      ]
     },
     "execution_count": 57,
     "metadata": {},
     "output_type": "execute_result"
    }
   ],
   "source": [
    "10//3"
   ]
  },
  {
   "cell_type": "code",
   "execution_count": 59,
   "id": "cbbf2c9c-4f54-4ec7-9260-b4f28d28c9b3",
   "metadata": {},
   "outputs": [
    {
     "data": {
      "text/plain": [
       "3.0"
      ]
     },
     "execution_count": 59,
     "metadata": {},
     "output_type": "execute_result"
    }
   ],
   "source": [
    "import numpy\n",
    "numpy.ceil(2.3)"
   ]
  },
  {
   "cell_type": "code",
   "execution_count": 60,
   "id": "0c0c54b9-062a-4ee3-ab9c-385cb205c557",
   "metadata": {},
   "outputs": [
    {
     "data": {
      "text/plain": [
       "(-1+0j)"
      ]
     },
     "execution_count": 60,
     "metadata": {},
     "output_type": "execute_result"
    }
   ],
   "source": [
    "1j * 1J"
   ]
  },
  {
   "cell_type": "code",
   "execution_count": 61,
   "id": "f91f769d-850b-4a62-a0e7-688b52623221",
   "metadata": {},
   "outputs": [
    {
     "data": {
      "text/plain": [
       "(2+3j)"
      ]
     },
     "execution_count": 61,
     "metadata": {},
     "output_type": "execute_result"
    }
   ],
   "source": [
    "2 + 1j*3"
   ]
  },
  {
   "cell_type": "code",
   "execution_count": 62,
   "id": "ce3c817e-51bd-4713-8108-207d18f170ce",
   "metadata": {},
   "outputs": [
    {
     "data": {
      "text/plain": [
       "(6+9j)"
      ]
     },
     "execution_count": 62,
     "metadata": {},
     "output_type": "execute_result"
    }
   ],
   "source": [
    "(2+3j)*3"
   ]
  },
  {
   "cell_type": "code",
   "execution_count": 76,
   "id": "c6b2c2ed-f392-4dae-9137-319e76830a3b",
   "metadata": {},
   "outputs": [
    {
     "data": {
      "text/plain": [
       "(1, 16, 255, 12)"
      ]
     },
     "execution_count": 76,
     "metadata": {},
     "output_type": "execute_result"
    }
   ],
   "source": [
    "0o1, 0o20, 0o377, 0o14\n"
   ]
  },
  {
   "cell_type": "code",
   "execution_count": 77,
   "id": "b733c742-ea57-4af2-89fb-c5bbe758349b",
   "metadata": {},
   "outputs": [
    {
     "data": {
      "text/plain": [
       "(1, 16, 255, 10)"
      ]
     },
     "execution_count": 77,
     "metadata": {},
     "output_type": "execute_result"
    }
   ],
   "source": [
    "0x01, 0x10, 0xFF, 0xA"
   ]
  },
  {
   "cell_type": "code",
   "execution_count": 78,
   "id": "17a0f734-e305-48a9-a6bd-003dd57c5f5e",
   "metadata": {},
   "outputs": [
    {
     "data": {
      "text/plain": [
       "(1, 16, 255, 12)"
      ]
     },
     "execution_count": 78,
     "metadata": {},
     "output_type": "execute_result"
    }
   ],
   "source": [
    "0b01, 0b10000, 0b11111111, 0b1100"
   ]
  },
  {
   "cell_type": "code",
   "execution_count": 73,
   "id": "2d79e624-4915-43af-8d84-a967998eb794",
   "metadata": {},
   "outputs": [
    {
     "data": {
      "text/plain": [
       "('0o100', '0x40', '0b1000000')"
      ]
     },
     "execution_count": 73,
     "metadata": {},
     "output_type": "execute_result"
    }
   ],
   "source": [
    "oct(64), hex(64), bin(64)"
   ]
  },
  {
   "cell_type": "code",
   "execution_count": 79,
   "id": "82e6c5dc-0772-4312-a8a1-c6cf8bcf5a70",
   "metadata": {},
   "outputs": [
    {
     "data": {
      "text/plain": [
       "'0x1'"
      ]
     },
     "execution_count": 79,
     "metadata": {},
     "output_type": "execute_result"
    }
   ],
   "source": [
    "hex(1)"
   ]
  },
  {
   "cell_type": "code",
   "execution_count": 84,
   "id": "bce07954-b755-4838-a38f-c9bcd4b67d28",
   "metadata": {},
   "outputs": [
    {
     "data": {
      "text/plain": [
       "(64, 64, 64, 64)"
      ]
     },
     "execution_count": 84,
     "metadata": {},
     "output_type": "execute_result"
    }
   ],
   "source": [
    "int('64'), int('100', 8), int('40', 16), int('1000000', 2)"
   ]
  },
  {
   "cell_type": "code",
   "execution_count": 85,
   "id": "913ebf7f-f8ff-4c70-ac3c-abdae877e828",
   "metadata": {},
   "outputs": [
    {
     "data": {
      "text/plain": [
       "64"
      ]
     },
     "execution_count": 85,
     "metadata": {},
     "output_type": "execute_result"
    }
   ],
   "source": [
    "int('0x40', 16)"
   ]
  },
  {
   "cell_type": "code",
   "execution_count": 90,
   "id": "603adaba-5cbe-4981-98ab-56e928718475",
   "metadata": {},
   "outputs": [
    {
     "data": {
      "text/plain": [
       "(64, 64, 64, 64)"
      ]
     },
     "execution_count": 90,
     "metadata": {},
     "output_type": "execute_result"
    }
   ],
   "source": [
    "eval('64'), eval('0o100'), eval('0x40'), eval('0b1000000')"
   ]
  },
  {
   "cell_type": "code",
   "execution_count": 102,
   "id": "6f3dc085-0095-4943-bd92-9a52f804fa73",
   "metadata": {},
   "outputs": [
    {
     "data": {
      "text/plain": [
       "'100, 40, 1000000, 144'"
      ]
     },
     "execution_count": 102,
     "metadata": {},
     "output_type": "execute_result"
    }
   ],
   "source": [
    "'{0:o}, {1:x}, {2:b}, {3:o}'.format(64,64,64, 0x64)"
   ]
  },
  {
   "cell_type": "code",
   "execution_count": 101,
   "id": "814bd2a5-5f04-43f6-ab8c-3fba16a8ab17",
   "metadata": {},
   "outputs": [
    {
     "data": {
      "text/plain": [
       "'100, ff, FF'"
      ]
     },
     "execution_count": 101,
     "metadata": {},
     "output_type": "execute_result"
    }
   ],
   "source": [
    "'%o, %x, %X'%(64,255,255)"
   ]
  },
  {
   "cell_type": "code",
   "execution_count": 110,
   "id": "87feb617-42de-4836-91d1-5fb1a29bcb0f",
   "metadata": {},
   "outputs": [
    {
     "name": "stdout",
     "output_type": "stream",
     "text": [
      "4\n",
      "0\n",
      "3\n",
      "1\n"
     ]
    }
   ],
   "source": [
    "x = 1    #0001\n",
    "print(x<<2)    #0001 ==> 0100 \n",
    "print(x>>1)    #0001 ==>> \n",
    "print(x|2)    #0001 OR 0010 ==> 0011\n",
    "print(x & 1)    #0001 AND 0001 ==> 0001"
   ]
  },
  {
   "cell_type": "code",
   "execution_count": 114,
   "id": "a7b72e12-8b64-4a1c-bccb-6c0ab775148c",
   "metadata": {},
   "outputs": [
    {
     "name": "stdout",
     "output_type": "stream",
     "text": [
      "256 64\n",
      "32\n",
      "66\n",
      "0\n"
     ]
    }
   ],
   "source": [
    "x = 0x40    #0001\n",
    "print(x<<2, x)    #0001 ==> 0100 \n",
    "print(x>>1)    #0001 ==>> \n",
    "print(x|2)    #0001 OR 0010 ==> 0011\n",
    "print(x & 1)    #0001 AND 0001 ==> 0001"
   ]
  },
  {
   "cell_type": "code",
   "execution_count": 116,
   "id": "354892f1-abb3-43c6-a2fe-824df8511cbb",
   "metadata": {},
   "outputs": [
    {
     "name": "stdout",
     "output_type": "stream",
     "text": [
      "0b100\n",
      "0b11\n",
      "0b1\n"
     ]
    }
   ],
   "source": [
    "X = 0b0001\n",
    "print(bin(X<<2))\n",
    "print(bin(X | 0b010))\n",
    "print(bin(X & 0b1))\n",
    "X = 0xFF"
   ]
  },
  {
   "cell_type": "code",
   "execution_count": 117,
   "id": "892f685c-25fd-4cb7-8450-00f304f78c50",
   "metadata": {},
   "outputs": [
    {
     "data": {
      "text/plain": [
       "('0b1100011', 7)"
      ]
     },
     "execution_count": 117,
     "metadata": {},
     "output_type": "execute_result"
    }
   ],
   "source": [
    "X=99\n",
    "bin(X),X.bit_length()"
   ]
  },
  {
   "cell_type": "code",
   "execution_count": 118,
   "id": "555d180c-2578-4389-88ee-d329c00042c5",
   "metadata": {},
   "outputs": [
    {
     "data": {
      "text/plain": [
       "9"
      ]
     },
     "execution_count": 118,
     "metadata": {},
     "output_type": "execute_result"
    }
   ],
   "source": [
    "len(bin(256))-2"
   ]
  },
  {
   "cell_type": "markdown",
   "id": "1b4183f0-fcb2-4c13-923a-78b7b6acf841",
   "metadata": {},
   "source": [
    "Find whether a given number can be represented in the parse of 2, 8,16"
   ]
  },
  {
   "cell_type": "code",
   "execution_count": null,
   "id": "3a06b719-7373-498c-b2d9-85bee2e85071",
   "metadata": {},
   "outputs": [],
   "source": [
    "num = int(input(\"Enter a number:\"))\n",
    "for i in range(0):\n",
    "    if num== (2**i):\n",
    "        print('Can be represented')\n",
    "    else :\n",
    "        print('Cannot be represented')"
   ]
  },
  {
   "cell_type": "code",
   "execution_count": 119,
   "id": "68f8d946-1a66-47f2-bf3a-d5d8fd42a2dc",
   "metadata": {},
   "outputs": [
    {
     "data": {
      "text/plain": [
       "(16, 16)"
      ]
     },
     "execution_count": 119,
     "metadata": {},
     "output_type": "execute_result"
    }
   ],
   "source": [
    "pow(2,4), 2**4"
   ]
  },
  {
   "cell_type": "code",
   "execution_count": 123,
   "id": "adb47fa9-616b-44fc-9140-35c89dafc7ed",
   "metadata": {},
   "outputs": [
    {
     "data": {
      "text/plain": [
       "(42.3, 10, 10)"
      ]
     },
     "execution_count": 123,
     "metadata": {},
     "output_type": "execute_result"
    }
   ],
   "source": [
    "abs(-42.3), sum((1,2,3,4)), sum([1,2,3,4])"
   ]
  },
  {
   "cell_type": "code",
   "execution_count": 124,
   "id": "4c838abc-86a5-4dd0-9898-9e185a75872c",
   "metadata": {},
   "outputs": [
    {
     "data": {
      "text/plain": [
       "(1, 4)"
      ]
     },
     "execution_count": 124,
     "metadata": {},
     "output_type": "execute_result"
    }
   ],
   "source": [
    "min(3,1,2,4), max(3,1,2,4)"
   ]
  },
  {
   "cell_type": "code",
   "execution_count": 129,
   "id": "161b0835-9a61-47f8-8ed9-13cc38dfc271",
   "metadata": {},
   "outputs": [
    {
     "data": {
      "text/plain": [
       "4.0"
      ]
     },
     "execution_count": 129,
     "metadata": {},
     "output_type": "execute_result"
    }
   ],
   "source": [
    "numpy.sqrt(16)"
   ]
  },
  {
   "cell_type": "code",
   "execution_count": 130,
   "id": "72f3a200-2db5-4258-a6e6-36e968b8c585",
   "metadata": {},
   "outputs": [
    {
     "data": {
      "text/plain": [
       "0.03489949670250097"
      ]
     },
     "execution_count": 130,
     "metadata": {},
     "output_type": "execute_result"
    }
   ],
   "source": [
    "numpy.sin(2* numpy.pi/180)"
   ]
  },
  {
   "cell_type": "code",
   "execution_count": 132,
   "id": "a6e52ee3-82c0-44f9-937c-e5d0bfcde120",
   "metadata": {},
   "outputs": [
    {
     "name": "stdout",
     "output_type": "stream",
     "text": [
      "2.0 -3.0\n"
     ]
    }
   ],
   "source": [
    "print(numpy.floor(2.67), numpy.floor(-2.67))"
   ]
  },
  {
   "cell_type": "code",
   "execution_count": 133,
   "id": "be05c06c-78a8-45ad-ac46-2370594f2ecb",
   "metadata": {},
   "outputs": [
    {
     "name": "stdout",
     "output_type": "stream",
     "text": [
      "2.0 -2.0\n"
     ]
    }
   ],
   "source": [
    "print(numpy.trunc(2.67), numpy.trunc(-2.67))"
   ]
  },
  {
   "cell_type": "code",
   "execution_count": 134,
   "id": "6eb87b31-c79f-4449-8a91-c6ef6710e9b0",
   "metadata": {},
   "outputs": [
    {
     "name": "stdout",
     "output_type": "stream",
     "text": [
      "2 -2\n"
     ]
    }
   ],
   "source": [
    "print(int(2.67), int(-2.67))"
   ]
  },
  {
   "cell_type": "code",
   "execution_count": 135,
   "id": "8519437d-1811-4130-a1c8-f111b662a91b",
   "metadata": {},
   "outputs": [
    {
     "data": {
      "text/plain": [
       "(3, 2, 2.57)"
      ]
     },
     "execution_count": 135,
     "metadata": {},
     "output_type": "execute_result"
    }
   ],
   "source": [
    "round(2.567), round(2.456), round(2.567, 2)"
   ]
  },
  {
   "cell_type": "code",
   "execution_count": 138,
   "id": "60581c1f-4f64-498e-a6f4-5c1481f31758",
   "metadata": {},
   "outputs": [
    {
     "data": {
      "text/plain": [
       "('2.6', '3')"
      ]
     },
     "execution_count": 138,
     "metadata": {},
     "output_type": "execute_result"
    }
   ],
   "source": [
    "'%.1f' %2.567, '{0:.0f}'.format(2.567)"
   ]
  },
  {
   "cell_type": "code",
   "execution_count": 140,
   "id": "21876c8d-217e-4516-af6a-b8369758193e",
   "metadata": {},
   "outputs": [
    {
     "data": {
      "text/plain": [
       "3.9"
      ]
     },
     "execution_count": 140,
     "metadata": {},
     "output_type": "execute_result"
    }
   ],
   "source": [
    "round(3.89,1)"
   ]
  },
  {
   "cell_type": "code",
   "execution_count": 141,
   "id": "9089c84e-a1a0-41c3-9c56-0b6bb6f6a7d9",
   "metadata": {},
   "outputs": [
    {
     "data": {
      "text/plain": [
       "0.8738441032002929"
      ]
     },
     "execution_count": 141,
     "metadata": {},
     "output_type": "execute_result"
    }
   ],
   "source": [
    "import random\n",
    "random.random()"
   ]
  },
  {
   "cell_type": "code",
   "execution_count": 150,
   "id": "c1cb2493-35bc-4a98-8be2-13a3f52efde2",
   "metadata": {},
   "outputs": [
    {
     "data": {
      "text/plain": [
       "5"
      ]
     },
     "execution_count": 150,
     "metadata": {},
     "output_type": "execute_result"
    }
   ],
   "source": [
    "random.randint(1, 10)"
   ]
  },
  {
   "cell_type": "code",
   "execution_count": 156,
   "id": "d666b18c-bb06-4231-ad8c-f0492124e031",
   "metadata": {},
   "outputs": [
    {
     "data": {
      "text/plain": [
       "4"
      ]
     },
     "execution_count": 156,
     "metadata": {},
     "output_type": "execute_result"
    }
   ],
   "source": [
    "random.randint(1, 10)"
   ]
  },
  {
   "cell_type": "code",
   "execution_count": 161,
   "id": "376e589f-efc6-4caa-be7b-0a6bf945e318",
   "metadata": {},
   "outputs": [
    {
     "data": {
      "text/plain": [
       "'Life of Brain'"
      ]
     },
     "execution_count": 161,
     "metadata": {},
     "output_type": "execute_result"
    }
   ],
   "source": [
    "random.choice(['Life of Brain', 'Holy Grail', 'Meaning of life'])"
   ]
  },
  {
   "cell_type": "code",
   "execution_count": 163,
   "id": "392e17ed-0482-4f66-8eb8-e44959dedc4c",
   "metadata": {},
   "outputs": [
    {
     "name": "stdout",
     "output_type": "stream",
     "text": [
      "0.1428571428571428571428571429\n",
      "0.1429\n"
     ]
    }
   ],
   "source": [
    "import decimal\n",
    "print(decimal.Decimal(1)/decimal.Decimal(7))\n",
    "decimal.getcontext().prec = 4\n",
    "print(decimal.Decimal(1)/decimal.Decimal(7))\n"
   ]
  },
  {
   "cell_type": "code",
   "execution_count": 165,
   "id": "629586ca-8738-4662-8b3a-5c4578006e15",
   "metadata": {},
   "outputs": [
    {
     "name": "stdout",
     "output_type": "stream",
     "text": [
      "1/3\n",
      "2/5\n"
     ]
    }
   ],
   "source": [
    "from fractions import Fraction\n",
    "x = Fraction(1,3)\n",
    "print(x)\n",
    "y = Fraction(2,5)\n",
    "print(y)"
   ]
  },
  {
   "cell_type": "code",
   "execution_count": 167,
   "id": "c168b565-1c1a-49b1-ac3e-b56a2b6ee364",
   "metadata": {},
   "outputs": [
    {
     "name": "stdout",
     "output_type": "stream",
     "text": [
      "11/15\n",
      "-1/15\n",
      "2/15\n"
     ]
    }
   ],
   "source": [
    "print(x + y)\n",
    "print(x-y)\n",
    "print(x*y)"
   ]
  },
  {
   "cell_type": "markdown",
   "id": "c55eb9dc-c90f-4b82-8c6b-e2ab887b3e73",
   "metadata": {},
   "source": [
    "## SET\n",
    "\n",
    "{a,b,c,d} is set\n",
    "\n",
    "{a:1, b:2, c:3, d:4} is dictionary"
   ]
  },
  {
   "cell_type": "code",
   "execution_count": 172,
   "id": "3903f130-dbc1-4e01-ac33-7f657061ec8f",
   "metadata": {},
   "outputs": [
    {
     "data": {
      "text/plain": [
       "{'a', 'b', 'c', 'd', 'e'}"
      ]
     },
     "execution_count": 172,
     "metadata": {},
     "output_type": "execute_result"
    }
   ],
   "source": [
    "x = set('abcde')\n",
    "y= set('bdxyz')\n",
    "x"
   ]
  },
  {
   "cell_type": "code",
   "execution_count": 173,
   "id": "20fdddad-7dcb-482d-8bb2-82a6c1a172e8",
   "metadata": {},
   "outputs": [
    {
     "name": "stdout",
     "output_type": "stream",
     "text": [
      "True\n",
      "False\n"
     ]
    }
   ],
   "source": [
    "print('e' in x)\n",
    "print('f' in x)"
   ]
  },
  {
   "cell_type": "code",
   "execution_count": 183,
   "id": "e819eb2f-8b44-413c-a40e-f4a161dd6edc",
   "metadata": {},
   "outputs": [
    {
     "name": "stdout",
     "output_type": "stream",
     "text": [
      "{'a', 'c', 'e'}\n",
      "{'x', 'z', 'y'}\n"
     ]
    }
   ],
   "source": [
    "print(x - y)    #difference\n",
    "print(y-x)"
   ]
  },
  {
   "cell_type": "code",
   "execution_count": 184,
   "id": "c676e1cc-b714-40d5-b59f-78d134abbe4d",
   "metadata": {},
   "outputs": [
    {
     "data": {
      "text/plain": [
       "{'a', 'b', 'c', 'd', 'e', 'x', 'y', 'z'}"
      ]
     },
     "execution_count": 184,
     "metadata": {},
     "output_type": "execute_result"
    }
   ],
   "source": [
    "x | y    #Union"
   ]
  },
  {
   "cell_type": "code",
   "execution_count": 185,
   "id": "6270bdcc-569e-4b8c-9960-33acb3b1ad50",
   "metadata": {},
   "outputs": [
    {
     "data": {
      "text/plain": [
       "{'b', 'd'}"
      ]
     },
     "execution_count": 185,
     "metadata": {},
     "output_type": "execute_result"
    }
   ],
   "source": [
    "x & y    #intersection"
   ]
  },
  {
   "cell_type": "code",
   "execution_count": 186,
   "id": "2d8adad4-aa5e-452e-8fc4-3cf2380f4251",
   "metadata": {},
   "outputs": [
    {
     "data": {
      "text/plain": [
       "{'a', 'c', 'e', 'x', 'y', 'z'}"
      ]
     },
     "execution_count": 186,
     "metadata": {},
     "output_type": "execute_result"
    }
   ],
   "source": [
    "x ^ y    #SYmmetric difference"
   ]
  },
  {
   "cell_type": "code",
   "execution_count": 187,
   "id": "bb10ff83-9d6e-4987-8180-58c93d9c2be2",
   "metadata": {},
   "outputs": [
    {
     "data": {
      "text/plain": [
       "(False, False)"
      ]
     },
     "execution_count": 187,
     "metadata": {},
     "output_type": "execute_result"
    }
   ],
   "source": [
    "x > y, y>x    #Superset"
   ]
  },
  {
   "cell_type": "code",
   "execution_count": 188,
   "id": "257c9cc2-52a5-48b1-b6d5-511f54822b71",
   "metadata": {},
   "outputs": [
    {
     "data": {
      "text/plain": [
       "(False, False)"
      ]
     },
     "execution_count": 188,
     "metadata": {},
     "output_type": "execute_result"
    }
   ],
   "source": [
    "x < y, y<x    #Subset"
   ]
  },
  {
   "cell_type": "code",
   "execution_count": 189,
   "id": "f5e9e6f4-7610-4148-8eaa-12934d2b6419",
   "metadata": {},
   "outputs": [],
   "source": [
    "z = x.intersection(y)"
   ]
  },
  {
   "cell_type": "code",
   "execution_count": 190,
   "id": "3f773cea-5cb2-48d5-9e8f-a21f0a0e6f0b",
   "metadata": {},
   "outputs": [
    {
     "data": {
      "text/plain": [
       "{'b', 'd'}"
      ]
     },
     "execution_count": 190,
     "metadata": {},
     "output_type": "execute_result"
    }
   ],
   "source": [
    "z"
   ]
  },
  {
   "cell_type": "code",
   "execution_count": 193,
   "id": "f114a203-7248-489e-956e-d26761e7b869",
   "metadata": {},
   "outputs": [
    {
     "data": {
      "text/plain": [
       "{'SPAM', 'b', 'd'}"
      ]
     },
     "execution_count": 193,
     "metadata": {},
     "output_type": "execute_result"
    }
   ],
   "source": [
    "z.add('SPAM')\n",
    "z"
   ]
  },
  {
   "cell_type": "code",
   "execution_count": 196,
   "id": "395433a1-9417-47b4-be92-010c3ab42afd",
   "metadata": {},
   "outputs": [
    {
     "data": {
      "text/plain": [
       "{'SPAM', 'X', 'Y', 'b', 'd'}"
      ]
     },
     "execution_count": 196,
     "metadata": {},
     "output_type": "execute_result"
    }
   ],
   "source": [
    "z.update(set(['X', 'Y']))\n",
    "z"
   ]
  },
  {
   "cell_type": "code",
   "execution_count": 197,
   "id": "046b3bdb-b964-4e29-8296-a150e2bf79e5",
   "metadata": {},
   "outputs": [],
   "source": [
    "z.remove('b')"
   ]
  },
  {
   "cell_type": "code",
   "execution_count": 198,
   "id": "61b40f33-d2d5-4ed6-aab3-7140e7beff2f",
   "metadata": {},
   "outputs": [
    {
     "data": {
      "text/plain": [
       "{'SPAM', 'X', 'Y', 'd'}"
      ]
     },
     "execution_count": 198,
     "metadata": {},
     "output_type": "execute_result"
    }
   ],
   "source": [
    "z"
   ]
  },
  {
   "cell_type": "code",
   "execution_count": 199,
   "id": "3e85668a-f02a-4c36-bdec-339eea17412d",
   "metadata": {},
   "outputs": [
    {
     "name": "stdout",
     "output_type": "stream",
     "text": [
      "aaa\n",
      "ccc\n",
      "bbb\n"
     ]
    }
   ],
   "source": [
    "for item in set('abc'): print(item*3)"
   ]
  },
  {
   "cell_type": "code",
   "execution_count": 210,
   "id": "3fa25dc9-2d69-40f1-ae65-973408a5f462",
   "metadata": {},
   "outputs": [
    {
     "data": {
      "text/plain": [
       "['aaa', 'ccc', 'bbb']"
      ]
     },
     "execution_count": 210,
     "metadata": {},
     "output_type": "execute_result"
    }
   ],
   "source": [
    "[item*3 for item in set('abc')]"
   ]
  },
  {
   "cell_type": "markdown",
   "id": "93da30ea-c1ea-4715-9539-f1ff0203e722",
   "metadata": {},
   "source": [
    "Because they are unordered, though, they don't support sequence operations like indexing and slicing"
   ]
  },
  {
   "cell_type": "code",
   "execution_count": 212,
   "id": "767a16b4-8fb8-4575-92f5-3d75ad7622dd",
   "metadata": {},
   "outputs": [
    {
     "name": "stdout",
     "output_type": "stream",
     "text": [
      "1\n",
      "2\n"
     ]
    }
   ],
   "source": [
    "dict = {1:10, 2:20}\n",
    "for item in dict:\n",
    "    print(item)\n"
   ]
  },
  {
   "cell_type": "code",
   "execution_count": 205,
   "id": "a5d76ba4-137c-4a2b-8633-69535d328b05",
   "metadata": {},
   "outputs": [
    {
     "name": "stdout",
     "output_type": "stream",
     "text": [
      "1\n",
      "10\n",
      "2\n",
      "20\n"
     ]
    }
   ],
   "source": [
    "list = [1,10, 2,20]\n",
    "for item in list:\n",
    "    print(item)\n"
   ]
  },
  {
   "cell_type": "code",
   "execution_count": null,
   "id": "9802d30f-6ba2-4f9c-9d5a-a3336724a28a",
   "metadata": {},
   "outputs": [],
   "source": []
  },
  {
   "cell_type": "markdown",
   "id": "57e2bd10-bd54-4869-a5d8-df573c7e8996",
   "metadata": {},
   "source": [
    "#### Note:\n",
    "The int(S, base) function can be used to convert from octal and hexadecimal \n",
    "strings to normal integers (pass in 8, 16, or 2 for the base). The eval(S  functio \r\n",
    "can be used for this purpose too, but it’s more expensive to run and can ha e\r\n",
    "security issues. Note that integers are always stored in bin ry in computer memo y;\r\n",
    "these are just display string format conversins.\r"
   ]
  },
  {
   "cell_type": "markdown",
   "id": "8bce3b41-05cb-4179-b0c3-b43521dd3b0c",
   "metadata": {},
   "source": [
    "## Dynamic Programing in Python"
   ]
  },
  {
   "cell_type": "code",
   "execution_count": 213,
   "id": "2e724511-0999-4fd7-a0af-c0ec7fde458e",
   "metadata": {},
   "outputs": [],
   "source": [
    "a =3"
   ]
  },
  {
   "cell_type": "code",
   "execution_count": 214,
   "id": "428edb43-4d31-46e4-a14c-2da9904e7733",
   "metadata": {},
   "outputs": [],
   "source": [
    "b=a"
   ]
  },
  {
   "cell_type": "code",
   "execution_count": 215,
   "id": "f6f7be4d-8837-4327-9547-19e0237aac21",
   "metadata": {},
   "outputs": [
    {
     "data": {
      "text/plain": [
       "140710191970808"
      ]
     },
     "execution_count": 215,
     "metadata": {},
     "output_type": "execute_result"
    }
   ],
   "source": [
    "id(a)"
   ]
  },
  {
   "cell_type": "code",
   "execution_count": 216,
   "id": "b8dc5e19-ec31-4f6f-8228-39b5e283866b",
   "metadata": {},
   "outputs": [
    {
     "data": {
      "text/plain": [
       "140710191970808"
      ]
     },
     "execution_count": 216,
     "metadata": {},
     "output_type": "execute_result"
    }
   ],
   "source": [
    "id(b)"
   ]
  },
  {
   "cell_type": "code",
   "execution_count": 218,
   "id": "33ebd6c3-26c0-4d8f-ad19-5e5c6407cc13",
   "metadata": {},
   "outputs": [],
   "source": [
    "a = 'spam'"
   ]
  },
  {
   "cell_type": "code",
   "execution_count": 219,
   "id": "b06d422b-5ed0-4d5b-bb2a-27fe4da57bc7",
   "metadata": {},
   "outputs": [
    {
     "data": {
      "text/plain": [
       "2409259772128"
      ]
     },
     "execution_count": 219,
     "metadata": {},
     "output_type": "execute_result"
    }
   ],
   "source": [
    "id(a)"
   ]
  },
  {
   "cell_type": "code",
   "execution_count": 220,
   "id": "d7504fd0-5f98-419e-8447-00b7b4b1b9cd",
   "metadata": {},
   "outputs": [
    {
     "data": {
      "text/plain": [
       "140710191970808"
      ]
     },
     "execution_count": 220,
     "metadata": {},
     "output_type": "execute_result"
    }
   ],
   "source": [
    "id(b)"
   ]
  },
  {
   "cell_type": "markdown",
   "id": "b27755bd-416e-43e3-99ea-5567c7f3c6a5",
   "metadata": {},
   "source": [
    "Create class circle which calculates area and circumference"
   ]
  },
  {
   "cell_type": "code",
   "execution_count": 265,
   "id": "6cc1e1f6-94ca-4caf-a97e-8b79e69ae3fb",
   "metadata": {},
   "outputs": [],
   "source": [
    "import math\n",
    "class circle:\n",
    "    def __init__(self, radius=0, length=0, breadth=0):\n",
    "        self.radius = radius\n",
    "        self.length = length\n",
    "        self.breadth = breadth\n",
    "    def c_area(self, radius=0):\n",
    "        return (round(math.pi*(radius**2),2))\n",
    "    def c_circum(self, radius=0):\n",
    "        return (round(2*math.pi*radius, 2))\n",
    "    def r_area(self, length=0, breadth=0):\n",
    "        return (length*breadth)\n",
    "    def r_peri(self, length=0, breadth=0):\n",
    "        return ((2*(length+breadth)))"
   ]
  },
  {
   "cell_type": "code",
   "execution_count": 266,
   "id": "2c0d2aad-205a-4b08-b570-11f38cfa324e",
   "metadata": {},
   "outputs": [
    {
     "name": "stdout",
     "output_type": "stream",
     "text": [
      "12.57\n",
      "12.57\n",
      "200\n",
      "60\n",
      "0.0\n"
     ]
    }
   ],
   "source": [
    "c1 = circle(2,20,10)\n",
    "print(c1.c_area(2))\n",
    "print(c1.c_circum(2))\n",
    "print(c1.r_area(10,20))\n",
    "print(c1.r_peri(10,20))\n",
    "c2 = circle()\n",
    "print(c2.c_area())"
   ]
  },
  {
   "cell_type": "code",
   "execution_count": 273,
   "id": "520dad5a-daed-4df8-8bb5-b2d41c558733",
   "metadata": {},
   "outputs": [
    {
     "name": "stdout",
     "output_type": "stream",
     "text": [
      "\\temp\\spam\n",
      "b'spam'\n",
      "spam\n"
     ]
    }
   ],
   "source": [
    "S = r'\\temp\\spam'\n",
    "print(S)\n",
    "S = b'spam'\n",
    "print(S)\n",
    "S = u'spam'\n",
    "print(S)"
   ]
  },
  {
   "cell_type": "code",
   "execution_count": 286,
   "id": "e0639857-c35f-4afa-b838-fb80d188ec04",
   "metadata": {},
   "outputs": [
    {
     "name": "stdout",
     "output_type": "stream",
     "text": [
      "a kind parrot\n",
      "1\n",
      "sxxm\n",
      "['spam']\n",
      "False\n",
      "spam\n",
      "True\n",
      "sspampspamaspamm\n",
      "s\n",
      "p\n",
      "a\n",
      "m\n",
      "True\n",
      "['ss', 'pp', 'aa', 'mm']\n",
      "<map object at 0x00000230F2D75450>\n"
     ]
    }
   ],
   "source": [
    "print(\"a {0} parrot\".format('kind') )\n",
    "print(S.find('pa'))\n",
    "print(S.replace('pa', 'xx'))\n",
    "print(S.split(' '))\n",
    "print(S.isdigit())\n",
    "print(S.lower())\n",
    "print(S.endswith('spam'))\n",
    "print('spam'.join(S))\n",
    "S.encode('latin-1')\n",
    "for  x in S:print(x)\n",
    "print('spam' in S)\n",
    "print([c*2 for c in S])\n",
    "print(map(ord, S))"
   ]
  },
  {
   "cell_type": "code",
   "execution_count": 287,
   "id": "8255fe09-562d-4fbf-aec2-cf794827de7b",
   "metadata": {},
   "outputs": [
    {
     "data": {
      "text/plain": [
       "('knight\"s', \"knight's\")"
      ]
     },
     "execution_count": 287,
     "metadata": {},
     "output_type": "execute_result"
    }
   ],
   "source": [
    "'knight\"s', \"knight's\""
   ]
  },
  {
   "cell_type": "code",
   "execution_count": 290,
   "id": "dcfae52e-5843-4329-9056-d18c8a97bd36",
   "metadata": {},
   "outputs": [
    {
     "data": {
      "text/plain": [
       "'Meaning of Life'"
      ]
     },
     "execution_count": 290,
     "metadata": {},
     "output_type": "execute_result"
    }
   ],
   "source": [
    "title = \"Meaning \" 'of' \" Life\"\n",
    "title"
   ]
  },
  {
   "cell_type": "code",
   "execution_count": 293,
   "id": "9d3e313d-9b19-443c-a0b4-1f6d79f02ca5",
   "metadata": {},
   "outputs": [
    {
     "data": {
      "text/plain": [
       "(\"knight's\", 'knight\"s')"
      ]
     },
     "execution_count": 293,
     "metadata": {},
     "output_type": "execute_result"
    }
   ],
   "source": [
    "'knight\\'s', \"knight\\\"s\""
   ]
  },
  {
   "cell_type": "code",
   "execution_count": 298,
   "id": "c2a79d89-e6fe-4595-9690-60f0ee207054",
   "metadata": {},
   "outputs": [
    {
     "data": {
      "text/plain": [
       "115"
      ]
     },
     "execution_count": 298,
     "metadata": {},
     "output_type": "execute_result"
    }
   ],
   "source": [
    "ord('s')    #ASCII"
   ]
  },
  {
   "cell_type": "code",
   "execution_count": 299,
   "id": "a7f6ce3e-a0aa-4e15-ae5a-f7953928e265",
   "metadata": {},
   "outputs": [
    {
     "data": {
      "text/plain": [
       "'s'"
      ]
     },
     "execution_count": 299,
     "metadata": {},
     "output_type": "execute_result"
    }
   ],
   "source": [
    "chr(115)    #CHARACTER"
   ]
  },
  {
   "cell_type": "code",
   "execution_count": 301,
   "id": "a22f0684-e8d6-4f89-a9a3-418f888b9c65",
   "metadata": {},
   "outputs": [
    {
     "data": {
      "text/plain": [
       "'6'"
      ]
     },
     "execution_count": 301,
     "metadata": {},
     "output_type": "execute_result"
    }
   ],
   "source": [
    "S = '5'\n",
    "S =chr(ord(S)+1)\n",
    "S"
   ]
  },
  {
   "cell_type": "code",
   "execution_count": 302,
   "id": "9a02cb54-818a-4ece-b4a7-4277c7d97712",
   "metadata": {},
   "outputs": [
    {
     "data": {
      "text/plain": [
       "'7'"
      ]
     },
     "execution_count": 302,
     "metadata": {},
     "output_type": "execute_result"
    }
   ],
   "source": [
    "S =chr(ord(S)+1)\n",
    "S"
   ]
  },
  {
   "cell_type": "code",
   "execution_count": 303,
   "id": "0e0b222e-2bac-41cc-9f09-d0322323046f",
   "metadata": {},
   "outputs": [
    {
     "data": {
      "text/plain": [
       "5"
      ]
     },
     "execution_count": 303,
     "metadata": {},
     "output_type": "execute_result"
    }
   ],
   "source": [
    "int('5')\n"
   ]
  },
  {
   "cell_type": "code",
   "execution_count": 304,
   "id": "6d5c8e6b-3132-41b7-a308-45c3c1cecd72",
   "metadata": {},
   "outputs": [
    {
     "data": {
      "text/plain": [
       "5"
      ]
     },
     "execution_count": 304,
     "metadata": {},
     "output_type": "execute_result"
    }
   ],
   "source": [
    "ord('5')-ord('0')"
   ]
  },
  {
   "cell_type": "code",
   "execution_count": 305,
   "id": "a55557f9-9790-48b1-a3f6-78efccbaea54",
   "metadata": {},
   "outputs": [
    {
     "name": "stdout",
     "output_type": "stream",
     "text": [
      "2409260268304\n",
      "spamalot\n",
      "2409255077104\n"
     ]
    }
   ],
   "source": [
    "S = 'splot'\n",
    "print(id(S))\n",
    "S=S.replace('pl', 'pamal')\n",
    "print(S)\n",
    "print(id(S))"
   ]
  },
  {
   "cell_type": "code",
   "execution_count": 306,
   "id": "f34c5c75-7dc6-4a5f-8ba6-a14d8b24a4f0",
   "metadata": {},
   "outputs": [
    {
     "data": {
      "text/plain": [
       "'That is 1 dead bird!'"
      ]
     },
     "execution_count": 306,
     "metadata": {},
     "output_type": "execute_result"
    }
   ],
   "source": [
    "\"That is %d %s bird!\"%(1, 'dead')\n"
   ]
  },
  {
   "cell_type": "code",
   "execution_count": 307,
   "id": "3ea20361-4c00-4b8a-b595-830016f46547",
   "metadata": {},
   "outputs": [
    {
     "data": {
      "text/plain": [
       "'That is 1 dead bird!'"
      ]
     },
     "execution_count": 307,
     "metadata": {},
     "output_type": "execute_result"
    }
   ],
   "source": [
    "\"That is {0} {1} bird!\".format(1, 'dead')"
   ]
  },
  {
   "cell_type": "code",
   "execution_count": 308,
   "id": "89c6c51c-2a7a-46e1-a150-b7a31ace9aa0",
   "metadata": {},
   "outputs": [
    {
     "data": {
      "text/plain": [
       "4"
      ]
     },
     "execution_count": 308,
     "metadata": {},
     "output_type": "execute_result"
    }
   ],
   "source": [
    "S = 'xxxxSPAMxxxxSPAMxxxx'\n",
    "where = S.find(\"SPAM\")\n",
    "where"
   ]
  },
  {
   "cell_type": "code",
   "execution_count": null,
   "id": "fc91eef6-318a-4e06-96ec-eee95db4c7cf",
   "metadata": {},
   "outputs": [],
   "source": [
    "S = S[:where] + 'eggs'"
   ]
  }
 ],
 "metadata": {
  "kernelspec": {
   "display_name": "Python 3 (ipykernel)",
   "language": "python",
   "name": "python3"
  },
  "language_info": {
   "codemirror_mode": {
    "name": "ipython",
    "version": 3
   },
   "file_extension": ".py",
   "mimetype": "text/x-python",
   "name": "python",
   "nbconvert_exporter": "python",
   "pygments_lexer": "ipython3",
   "version": "3.12.1"
  }
 },
 "nbformat": 4,
 "nbformat_minor": 5
}
