{
 "cells": [
  {
   "cell_type": "markdown",
   "id": "a2e46ca4-10d4-4c15-a20c-7f16bc0d2f4e",
   "metadata": {},
   "source": [
    "# Basic Python Programming"
   ]
  },
  {
   "cell_type": "code",
   "execution_count": 1,
   "id": "d1a87e0c-5e00-45f6-bc7c-8e4b1ee5dde2",
   "metadata": {},
   "outputs": [
    {
     "name": "stdin",
     "output_type": "stream",
     "text": [
      "Enter luggage weight 26\n"
     ]
    },
    {
     "name": "stdout",
     "output_type": "stream",
     "text": [
      "Check-in Cleared\n"
     ]
    }
   ],
   "source": [
    "airline=\"AirIndia\"\n",
    "luggage_limit=int(input(\"Enter luggage weight\"))\n",
    "AI_weight_limit=30\n",
    "EM_weight_limit=35\n",
    "\n",
    "if(airline==\"AirIndia\"):\n",
    "    if(luggage_limit<=AI_weight_limit ):\n",
    "        print(\"Check-in Cleared\")\n",
    "    else:\n",
    "        print(\"Remove some luggage and come back\")\n",
    "elif(airline==\"Emirates\"):\n",
    "    if(luggage_limit<=EM_weight_limit):\n",
    "        print(\"Check in Cleared\")\n",
    "    else:\n",
    "        print(\"Remove some luggage and come back\")\n",
    "else:\n",
    "    print(\"Invalid airline\")"
   ]
  },
  {
   "cell_type": "code",
   "execution_count": 2,
   "id": "6a411a83-cd82-4bbc-9f54-f1198b82d953",
   "metadata": {},
   "outputs": [
    {
     "name": "stdout",
     "output_type": "stream",
     "text": [
      "Ticket Numbers of the passenger:\n",
      "T- 1001\n",
      "T- 1002\n",
      "T- 1003\n"
     ]
    }
   ],
   "source": [
    "no_of_passengers=3\n",
    "ticket_number=1001\n",
    "print(\"Ticket Numbers of the passenger:\")\n",
    "while(no_of_passengers>0):\n",
    "    print(\"T-\", ticket_number)\n",
    "    ticket_number+=1\n",
    "    no_of_passengers-=1"
   ]
  },
  {
   "cell_type": "code",
   "execution_count": 3,
   "id": "529ddb80-395d-4069-855a-1496b7df41b3",
   "metadata": {},
   "outputs": [
    {
     "name": "stdout",
     "output_type": "stream",
     "text": [
      "Ticket Numbers of the passenger:\n",
      "T- 1004\n"
     ]
    }
   ],
   "source": [
    "no_of_passengers=3\n",
    "ticket_number=1001\n",
    "print(\"Ticket Numbers of the passenger:\")\n",
    "while(no_of_passengers>0):\n",
    "    ticket_number+=1\n",
    "    no_of_passengers-=1\n",
    "print(\"T-\", ticket_number)\n"
   ]
  },
  {
   "cell_type": "markdown",
   "id": "5ab0e2d2-783e-469e-afad-6ed4d3addc2b",
   "metadata": {},
   "source": [
    "## What is Python?\n",
    "\n",
    "Python is open-sourced, interpreted, object-oriented, high-level programming language with dynamic cementics"
   ]
  },
  {
   "cell_type": "code",
   "execution_count": 4,
   "id": "eb7e9a5b-6cdb-426d-9179-3f11fd4cad53",
   "metadata": {},
   "outputs": [
    {
     "name": "stdout",
     "output_type": "stream",
     "text": [
      "The Zen of Python, by Tim Peters\n",
      "\n",
      "Beautiful is better than ugly.\n",
      "Explicit is better than implicit.\n",
      "Simple is better than complex.\n",
      "Complex is better than complicated.\n",
      "Flat is better than nested.\n",
      "Sparse is better than dense.\n",
      "Readability counts.\n",
      "Special cases aren't special enough to break the rules.\n",
      "Although practicality beats purity.\n",
      "Errors should never pass silently.\n",
      "Unless explicitly silenced.\n",
      "In the face of ambiguity, refuse the temptation to guess.\n",
      "There should be one-- and preferably only one --obvious way to do it.\n",
      "Although that way may not be obvious at first unless you're Dutch.\n",
      "Now is better than never.\n",
      "Although never is often better than *right* now.\n",
      "If the implementation is hard to explain, it's a bad idea.\n",
      "If the implementation is easy to explain, it may be a good idea.\n",
      "Namespaces are one honking great idea -- let's do more of those!\n"
     ]
    }
   ],
   "source": [
    "import this"
   ]
  },
  {
   "cell_type": "markdown",
   "id": "2d7c42c0-c4cd-47a4-9355-a93931f12531",
   "metadata": {},
   "source": [
    "## Actual print syntax\n",
    "print(*objects, sep='', end=\"\\n\", file=sys.stdout, flush=False)"
   ]
  },
  {
   "cell_type": "code",
   "execution_count": 5,
   "id": "3bacc7da-b564-47bd-8f1e-4c3f956964d4",
   "metadata": {},
   "outputs": [
    {
     "name": "stdout",
     "output_type": "stream",
     "text": [
      "3.141592653589793\n"
     ]
    }
   ],
   "source": [
    "from math import pi\n",
    "print(pi)"
   ]
  },
  {
   "cell_type": "markdown",
   "id": "8ab8e41e-4e0d-4e3f-aa0f-4d180a70bacf",
   "metadata": {},
   "source": [
    "Code for Christmas Tree using numpy library and Simple For loop"
   ]
  },
  {
   "cell_type": "code",
   "execution_count": 6,
   "id": "02354866-4bed-4f51-88e2-c44b6cdabbd5",
   "metadata": {},
   "outputs": [
    {
     "name": "stdout",
     "output_type": "stream",
     "text": [
      "               *\n",
      "              ***\n",
      "             *****\n",
      "            *******\n",
      "           *********\n",
      "          ***********\n",
      "         *************\n",
      "        ***************\n",
      "       *****************\n",
      "              | | \n",
      "              | | \n",
      "              | | \n",
      "            (======)\n"
     ]
    }
   ],
   "source": [
    "import numpy as np\n",
    "x= np.arange(7,16)\n",
    "y= np.arange(1,18,2)\n",
    "z=np.column_stack((x[::-1],y))\n",
    "for i, j in z:\n",
    "    print(' '*i+'*'*j)\n",
    "for r in range(3):\n",
    "    print(' '*13, '| | ')\n",
    "print(' '*12, end=\"(======)\")\n",
    "print('')"
   ]
  },
  {
   "cell_type": "markdown",
   "id": "2a3958d6-1447-4d7d-a21c-25e0095a59ba",
   "metadata": {},
   "source": [
    "import turtle\n",
    "t=turtle.Turtle()\n",
    "s=turtle.Screen()\n",
    "s.bgcolor(\"Black\")\n",
    "t.width(2)\n",
    "t.speed(15)\n",
    "\n",
    "col=('white', 'white', 'white')\n",
    "for i in range(100):\n",
    "    t.pencolor(col[i%3])\n",
    "    t.forward(i*4)\n",
    "    t.right(121)"
   ]
  },
  {
   "cell_type": "code",
   "execution_count": 7,
   "id": "7a9c99bb-e165-40ed-a7fe-d0bcff3155e0",
   "metadata": {},
   "outputs": [
    {
     "data": {
      "text/plain": [
       "'\\nHello world\\nwe can print multiline comment on terminal\\n'"
      ]
     },
     "execution_count": 7,
     "metadata": {},
     "output_type": "execute_result"
    }
   ],
   "source": [
    "'''\n",
    "Hello world\n",
    "we can print multiline comment on terminal\n",
    "'''\n",
    "\n",
    "__doc__"
   ]
  },
  {
   "cell_type": "markdown",
   "id": "c919387c-8deb-45ad-b283-54f67bfdc2bd",
   "metadata": {},
   "source": [
    "Class name= TitleCase MyClass\n",
    "FUnction name= lowercase myfunction"
   ]
  },
  {
   "cell_type": "code",
   "execution_count": 8,
   "id": "749c68d3-4124-4109-b8a8-377f34cf989c",
   "metadata": {},
   "outputs": [
    {
     "name": "stdout",
     "output_type": "stream",
     "text": [
      "\n",
      "Here is a list of the Python keywords.  Enter any keyword to get more help.\n",
      "\n",
      "False               class               from                or\n",
      "None                continue            global              pass\n",
      "True                def                 if                  raise\n",
      "and                 del                 import              return\n",
      "as                  elif                in                  try\n",
      "assert              else                is                  while\n",
      "async               except              lambda              with\n",
      "await               finally             nonlocal            yield\n",
      "break               for                 not                 \n",
      "\n"
     ]
    }
   ],
   "source": [
    "help(\"keywords\")"
   ]
  },
  {
   "cell_type": "code",
   "execution_count": 9,
   "id": "037b7441-34b6-4cbd-9f0e-10a7a34ac807",
   "metadata": {},
   "outputs": [
    {
     "data": {
      "text/plain": [
       "140704081724952"
      ]
     },
     "execution_count": 9,
     "metadata": {},
     "output_type": "execute_result"
    }
   ],
   "source": [
    "x=100\n",
    "id(x)"
   ]
  },
  {
   "cell_type": "code",
   "execution_count": 10,
   "id": "542cdd4d-08c4-4ad7-ac21-31233a148a59",
   "metadata": {},
   "outputs": [
    {
     "data": {
      "text/plain": [
       "1937778348448"
      ]
     },
     "execution_count": 10,
     "metadata": {},
     "output_type": "execute_result"
    }
   ],
   "source": [
    "_greet=\"Hello\"\n",
    "id(_greet)"
   ]
  },
  {
   "cell_type": "markdown",
   "id": "145d497f-705f-4da5-ae2c-7b9d1521be02",
   "metadata": {},
   "source": [
    "## Working with JSON notation"
   ]
  },
  {
   "cell_type": "code",
   "execution_count": 11,
   "id": "ef475e3d-35b2-4ac9-8f18-368d0e732110",
   "metadata": {},
   "outputs": [
    {
     "name": "stderr",
     "output_type": "stream",
     "text": [
      "C:\\Users\\uSER\\AppData\\Local\\Temp\\ipykernel_3400\\857451209.py:1: DeprecationWarning: \n",
      "Pyarrow will become a required dependency of pandas in the next major release of pandas (pandas 3.0),\n",
      "(to allow more performant data types, such as the Arrow string type, and better interoperability with other libraries)\n",
      "but was not found to be installed on your system.\n",
      "If this would cause problems for you,\n",
      "please provide us feedback at https://github.com/pandas-dev/pandas/issues/54466\n",
      "        \n",
      "  import pandas as pd\n"
     ]
    }
   ],
   "source": [
    "import pandas as pd\n",
    "import warnings \n",
    "warnings.filterwarnings(\"ignore\")"
   ]
  },
  {
   "cell_type": "code",
   "execution_count": 12,
   "id": "274c91c1-fae2-41c6-81fb-a45f414a8c70",
   "metadata": {},
   "outputs": [
    {
     "data": {
      "text/html": [
       "<div>\n",
       "<style scoped>\n",
       "    .dataframe tbody tr th:only-of-type {\n",
       "        vertical-align: middle;\n",
       "    }\n",
       "\n",
       "    .dataframe tbody tr th {\n",
       "        vertical-align: top;\n",
       "    }\n",
       "\n",
       "    .dataframe thead th {\n",
       "        text-align: right;\n",
       "    }\n",
       "</style>\n",
       "<table border=\"1\" class=\"dataframe\">\n",
       "  <thead>\n",
       "    <tr style=\"text-align: right;\">\n",
       "      <th></th>\n",
       "      <th>provider</th>\n",
       "      <th>WARNING_UPGRADE_TO_V6</th>\n",
       "      <th>terms</th>\n",
       "      <th>base</th>\n",
       "      <th>date</th>\n",
       "      <th>time_last_updated</th>\n",
       "      <th>rates</th>\n",
       "    </tr>\n",
       "  </thead>\n",
       "  <tbody>\n",
       "    <tr>\n",
       "      <th>INR</th>\n",
       "      <td>https://www.exchangerate-api.com</td>\n",
       "      <td>https://www.exchangerate-api.com/docs/free</td>\n",
       "      <td>https://www.exchangerate-api.com/terms</td>\n",
       "      <td>INR</td>\n",
       "      <td>2024-06-20</td>\n",
       "      <td>1718841601</td>\n",
       "      <td>1.000</td>\n",
       "    </tr>\n",
       "    <tr>\n",
       "      <th>AED</th>\n",
       "      <td>https://www.exchangerate-api.com</td>\n",
       "      <td>https://www.exchangerate-api.com/docs/free</td>\n",
       "      <td>https://www.exchangerate-api.com/terms</td>\n",
       "      <td>INR</td>\n",
       "      <td>2024-06-20</td>\n",
       "      <td>1718841601</td>\n",
       "      <td>0.044</td>\n",
       "    </tr>\n",
       "    <tr>\n",
       "      <th>AFN</th>\n",
       "      <td>https://www.exchangerate-api.com</td>\n",
       "      <td>https://www.exchangerate-api.com/docs/free</td>\n",
       "      <td>https://www.exchangerate-api.com/terms</td>\n",
       "      <td>INR</td>\n",
       "      <td>2024-06-20</td>\n",
       "      <td>1718841601</td>\n",
       "      <td>0.848</td>\n",
       "    </tr>\n",
       "    <tr>\n",
       "      <th>ALL</th>\n",
       "      <td>https://www.exchangerate-api.com</td>\n",
       "      <td>https://www.exchangerate-api.com/docs/free</td>\n",
       "      <td>https://www.exchangerate-api.com/terms</td>\n",
       "      <td>INR</td>\n",
       "      <td>2024-06-20</td>\n",
       "      <td>1718841601</td>\n",
       "      <td>1.120</td>\n",
       "    </tr>\n",
       "    <tr>\n",
       "      <th>AMD</th>\n",
       "      <td>https://www.exchangerate-api.com</td>\n",
       "      <td>https://www.exchangerate-api.com/docs/free</td>\n",
       "      <td>https://www.exchangerate-api.com/terms</td>\n",
       "      <td>INR</td>\n",
       "      <td>2024-06-20</td>\n",
       "      <td>1718841601</td>\n",
       "      <td>4.660</td>\n",
       "    </tr>\n",
       "    <tr>\n",
       "      <th>...</th>\n",
       "      <td>...</td>\n",
       "      <td>...</td>\n",
       "      <td>...</td>\n",
       "      <td>...</td>\n",
       "      <td>...</td>\n",
       "      <td>...</td>\n",
       "      <td>...</td>\n",
       "    </tr>\n",
       "    <tr>\n",
       "      <th>XPF</th>\n",
       "      <td>https://www.exchangerate-api.com</td>\n",
       "      <td>https://www.exchangerate-api.com/docs/free</td>\n",
       "      <td>https://www.exchangerate-api.com/terms</td>\n",
       "      <td>INR</td>\n",
       "      <td>2024-06-20</td>\n",
       "      <td>1718841601</td>\n",
       "      <td>1.330</td>\n",
       "    </tr>\n",
       "    <tr>\n",
       "      <th>YER</th>\n",
       "      <td>https://www.exchangerate-api.com</td>\n",
       "      <td>https://www.exchangerate-api.com/docs/free</td>\n",
       "      <td>https://www.exchangerate-api.com/terms</td>\n",
       "      <td>INR</td>\n",
       "      <td>2024-06-20</td>\n",
       "      <td>1718841601</td>\n",
       "      <td>3.000</td>\n",
       "    </tr>\n",
       "    <tr>\n",
       "      <th>ZAR</th>\n",
       "      <td>https://www.exchangerate-api.com</td>\n",
       "      <td>https://www.exchangerate-api.com/docs/free</td>\n",
       "      <td>https://www.exchangerate-api.com/terms</td>\n",
       "      <td>INR</td>\n",
       "      <td>2024-06-20</td>\n",
       "      <td>1718841601</td>\n",
       "      <td>0.216</td>\n",
       "    </tr>\n",
       "    <tr>\n",
       "      <th>ZMW</th>\n",
       "      <td>https://www.exchangerate-api.com</td>\n",
       "      <td>https://www.exchangerate-api.com/docs/free</td>\n",
       "      <td>https://www.exchangerate-api.com/terms</td>\n",
       "      <td>INR</td>\n",
       "      <td>2024-06-20</td>\n",
       "      <td>1718841601</td>\n",
       "      <td>0.308</td>\n",
       "    </tr>\n",
       "    <tr>\n",
       "      <th>ZWL</th>\n",
       "      <td>https://www.exchangerate-api.com</td>\n",
       "      <td>https://www.exchangerate-api.com/docs/free</td>\n",
       "      <td>https://www.exchangerate-api.com/terms</td>\n",
       "      <td>INR</td>\n",
       "      <td>2024-06-20</td>\n",
       "      <td>1718841601</td>\n",
       "      <td>0.162</td>\n",
       "    </tr>\n",
       "  </tbody>\n",
       "</table>\n",
       "<p>162 rows × 7 columns</p>\n",
       "</div>"
      ],
      "text/plain": [
       "                             provider  \\\n",
       "INR  https://www.exchangerate-api.com   \n",
       "AED  https://www.exchangerate-api.com   \n",
       "AFN  https://www.exchangerate-api.com   \n",
       "ALL  https://www.exchangerate-api.com   \n",
       "AMD  https://www.exchangerate-api.com   \n",
       "..                                ...   \n",
       "XPF  https://www.exchangerate-api.com   \n",
       "YER  https://www.exchangerate-api.com   \n",
       "ZAR  https://www.exchangerate-api.com   \n",
       "ZMW  https://www.exchangerate-api.com   \n",
       "ZWL  https://www.exchangerate-api.com   \n",
       "\n",
       "                          WARNING_UPGRADE_TO_V6  \\\n",
       "INR  https://www.exchangerate-api.com/docs/free   \n",
       "AED  https://www.exchangerate-api.com/docs/free   \n",
       "AFN  https://www.exchangerate-api.com/docs/free   \n",
       "ALL  https://www.exchangerate-api.com/docs/free   \n",
       "AMD  https://www.exchangerate-api.com/docs/free   \n",
       "..                                          ...   \n",
       "XPF  https://www.exchangerate-api.com/docs/free   \n",
       "YER  https://www.exchangerate-api.com/docs/free   \n",
       "ZAR  https://www.exchangerate-api.com/docs/free   \n",
       "ZMW  https://www.exchangerate-api.com/docs/free   \n",
       "ZWL  https://www.exchangerate-api.com/docs/free   \n",
       "\n",
       "                                      terms base       date  \\\n",
       "INR  https://www.exchangerate-api.com/terms  INR 2024-06-20   \n",
       "AED  https://www.exchangerate-api.com/terms  INR 2024-06-20   \n",
       "AFN  https://www.exchangerate-api.com/terms  INR 2024-06-20   \n",
       "ALL  https://www.exchangerate-api.com/terms  INR 2024-06-20   \n",
       "AMD  https://www.exchangerate-api.com/terms  INR 2024-06-20   \n",
       "..                                      ...  ...        ...   \n",
       "XPF  https://www.exchangerate-api.com/terms  INR 2024-06-20   \n",
       "YER  https://www.exchangerate-api.com/terms  INR 2024-06-20   \n",
       "ZAR  https://www.exchangerate-api.com/terms  INR 2024-06-20   \n",
       "ZMW  https://www.exchangerate-api.com/terms  INR 2024-06-20   \n",
       "ZWL  https://www.exchangerate-api.com/terms  INR 2024-06-20   \n",
       "\n",
       "     time_last_updated  rates  \n",
       "INR         1718841601  1.000  \n",
       "AED         1718841601  0.044  \n",
       "AFN         1718841601  0.848  \n",
       "ALL         1718841601  1.120  \n",
       "AMD         1718841601  4.660  \n",
       "..                 ...    ...  \n",
       "XPF         1718841601  1.330  \n",
       "YER         1718841601  3.000  \n",
       "ZAR         1718841601  0.216  \n",
       "ZMW         1718841601  0.308  \n",
       "ZWL         1718841601  0.162  \n",
       "\n",
       "[162 rows x 7 columns]"
      ]
     },
     "execution_count": 12,
     "metadata": {},
     "output_type": "execute_result"
    }
   ],
   "source": [
    "pd.read_json(\"https://api.exchangerate-api.com/v4/latest/INR\")"
   ]
  },
  {
   "cell_type": "code",
   "execution_count": 13,
   "id": "476eb129-4239-4369-bdf5-f16d7e70881d",
   "metadata": {},
   "outputs": [],
   "source": [
    "import requests"
   ]
  },
  {
   "cell_type": "code",
   "execution_count": 24,
   "id": "1ea28bf0-7828-47ca-935a-74485ad67d32",
   "metadata": {},
   "outputs": [],
   "source": [
    "response = requests.get('https://api.themoviedb.org/3/movie/top_rated?api_key=8265bd1679663a7ea12ac168da84d2e8&language=en-US&page=1')"
   ]
  },
  {
   "cell_type": "code",
   "execution_count": 25,
   "id": "cbdf2850-019c-41ea-b719-a799feed9b70",
   "metadata": {},
   "outputs": [],
   "source": [
    "temp_df = pd.DataFrame(response.json()['results'])[['id', 'title', 'overview', 'release_date', 'popularity', 'vote_average','vote_count']]"
   ]
  },
  {
   "cell_type": "code",
   "execution_count": 26,
   "id": "413c775c-fd08-42f0-a37d-b0d24b8cc092",
   "metadata": {},
   "outputs": [
    {
     "data": {
      "text/html": [
       "<div>\n",
       "<style scoped>\n",
       "    .dataframe tbody tr th:only-of-type {\n",
       "        vertical-align: middle;\n",
       "    }\n",
       "\n",
       "    .dataframe tbody tr th {\n",
       "        vertical-align: top;\n",
       "    }\n",
       "\n",
       "    .dataframe thead th {\n",
       "        text-align: right;\n",
       "    }\n",
       "</style>\n",
       "<table border=\"1\" class=\"dataframe\">\n",
       "  <thead>\n",
       "    <tr style=\"text-align: right;\">\n",
       "      <th></th>\n",
       "      <th>id</th>\n",
       "      <th>title</th>\n",
       "      <th>overview</th>\n",
       "      <th>release_date</th>\n",
       "      <th>popularity</th>\n",
       "      <th>vote_average</th>\n",
       "      <th>vote_count</th>\n",
       "    </tr>\n",
       "  </thead>\n",
       "  <tbody>\n",
       "    <tr>\n",
       "      <th>0</th>\n",
       "      <td>278</td>\n",
       "      <td>The Shawshank Redemption</td>\n",
       "      <td>Imprisoned in the 1940s for the double murder ...</td>\n",
       "      <td>1994-09-23</td>\n",
       "      <td>145.867</td>\n",
       "      <td>8.700</td>\n",
       "      <td>26326</td>\n",
       "    </tr>\n",
       "    <tr>\n",
       "      <th>1</th>\n",
       "      <td>238</td>\n",
       "      <td>The Godfather</td>\n",
       "      <td>Spanning the years 1945 to 1955, a chronicle o...</td>\n",
       "      <td>1972-03-14</td>\n",
       "      <td>117.514</td>\n",
       "      <td>8.694</td>\n",
       "      <td>19968</td>\n",
       "    </tr>\n",
       "    <tr>\n",
       "      <th>2</th>\n",
       "      <td>240</td>\n",
       "      <td>The Godfather Part II</td>\n",
       "      <td>In the continuing saga of the Corleone crime f...</td>\n",
       "      <td>1974-12-20</td>\n",
       "      <td>105.931</td>\n",
       "      <td>8.577</td>\n",
       "      <td>12060</td>\n",
       "    </tr>\n",
       "    <tr>\n",
       "      <th>3</th>\n",
       "      <td>424</td>\n",
       "      <td>Schindler's List</td>\n",
       "      <td>The true story of how businessman Oskar Schind...</td>\n",
       "      <td>1993-12-15</td>\n",
       "      <td>75.386</td>\n",
       "      <td>8.568</td>\n",
       "      <td>15462</td>\n",
       "    </tr>\n",
       "    <tr>\n",
       "      <th>4</th>\n",
       "      <td>389</td>\n",
       "      <td>12 Angry Men</td>\n",
       "      <td>The defense and the prosecution have rested an...</td>\n",
       "      <td>1957-04-10</td>\n",
       "      <td>61.397</td>\n",
       "      <td>8.544</td>\n",
       "      <td>8312</td>\n",
       "    </tr>\n",
       "    <tr>\n",
       "      <th>5</th>\n",
       "      <td>129</td>\n",
       "      <td>Spirited Away</td>\n",
       "      <td>A young girl, Chihiro, becomes trapped in a st...</td>\n",
       "      <td>2001-07-20</td>\n",
       "      <td>105.356</td>\n",
       "      <td>8.538</td>\n",
       "      <td>16027</td>\n",
       "    </tr>\n",
       "    <tr>\n",
       "      <th>6</th>\n",
       "      <td>19404</td>\n",
       "      <td>Dilwale Dulhania Le Jayenge</td>\n",
       "      <td>Raj is a rich, carefree, happy-go-lucky second...</td>\n",
       "      <td>1995-10-20</td>\n",
       "      <td>38.662</td>\n",
       "      <td>8.537</td>\n",
       "      <td>4399</td>\n",
       "    </tr>\n",
       "    <tr>\n",
       "      <th>7</th>\n",
       "      <td>155</td>\n",
       "      <td>The Dark Knight</td>\n",
       "      <td>Batman raises the stakes in his war on crime. ...</td>\n",
       "      <td>2008-07-16</td>\n",
       "      <td>121.851</td>\n",
       "      <td>8.516</td>\n",
       "      <td>32087</td>\n",
       "    </tr>\n",
       "    <tr>\n",
       "      <th>8</th>\n",
       "      <td>496243</td>\n",
       "      <td>Parasite</td>\n",
       "      <td>All unemployed, Ki-taek's family takes peculia...</td>\n",
       "      <td>2019-05-30</td>\n",
       "      <td>96.017</td>\n",
       "      <td>8.509</td>\n",
       "      <td>17652</td>\n",
       "    </tr>\n",
       "    <tr>\n",
       "      <th>9</th>\n",
       "      <td>497</td>\n",
       "      <td>The Green Mile</td>\n",
       "      <td>A supernatural tale set on death row in a Sout...</td>\n",
       "      <td>1999-12-10</td>\n",
       "      <td>84.663</td>\n",
       "      <td>8.505</td>\n",
       "      <td>16904</td>\n",
       "    </tr>\n",
       "    <tr>\n",
       "      <th>10</th>\n",
       "      <td>372058</td>\n",
       "      <td>Your Name.</td>\n",
       "      <td>High schoolers Mitsuha and Taki are complete s...</td>\n",
       "      <td>2016-08-26</td>\n",
       "      <td>78.522</td>\n",
       "      <td>8.493</td>\n",
       "      <td>11040</td>\n",
       "    </tr>\n",
       "    <tr>\n",
       "      <th>11</th>\n",
       "      <td>680</td>\n",
       "      <td>Pulp Fiction</td>\n",
       "      <td>A burger-loving hit man, his philosophical par...</td>\n",
       "      <td>1994-09-10</td>\n",
       "      <td>269.573</td>\n",
       "      <td>8.488</td>\n",
       "      <td>27252</td>\n",
       "    </tr>\n",
       "    <tr>\n",
       "      <th>12</th>\n",
       "      <td>122</td>\n",
       "      <td>The Lord of the Rings: The Return of the King</td>\n",
       "      <td>As armies mass for a final battle that will de...</td>\n",
       "      <td>2003-12-01</td>\n",
       "      <td>134.019</td>\n",
       "      <td>8.481</td>\n",
       "      <td>23520</td>\n",
       "    </tr>\n",
       "    <tr>\n",
       "      <th>13</th>\n",
       "      <td>13</td>\n",
       "      <td>Forrest Gump</td>\n",
       "      <td>A man with a low IQ has accomplished great thi...</td>\n",
       "      <td>1994-06-23</td>\n",
       "      <td>109.791</td>\n",
       "      <td>8.475</td>\n",
       "      <td>26760</td>\n",
       "    </tr>\n",
       "    <tr>\n",
       "      <th>14</th>\n",
       "      <td>429</td>\n",
       "      <td>The Good, the Bad and the Ugly</td>\n",
       "      <td>While the Civil War rages on between the Union...</td>\n",
       "      <td>1966-12-22</td>\n",
       "      <td>63.728</td>\n",
       "      <td>8.465</td>\n",
       "      <td>8321</td>\n",
       "    </tr>\n",
       "    <tr>\n",
       "      <th>15</th>\n",
       "      <td>769</td>\n",
       "      <td>GoodFellas</td>\n",
       "      <td>The true story of Henry Hill, a half-Irish, ha...</td>\n",
       "      <td>1990-09-12</td>\n",
       "      <td>140.001</td>\n",
       "      <td>8.464</td>\n",
       "      <td>12479</td>\n",
       "    </tr>\n",
       "    <tr>\n",
       "      <th>16</th>\n",
       "      <td>12477</td>\n",
       "      <td>Grave of the Fireflies</td>\n",
       "      <td>In the final months of World War II, 14-year-o...</td>\n",
       "      <td>1988-04-16</td>\n",
       "      <td>0.054</td>\n",
       "      <td>8.461</td>\n",
       "      <td>5286</td>\n",
       "    </tr>\n",
       "    <tr>\n",
       "      <th>17</th>\n",
       "      <td>346</td>\n",
       "      <td>Seven Samurai</td>\n",
       "      <td>A samurai answers a village's request for prot...</td>\n",
       "      <td>1954-04-26</td>\n",
       "      <td>38.460</td>\n",
       "      <td>8.500</td>\n",
       "      <td>3526</td>\n",
       "    </tr>\n",
       "    <tr>\n",
       "      <th>18</th>\n",
       "      <td>11216</td>\n",
       "      <td>Cinema Paradiso</td>\n",
       "      <td>A filmmaker recalls his childhood, when he fel...</td>\n",
       "      <td>1988-11-17</td>\n",
       "      <td>35.160</td>\n",
       "      <td>8.500</td>\n",
       "      <td>4221</td>\n",
       "    </tr>\n",
       "    <tr>\n",
       "      <th>19</th>\n",
       "      <td>637</td>\n",
       "      <td>Life Is Beautiful</td>\n",
       "      <td>A touching story of an Italian book seller of ...</td>\n",
       "      <td>1997-12-20</td>\n",
       "      <td>50.782</td>\n",
       "      <td>8.451</td>\n",
       "      <td>12761</td>\n",
       "    </tr>\n",
       "  </tbody>\n",
       "</table>\n",
       "</div>"
      ],
      "text/plain": [
       "        id                                          title  \\\n",
       "0      278                       The Shawshank Redemption   \n",
       "1      238                                  The Godfather   \n",
       "2      240                          The Godfather Part II   \n",
       "3      424                               Schindler's List   \n",
       "4      389                                   12 Angry Men   \n",
       "5      129                                  Spirited Away   \n",
       "6    19404                    Dilwale Dulhania Le Jayenge   \n",
       "7      155                                The Dark Knight   \n",
       "8   496243                                       Parasite   \n",
       "9      497                                 The Green Mile   \n",
       "10  372058                                     Your Name.   \n",
       "11     680                                   Pulp Fiction   \n",
       "12     122  The Lord of the Rings: The Return of the King   \n",
       "13      13                                   Forrest Gump   \n",
       "14     429                 The Good, the Bad and the Ugly   \n",
       "15     769                                     GoodFellas   \n",
       "16   12477                         Grave of the Fireflies   \n",
       "17     346                                  Seven Samurai   \n",
       "18   11216                                Cinema Paradiso   \n",
       "19     637                              Life Is Beautiful   \n",
       "\n",
       "                                             overview release_date  \\\n",
       "0   Imprisoned in the 1940s for the double murder ...   1994-09-23   \n",
       "1   Spanning the years 1945 to 1955, a chronicle o...   1972-03-14   \n",
       "2   In the continuing saga of the Corleone crime f...   1974-12-20   \n",
       "3   The true story of how businessman Oskar Schind...   1993-12-15   \n",
       "4   The defense and the prosecution have rested an...   1957-04-10   \n",
       "5   A young girl, Chihiro, becomes trapped in a st...   2001-07-20   \n",
       "6   Raj is a rich, carefree, happy-go-lucky second...   1995-10-20   \n",
       "7   Batman raises the stakes in his war on crime. ...   2008-07-16   \n",
       "8   All unemployed, Ki-taek's family takes peculia...   2019-05-30   \n",
       "9   A supernatural tale set on death row in a Sout...   1999-12-10   \n",
       "10  High schoolers Mitsuha and Taki are complete s...   2016-08-26   \n",
       "11  A burger-loving hit man, his philosophical par...   1994-09-10   \n",
       "12  As armies mass for a final battle that will de...   2003-12-01   \n",
       "13  A man with a low IQ has accomplished great thi...   1994-06-23   \n",
       "14  While the Civil War rages on between the Union...   1966-12-22   \n",
       "15  The true story of Henry Hill, a half-Irish, ha...   1990-09-12   \n",
       "16  In the final months of World War II, 14-year-o...   1988-04-16   \n",
       "17  A samurai answers a village's request for prot...   1954-04-26   \n",
       "18  A filmmaker recalls his childhood, when he fel...   1988-11-17   \n",
       "19  A touching story of an Italian book seller of ...   1997-12-20   \n",
       "\n",
       "    popularity  vote_average  vote_count  \n",
       "0      145.867         8.700       26326  \n",
       "1      117.514         8.694       19968  \n",
       "2      105.931         8.577       12060  \n",
       "3       75.386         8.568       15462  \n",
       "4       61.397         8.544        8312  \n",
       "5      105.356         8.538       16027  \n",
       "6       38.662         8.537        4399  \n",
       "7      121.851         8.516       32087  \n",
       "8       96.017         8.509       17652  \n",
       "9       84.663         8.505       16904  \n",
       "10      78.522         8.493       11040  \n",
       "11     269.573         8.488       27252  \n",
       "12     134.019         8.481       23520  \n",
       "13     109.791         8.475       26760  \n",
       "14      63.728         8.465        8321  \n",
       "15     140.001         8.464       12479  \n",
       "16       0.054         8.461        5286  \n",
       "17      38.460         8.500        3526  \n",
       "18      35.160         8.500        4221  \n",
       "19      50.782         8.451       12761  "
      ]
     },
     "execution_count": 26,
     "metadata": {},
     "output_type": "execute_result"
    }
   ],
   "source": [
    "temp_df"
   ]
  },
  {
   "cell_type": "markdown",
   "id": "d0b86a4d-0faa-48fa-9a62-4bcf20fb2b97",
   "metadata": {},
   "source": [
    "Program :\n",
    "\n",
    "\n",
    "Current population of town is 10000. The population of the town is increasing at rate of 10% per year. You have to write program to find out the population at end of each of the last year"
   ]
  },
  {
   "cell_type": "code",
   "execution_count": 28,
   "id": "ccd38272-b77d-4666-befa-82b0c89329c8",
   "metadata": {},
   "outputs": [
    {
     "name": "stdout",
     "output_type": "stream",
     "text": [
      "10 10000\n",
      "9 9090.90909090909\n",
      "8 8264.462809917353\n",
      "7 7513.148009015775\n",
      "6 6830.134553650703\n",
      "5 6209.213230591548\n",
      "4 5644.739300537771\n",
      "3 5131.5811823070635\n",
      "2 4665.07380209733\n",
      "1 4240.976183724845\n"
     ]
    }
   ],
   "source": [
    "curr_population=10000\n",
    "for i in range(10,0,-1):\n",
    "    print(i, curr_population)\n",
    "    curr_population=curr_population/1.1"
   ]
  },
  {
   "cell_type": "markdown",
   "id": "88d2b620-2cc7-4f4f-978f-919652c10941",
   "metadata": {},
   "source": [
    "Code for Printing * in increasing order"
   ]
  },
  {
   "cell_type": "code",
   "execution_count": 35,
   "id": "e5e84da2-a16b-44a6-8381-8a632d180281",
   "metadata": {},
   "outputs": [
    {
     "name": "stdin",
     "output_type": "stream",
     "text": [
      "Enter number of rows: 5\n"
     ]
    },
    {
     "name": "stdout",
     "output_type": "stream",
     "text": [
      "*\n",
      "**\n",
      "***\n",
      "****\n",
      "*****\n",
      "******\n"
     ]
    }
   ],
   "source": [
    "row = int(input(\"Enter number of rows:\"))\n",
    "for i in range(row+1):\n",
    "    for j in range(i+1):\n",
    "        print('*', end='')\n",
    "    print()"
   ]
  },
  {
   "cell_type": "markdown",
   "id": "6ea50c00-2b99-444b-9c58-4c095e16e1e4",
   "metadata": {},
   "source": [
    "Problem 1: Combine two lists index-wise(columns wise)\n",
    "Write a program to add two lists index-wise. Create a new list that contains the 0th index item from both the list, then the 1st index item, and so\r\n",
    "on till the last element. any leftover items will get added at the end of the new list.\n",
    "\r\n",
    "Given Lis\n",
    "t:\r\n",
    "list1 = [\" \", \"na\", \"i\", \"K\n",
    "h\"]\r\n",
    "list2 = [\"y\", \"me\", \"s\",\"]\n",
    "\n",
    "Output:\n",
    "\n",
    "\r\n",
    "[['M','y'], ['na', me'], ['i', 's'], ['Kh', 'an']]an\"]"
   ]
  },
  {
   "cell_type": "code",
   "execution_count": 63,
   "id": "d756aa22-1507-460d-9cd0-eb1e3a36af3d",
   "metadata": {},
   "outputs": [
    {
     "name": "stdout",
     "output_type": "stream",
     "text": [
      "['M', 'y']\n",
      "['na', 'me']\n",
      "['i', 's']\n",
      "['Kh', 'an']\n"
     ]
    }
   ],
   "source": [
    "list1 = [\"M\", \"na\", \"i\", \"Kh\", \"kkk\"]\n",
    "list2 = [\"y\", \"me\", \"s\", \"an\"]\n",
    "List=[15]\n",
    "index=0\n",
    "\n",
    "if(len(list1)>len(list2)):\n",
    "    for i in range(len(list2)):\n",
    "        for j in range(len(list1)):\n",
    "            List[index]=[list1[i], list2[i]]\n",
    "        print(List[index])\n",
    "    \n",
    "elif(len(list2)>len(list1)):\n",
    "    for i in range(len(list1)):\n",
    "        for j in range(len(list2)):\n",
    "            List[index]=[list1[i], list2[j]]\n",
    "        print(List[index])\n"
   ]
  },
  {
   "cell_type": "code",
   "execution_count": null,
   "id": "fbf0094b-f994-41ba-8d96-1f30b5e190bb",
   "metadata": {},
   "outputs": [],
   "source": []
  },
  {
   "cell_type": "code",
   "execution_count": null,
   "id": "afac8a41-f460-4c09-a111-0d68fe9e95e9",
   "metadata": {},
   "outputs": [],
   "source": []
  },
  {
   "cell_type": "code",
   "execution_count": null,
   "id": "c62837b4-a9bb-4993-af09-294e89f14e95",
   "metadata": {},
   "outputs": [],
   "source": []
  },
  {
   "cell_type": "code",
   "execution_count": null,
   "id": "2a2518c3-9d1e-4ff8-aaea-479d96d2d334",
   "metadata": {},
   "outputs": [],
   "source": []
  },
  {
   "cell_type": "code",
   "execution_count": null,
   "id": "195aa645-402d-4f1d-bea3-6872438df8b8",
   "metadata": {},
   "outputs": [],
   "source": []
  },
  {
   "cell_type": "code",
   "execution_count": null,
   "id": "4764dbba-b608-4859-b0cd-136a1ff618ca",
   "metadata": {},
   "outputs": [],
   "source": []
  },
  {
   "cell_type": "code",
   "execution_count": null,
   "id": "927c9f0c-dbbd-4351-a6f1-f17fe391f99b",
   "metadata": {},
   "outputs": [],
   "source": []
  }
 ],
 "metadata": {
  "kernelspec": {
   "display_name": "Python 3 (ipykernel)",
   "language": "python",
   "name": "python3"
  },
  "language_info": {
   "codemirror_mode": {
    "name": "ipython",
    "version": 3
   },
   "file_extension": ".py",
   "mimetype": "text/x-python",
   "name": "python",
   "nbconvert_exporter": "python",
   "pygments_lexer": "ipython3",
   "version": "3.12.1"
  }
 },
 "nbformat": 4,
 "nbformat_minor": 5
}
