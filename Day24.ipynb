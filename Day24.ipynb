{
 "cells": [
  {
   "cell_type": "markdown",
   "id": "5e1b9f15-94f3-4c74-9392-a9e22bb1b3a5",
   "metadata": {},
   "source": [
    "For instance, consider a hypothetical scenario where we have test scores from a sample of students and we want to compare the mean of these scores with a hypothesized population mean. Let’s assume the population mean is 70."
   ]
  },
  {
   "cell_type": "code",
   "execution_count": 1,
   "id": "7fa6b78c-9ce0-4cde-a869-637e372db992",
   "metadata": {},
   "outputs": [],
   "source": [
    "import numpy as np\n",
    "from scipy import stats\n"
   ]
  },
  {
   "cell_type": "code",
   "execution_count": 2,
   "id": "2522fec8-71c7-4165-bd79-6a07719a70b2",
   "metadata": {},
   "outputs": [],
   "source": [
    "student_scores = np.array([72, 89, 65, 73, 79, 84, 63, 76, 85, 75])\n"
   ]
  },
  {
   "cell_type": "code",
   "execution_count": 3,
   "id": "89e315d1-075c-433d-8b7e-5f1ab3a2c79b",
   "metadata": {},
   "outputs": [],
   "source": [
    "mu = 70"
   ]
  },
  {
   "cell_type": "code",
   "execution_count": 4,
   "id": "978c0f8a-ddf5-450d-9b20-c1cfe62d4216",
   "metadata": {},
   "outputs": [
    {
     "name": "stdout",
     "output_type": "stream",
     "text": [
      "T Statistic: 2.2894683580127317\n",
      "P Value: 0.047816221110566944\n"
     ]
    }
   ],
   "source": [
    "t_stat, p_value = stats.ttest_1samp(student_scores, mu)\n",
    "print(\"T Statistic:\", t_stat)\n",
    "print(\"P Value:\", p_value)"
   ]
  },
  {
   "cell_type": "code",
   "execution_count": 5,
   "id": "28003149-508e-44c0-a4f6-eb8488d1d835",
   "metadata": {},
   "outputs": [
    {
     "name": "stdout",
     "output_type": "stream",
     "text": [
      "Reject Null Hypothesis; There is a significant difference between the Sample mean and Hypothesised Population mean\n"
     ]
    }
   ],
   "source": [
    "alpha = 0.05\n",
    "\n",
    "if (p_value < alpha):\n",
    "    print(\"Reject Null Hypothesis; There is a significant difference between the Sample mean and Hypothesised Population mean\")\n",
    "else:\n",
    "    print(\"Fail to reject Null Hypothesis; There is no significant difference between the Sample mean and Hypothesised Population mean\")"
   ]
  },
  {
   "cell_type": "markdown",
   "id": "08cec3ed-dc9a-4481-b318-e4e85d917dbd",
   "metadata": {},
   "source": [
    "### T Test For 2 Sample"
   ]
  },
  {
   "cell_type": "code",
   "execution_count": 7,
   "id": "6a8eb8c8-1968-4194-8194-e9f088d9ae26",
   "metadata": {},
   "outputs": [],
   "source": [
    "import seaborn as sns\n",
    "iris = sns.load_dataset(\"iris\")"
   ]
  },
  {
   "cell_type": "code",
   "execution_count": 9,
   "id": "3dcacca5-cb6a-48e6-9a04-59f41b742db3",
   "metadata": {},
   "outputs": [],
   "source": [
    "setosa = iris[iris[\"species\"] == 'setosa']\n",
    "versicolor = iris[iris[\"species\"] == 'versicolor']\n"
   ]
  },
  {
   "cell_type": "code",
   "execution_count": 10,
   "id": "2059eeef-6837-4474-bdbc-6722e478b262",
   "metadata": {},
   "outputs": [],
   "source": [
    "setosa_petal_lengths = setosa[\"petal_length\"]\n",
    "versicolor_petal_lengths = versicolor[\"petal_length\"]"
   ]
  },
  {
   "cell_type": "code",
   "execution_count": 11,
   "id": "5e6f56dd-1ba7-4cc2-9880-6864772f4711",
   "metadata": {},
   "outputs": [],
   "source": [
    "t_test, p_value = stats.ttest_ind(setosa_petal_lengths, versicolor_petal_lengths)"
   ]
  },
  {
   "cell_type": "code",
   "execution_count": 12,
   "id": "2a36a29b-ee14-4c77-85fc-1ef554e41247",
   "metadata": {},
   "outputs": [],
   "source": [
    "alpha = 0.05"
   ]
  },
  {
   "cell_type": "code",
   "execution_count": 18,
   "id": "e9508ec4-4381-4256-8b4a-4019da486d1c",
   "metadata": {},
   "outputs": [
    {
     "name": "stdout",
     "output_type": "stream",
     "text": [
      "Reject Null Hypothesis; There is a significant difference between the Setosa petal length mean and Versicolor petal length mean\n"
     ]
    }
   ],
   "source": [
    "if p_value < alpha :\n",
    "    print(\"Reject Null Hypothesis; There is a significant difference between the Setosa petal length mean and Versicolor petal length mean\")\n",
    "else:\n",
    "    print(\"Fail to Reject Null Hypothesis; There is a significant difference between the Setosa petal length mean and Versicolor petal length mean\")    "
   ]
  },
  {
   "cell_type": "code",
   "execution_count": 19,
   "id": "5beab0ff-8f71-43e5-add3-b9aca1389341",
   "metadata": {},
   "outputs": [],
   "source": [
    "setosa_petal_widths = setosa[\"petal_width\"]\n",
    "versicolor_petal_widths = versicolor[\"petal_width\"]"
   ]
  },
  {
   "cell_type": "code",
   "execution_count": 20,
   "id": "c97d1178-81dd-46a9-9f43-b57c4d198f0c",
   "metadata": {},
   "outputs": [],
   "source": [
    "t_test, p_value = stats.ttest_ind(setosa_petal_widths, versicolor_petal_widths)"
   ]
  },
  {
   "cell_type": "code",
   "execution_count": 21,
   "id": "65d4a3d6-0bc6-4150-9311-b4d36cb12e0a",
   "metadata": {},
   "outputs": [
    {
     "name": "stdout",
     "output_type": "stream",
     "text": [
      "Reject Null Hypothesis; There is a significant difference between the Setosa petal width mean and Versicolor petal width mean\n"
     ]
    }
   ],
   "source": [
    "if p_value < alpha :\n",
    "    print(\"Reject Null Hypothesis; There is a significant difference between the Setosa petal width mean and Versicolor petal width mean\")\n",
    "else:\n",
    "    print(\"Fail to Reject Null Hypothesis; There is a significant difference between the Setosa petal length mean and Versicolor petal width mean\")    "
   ]
  },
  {
   "cell_type": "markdown",
   "id": "7955374f-21ca-4cb6-a766-2d893d151790",
   "metadata": {},
   "source": [
    "Write a Program to implement stack in python, add function push, pop, delete"
   ]
  },
  {
   "cell_type": "markdown",
   "id": "7ba09292-b0dc-407b-b542-e49caa607043",
   "metadata": {},
   "source": [
    "Write a Program to implement stack in python, add function push, pop, delete"
   ]
  },
  {
   "cell_type": "code",
   "execution_count": 53,
   "id": "f90a5e83-8846-4a2c-b555-8c86b75af67c",
   "metadata": {},
   "outputs": [
    {
     "name": "stdout",
     "output_type": "stream",
     "text": [
      "[10]\n",
      "[10, 10]\n",
      "[10, 10, 10]\n",
      "[10, 10, 10, 10]\n",
      "[10, 10, 10, 10, 10]\n",
      "Stack is full\n",
      "[10, 10, 10, 10, 10]\n",
      "[10, 10, 10, 10]\n",
      "[10, 10, 10]\n"
     ]
    }
   ],
   "source": [
    "stack=[]\n",
    "def push(val):\n",
    "    if len(stack)==5:\n",
    "        print(\"Stack is full\")\n",
    "    else:\n",
    "        stack.append(val)\n",
    "def pop():\n",
    "    if len(stack)==-1:\n",
    "        print(\"Stack is empty\")\n",
    "    else:\n",
    "        stack.pop()\n",
    "push(10)\n",
    "print(stack)\n",
    "push(10)\n",
    "print(stack)\n",
    "push(10)\n",
    "print(stack)\n",
    "push(10)\n",
    "print(stack)\n",
    "push(10)\n",
    "print(stack)\n",
    "push(10)\n",
    "print(stack)\n",
    "pop()\n",
    "print(stack)\n",
    "pop()\n",
    "print(stack)\n"
   ]
  },
  {
   "cell_type": "markdown",
   "id": "cd63f5a5-54b8-4c82-92f7-a13ff475cc5e",
   "metadata": {},
   "source": [
    "Linked List"
   ]
  },
  {
   "cell_type": "code",
   "execution_count": 69,
   "id": "68f772b5-5ec7-4808-b73e-4dcea7d135b7",
   "metadata": {},
   "outputs": [
    {
     "name": "stdout",
     "output_type": "stream",
     "text": [
      "3\n",
      "1\n",
      "10\n",
      "None\n"
     ]
    }
   ],
   "source": [
    "class Node:\n",
    "    def __init__(self, data):\n",
    "        self.data=data\n",
    "        self.next=None\n",
    "class LinkedList:\n",
    "    def __init__(self):\n",
    "        self.head=None\n",
    "    def insert_at_begin(self, data):\n",
    "        newNode=Node(data)\n",
    "        if self.head==None:\n",
    "            self.head=newNode\n",
    "            return\n",
    "        else:\n",
    "            newNode.next=self.head\n",
    "            self.head=newNode\n",
    "    def insertAtEnd(self, data):\n",
    "        newNode = Node(data)\n",
    "        if self.head is None:\n",
    "            self.head = newNode\n",
    "            return\n",
    "\n",
    "        currentNode = self.head\n",
    "        while(currentNode.next):\n",
    "            currentNode = currentNode.next\n",
    "\n",
    "        currentNode.next = newNode\n",
    "    def display(self):\n",
    "        currentNode=self.head\n",
    "        while currentNode:\n",
    "            print(currentNode.data)\n",
    "            currentNode=currentNode.next\n",
    "        print(None)\n",
    "llist = LinkedList()\n",
    "llist.insert_at_begin(1)\n",
    "llist.insert_at_begin(3)\n",
    "llist.insertAtEnd(10)\n",
    "llist.display()\n",
    "        "
   ]
  },
  {
   "cell_type": "code",
   "execution_count": null,
   "id": "a76c9b75-0854-49ab-b2c1-6ccdb93533c9",
   "metadata": {},
   "outputs": [],
   "source": [
    "queue=[]\n",
    "queue.append(10)\n",
    "queue.append(20)\n",
    "queue.append(30)\n",
    "queue.append(40)\n",
    "queue.pop()"
   ]
  },
  {
   "cell_type": "code",
   "execution_count": null,
   "id": "326f9571-e46f-4e4b-bbf2-98bd6a183936",
   "metadata": {},
   "outputs": [],
   "source": []
  },
  {
   "cell_type": "code",
   "execution_count": null,
   "id": "51e08f08-9488-4b54-b521-fcaf4a56d1bf",
   "metadata": {},
   "outputs": [],
   "source": []
  }
 ],
 "metadata": {
  "kernelspec": {
   "display_name": "Python 3 (ipykernel)",
   "language": "python",
   "name": "python3"
  },
  "language_info": {
   "codemirror_mode": {
    "name": "ipython",
    "version": 3
   },
   "file_extension": ".py",
   "mimetype": "text/x-python",
   "name": "python",
   "nbconvert_exporter": "python",
   "pygments_lexer": "ipython3",
   "version": "3.12.4"
  }
 },
 "nbformat": 4,
 "nbformat_minor": 5
}
