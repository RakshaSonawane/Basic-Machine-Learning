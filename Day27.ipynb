{
 "cells": [
  {
   "cell_type": "code",
   "execution_count": 1,
   "id": "78c6a0e0-92e2-46d2-8499-b6e74a9e3e59",
   "metadata": {},
   "outputs": [
    {
     "name": "stdout",
     "output_type": "stream",
     "text": [
      " Learning Exceptions...\n"
     ]
    },
    {
     "name": "stdin",
     "output_type": "stream",
     "text": [
      "Enter the first number 10\n",
      "Enter the second number 2\n"
     ]
    },
    {
     "name": "stdout",
     "output_type": "stream",
     "text": [
      "Both the numbers entered were correct\n",
      " Great .. you are a good programmer\n",
      " JOB OVER... GO GET SOME REST\n"
     ]
    }
   ],
   "source": [
    "print (\" Learning Exceptions...\")\n",
    "try:\n",
    "    num1= int(input (\"Enter the first number\"))\n",
    "    num2=int(input(\"Enter the second number\"))\n",
    "    quotient=(num1/num2)\n",
    "    print (\"Both the numbers entered were correct\")\n",
    "except ValueError:\n",
    "    print (\" Please enter only numbers\")\n",
    "except ZeroDivisionError:\n",
    "    print(\" Number 2 should not be zero\")\n",
    "else:\n",
    "    print(\" Great .. you are a good programmer\")\n",
    "finally:\n",
    "    print(\" JOB OVER... GO GET SOME REST\")"
   ]
  },
  {
   "cell_type": "code",
   "execution_count": 2,
   "id": "483be676-981e-44d3-91b1-1e3e210f983c",
   "metadata": {},
   "outputs": [],
   "source": [
    "root = {\n",
    "    'data' : None,\n",
    "    'left' : None,\n",
    "    'right' : None,\n",
    "    'parent' : None\n",
    "}"
   ]
  },
  {
   "cell_type": "code",
   "execution_count": 3,
   "id": "6214da38-94ca-4f1a-a26c-0a6335d4078e",
   "metadata": {},
   "outputs": [],
   "source": [
    "root = {\n",
    "    'data' : None,\n",
    "    'left' : None,\n",
    "    'right' : None,\n",
    "    'parent' : None\n",
    "}\n",
    "root['left'] = {'data' : 1, 'left' : None, 'right' : None, 'parent' : root} #0\n",
    "root['right'] = {'data' : 2, 'left' : None, 'right' : None, 'parent' : root} #0\n",
    "\n",
    "l = root['left']\n",
    "l['left'] = {'data' : 3, 'left' : None, 'right' : None, 'parent' : 1} #1\n",
    "\n",
    "r = root['right'] #2\n",
    "r['right'] = {'data' : 5, 'left' : None, 'right' : None, 'parent' : r} #2\n",
    "r['left'] = {'data' : 4, 'left' : None, 'right' : None, 'parent' : r} #2\n",
    "\n",
    "x = r['left'] #4\n",
    "x['left'] = {'data' : 6, 'left' : None, 'right' : None, 'parent' : x}\n",
    "x['right'] = {'data' : 7, 'left' : None, 'right' : None, 'parent' : x}\n",
    "\n"
   ]
  },
  {
   "cell_type": "code",
   "execution_count": 4,
   "id": "6c727a1e-2ec2-47f2-bdc7-47e9d0297ab2",
   "metadata": {},
   "outputs": [
    {
     "name": "stdout",
     "output_type": "stream",
     "text": [
      "\n",
      "Preorder:\n",
      "None 1 3 2 4 6 7 5 \n",
      "Inorder:\n",
      "3 1 None 6 4 7 2 5 \n",
      "Postorder:\n",
      "3 1 6 7 4 5 2 None "
     ]
    }
   ],
   "source": [
    "def preorder(T):\n",
    "    if T == None: return\n",
    "    print(T['data'], end=\" \")\n",
    "    preorder(T['left'])\n",
    "    preorder(T['right'])\n",
    "\n",
    "def inorder(T):\n",
    "    if T == None: return\n",
    "    inorder(T['left'])\n",
    "    print(T['data'], end=\" \")\n",
    "    inorder(T['right'])\n",
    "\n",
    "def postorder(T):\n",
    "    if T == None: return\n",
    "    postorder(T['left'])\n",
    "    postorder(T['right'])\n",
    "    print(T['data'], end=\" \")\n",
    "\n",
    "print(\"\\nPreorder:\")\n",
    "preorder(root)\n",
    "print(\"\\nInorder:\")\n",
    "inorder(root)\n",
    "print(\"\\nPostorder:\")\n",
    "postorder(root)"
   ]
  },
  {
   "cell_type": "code",
   "execution_count": 5,
   "id": "0fc171aa-494c-4cf0-a305-e5d50ad5ad3a",
   "metadata": {},
   "outputs": [
    {
     "name": "stdout",
     "output_type": "stream",
     "text": [
      "root.right.left.data: E\n"
     ]
    }
   ],
   "source": [
    "class TreeNode:\n",
    "    def __init__ (self, data):\n",
    "        self.data = data\n",
    "        self.left = None\n",
    "        self.right = None\n",
    "\n",
    "root = TreeNode('R')\n",
    "nodeA = TreeNode('A')\n",
    "nodeB = TreeNode('B')\n",
    "nodeC = TreeNode('C')\n",
    "nodeD = TreeNode('D')\n",
    "nodeE = TreeNode('E')\n",
    "nodeF = TreeNode('F')\n",
    "nodeG = TreeNode('G')\n",
    "\n",
    "\n",
    "root.left = nodeA\n",
    "root.right = nodeB\n",
    "\n",
    "nodeA.left = nodeC\n",
    "nodeA.right = nodeD\n",
    "\n",
    "nodeB.left = nodeE\n",
    "nodeB.right = nodeF\n",
    "\n",
    "nodeF.left = nodeG\n",
    "\n",
    "print(\"root.right.left.data:\", root.right.left.data)\n"
   ]
  },
  {
   "cell_type": "code",
   "execution_count": 6,
   "id": "791c9730-5186-4563-8a8a-bade1a734f75",
   "metadata": {},
   "outputs": [],
   "source": [
    "def preorder_Traversal(node):\n",
    "    if node is None:\n",
    "        return\n",
    "    print(node.data, end=' ')\n",
    "    preorder_Traversal(node.left)\n",
    "    preorder_Traversal(node.right)\n",
    "\n",
    "def inorder_Traversal(node):\n",
    "    if node is None:\n",
    "        return\n",
    "    inorder_Traversal(node.left)\n",
    "    print(node.data, end=' ')\n",
    "    inorder_Traversal(node.right)\n",
    "\n",
    "def postorder_Traversal(node):\n",
    "    if node is None:\n",
    "        return\n",
    "    postorder_Traversal(node.left)\n",
    "    postorder_Traversal(node.right)\n",
    "    print(node.data, end=' ')\n"
   ]
  },
  {
   "cell_type": "code",
   "execution_count": 7,
   "id": "a35d7612-3c58-4564-b528-01aced68569b",
   "metadata": {},
   "outputs": [
    {
     "name": "stdout",
     "output_type": "stream",
     "text": [
      "R A C D B E F G None\n",
      "C A D R E B G F None\n",
      "C D A E G F B R None\n"
     ]
    }
   ],
   "source": [
    "print(preorder_Traversal(root))\n",
    "print(inorder_Traversal(root))\n",
    "print(postorder_Traversal(root))"
   ]
  },
  {
   "cell_type": "code",
   "execution_count": 8,
   "id": "26d1b3f7-b55f-45fd-8578-7a9c8e4bf821",
   "metadata": {},
   "outputs": [
    {
     "name": "stdout",
     "output_type": "stream",
     "text": [
      "root.right.left.data:  G\n"
     ]
    }
   ],
   "source": [
    "binary_tree_array = ['R', 'A','B','C','D','E','F',None,None, None, None, None, None,'G']\n",
    "\n",
    "def left_child_index(index):\n",
    "    return 2*index+1\n",
    "\n",
    "def right_child_index(index):\n",
    "    return 2*index+2\n",
    "\n",
    "def get_data(index):\n",
    "    if 0 <= index < len(binary_tree_array):\n",
    "        return binary_tree_array[index]\n",
    "    return None\n",
    "\n",
    "right_child = right_child_index(2)\n",
    "left_child_of_right_child = left_child_index(right_child)\n",
    "data = get_data(left_child_of_right_child)\n",
    "\n",
    "print(\"root.right.left.data: \", data)"
   ]
  }
 ],
 "metadata": {
  "kernelspec": {
   "display_name": "Python 3 (ipykernel)",
   "language": "python",
   "name": "python3"
  },
  "language_info": {
   "codemirror_mode": {
    "name": "ipython",
    "version": 3
   },
   "file_extension": ".py",
   "mimetype": "text/x-python",
   "name": "python",
   "nbconvert_exporter": "python",
   "pygments_lexer": "ipython3",
   "version": "3.12.4"
  }
 },
 "nbformat": 4,
 "nbformat_minor": 5
}
