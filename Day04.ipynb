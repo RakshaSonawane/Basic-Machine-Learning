{
 "cells": [
  {
   "cell_type": "markdown",
   "id": "821fdfaf-1347-49e1-890c-d9e9ade6a2dc",
   "metadata": {},
   "source": [
    "## Read and Load Data "
   ]
  },
  {
   "cell_type": "code",
   "execution_count": 1,
   "id": "30b76120-aa39-4885-b287-11e8e960941a",
   "metadata": {},
   "outputs": [
    {
     "ename": "FileNotFoundError",
     "evalue": "[Errno 2] No such file or directory: 'C:\\\\Users\\\\uSER\\\\Downloads\\\\aug_train.csv'",
     "output_type": "error",
     "traceback": [
      "\u001b[1;31m---------------------------------------------------------------------------\u001b[0m",
      "\u001b[1;31mFileNotFoundError\u001b[0m                         Traceback (most recent call last)",
      "Cell \u001b[1;32mIn[1], line 4\u001b[0m\n\u001b[0;32m      2\u001b[0m \u001b[38;5;28;01mimport\u001b[39;00m \u001b[38;5;21;01mwarnings\u001b[39;00m\n\u001b[0;32m      3\u001b[0m warnings\u001b[38;5;241m.\u001b[39mfilterwarnings(\u001b[38;5;124m\"\u001b[39m\u001b[38;5;124mignore\u001b[39m\u001b[38;5;124m\"\u001b[39m)\n\u001b[1;32m----> 4\u001b[0m df\u001b[38;5;241m=\u001b[39m \u001b[43mpd\u001b[49m\u001b[38;5;241;43m.\u001b[39;49m\u001b[43mread_csv\u001b[49m\u001b[43m(\u001b[49m\u001b[38;5;124;43mr\u001b[39;49m\u001b[38;5;124;43m\"\u001b[39;49m\u001b[38;5;124;43mC:\u001b[39;49m\u001b[38;5;124;43m\\\u001b[39;49m\u001b[38;5;124;43mUsers\u001b[39;49m\u001b[38;5;124;43m\\\u001b[39;49m\u001b[38;5;124;43muSER\u001b[39;49m\u001b[38;5;124;43m\\\u001b[39;49m\u001b[38;5;124;43mDownloads\u001b[39;49m\u001b[38;5;124;43m\\\u001b[39;49m\u001b[38;5;124;43maug_train.csv\u001b[39;49m\u001b[38;5;124;43m\"\u001b[39;49m\u001b[43m)\u001b[49m\n\u001b[0;32m      5\u001b[0m df\n",
      "File \u001b[1;32m~\\AppData\\Local\\Programs\\Python\\Python312\\Lib\\site-packages\\pandas\\io\\parsers\\readers.py:1024\u001b[0m, in \u001b[0;36mread_csv\u001b[1;34m(filepath_or_buffer, sep, delimiter, header, names, index_col, usecols, dtype, engine, converters, true_values, false_values, skipinitialspace, skiprows, skipfooter, nrows, na_values, keep_default_na, na_filter, verbose, skip_blank_lines, parse_dates, infer_datetime_format, keep_date_col, date_parser, date_format, dayfirst, cache_dates, iterator, chunksize, compression, thousands, decimal, lineterminator, quotechar, quoting, doublequote, escapechar, comment, encoding, encoding_errors, dialect, on_bad_lines, delim_whitespace, low_memory, memory_map, float_precision, storage_options, dtype_backend)\u001b[0m\n\u001b[0;32m   1011\u001b[0m kwds_defaults \u001b[38;5;241m=\u001b[39m _refine_defaults_read(\n\u001b[0;32m   1012\u001b[0m     dialect,\n\u001b[0;32m   1013\u001b[0m     delimiter,\n\u001b[1;32m   (...)\u001b[0m\n\u001b[0;32m   1020\u001b[0m     dtype_backend\u001b[38;5;241m=\u001b[39mdtype_backend,\n\u001b[0;32m   1021\u001b[0m )\n\u001b[0;32m   1022\u001b[0m kwds\u001b[38;5;241m.\u001b[39mupdate(kwds_defaults)\n\u001b[1;32m-> 1024\u001b[0m \u001b[38;5;28;01mreturn\u001b[39;00m \u001b[43m_read\u001b[49m\u001b[43m(\u001b[49m\u001b[43mfilepath_or_buffer\u001b[49m\u001b[43m,\u001b[49m\u001b[43m \u001b[49m\u001b[43mkwds\u001b[49m\u001b[43m)\u001b[49m\n",
      "File \u001b[1;32m~\\AppData\\Local\\Programs\\Python\\Python312\\Lib\\site-packages\\pandas\\io\\parsers\\readers.py:618\u001b[0m, in \u001b[0;36m_read\u001b[1;34m(filepath_or_buffer, kwds)\u001b[0m\n\u001b[0;32m    615\u001b[0m _validate_names(kwds\u001b[38;5;241m.\u001b[39mget(\u001b[38;5;124m\"\u001b[39m\u001b[38;5;124mnames\u001b[39m\u001b[38;5;124m\"\u001b[39m, \u001b[38;5;28;01mNone\u001b[39;00m))\n\u001b[0;32m    617\u001b[0m \u001b[38;5;66;03m# Create the parser.\u001b[39;00m\n\u001b[1;32m--> 618\u001b[0m parser \u001b[38;5;241m=\u001b[39m \u001b[43mTextFileReader\u001b[49m\u001b[43m(\u001b[49m\u001b[43mfilepath_or_buffer\u001b[49m\u001b[43m,\u001b[49m\u001b[43m \u001b[49m\u001b[38;5;241;43m*\u001b[39;49m\u001b[38;5;241;43m*\u001b[39;49m\u001b[43mkwds\u001b[49m\u001b[43m)\u001b[49m\n\u001b[0;32m    620\u001b[0m \u001b[38;5;28;01mif\u001b[39;00m chunksize \u001b[38;5;129;01mor\u001b[39;00m iterator:\n\u001b[0;32m    621\u001b[0m     \u001b[38;5;28;01mreturn\u001b[39;00m parser\n",
      "File \u001b[1;32m~\\AppData\\Local\\Programs\\Python\\Python312\\Lib\\site-packages\\pandas\\io\\parsers\\readers.py:1618\u001b[0m, in \u001b[0;36mTextFileReader.__init__\u001b[1;34m(self, f, engine, **kwds)\u001b[0m\n\u001b[0;32m   1615\u001b[0m     \u001b[38;5;28mself\u001b[39m\u001b[38;5;241m.\u001b[39moptions[\u001b[38;5;124m\"\u001b[39m\u001b[38;5;124mhas_index_names\u001b[39m\u001b[38;5;124m\"\u001b[39m] \u001b[38;5;241m=\u001b[39m kwds[\u001b[38;5;124m\"\u001b[39m\u001b[38;5;124mhas_index_names\u001b[39m\u001b[38;5;124m\"\u001b[39m]\n\u001b[0;32m   1617\u001b[0m \u001b[38;5;28mself\u001b[39m\u001b[38;5;241m.\u001b[39mhandles: IOHandles \u001b[38;5;241m|\u001b[39m \u001b[38;5;28;01mNone\u001b[39;00m \u001b[38;5;241m=\u001b[39m \u001b[38;5;28;01mNone\u001b[39;00m\n\u001b[1;32m-> 1618\u001b[0m \u001b[38;5;28mself\u001b[39m\u001b[38;5;241m.\u001b[39m_engine \u001b[38;5;241m=\u001b[39m \u001b[38;5;28;43mself\u001b[39;49m\u001b[38;5;241;43m.\u001b[39;49m\u001b[43m_make_engine\u001b[49m\u001b[43m(\u001b[49m\u001b[43mf\u001b[49m\u001b[43m,\u001b[49m\u001b[43m \u001b[49m\u001b[38;5;28;43mself\u001b[39;49m\u001b[38;5;241;43m.\u001b[39;49m\u001b[43mengine\u001b[49m\u001b[43m)\u001b[49m\n",
      "File \u001b[1;32m~\\AppData\\Local\\Programs\\Python\\Python312\\Lib\\site-packages\\pandas\\io\\parsers\\readers.py:1878\u001b[0m, in \u001b[0;36mTextFileReader._make_engine\u001b[1;34m(self, f, engine)\u001b[0m\n\u001b[0;32m   1876\u001b[0m     \u001b[38;5;28;01mif\u001b[39;00m \u001b[38;5;124m\"\u001b[39m\u001b[38;5;124mb\u001b[39m\u001b[38;5;124m\"\u001b[39m \u001b[38;5;129;01mnot\u001b[39;00m \u001b[38;5;129;01min\u001b[39;00m mode:\n\u001b[0;32m   1877\u001b[0m         mode \u001b[38;5;241m+\u001b[39m\u001b[38;5;241m=\u001b[39m \u001b[38;5;124m\"\u001b[39m\u001b[38;5;124mb\u001b[39m\u001b[38;5;124m\"\u001b[39m\n\u001b[1;32m-> 1878\u001b[0m \u001b[38;5;28mself\u001b[39m\u001b[38;5;241m.\u001b[39mhandles \u001b[38;5;241m=\u001b[39m \u001b[43mget_handle\u001b[49m\u001b[43m(\u001b[49m\n\u001b[0;32m   1879\u001b[0m \u001b[43m    \u001b[49m\u001b[43mf\u001b[49m\u001b[43m,\u001b[49m\n\u001b[0;32m   1880\u001b[0m \u001b[43m    \u001b[49m\u001b[43mmode\u001b[49m\u001b[43m,\u001b[49m\n\u001b[0;32m   1881\u001b[0m \u001b[43m    \u001b[49m\u001b[43mencoding\u001b[49m\u001b[38;5;241;43m=\u001b[39;49m\u001b[38;5;28;43mself\u001b[39;49m\u001b[38;5;241;43m.\u001b[39;49m\u001b[43moptions\u001b[49m\u001b[38;5;241;43m.\u001b[39;49m\u001b[43mget\u001b[49m\u001b[43m(\u001b[49m\u001b[38;5;124;43m\"\u001b[39;49m\u001b[38;5;124;43mencoding\u001b[39;49m\u001b[38;5;124;43m\"\u001b[39;49m\u001b[43m,\u001b[49m\u001b[43m \u001b[49m\u001b[38;5;28;43;01mNone\u001b[39;49;00m\u001b[43m)\u001b[49m\u001b[43m,\u001b[49m\n\u001b[0;32m   1882\u001b[0m \u001b[43m    \u001b[49m\u001b[43mcompression\u001b[49m\u001b[38;5;241;43m=\u001b[39;49m\u001b[38;5;28;43mself\u001b[39;49m\u001b[38;5;241;43m.\u001b[39;49m\u001b[43moptions\u001b[49m\u001b[38;5;241;43m.\u001b[39;49m\u001b[43mget\u001b[49m\u001b[43m(\u001b[49m\u001b[38;5;124;43m\"\u001b[39;49m\u001b[38;5;124;43mcompression\u001b[39;49m\u001b[38;5;124;43m\"\u001b[39;49m\u001b[43m,\u001b[49m\u001b[43m \u001b[49m\u001b[38;5;28;43;01mNone\u001b[39;49;00m\u001b[43m)\u001b[49m\u001b[43m,\u001b[49m\n\u001b[0;32m   1883\u001b[0m \u001b[43m    \u001b[49m\u001b[43mmemory_map\u001b[49m\u001b[38;5;241;43m=\u001b[39;49m\u001b[38;5;28;43mself\u001b[39;49m\u001b[38;5;241;43m.\u001b[39;49m\u001b[43moptions\u001b[49m\u001b[38;5;241;43m.\u001b[39;49m\u001b[43mget\u001b[49m\u001b[43m(\u001b[49m\u001b[38;5;124;43m\"\u001b[39;49m\u001b[38;5;124;43mmemory_map\u001b[39;49m\u001b[38;5;124;43m\"\u001b[39;49m\u001b[43m,\u001b[49m\u001b[43m \u001b[49m\u001b[38;5;28;43;01mFalse\u001b[39;49;00m\u001b[43m)\u001b[49m\u001b[43m,\u001b[49m\n\u001b[0;32m   1884\u001b[0m \u001b[43m    \u001b[49m\u001b[43mis_text\u001b[49m\u001b[38;5;241;43m=\u001b[39;49m\u001b[43mis_text\u001b[49m\u001b[43m,\u001b[49m\n\u001b[0;32m   1885\u001b[0m \u001b[43m    \u001b[49m\u001b[43merrors\u001b[49m\u001b[38;5;241;43m=\u001b[39;49m\u001b[38;5;28;43mself\u001b[39;49m\u001b[38;5;241;43m.\u001b[39;49m\u001b[43moptions\u001b[49m\u001b[38;5;241;43m.\u001b[39;49m\u001b[43mget\u001b[49m\u001b[43m(\u001b[49m\u001b[38;5;124;43m\"\u001b[39;49m\u001b[38;5;124;43mencoding_errors\u001b[39;49m\u001b[38;5;124;43m\"\u001b[39;49m\u001b[43m,\u001b[49m\u001b[43m \u001b[49m\u001b[38;5;124;43m\"\u001b[39;49m\u001b[38;5;124;43mstrict\u001b[39;49m\u001b[38;5;124;43m\"\u001b[39;49m\u001b[43m)\u001b[49m\u001b[43m,\u001b[49m\n\u001b[0;32m   1886\u001b[0m \u001b[43m    \u001b[49m\u001b[43mstorage_options\u001b[49m\u001b[38;5;241;43m=\u001b[39;49m\u001b[38;5;28;43mself\u001b[39;49m\u001b[38;5;241;43m.\u001b[39;49m\u001b[43moptions\u001b[49m\u001b[38;5;241;43m.\u001b[39;49m\u001b[43mget\u001b[49m\u001b[43m(\u001b[49m\u001b[38;5;124;43m\"\u001b[39;49m\u001b[38;5;124;43mstorage_options\u001b[39;49m\u001b[38;5;124;43m\"\u001b[39;49m\u001b[43m,\u001b[49m\u001b[43m \u001b[49m\u001b[38;5;28;43;01mNone\u001b[39;49;00m\u001b[43m)\u001b[49m\u001b[43m,\u001b[49m\n\u001b[0;32m   1887\u001b[0m \u001b[43m\u001b[49m\u001b[43m)\u001b[49m\n\u001b[0;32m   1888\u001b[0m \u001b[38;5;28;01massert\u001b[39;00m \u001b[38;5;28mself\u001b[39m\u001b[38;5;241m.\u001b[39mhandles \u001b[38;5;129;01mis\u001b[39;00m \u001b[38;5;129;01mnot\u001b[39;00m \u001b[38;5;28;01mNone\u001b[39;00m\n\u001b[0;32m   1889\u001b[0m f \u001b[38;5;241m=\u001b[39m \u001b[38;5;28mself\u001b[39m\u001b[38;5;241m.\u001b[39mhandles\u001b[38;5;241m.\u001b[39mhandle\n",
      "File \u001b[1;32m~\\AppData\\Local\\Programs\\Python\\Python312\\Lib\\site-packages\\pandas\\io\\common.py:873\u001b[0m, in \u001b[0;36mget_handle\u001b[1;34m(path_or_buf, mode, encoding, compression, memory_map, is_text, errors, storage_options)\u001b[0m\n\u001b[0;32m    868\u001b[0m \u001b[38;5;28;01melif\u001b[39;00m \u001b[38;5;28misinstance\u001b[39m(handle, \u001b[38;5;28mstr\u001b[39m):\n\u001b[0;32m    869\u001b[0m     \u001b[38;5;66;03m# Check whether the filename is to be opened in binary mode.\u001b[39;00m\n\u001b[0;32m    870\u001b[0m     \u001b[38;5;66;03m# Binary mode does not support 'encoding' and 'newline'.\u001b[39;00m\n\u001b[0;32m    871\u001b[0m     \u001b[38;5;28;01mif\u001b[39;00m ioargs\u001b[38;5;241m.\u001b[39mencoding \u001b[38;5;129;01mand\u001b[39;00m \u001b[38;5;124m\"\u001b[39m\u001b[38;5;124mb\u001b[39m\u001b[38;5;124m\"\u001b[39m \u001b[38;5;129;01mnot\u001b[39;00m \u001b[38;5;129;01min\u001b[39;00m ioargs\u001b[38;5;241m.\u001b[39mmode:\n\u001b[0;32m    872\u001b[0m         \u001b[38;5;66;03m# Encoding\u001b[39;00m\n\u001b[1;32m--> 873\u001b[0m         handle \u001b[38;5;241m=\u001b[39m \u001b[38;5;28;43mopen\u001b[39;49m\u001b[43m(\u001b[49m\n\u001b[0;32m    874\u001b[0m \u001b[43m            \u001b[49m\u001b[43mhandle\u001b[49m\u001b[43m,\u001b[49m\n\u001b[0;32m    875\u001b[0m \u001b[43m            \u001b[49m\u001b[43mioargs\u001b[49m\u001b[38;5;241;43m.\u001b[39;49m\u001b[43mmode\u001b[49m\u001b[43m,\u001b[49m\n\u001b[0;32m    876\u001b[0m \u001b[43m            \u001b[49m\u001b[43mencoding\u001b[49m\u001b[38;5;241;43m=\u001b[39;49m\u001b[43mioargs\u001b[49m\u001b[38;5;241;43m.\u001b[39;49m\u001b[43mencoding\u001b[49m\u001b[43m,\u001b[49m\n\u001b[0;32m    877\u001b[0m \u001b[43m            \u001b[49m\u001b[43merrors\u001b[49m\u001b[38;5;241;43m=\u001b[39;49m\u001b[43merrors\u001b[49m\u001b[43m,\u001b[49m\n\u001b[0;32m    878\u001b[0m \u001b[43m            \u001b[49m\u001b[43mnewline\u001b[49m\u001b[38;5;241;43m=\u001b[39;49m\u001b[38;5;124;43m\"\u001b[39;49m\u001b[38;5;124;43m\"\u001b[39;49m\u001b[43m,\u001b[49m\n\u001b[0;32m    879\u001b[0m \u001b[43m        \u001b[49m\u001b[43m)\u001b[49m\n\u001b[0;32m    880\u001b[0m     \u001b[38;5;28;01melse\u001b[39;00m:\n\u001b[0;32m    881\u001b[0m         \u001b[38;5;66;03m# Binary mode\u001b[39;00m\n\u001b[0;32m    882\u001b[0m         handle \u001b[38;5;241m=\u001b[39m \u001b[38;5;28mopen\u001b[39m(handle, ioargs\u001b[38;5;241m.\u001b[39mmode)\n",
      "\u001b[1;31mFileNotFoundError\u001b[0m: [Errno 2] No such file or directory: 'C:\\\\Users\\\\uSER\\\\Downloads\\\\aug_train.csv'"
     ]
    }
   ],
   "source": [
    "import pandas as pd\n",
    "import warnings\n",
    "warnings.filterwarnings(\"ignore\")\n",
    "df= pd.read_csv(r\"C:\\Users\\uSER\\Downloads\\aug_train.csv\")\n",
    "df"
   ]
  },
  {
   "cell_type": "code",
   "execution_count": null,
   "id": "a91b37c7-1afe-4d41-ba7f-03eef9a13589",
   "metadata": {},
   "outputs": [],
   "source": [
    "df.describe()"
   ]
  },
  {
   "cell_type": "code",
   "execution_count": null,
   "id": "1aabf5f0-5594-4ed6-81f2-d5b848758f8b",
   "metadata": {},
   "outputs": [],
   "source": [
    "df.info()"
   ]
  },
  {
   "cell_type": "code",
   "execution_count": null,
   "id": "14660d54-c182-49d1-b4a2-d566349938da",
   "metadata": {},
   "outputs": [],
   "source": [
    "df.shape"
   ]
  },
  {
   "cell_type": "code",
   "execution_count": null,
   "id": "de8a83e1-0651-412d-b058-ee15c3bce3d7",
   "metadata": {},
   "outputs": [],
   "source": [
    "df.size"
   ]
  },
  {
   "cell_type": "code",
   "execution_count": null,
   "id": "f52b5b44-a844-4911-9056-81cc28bbc1c8",
   "metadata": {},
   "outputs": [],
   "source": [
    "df.head()"
   ]
  },
  {
   "cell_type": "code",
   "execution_count": null,
   "id": "80e01d0f-6ad1-4dd4-98b7-33b6dc2da173",
   "metadata": {},
   "outputs": [],
   "source": [
    "df.tail()"
   ]
  },
  {
   "cell_type": "markdown",
   "id": "77996df9-0518-4540-b396-73639d56d6cb",
   "metadata": {},
   "source": [
    "Opening csv using URL"
   ]
  },
  {
   "cell_type": "code",
   "execution_count": null,
   "id": "26677d70-1f5e-4394-b03e-36a8351795d8",
   "metadata": {},
   "outputs": [],
   "source": [
    "import requests\n",
    "from io import StringIO\n",
    "url=\"https://raw.githubusercontent.com/cs109/2014_data/master/countries.csv\"\n",
    "headers={\"User-Agent\":\"Mozilla/5.0 (Machintosh; Intel Mac OS X 10.14; rv:66.0) Gecko/20100101 Firefox/66.0\"}\n",
    "req=requests.get(url, headers=headers)\n",
    "data= StringIO(req.text)\n",
    "\n",
    "data=pd.read_csv(data)\n",
    "data"
   ]
  },
  {
   "cell_type": "markdown",
   "id": "d3fe9863-a7af-4afc-808d-eb0215471f83",
   "metadata": {},
   "source": [
    "Separate Parameter"
   ]
  },
  {
   "cell_type": "code",
   "execution_count": null,
   "id": "f9e082c3-a8e9-4a1f-89ce-4c9f0d97fb73",
   "metadata": {},
   "outputs": [],
   "source": [
    "pd.read_csv(r\"C:\\Users\\uSER\\Downloads\\movie_titles_metadata.tsv\",sep='\\t',names=['sno','name','release_year','rating','votes','genres'])"
   ]
  },
  {
   "cell_type": "markdown",
   "id": "c0462467-c726-4c8a-8858-bedc872ba8bb",
   "metadata": {},
   "source": [
    "Index col parameter"
   ]
  },
  {
   "cell_type": "code",
   "execution_count": null,
   "id": "c8157634-cc3f-44d6-95af-e66e64c0aa0e",
   "metadata": {
    "scrolled": true
   },
   "outputs": [],
   "source": [
    "pd.read_csv(r\"C:\\Users\\uSER\\Downloads\\aug_train.csv\", index_col='enrollee_id')"
   ]
  },
  {
   "cell_type": "markdown",
   "id": "3aadfed4-71f2-44c8-afd0-1afc56e6b7a7",
   "metadata": {},
   "source": [
    "Header Parameter"
   ]
  },
  {
   "cell_type": "code",
   "execution_count": null,
   "id": "c990cd08-1142-4947-a572-ed5a759a0302",
   "metadata": {},
   "outputs": [],
   "source": [
    "pd.read_csv(r\"C:\\Users\\uSER\\Downloads\\test.csv\", header=1)   #header for Heading Title of column name"
   ]
  },
  {
   "cell_type": "markdown",
   "id": "0ba817aa-bb9d-488c-9492-4fe3b904173e",
   "metadata": {},
   "source": [
    "usecols Parameter"
   ]
  },
  {
   "cell_type": "code",
   "execution_count": null,
   "id": "3448161e-568d-4b4c-a3cd-07554caeb99f",
   "metadata": {},
   "outputs": [],
   "source": [
    "pd.read_csv(r\"C:\\Users\\uSER\\Downloads\\aug_train.csv\", usecols=['enrollee_id', 'gender', 'education_level'])"
   ]
  },
  {
   "cell_type": "markdown",
   "id": "1e1c6793-e983-4089-bce5-318f691c3847",
   "metadata": {},
   "source": [
    "Squeeze Parameter"
   ]
  },
  {
   "cell_type": "code",
   "execution_count": null,
   "id": "7b23bfd5-c2ff-45ae-8d01-845b08393415",
   "metadata": {},
   "outputs": [],
   "source": [
    "df=pd.read_csv(r\"C:\\Users\\uSER\\Downloads\\aug_train.csv\")\n",
    "df['gender'].squeeze()"
   ]
  },
  {
   "cell_type": "markdown",
   "id": "3c034bef-f168-4100-a905-ab8c72731213",
   "metadata": {},
   "source": [
    "Skiprow or nrow parameter"
   ]
  },
  {
   "cell_type": "code",
   "execution_count": null,
   "id": "1f421316-91cc-4d23-893c-2effc95ddec7",
   "metadata": {},
   "outputs": [],
   "source": [
    "pd.read_csv(r\"C:\\Users\\uSER\\Downloads\\aug_train.csv\", nrows=100)"
   ]
  },
  {
   "cell_type": "markdown",
   "id": "9291c46d-eb97-419d-919c-3847c14ea7f5",
   "metadata": {},
   "source": [
    "Encoding parameter"
   ]
  },
  {
   "cell_type": "code",
   "execution_count": null,
   "id": "247e9b29-9465-409c-9216-7ba3523a8cc3",
   "metadata": {},
   "outputs": [],
   "source": [
    "pd.read_csv(r\"C:\\Users\\uSER\\Downloads\\zomato.csv\", encoding='latin-1')"
   ]
  },
  {
   "cell_type": "markdown",
   "id": "376ca067-59c1-4516-8b61-c153be4d599a",
   "metadata": {},
   "source": [
    "Skip bad line"
   ]
  },
  {
   "cell_type": "code",
   "execution_count": null,
   "id": "d4bd5b5f-a716-4287-bdc7-d8f1c9820617",
   "metadata": {},
   "outputs": [],
   "source": [
    "pd.read_csv(r\"C:\\Users\\uSER\\Downloads\\IPL Matches 2008-2020.csv\", sep=';', encoding=\"latin-1\")"
   ]
  },
  {
   "cell_type": "markdown",
   "id": "ad00d960-c466-42de-9b90-bc57e1bfe5e5",
   "metadata": {},
   "source": [
    "dType Parameter"
   ]
  },
  {
   "cell_type": "code",
   "execution_count": null,
   "id": "6726425c-fc7a-47ee-8a63-efc669021765",
   "metadata": {},
   "outputs": [],
   "source": [
    "pd.read_csv(r\"C:\\Users\\uSER\\Downloads\\aug_train.csv\",dtype={'target':int}).info()"
   ]
  },
  {
   "cell_type": "markdown",
   "id": "59d7cc9d-c6c7-46de-b076-24b37baf6ef7",
   "metadata": {},
   "source": [
    "Handling Dates"
   ]
  },
  {
   "cell_type": "code",
   "execution_count": null,
   "id": "9c986a9c-8854-4c35-8d17-c0805e6a09e6",
   "metadata": {},
   "outputs": [],
   "source": [
    "pd.read_csv(r\"C:\\Users\\uSER\\Downloads\\IPL Matches 2008-2020.csv\",parse_dates=['date']).info()"
   ]
  },
  {
   "cell_type": "markdown",
   "id": "a9f6fb5f-0081-4fe0-a0c9-39160ddc729e",
   "metadata": {},
   "source": [
    "Convertor"
   ]
  },
  {
   "cell_type": "code",
   "execution_count": null,
   "id": "3c80d76a-718a-4606-bda8-39a966c183a7",
   "metadata": {},
   "outputs": [],
   "source": [
    "def rename(name):\n",
    "    if name == \"Royal Challengers Bangalore\":\n",
    "        return \"RCB\"\n",
    "    else:\n",
    "        return name"
   ]
  },
  {
   "cell_type": "code",
   "execution_count": null,
   "id": "4567e05f-fa4c-41b3-add9-cee95c31d669",
   "metadata": {},
   "outputs": [],
   "source": [
    "rename(\"Royal Challengers Bangalore\")"
   ]
  },
  {
   "cell_type": "code",
   "execution_count": null,
   "id": "462032ec-c45f-4db1-b89e-6ac3a8898b39",
   "metadata": {},
   "outputs": [],
   "source": [
    "pd.read_csv(r\"C:\\Users\\uSER\\Downloads\\IPL Matches 2008-2020.csv\",converters={'team1':rename})"
   ]
  },
  {
   "cell_type": "markdown",
   "id": "ec331e6a-a63b-4ba8-aa1d-071b9d150fed",
   "metadata": {},
   "source": [
    "na value Parameter"
   ]
  },
  {
   "cell_type": "code",
   "execution_count": null,
   "id": "680f5fd9-7c05-4dcd-be9d-38d6a039e93f",
   "metadata": {},
   "outputs": [],
   "source": [
    "pd.read_csv(r\"C:\\Users\\uSER\\Downloads\\aug_train.csv\",na_values=['Male',])"
   ]
  },
  {
   "cell_type": "markdown",
   "id": "6f5ffa1b-6a41-4b01-b977-80406abb5000",
   "metadata": {},
   "source": [
    "Loading a huga Database in Chunks"
   ]
  },
  {
   "cell_type": "code",
   "execution_count": null,
   "id": "683e645c-6aa8-4e53-b54a-e276030f09ba",
   "metadata": {},
   "outputs": [],
   "source": [
    "dfs = pd.read_csv(r\"C:\\Users\\uSER\\Downloads\\aug_train.csv\",chunksize=5000)"
   ]
  },
  {
   "cell_type": "code",
   "execution_count": null,
   "id": "59dd2514-fca9-4939-b9f7-91088022af0b",
   "metadata": {},
   "outputs": [],
   "source": [
    "for chunks in dfs:\n",
    "    print(chunks.shape)"
   ]
  },
  {
   "cell_type": "markdown",
   "id": "bdf55c3d-84ba-416d-8910-3f53ce8e5b87",
   "metadata": {},
   "source": [
    "## Naive Bayes Theorem"
   ]
  },
  {
   "cell_type": "code",
   "execution_count": null,
   "id": "47c5d6f5-c01b-423f-a000-b7c5ad800e62",
   "metadata": {},
   "outputs": [],
   "source": [
    "%matplotlib inline\n",
    "import numpy as np\n",
    "import matplotlib.pyplot as plt\n",
    "import seaborn as sns; sns.set()\n",
    "\n",
    "from sklearn.datasets import fetch_20newsgroups\n",
    "\n",
    "data = fetch_20newsgroups()\n",
    "data.target_names"
   ]
  },
  {
   "cell_type": "code",
   "execution_count": null,
   "id": "58326c95-e420-4544-8e9c-9e13899a1c98",
   "metadata": {},
   "outputs": [],
   "source": [
    "categories = ['alt.atheism', 'comp.graphics', 'comp.os.ms-windows.misc', 'comp.sys.ibm.pc.hardware', 'comp.sys.mac.hardware', 'comp.windows.x', 'misc.forsale', 'rec.autos', 'rec.motorcycles', 'rec.sport.baseball', 'rec.sport.hockey', 'sci.crypt', 'sci.electronics', 'sci.med', 'sci.space', 'soc.religion.christian', 'talk.politics.guns', 'talk.politics.mideast', 'talk.politics.misc', 'talk.religion.misc']\n",
    "train = fetch_20newsgroups(subset='train', categories=categories)\n",
    "test = fetch_20newsgroups(subset='test', categories=categories)"
   ]
  },
  {
   "cell_type": "code",
   "execution_count": null,
   "id": "59b2cc29-8c11-45a9-855b-ef0f876cd270",
   "metadata": {},
   "outputs": [],
   "source": [
    "print(train.data[5])"
   ]
  },
  {
   "cell_type": "code",
   "execution_count": null,
   "id": "c2da2c9a-5f85-4efa-a196-8908d437c7e3",
   "metadata": {},
   "outputs": [],
   "source": [
    "from sklearn.feature_extraction.text import TfidfVectorizer\n",
    "from sklearn.naive_bayes import MultinomialNB\n",
    "from sklearn.pipeline import make_pipeline\n",
    "\n",
    "model = make_pipeline(TfidfVectorizer(), MultinomialNB())"
   ]
  },
  {
   "cell_type": "code",
   "execution_count": null,
   "id": "b68c51b7-7d71-4ed9-b043-8b160e94f302",
   "metadata": {},
   "outputs": [],
   "source": [
    "model.fit(train.data, train.target)\n",
    "labels = model.predict(test.data)"
   ]
  },
  {
   "cell_type": "code",
   "execution_count": null,
   "id": "f56cf3f1-c6a8-4283-9c96-65d01d00ecf0",
   "metadata": {},
   "outputs": [],
   "source": [
    "    from sklearn.metrics import confusion_matrix\n",
    "    mat = confusion_matrix(test.target, labels)\n",
    "    sns.heatmap(mat.T, square=True, annot=True, fmt='d', cbar=False,\n",
    "                xticklabels=train.target_names, yticklabels=train.target_names)\n",
    "    plt.xlabel('true label')\n",
    "    plt.ylabel('predicted label');"
   ]
  },
  {
   "cell_type": "code",
   "execution_count": null,
   "id": "c01a28ce-a4ac-4cec-b594-cd16f014f09a",
   "metadata": {},
   "outputs": [],
   "source": [
    "def predict_category(s, train=train, model=model):\n",
    "    pred = model.predict([s])\n",
    "    return train.target_names[pred[0]]"
   ]
  },
  {
   "cell_type": "code",
   "execution_count": null,
   "id": "488d31cc-6c8d-43d5-bdca-cae7de94eb91",
   "metadata": {},
   "outputs": [],
   "source": [
    "predict_category('Jesus Christ')"
   ]
  },
  {
   "cell_type": "code",
   "execution_count": null,
   "id": "3b21e41c-2d0e-4f30-9301-e95d05191473",
   "metadata": {},
   "outputs": [],
   "source": [
    "predict_category('Sending load to International Space Station ISS')"
   ]
  },
  {
   "cell_type": "code",
   "execution_count": null,
   "id": "c9818bc7-03e8-491b-b906-a863dac03f14",
   "metadata": {},
   "outputs": [],
   "source": [
    "predict_category('Suzuki Hayabusa is a very fast motorcycle')"
   ]
  },
  {
   "cell_type": "code",
   "execution_count": null,
   "id": "294fe791-8cb3-43b7-838f-eba25b2ae02b",
   "metadata": {},
   "outputs": [],
   "source": [
    "predict_category('Audi is better than BMW')"
   ]
  },
  {
   "cell_type": "code",
   "execution_count": null,
   "id": "5d06ea88-efeb-483c-a042-c33e47d1370e",
   "metadata": {},
   "outputs": [],
   "source": [
    "predict_category('President of India')"
   ]
  },
  {
   "cell_type": "markdown",
   "id": "c3160469-88c0-4aeb-afbd-d18f6e4e1639",
   "metadata": {},
   "source": [
    "## Data Summarization in Python for Machine Learning\n",
    "1. Feature Selection\n",
    "2. Data Quality\n",
    "3. Exploratory Data Analysis"
   ]
  },
  {
   "cell_type": "markdown",
   "id": "5adbd31c-dbf0-4f5b-8f37-7bb979f03236",
   "metadata": {},
   "source": [
    "# Data Summarization Technique\n",
    "\n",
    "## 1. Central Tendancy"
   ]
  },
  {
   "cell_type": "markdown",
   "id": "e18909da-3ae6-4374-8e76-fc1208744071",
   "metadata": {},
   "source": [
    "Mean"
   ]
  },
  {
   "cell_type": "code",
   "execution_count": null,
   "id": "9dcdb413-9736-40d3-868b-b65d3b383c5d",
   "metadata": {},
   "outputs": [],
   "source": [
    "import numpy as np\n",
    "data= np.array((10,12,34,12,10))\n",
    "mean_value=np.mean(data)\n",
    "print(\"Mean:\", mean_value)"
   ]
  },
  {
   "cell_type": "markdown",
   "id": "3bb40c56-9dad-4047-88af-803f75140300",
   "metadata": {},
   "source": [
    "\n",
    "Median\n"
   ]
  },
  {
   "cell_type": "code",
   "execution_count": null,
   "id": "239f8388-99f3-4d4f-b316-42e27f32b094",
   "metadata": {
    "scrolled": true
   },
   "outputs": [],
   "source": [
    "median_value=np.median(data)\n",
    "print(\"Median:\", median_value)"
   ]
  },
  {
   "cell_type": "markdown",
   "id": "4d8a5131-5285-4380-bb56-75263ad62d8a",
   "metadata": {},
   "source": [
    "Mode"
   ]
  },
  {
   "cell_type": "code",
   "execution_count": null,
   "id": "a8cffdaa-1470-4bc5-8128-4b94224c6097",
   "metadata": {},
   "outputs": [],
   "source": [
    "from scipy import stats\n",
    "mode_value=stats.mode(data)\n",
    "print(\"Mode=\", mode_value)"
   ]
  },
  {
   "cell_type": "markdown",
   "id": "6cb2182d-cc1f-4419-a94d-50624c918780",
   "metadata": {},
   "source": [
    "Range"
   ]
  },
  {
   "cell_type": "code",
   "execution_count": null,
   "id": "f0d8c242-d328-4dbc-b231-2532e5b6fede",
   "metadata": {},
   "outputs": [],
   "source": [
    "range_value=np.max(data) - np.min(data)\n",
    "print(\"Range:\", range_value)"
   ]
  },
  {
   "cell_type": "markdown",
   "id": "2e65589c-23a7-4e5f-9198-07eff25150c6",
   "metadata": {},
   "source": [
    "Variance"
   ]
  },
  {
   "cell_type": "code",
   "execution_count": null,
   "id": "3eaf9a3e-0801-41ef-8d17-bd4628e7b657",
   "metadata": {},
   "outputs": [],
   "source": [
    "variance_value= np.var(data)\n",
    "print(\"Variance:\", variance_value)"
   ]
  },
  {
   "cell_type": "markdown",
   "id": "0ceb539f-641c-4b9f-a575-fbb0e7561728",
   "metadata": {},
   "source": [
    "Standard deviation"
   ]
  },
  {
   "cell_type": "code",
   "execution_count": null,
   "id": "b15aa71e-dc9b-45ef-8b0c-cc53d90f1d8d",
   "metadata": {},
   "outputs": [],
   "source": [
    "Standard_Deviation_value= np.std(data)\n",
    "print(\"Standard Deviation:\", Standard_Deviation_value)"
   ]
  },
  {
   "cell_type": "markdown",
   "id": "01d200e6-7137-4ff8-a5bc-688829bdc9d3",
   "metadata": {},
   "source": [
    "Shape measure"
   ]
  },
  {
   "cell_type": "code",
   "execution_count": null,
   "id": "4c420f8d-dda9-4195-8560-63b7f5b1c7ef",
   "metadata": {},
   "outputs": [],
   "source": [
    "Skewness_value=stats.skew(data)\n",
    "print(\"Skewness:\", Skewness_value)"
   ]
  },
  {
   "cell_type": "markdown",
   "id": "c021ae31-03ec-4fd9-b9fb-71b7d153b632",
   "metadata": {},
   "source": [
    "Kurtosis"
   ]
  },
  {
   "cell_type": "code",
   "execution_count": null,
   "id": "fa5a569b-b9d0-4540-9404-eb3cc8814fdc",
   "metadata": {},
   "outputs": [],
   "source": [
    "Kurtosis_value=stats.kurtosis(data)\n",
    "print(\"Kurtosis:\", Kurtosis_value)"
   ]
  },
  {
   "cell_type": "markdown",
   "id": "f73566e1-695f-438d-b767-c619012b9735",
   "metadata": {},
   "source": [
    "Quartiles"
   ]
  },
  {
   "cell_type": "code",
   "execution_count": null,
   "id": "9fc8de21-20e2-43c9-857b-681bd69af12b",
   "metadata": {},
   "outputs": [],
   "source": [
    "q1_value=np.percentile(data, .25)\n",
    "print(\"First Quartile (Q1):\", q1_value)"
   ]
  },
  {
   "cell_type": "code",
   "execution_count": null,
   "id": "4a570138-e0ca-48ab-910f-2a40eb0f0440",
   "metadata": {},
   "outputs": [],
   "source": [
    "q2_value=np.percentile(data, .50)\n",
    "print(\"Second Quartile (Q2):\", q2_value)"
   ]
  },
  {
   "cell_type": "code",
   "execution_count": null,
   "id": "f2e43cf6-dc96-475f-97f5-9fe7fad3998c",
   "metadata": {},
   "outputs": [],
   "source": [
    "q3_value=np.percentile(data, .75)\n",
    "print(\"Third Quartile (Q3):\", q2_value)"
   ]
  },
  {
   "cell_type": "markdown",
   "id": "7e2debd7-201e-4c25-83da-56403ce18079",
   "metadata": {},
   "source": [
    "Interquartile"
   ]
  },
  {
   "cell_type": "code",
   "execution_count": null,
   "id": "05e7e099-a560-4fb0-9e26-3334f1ec8d79",
   "metadata": {},
   "outputs": [],
   "source": [
    "iqr_value= q1_value-q2_value\n",
    "print(\"Interquartile:\", iqr_value)"
   ]
  },
  {
   "cell_type": "markdown",
   "id": "a6b748dc-1a8d-471c-b227-2682814a359a",
   "metadata": {},
   "source": [
    "## Outlier\n",
    "1. Z Score value"
   ]
  },
  {
   "cell_type": "code",
   "execution_count": null,
   "id": "62adda32-033b-4bcf-964f-b7f696e3e5ed",
   "metadata": {},
   "outputs": [],
   "source": [
    "z_score= stats.zscore(data)\n",
    "outliers= data[np.abs(z_score)>3]\n",
    "print(\"Outliers:\", outliers)"
   ]
  },
  {
   "cell_type": "markdown",
   "id": "387ce0d8-d8d6-4352-83a5-9e3ff346d448",
   "metadata": {},
   "source": [
    "Categorical Data Summarization"
   ]
  },
  {
   "cell_type": "code",
   "execution_count": null,
   "id": "d6c8f946-cffe-4d88-aaad-74392f20be1d",
   "metadata": {},
   "outputs": [],
   "source": [
    "categorical_data = pd.Series(['apple', 'orange', 'apple', 'banana', 'mango'])\n",
    "frequency_table= categorical_data.value_counts()\n",
    "print(\"Frequency Table is:\\n\", frequency_table)"
   ]
  },
  {
   "cell_type": "markdown",
   "id": "e3341aab-edb4-4054-b7a1-98b4e318649c",
   "metadata": {},
   "source": [
    "Unique Values"
   ]
  },
  {
   "cell_type": "code",
   "execution_count": null,
   "id": "7f46a0c5-deb2-4922-a682-7421a94c58c0",
   "metadata": {},
   "outputs": [],
   "source": [
    "unique_values= categorical_data.unique()\n",
    "print(\"Unique Values:\", unique_values)"
   ]
  },
  {
   "cell_type": "markdown",
   "id": "a35dc644-75e9-482b-8d6b-00bd1c76f257",
   "metadata": {},
   "source": [
    "# Descriptive Analysis"
   ]
  },
  {
   "cell_type": "code",
   "execution_count": null,
   "id": "fe8a45bd-9ea5-440d-bed0-920924867e92",
   "metadata": {},
   "outputs": [],
   "source": [
    "ipl=pd.read_csv(r\"C:\\Users\\uSER\\Downloads\\IPL Matches 2008-2020.csv\")\n",
    "ipl"
   ]
  },
  {
   "cell_type": "code",
   "execution_count": null,
   "id": "d98a43e9-4de8-4d12-920e-6bfbdce6f463",
   "metadata": {},
   "outputs": [],
   "source": [
    "type(ipl)"
   ]
  },
  {
   "cell_type": "code",
   "execution_count": null,
   "id": "7d3e2360-2cc7-43d9-8c0a-4b5dcd948002",
   "metadata": {},
   "outputs": [],
   "source": [
    "pd.set_option"
   ]
  },
  {
   "cell_type": "code",
   "execution_count": null,
   "id": "1b35d6f0-bca9-4543-baf7-84c7653907e6",
   "metadata": {},
   "outputs": [],
   "source": [
    "pd.set_option('display.max_columns', 7)"
   ]
  },
  {
   "cell_type": "code",
   "execution_count": null,
   "id": "d3d30fa3-e0d6-4d3a-bdf9-7e25f46c6951",
   "metadata": {},
   "outputs": [],
   "source": [
    "ipl.head(5)"
   ]
  },
  {
   "cell_type": "code",
   "execution_count": null,
   "id": "6e790b71-54cd-4079-86a8-3d283a3afd47",
   "metadata": {},
   "outputs": [],
   "source": [
    "list(ipl.columns)"
   ]
  },
  {
   "cell_type": "code",
   "execution_count": null,
   "id": "a515551e-f439-43b4-be58-884b5efe330d",
   "metadata": {},
   "outputs": [],
   "source": [
    "ipl.head(5).transpose()"
   ]
  },
  {
   "cell_type": "code",
   "execution_count": null,
   "id": "d227cabb-5c4e-42c1-b885-a0728ef18bed",
   "metadata": {},
   "outputs": [],
   "source": [
    "ipl.shape"
   ]
  },
  {
   "cell_type": "code",
   "execution_count": null,
   "id": "38cf3d66-74ff-45ec-8eec-5fafb1424582",
   "metadata": {},
   "outputs": [],
   "source": [
    "ipl.info()"
   ]
  },
  {
   "cell_type": "code",
   "execution_count": null,
   "id": "e3396034-57fd-4af0-83d0-d9a2b6bddf3b",
   "metadata": {},
   "outputs": [],
   "source": [
    "ipl[0:5]"
   ]
  },
  {
   "cell_type": "code",
   "execution_count": null,
   "id": "44a7229e-673f-4e28-b6da-c5bce42048f0",
   "metadata": {},
   "outputs": [],
   "source": [
    "ipl[-5:]"
   ]
  },
  {
   "cell_type": "code",
   "execution_count": null,
   "id": "a7bc9ffb-2a75-454a-9d48-380aa5cfe1ad",
   "metadata": {},
   "outputs": [],
   "source": [
    "ipl['id'][0:5]"
   ]
  },
  {
   "cell_type": "code",
   "execution_count": null,
   "id": "a349bc49-c715-486e-b6fb-a6ef7a77565f",
   "metadata": {},
   "outputs": [],
   "source": [
    "ipl[['id', 'city']][0:5]"
   ]
  },
  {
   "cell_type": "code",
   "execution_count": null,
   "id": "b25713b3-8d1b-4b47-bf5a-357fb6fa4afe",
   "metadata": {},
   "outputs": [],
   "source": [
    "ipl.iloc[4:9, 1:4]"
   ]
  },
  {
   "cell_type": "code",
   "execution_count": null,
   "id": "c7b840c7-89f3-4f58-9331-7be1111680bd",
   "metadata": {},
   "outputs": [],
   "source": [
    "ipl.city.value_counts()"
   ]
  },
  {
   "cell_type": "code",
   "execution_count": null,
   "id": "7791019e-bcee-4d19-9a4b-2282f408757f",
   "metadata": {},
   "outputs": [],
   "source": [
    "ipl.city.value_counts(normalize=True)*100"
   ]
  },
  {
   "cell_type": "code",
   "execution_count": null,
   "id": "37e3e8d8-684e-47af-a35d-c805d43a08fb",
   "metadata": {},
   "outputs": [],
   "source": [
    "pd.crosstab(ipl['team2'],ipl['city'])"
   ]
  },
  {
   "cell_type": "code",
   "execution_count": null,
   "id": "cd06a96b-ccb1-43c9-b69e-57812e1a813b",
   "metadata": {},
   "outputs": [],
   "source": [
    "ipl[['id','city']].sort_values('city')[0:5]"
   ]
  },
  {
   "cell_type": "code",
   "execution_count": null,
   "id": "cb5018eb-b71f-4c15-b1a3-cad77727f8f7",
   "metadata": {},
   "outputs": [],
   "source": [
    "ipl[['id','result']].sort_values('result',ascending = False)[0:5]"
   ]
  },
  {
   "cell_type": "code",
   "execution_count": null,
   "id": "447de635-e951-498a-ac62-dc9b5a459c3f",
   "metadata": {},
   "outputs": [],
   "source": [
    "ipl['new_column']= ipl['result_margin'] - 10\n",
    "ipl"
   ]
  },
  {
   "cell_type": "code",
   "execution_count": null,
   "id": "8404fe7e-256e-40fc-b9bb-76e6909a0573",
   "metadata": {},
   "outputs": [],
   "source": [
    "ipl.sort_values('new_column', ascending = False)[0:5]"
   ]
  },
  {
   "cell_type": "code",
   "execution_count": null,
   "id": "f695cc6e-29a4-45ec-bea1-834200cfe297",
   "metadata": {},
   "outputs": [],
   "source": [
    "ipl.groupby('city')['result_margin'].mean()"
   ]
  },
  {
   "cell_type": "code",
   "execution_count": null,
   "id": "de95f6bf-b133-4d14-9e7d-783b26abc799",
   "metadata": {},
   "outputs": [],
   "source": [
    "soldprice_by_city = ipl.groupby('city')['result_margin'].mean().reset_index()\n",
    "print(soldprice_by_city)"
   ]
  },
  {
   "cell_type": "code",
   "execution_count": null,
   "id": "332c4085-4d16-4081-af81-d257563682da",
   "metadata": {},
   "outputs": [],
   "source": []
  }
 ],
 "metadata": {
  "kernelspec": {
   "display_name": "Python 3 (ipykernel)",
   "language": "python",
   "name": "python3"
  },
  "language_info": {
   "codemirror_mode": {
    "name": "ipython",
    "version": 3
   },
   "file_extension": ".py",
   "mimetype": "text/x-python",
   "name": "python",
   "nbconvert_exporter": "python",
   "pygments_lexer": "ipython3",
   "version": "3.12.4"
  }
 },
 "nbformat": 4,
 "nbformat_minor": 5
}
