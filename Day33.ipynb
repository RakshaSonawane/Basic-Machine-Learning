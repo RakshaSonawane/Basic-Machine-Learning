{
 "cells": [
  {
   "cell_type": "code",
   "execution_count": 3,
   "id": "5793c89a-3791-4ed7-9a0d-cb1f7d26b500",
   "metadata": {},
   "outputs": [],
   "source": [
    "class Node:\n",
    "    def __init__(self, value):\n",
    "        self.value=value\n",
    "        self.left = None\n",
    "        self.right = None"
   ]
  },
  {
   "cell_type": "code",
   "execution_count": 5,
   "id": "2613de4a-91cb-4028-842b-71eba421bce5",
   "metadata": {},
   "outputs": [],
   "source": [
    "root = Node('d')\n",
    "root.left = Node('b')\n",
    "root.right = Node('f')\n",
    "root.left.left = Node('a')\n",
    "root.left.right = Node('c')\n",
    "root.right.left = Node('e')\n",
    "root.right.right = Node('g')"
   ]
  },
  {
   "cell_type": "code",
   "execution_count": 6,
   "id": "3cdf5578-da77-4101-a276-26f911a31226",
   "metadata": {},
   "outputs": [],
   "source": [
    "from collections import deque\n",
    "def BFS_tree(root):\n",
    "    if root is None:\n",
    "        return\n",
    "    queue = deque([root])\n",
    "    while queue:\n",
    "        node = queue.popleft()\n",
    "        print(node.value, end=' ')\n",
    "        if node.left:\n",
    "            queue.append(node.left)\n",
    "        if node.right:\n",
    "            queue.append(node.right)\n"
   ]
  },
  {
   "cell_type": "code",
   "execution_count": 7,
   "id": "ba43927c-f350-415b-9f06-b43c8ff5605e",
   "metadata": {},
   "outputs": [
    {
     "name": "stdout",
     "output_type": "stream",
     "text": [
      "d b f a c e g "
     ]
    }
   ],
   "source": [
    "BFS_tree(root)"
   ]
  },
  {
   "cell_type": "code",
   "execution_count": 8,
   "id": "c35c3ab4-a3a6-4d92-96c1-b3872d034875",
   "metadata": {},
   "outputs": [
    {
     "name": "stdout",
     "output_type": "stream",
     "text": [
      "d b a c f e g "
     ]
    }
   ],
   "source": [
    "def DFS_tree(node):\n",
    "    if node is None:\n",
    "        return\n",
    "    print(node.value, end=' ')\n",
    "    DFS_tree(node.left)\n",
    "    DFS_tree(node.right)\n",
    "\n",
    "DFS_tree(root)"
   ]
  },
  {
   "cell_type": "code",
   "execution_count": null,
   "id": "6a6bee3c-b933-4096-8a85-8b8fa1087cc4",
   "metadata": {},
   "outputs": [],
   "source": []
  }
 ],
 "metadata": {
  "kernelspec": {
   "display_name": "Python 3 (ipykernel)",
   "language": "python",
   "name": "python3"
  },
  "language_info": {
   "codemirror_mode": {
    "name": "ipython",
    "version": 3
   },
   "file_extension": ".py",
   "mimetype": "text/x-python",
   "name": "python",
   "nbconvert_exporter": "python",
   "pygments_lexer": "ipython3",
   "version": "3.12.4"
  }
 },
 "nbformat": 4,
 "nbformat_minor": 5
}
