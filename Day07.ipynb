{
 "cells": [
  {
   "cell_type": "markdown",
   "id": "24cef651-7a8e-47f8-b144-5b7fc019e1ca",
   "metadata": {},
   "source": [
    "# Problem Statement\n",
    "\n",
    "\n",
    "Write a program that will give you in hand monthly salary after deduction on CTC HRA(10%), DA(5%), PF(3%) and taxes deduction as below:\n",
    "\n",
    "\n",
    "Salary(Lakh): Tax(5%)\n",
    "\n",
    "\n",
    "Below 5: 0%\n",
    "\n",
    "5-10: 10%\n",
    "\n",
    "10-20: 20%\n",
    "\n",
    "above 20%: 30%"
   ]
  },
  {
   "cell_type": "code",
   "execution_count": 1,
   "id": "0afa1157-c05b-464a-bdd7-f1729f915568",
   "metadata": {},
   "outputs": [
    {
     "name": "stdin",
     "output_type": "stream",
     "text": [
      "Enter Salary: 100\n"
     ]
    },
    {
     "name": "stdout",
     "output_type": "stream",
     "text": [
      "Your Monthly salary is: 6.833333333333333\n"
     ]
    }
   ],
   "source": [
    "ctc=int(input(\"Enter Salary:\"))\n",
    "\n",
    "if ctc<500000:\n",
    "    salary=ctc*0.82    #0.82={100-0.10(HRA)-0.05(DA)-0.03(PF)} ==> {100-0.18}  ==> 0.82\n",
    "elif ctc<1000000:\n",
    "    salary=ctc*0.72    #0.72={100-0.10(HRA)-0.05(DA)-0.03(PF)-0.10(Tax)} ==> {100-0.28}  ==> 0.72\n",
    "elif ctc<2000000:\n",
    "    salary=ctc*0.62    #0.62={100-0.10(HRA)-0.05(DA)-0.03(PF)-0.20(Tax)} ==> {100-0.38}  ==> 0.62\n",
    "else:\n",
    "    salary=ctc*0.52    #0.52={100-0.10(HRA)-0.05(DA)-0.03(PF)-0.30(Tax)} ==> {100-0.48}  ==> 0.52\n",
    "\n",
    "actual_salary=salary/12\n",
    "\n",
    "print(\"Your Monthly salary is:\",actual_salary)"
   ]
  },
  {
   "cell_type": "markdown",
   "id": "8b00c2b3-eaf8-49e8-b704-8ca3aad14281",
   "metadata": {},
   "source": [
    "# Problem Statement:\n",
    "\n",
    "Write a Python program that allows you to enter grocery items and adds them in list. Print the final list\n"
   ]
  },
  {
   "cell_type": "code",
   "execution_count": 2,
   "id": "d2945fa9-273b-4dd6-b554-a2b949769abf",
   "metadata": {},
   "outputs": [
    {
     "name": "stdin",
     "output_type": "stream",
     "text": [
      "Enter a grocery item (or type 'done' to finish):  100\n"
     ]
    },
    {
     "name": "stdout",
     "output_type": "stream",
     "text": [
      "\n",
      "Final Grocery List:\n",
      "1. 100\n"
     ]
    },
    {
     "name": "stdin",
     "output_type": "stream",
     "text": [
      "Enter a grocery item (or type 'done' to finish):  milk\n"
     ]
    },
    {
     "name": "stdout",
     "output_type": "stream",
     "text": [
      "\n",
      "Final Grocery List:\n",
      "1. 100\n",
      "2. milk\n"
     ]
    },
    {
     "name": "stdin",
     "output_type": "stream",
     "text": [
      "Enter a grocery item (or type 'done' to finish):  done\n"
     ]
    },
    {
     "name": "stdout",
     "output_type": "stream",
     "text": [
      "['100', 'milk']\n"
     ]
    }
   ],
   "source": [
    "List=[]\n",
    "\n",
    "while True:\n",
    "    item = input(\"Enter a grocery item (or type 'done' to finish): \").strip()\n",
    "    if item.lower() == 'done':\n",
    "        break\n",
    "        \n",
    "    List.append(item)\n",
    "    \n",
    "    print(\"\\nFinal Grocery List:\")\n",
    "    for idx, item in enumerate(List, start=1):\n",
    "        print(f\"{idx}. {item}\")\n",
    "\n",
    "print(List)"
   ]
  },
  {
   "cell_type": "markdown",
   "id": "15f0b6a2-fde4-4ffa-ae49-3327b2d37784",
   "metadata": {},
   "source": [
    "whether Triangle if formed or not"
   ]
  },
  {
   "cell_type": "code",
   "execution_count": 3,
   "id": "d4c732ff-2758-44c2-8415-0fa11e72e1be",
   "metadata": {},
   "outputs": [
    {
     "name": "stdin",
     "output_type": "stream",
     "text": [
      "Enter first angle: 50\n",
      "Enter second angle: 50\n",
      "Enter third angle: 50\n"
     ]
    },
    {
     "name": "stdout",
     "output_type": "stream",
     "text": [
      "It does not forms Triangle\n"
     ]
    }
   ],
   "source": [
    "angle1=int(input(\"Enter first angle:\"))\n",
    "angle2=int(input(\"Enter second angle:\"))\n",
    "angle3=int(input(\"Enter third angle:\"))\n",
    "\n",
    "if (angle1+angle2+angle3 == 180):\n",
    "    print(\"It forms Triangle\")\n",
    "else:\n",
    "    print(\"It does not forms Triangle\")"
   ]
  },
  {
   "cell_type": "markdown",
   "id": "f6ca1d09-6fcf-44cc-a965-df20f77c6eca",
   "metadata": {},
   "source": [
    "\n",
    "write a pogram which takes user input of cost price and selling price and determine whether loss or profit"
   ]
  },
  {
   "cell_type": "code",
   "execution_count": 4,
   "id": "932c3bd4-57e2-4dfc-ba88-1bee84fd8a89",
   "metadata": {},
   "outputs": [
    {
     "name": "stdin",
     "output_type": "stream",
     "text": [
      "Enter the cost price: 20\n",
      "Enter the selling price: 10\n"
     ]
    },
    {
     "name": "stdout",
     "output_type": "stream",
     "text": [
      "Loss\n"
     ]
    }
   ],
   "source": [
    "cp=int(input(\"Enter the cost price:\"))\n",
    "sp=int(input(\"Enter the selling price:\"))\n",
    "\n",
    "if cp>sp:\n",
    "    print(\"Loss\")\n",
    "else:\n",
    "    print(\"Profit\")"
   ]
  },
  {
   "cell_type": "markdown",
   "id": "219e8d2b-1831-4406-b110-baff3e5ff17c",
   "metadata": {},
   "source": [
    "Write a python program that takes temperature as input and find highest aong them"
   ]
  },
  {
   "cell_type": "code",
   "execution_count": 5,
   "id": "3cb13cfb-9470-41c5-9175-f6b9f07fe6d5",
   "metadata": {},
   "outputs": [
    {
     "name": "stdin",
     "output_type": "stream",
     "text": [
      "Want to add temp(Y/N): N\n"
     ]
    },
    {
     "name": "stdout",
     "output_type": "stream",
     "text": [
      "[]\n",
      "Highest Temperature is: -20\n"
     ]
    }
   ],
   "source": [
    "List=[]\n",
    "max=-20\n",
    "while True:\n",
    "    dec=input(\"Want to add temp(Y/N):\").strip()\n",
    "    if dec.upper() == 'N':\n",
    "        break\n",
    "    else:\n",
    "        temp=int(input(\"Enter temperature in 'C\"))\n",
    "        List.append(temp)\n",
    "\n",
    "for i in range(len(List)):\n",
    "    if List[i]>max:\n",
    "        max=List[i]\n",
    "        \n",
    "print(List)\n",
    "print(\"Highest Temperature is:\", max)"
   ]
  },
  {
   "cell_type": "code",
   "execution_count": 6,
   "id": "950b1b25-4441-47dc-bdee-24e01a4527de",
   "metadata": {},
   "outputs": [
    {
     "name": "stdin",
     "output_type": "stream",
     "text": [
      "Enter a number: 5\n"
     ]
    },
    {
     "name": "stdout",
     "output_type": "stream",
     "text": [
      "Factorial: 120\n"
     ]
    }
   ],
   "source": [
    "num= int(input(\"Enter a number:\"))\n",
    "fact=1\n",
    "if (num>=0):\n",
    "    for i in range(1, num+1):\n",
    "        fact=fact*i\n",
    "    print(\"Factorial:\", fact)\n",
    "else:\n",
    "    print(\"invalid value\")\n",
    "        \n"
   ]
  },
  {
   "cell_type": "markdown",
   "id": "9750df01-f1a9-4808-852b-901ef18a5a85",
   "metadata": {},
   "source": [
    "Reverse the given number"
   ]
  },
  {
   "cell_type": "code",
   "execution_count": 8,
   "id": "d4f4e49c-bb1f-4888-a823-94a118245d3a",
   "metadata": {},
   "outputs": [
    {
     "name": "stdin",
     "output_type": "stream",
     "text": [
      "Enter the number 100\n"
     ]
    },
    {
     "name": "stdout",
     "output_type": "stream",
     "text": [
      "001\n"
     ]
    }
   ],
   "source": [
    "num=int(input(\"Enter the number\"))\n",
    "print(str(num)[::-1])"
   ]
  },
  {
   "cell_type": "code",
   "execution_count": 10,
   "id": "510b0b2c-d77b-46f5-9c3b-aaa851e2e7c9",
   "metadata": {},
   "outputs": [
    {
     "name": "stdin",
     "output_type": "stream",
     "text": [
      "Enter your income: 10000\n",
      "Enter your expenses for rent: 100\n",
      "Enter your expenses for food: 100\n",
      "Enter your expenses for entertainment: 500\n"
     ]
    },
    {
     "name": "stdout",
     "output_type": "stream",
     "text": [
      "Total Expense: 700.0\n",
      "Balance Income: 9300.0\n"
     ]
    }
   ],
   "source": [
    "income=float(input(\"Enter your income:\"))\n",
    "rent= float(input(\"Enter your expenses for rent:\"))\n",
    "food= float(input(\"Enter your expenses for food:\"))\n",
    "entertainment= float(input(\"Enter your expenses for entertainment:\"))\n",
    "\n",
    "\n",
    "expense={\"rent\":rent, \"food\":food, \"entertainment\":entertainment}\n",
    "total_expense=rent+food+entertainment\n",
    "balance=income-total_expense\n",
    "\n",
    "print(\"Total Expense:\", total_expense)\n",
    "print(\"Balance Income:\", balance)"
   ]
  },
  {
   "cell_type": "markdown",
   "id": "f4549c6e-a4db-4a16-b1f4-19dd5fe59139",
   "metadata": {},
   "source": [
    "number which is divisible by 7 but not by 5. number between 2000 to 3200, print seperated by comma"
   ]
  },
  {
   "cell_type": "code",
   "execution_count": 12,
   "id": "04119d80-df84-474f-b42d-fc7e09eebeaa",
   "metadata": {},
   "outputs": [
    {
     "name": "stdout",
     "output_type": "stream",
     "text": [
      "2002,2009,2016,2023,2037,2044,2051,2058,2072,2079,2086,2093,2107,2114,2121,2128,2142,2149,2156,2163,2177,2184,2191,2198,2212,2219,2226,2233,2247,2254,2261,2268,2282,2289,2296,2303,2317,2324,2331,2338,2352,2359,2366,2373,2387,2394,2401,2408,2422,2429,2436,2443,2457,2464,2471,2478,2492,2499,2506,2513,2527,2534,2541,2548,2562,2569,2576,2583,2597,2604,2611,2618,2632,2639,2646,2653,2667,2674,2681,2688,2702,2709,2716,2723,2737,2744,2751,2758,2772,2779,2786,2793,2807,2814,2821,2828,2842,2849,2856,2863,2877,2884,2891,2898,2912,2919,2926,2933,2947,2954,2961,2968,2982,2989,2996,3003,3017,3024,3031,3038,3052,3059,3066,3073,3087,3094,3101,3108,3122,3129,3136,3143,3157,3164,3171,3178,3192,3199,"
     ]
    }
   ],
   "source": [
    "for i in range(2000, 3200):\n",
    "    if i%7 == 0 and i%5 != 0:\n",
    "        print(i, end=\",\")"
   ]
  },
  {
   "cell_type": "code",
   "execution_count": 31,
   "id": "e1993c5f-ca0d-407c-a5b8-1ef7e13099b4",
   "metadata": {},
   "outputs": [
    {
     "name": "stdout",
     "output_type": "stream",
     "text": [
      "2000 2002 2004 2006 2008 2020 2022 2024 2026 2028 2040 2042 2044 2046 2048 2060 2062 2064 2066 2068 2080 2082 2084 2086 2088 2200 2202 2204 2206 2208 2220 2222 2224 2226 2228 2240 2242 2244 2246 2248 2260 2262 2264 2266 2268 2280 2282 2284 2286 2288 2400 2402 2404 2406 2408 2420 2422 2424 2426 2428 2440 2442 2444 2446 2448 2460 2462 2464 2466 2468 2480 2482 2484 2486 2488 2600 2602 2604 2606 2608 2620 2622 2624 2626 2628 2640 2642 2644 2646 2648 2660 2662 2664 2666 2668 2680 2682 2684 2686 2688 2800 2802 2804 2806 2808 2820 2822 2824 2826 2828 2840 2842 2844 2846 2848 2860 2862 2864 2866 2868 2880 2882 2884 2886 2888 "
     ]
    }
   ],
   "source": [
    "for i in range(1000, 3001):\n",
    "    num=str(i)\n",
    "    count=0\n",
    "    for j in num:\n",
    "        if int(j)%2 ==0:\n",
    "            count+=1\n",
    "        else:\n",
    "            break\n",
    "        if count==4:\n",
    "            print(num, end=\" \")"
   ]
  },
  {
   "cell_type": "code",
   "execution_count": null,
   "id": "689332f9-5675-4a50-9639-284339cd7489",
   "metadata": {},
   "outputs": [],
   "source": []
  },
  {
   "cell_type": "code",
   "execution_count": null,
   "id": "1858c56f-629e-4219-ac6d-30077b88b102",
   "metadata": {},
   "outputs": [],
   "source": []
  },
  {
   "cell_type": "code",
   "execution_count": null,
   "id": "dd4274b6-c765-4ab8-8227-5951eff7ef72",
   "metadata": {},
   "outputs": [],
   "source": []
  },
  {
   "cell_type": "code",
   "execution_count": null,
   "id": "b9ab732c-e1c6-47f2-9b7b-937c14400c65",
   "metadata": {},
   "outputs": [],
   "source": []
  },
  {
   "cell_type": "code",
   "execution_count": null,
   "id": "2f77a4d4-f215-45c0-bc1f-84b79a95c93e",
   "metadata": {},
   "outputs": [],
   "source": []
  }
 ],
 "metadata": {
  "kernelspec": {
   "display_name": "Python 3 (ipykernel)",
   "language": "python",
   "name": "python3"
  },
  "language_info": {
   "codemirror_mode": {
    "name": "ipython",
    "version": 3
   },
   "file_extension": ".py",
   "mimetype": "text/x-python",
   "name": "python",
   "nbconvert_exporter": "python",
   "pygments_lexer": "ipython3",
   "version": "3.12.1"
  }
 },
 "nbformat": 4,
 "nbformat_minor": 5
}
