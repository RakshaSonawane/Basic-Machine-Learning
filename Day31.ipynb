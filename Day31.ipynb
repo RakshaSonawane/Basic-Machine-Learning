{
 "cells": [
  {
   "cell_type": "code",
   "execution_count": 1,
   "id": "31994a22-f563-4d98-859b-4631e0b68e48",
   "metadata": {},
   "outputs": [],
   "source": [
    "import numpy as np\n",
    "from keras.models import Sequential\n",
    "from keras.layers import Dense\n"
   ]
  },
  {
   "cell_type": "code",
   "execution_count": 2,
   "id": "5ba10672-8771-4a4d-8266-90edafb7af28",
   "metadata": {},
   "outputs": [
    {
     "data": {
      "text/plain": [
       "array([0, 1])"
      ]
     },
     "execution_count": 2,
     "metadata": {},
     "output_type": "execute_result"
    }
   ],
   "source": [
    "data = np.random.random((1000,100))\n",
    "labels = np.random.randint(2, size=(1000,1))\n",
    "model = Sequential()\n",
    "np.unique(labels)"
   ]
  },
  {
   "cell_type": "code",
   "execution_count": 3,
   "id": "d5a52706-1d3d-4eb0-b67d-15a27896437f",
   "metadata": {},
   "outputs": [
    {
     "name": "stderr",
     "output_type": "stream",
     "text": [
      "C:\\Users\\uSER\\AppData\\Local\\Programs\\Python\\Python312\\Lib\\site-packages\\keras\\src\\layers\\core\\dense.py:87: UserWarning: Do not pass an `input_shape`/`input_dim` argument to a layer. When using Sequential models, prefer using an `Input(shape)` object as the first layer in the model instead.\n",
      "  super().__init__(activity_regularizer=activity_regularizer, **kwargs)\n"
     ]
    },
    {
     "name": "stdout",
     "output_type": "stream",
     "text": [
      "Epoch 1/10\n",
      "\u001b[1m32/32\u001b[0m \u001b[32m━━━━━━━━━━━━━━━━━━━━\u001b[0m\u001b[37m\u001b[0m \u001b[1m1s\u001b[0m 3ms/step - accuracy: 0.5319 - loss: 0.7159\n",
      "Epoch 2/10\n",
      "\u001b[1m32/32\u001b[0m \u001b[32m━━━━━━━━━━━━━━━━━━━━\u001b[0m\u001b[37m\u001b[0m \u001b[1m0s\u001b[0m 2ms/step - accuracy: 0.5444 - loss: 0.6892\n",
      "Epoch 3/10\n",
      "\u001b[1m32/32\u001b[0m \u001b[32m━━━━━━━━━━━━━━━━━━━━\u001b[0m\u001b[37m\u001b[0m \u001b[1m0s\u001b[0m 2ms/step - accuracy: 0.5331 - loss: 0.6970\n",
      "Epoch 4/10\n",
      "\u001b[1m32/32\u001b[0m \u001b[32m━━━━━━━━━━━━━━━━━━━━\u001b[0m\u001b[37m\u001b[0m \u001b[1m0s\u001b[0m 2ms/step - accuracy: 0.5360 - loss: 0.6808\n",
      "Epoch 5/10\n",
      "\u001b[1m32/32\u001b[0m \u001b[32m━━━━━━━━━━━━━━━━━━━━\u001b[0m\u001b[37m\u001b[0m \u001b[1m0s\u001b[0m 2ms/step - accuracy: 0.5443 - loss: 0.6900\n",
      "Epoch 6/10\n",
      "\u001b[1m32/32\u001b[0m \u001b[32m━━━━━━━━━━━━━━━━━━━━\u001b[0m\u001b[37m\u001b[0m \u001b[1m0s\u001b[0m 2ms/step - accuracy: 0.5433 - loss: 0.6793\n",
      "Epoch 7/10\n",
      "\u001b[1m32/32\u001b[0m \u001b[32m━━━━━━━━━━━━━━━━━━━━\u001b[0m\u001b[37m\u001b[0m \u001b[1m0s\u001b[0m 4ms/step - accuracy: 0.5480 - loss: 0.6804\n",
      "Epoch 8/10\n",
      "\u001b[1m32/32\u001b[0m \u001b[32m━━━━━━━━━━━━━━━━━━━━\u001b[0m\u001b[37m\u001b[0m \u001b[1m0s\u001b[0m 3ms/step - accuracy: 0.5772 - loss: 0.6806\n",
      "Epoch 9/10\n",
      "\u001b[1m32/32\u001b[0m \u001b[32m━━━━━━━━━━━━━━━━━━━━\u001b[0m\u001b[37m\u001b[0m \u001b[1m0s\u001b[0m 2ms/step - accuracy: 0.5447 - loss: 0.6813\n",
      "Epoch 10/10\n",
      "\u001b[1m32/32\u001b[0m \u001b[32m━━━━━━━━━━━━━━━━━━━━\u001b[0m\u001b[37m\u001b[0m \u001b[1m0s\u001b[0m 2ms/step - accuracy: 0.5700 - loss: 0.6711\n",
      "\u001b[1m32/32\u001b[0m \u001b[32m━━━━━━━━━━━━━━━━━━━━\u001b[0m\u001b[37m\u001b[0m \u001b[1m0s\u001b[0m 3ms/step\n"
     ]
    }
   ],
   "source": [
    "model.add(Dense(32,\n",
    "               activation = 'relu',\n",
    "               input_dim = 100))\n",
    "model.add(Dense(1, activation = 'sigmoid'))\n",
    "model.compile(optimizer='rmsprop',\n",
    "             loss = 'binary_crossentropy',\n",
    "             metrics = ['accuracy'])\n",
    "model.fit(data,labels,epochs = 10, batch_size = 32)\n",
    "predictions = model.predict(data)\n"
   ]
  },
  {
   "cell_type": "code",
   "execution_count": 4,
   "id": "1f1e8e3f-6179-4f89-bf05-1fd1bf6dfd4c",
   "metadata": {},
   "outputs": [],
   "source": [
    "from keras .datasets import boston_housing, mnist, cifar10, imdb"
   ]
  },
  {
   "cell_type": "code",
   "execution_count": 5,
   "id": "733402c8-2bc7-4347-8c79-073b0aead992",
   "metadata": {},
   "outputs": [],
   "source": [
    "(x_train, y_train), (x_test, y_test) = mnist.load_data()\n",
    "(x_train2, y_train2), (x_test2, y_test2) = boston_housing.load_data()\n",
    "(x_train3, y_train3), (x_test3, y_test3) = cifar10.load_data()\n",
    "(x_train4, y_train4), (x_test4, y_test4) = imdb.load_data(num_words = 20000)\n",
    "num_classes = 10"
   ]
  },
  {
   "cell_type": "code",
   "execution_count": null,
   "id": "175e81c5-a19f-4d3f-9bea-63648ba95746",
   "metadata": {},
   "outputs": [],
   "source": [
    "np.unique(x_train), np.unique(x_test),np.unique(x_train2),np.unique(x_test2),np.unique(x_train3),np.unique(x_test3),np.unique(x_train4), np.unique(x_test4)"
   ]
  },
  {
   "cell_type": "code",
   "execution_count": null,
   "id": "8a003bfa-12db-4a18-bcb6-4352e5357867",
   "metadata": {},
   "outputs": [],
   "source": [
    "np.unique(y_train), np.unique(y_test),np.unique(y_train2),np.unique(y_test2),np.unique(y_train3),np.unique(y_test3),np.unique(y_train4), np.unique(y_test4)"
   ]
  },
  {
   "cell_type": "code",
   "execution_count": null,
   "id": "eecc330c-aa48-4ede-bc8c-588185e1db73",
   "metadata": {},
   "outputs": [],
   "source": [
    "from keras.preprocessing import sequence\n"
   ]
  },
  {
   "cell_type": "code",
   "execution_count": null,
   "id": "bfe266c6-c685-4a6f-8e6a-22fc4a6dd0db",
   "metadata": {},
   "outputs": [],
   "source": [
    "x_train4 = sequence.pad_sequences(x_train4, maxlen = 80)\n",
    "x_test4 = sequence.pad_sequences(x_test4, maxlen = 80)\n",
    "x_train4, x_test4"
   ]
  },
  {
   "cell_type": "code",
   "execution_count": null,
   "id": "5327b3ce-8fda-4af5-86e8-3ee265a9d12c",
   "metadata": {},
   "outputs": [],
   "source": [
    "from keras.utils import to_categorical\n",
    "y_train = to_categorical(y_train, num_classes)\n",
    "y_train2 = to_categorical(y_test, num_classes)\n",
    "y_train3 = to_categorical(y_train3, num_classes)\n",
    "y_train4 = to_categorical(y_test3, num_classes)"
   ]
  },
  {
   "cell_type": "code",
   "execution_count": null,
   "id": "90440bf0-0d31-4dbe-a59c-968e36592b71",
   "metadata": {},
   "outputs": [],
   "source": [
    "from keras.models import Sequential"
   ]
  },
  {
   "cell_type": "code",
   "execution_count": null,
   "id": "60207a4c-c9ae-42c8-9f01-a8c65587f09c",
   "metadata": {},
   "outputs": [],
   "source": [
    "model1 = Sequential()\n",
    "model2 = Sequential()\n",
    "model3 = Sequential()"
   ]
  },
  {
   "cell_type": "markdown",
   "id": "30fd6d39-5b2f-4eb4-80b9-dbe764a5d4ec",
   "metadata": {},
   "source": [
    "#### Binary classification using Keras"
   ]
  },
  {
   "cell_type": "code",
   "execution_count": null,
   "id": "cb1f9dd1-cd2f-423f-9907-97e9f61fd0fa",
   "metadata": {},
   "outputs": [],
   "source": [
    "\n",
    "\n",
    "model.add(Dense(12,\n",
    "               input_dim= 8,\n",
    "               kernel_initializer = 'uniform',\n",
    "               activation = 'relu'))\n"
   ]
  },
  {
   "cell_type": "code",
   "execution_count": null,
   "id": "f144bda0-a200-4f65-89fc-e662dda0867a",
   "metadata": {},
   "outputs": [],
   "source": [
    "model.add(Dense(8, kernel_initializer = 'uniform', activation = 'relu'))"
   ]
  },
  {
   "cell_type": "code",
   "execution_count": null,
   "id": "daf18365-6fd6-4571-88de-952f604c9d30",
   "metadata": {},
   "outputs": [],
   "source": [
    "model.add(Dense(1, kernel_initializer = 'uniform', activation = 'sigmoid'))"
   ]
  },
  {
   "cell_type": "code",
   "execution_count": null,
   "id": "3180593a-df2b-4426-8f86-e9d150eba5e3",
   "metadata": {},
   "outputs": [],
   "source": [
    "model.compile(optimizer = 'adam',\n",
    "             loss = 'binary_crossentropy',\n",
    "             metrics = ['accuracy'])\n",
    "\n",
    "x_train4 = np.array(x_train4)\n",
    "if (x_train4.shape[1] == 80):\n",
    "    x_train4 = x_train4.reshape(-1,8)\n",
    "\n",
    "y_train4 = np.array(y_train4)"
   ]
  },
  {
   "cell_type": "code",
   "execution_count": null,
   "id": "b0f791e8-11b7-4244-9b09-b3d6d5478ea6",
   "metadata": {},
   "outputs": [],
   "source": [
    "model.fit(x_train4[0:25000], y_train4, epochs = 10, batch_size = 32)"
   ]
  },
  {
   "cell_type": "markdown",
   "id": "40265367-937f-4966-83d2-59af7ef8d6bb",
   "metadata": {},
   "source": [
    "#### Multi-Class Classification"
   ]
  },
  {
   "cell_type": "code",
   "execution_count": null,
   "id": "00eb75ab-7093-4444-a3ae-306f69fb81a5",
   "metadata": {},
   "outputs": [],
   "source": [
    "from keras.layers import Dropout\n"
   ]
  },
  {
   "cell_type": "code",
   "execution_count": null,
   "id": "4324a428-b386-4032-8d1e-4a743514d1c4",
   "metadata": {},
   "outputs": [],
   "source": [
    "model.add(Dense(512, activation = 'relu', input_shape = (784, )))\n",
    "model.add(Dropout(0.2))\n",
    "model.add(Dense(512, activation = 'relu'))\n",
    "model.add(Dropout(0.2))\n",
    "model.add(Dense(10, activation = 'softmax'))\n",
    "model.compile(optimizer = 'rmsprop',\n",
    "             loss = 'categorical_crossentropy',\n",
    "             metrics = ['accuracy'])\n",
    "model.fit(data,labels,epochs = 10, batch_size = 32)\n",
    "predictions = model.predict(data)"
   ]
  },
  {
   "cell_type": "code",
   "execution_count": null,
   "id": "e7d1a0db-8cf5-4c80-a808-c79c2345e721",
   "metadata": {},
   "outputs": [],
   "source": [
    "model.add(Dense ( 64, activation='relu', input_dim = x_train4.shape))\n",
    "model.add(Dense(1))"
   ]
  },
  {
   "cell_type": "code",
   "execution_count": null,
   "id": "2fc65fbb-0df7-44e5-8adc-f4ce804ce32b",
   "metadata": {},
   "outputs": [],
   "source": [
    "model.compile(optimizer = 'rmsprop',\n",
    "             loss = 'mse',\n",
    "             metrics = ['mse'])\n",
    "model.fit(data,labels,epochs = 10, batch_size = 32)\n",
    "predictions = model.predict(data)"
   ]
  },
  {
   "cell_type": "code",
   "execution_count": null,
   "id": "02c4ef74-3077-49f8-ba5b-29b966a45369",
   "metadata": {},
   "outputs": [],
   "source": []
  },
  {
   "cell_type": "code",
   "execution_count": null,
   "id": "e0878487-5958-4b9e-9d39-cd05756091fe",
   "metadata": {},
   "outputs": [],
   "source": []
  }
 ],
 "metadata": {
  "kernelspec": {
   "display_name": "Python 3 (ipykernel)",
   "language": "python",
   "name": "python3"
  },
  "language_info": {
   "codemirror_mode": {
    "name": "ipython",
    "version": 3
   },
   "file_extension": ".py",
   "mimetype": "text/x-python",
   "name": "python",
   "nbconvert_exporter": "python",
   "pygments_lexer": "ipython3",
   "version": "3.12.4"
  }
 },
 "nbformat": 4,
 "nbformat_minor": 5
}
