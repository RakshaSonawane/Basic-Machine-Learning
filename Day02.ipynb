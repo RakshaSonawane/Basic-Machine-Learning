{
 "cells": [
  {
   "cell_type": "markdown",
   "id": "11605997-c1c0-43e4-a6c3-ab3aa50b3829",
   "metadata": {},
   "source": [
    "Matrix Operation"
   ]
  },
  {
   "cell_type": "code",
   "execution_count": 1,
   "id": "528e4bf7-fbf4-425f-b5e5-fede2e957c0e",
   "metadata": {},
   "outputs": [],
   "source": [
    "import numpy as np"
   ]
  },
  {
   "cell_type": "markdown",
   "id": "b3229ada-0024-4dc5-b2c0-4caad6a355ca",
   "metadata": {},
   "source": [
    "List is set of ordered data which is mutable\n",
    "Tuple is set of ordered data which is immutable\n",
    "Dictionary is set of Key-Value pair\n",
    "Set is Collection of unordered data"
   ]
  },
  {
   "cell_type": "code",
   "execution_count": 2,
   "id": "0f0bd2a4-d2c4-448b-a202-7065cfe73a6b",
   "metadata": {},
   "outputs": [
    {
     "name": "stdout",
     "output_type": "stream",
     "text": [
      "[[1, 2, 3], [4, 5, 6], [7, 8, 9]]\n"
     ]
    }
   ],
   "source": [
    "#Vector 1\n",
    "\n",
    "vector1=[[1,2,3],[4,5,6],[7,8,9]]\n",
    "print(vector1)"
   ]
  },
  {
   "cell_type": "code",
   "execution_count": 3,
   "id": "ff44f315-45c9-4362-8695-bdb240ae5cd3",
   "metadata": {},
   "outputs": [
    {
     "name": "stdout",
     "output_type": "stream",
     "text": [
      "[[9, 8, 7], [6, 5, 4], [3, 2, 1]]\n"
     ]
    }
   ],
   "source": [
    "#Vector 2\n",
    "\n",
    "vector2=[[9,8,7],[6,5,4],[3,2,1]]\n",
    "print(vector2)"
   ]
  },
  {
   "cell_type": "code",
   "execution_count": 4,
   "id": "6d595a4c-7cf6-48aa-aad6-f72b2593b91e",
   "metadata": {},
   "outputs": [
    {
     "name": "stdout",
     "output_type": "stream",
     "text": [
      "[[1, 2, 3], [4, 5, 6], [7, 8, 9], [9, 8, 7], [6, 5, 4], [3, 2, 1]]\n"
     ]
    }
   ],
   "source": [
    "#Vector Addition\n",
    "\n",
    "vector=vector1 + vector2\n",
    "print(vector)"
   ]
  },
  {
   "cell_type": "code",
   "execution_count": 5,
   "id": "29cd9cf1-5bdd-4e36-aa30-06418d32f068",
   "metadata": {},
   "outputs": [
    {
     "name": "stdout",
     "output_type": "stream",
     "text": [
      "[[1 2 3]\n",
      " [4 5 6]\n",
      " [7 8 9]]\n",
      "[[9 8 7]\n",
      " [6 5 4]\n",
      " [3 2 1]]\n"
     ]
    }
   ],
   "source": [
    "#Matrix A and Matrix B\n",
    "\n",
    "a= np.array([[1,2,3],[4,5,6],[7,8,9]])\n",
    "print(a)\n",
    "b= np.array([[9,8,7],[6,5,4],[3,2,1]])\n",
    "print(b)"
   ]
  },
  {
   "cell_type": "code",
   "execution_count": 6,
   "id": "e9f64367-3faf-4f61-9dc0-1aaa32099236",
   "metadata": {},
   "outputs": [
    {
     "name": "stdout",
     "output_type": "stream",
     "text": [
      "<class 'numpy.ndarray'>\n"
     ]
    }
   ],
   "source": [
    "#Type of A\n",
    "\n",
    "print(type(a))"
   ]
  },
  {
   "cell_type": "code",
   "execution_count": 7,
   "id": "d5cb490c-c8b1-4c97-8f2c-981ff376b46e",
   "metadata": {},
   "outputs": [
    {
     "name": "stdout",
     "output_type": "stream",
     "text": [
      "[[10 10 10]\n",
      " [10 10 10]\n",
      " [10 10 10]]\n"
     ]
    }
   ],
   "source": [
    "#Addition of Matrices\n",
    "\n",
    "print(a+b)"
   ]
  },
  {
   "cell_type": "code",
   "execution_count": 8,
   "id": "a558c016-b983-4ba6-a81c-13213a74663c",
   "metadata": {},
   "outputs": [
    {
     "name": "stdout",
     "output_type": "stream",
     "text": [
      "[[-8 -6 -4]\n",
      " [-2  0  2]\n",
      " [ 4  6  8]]\n"
     ]
    }
   ],
   "source": [
    "#Subtraction of Matrices\n",
    "\n",
    "print(a-b)"
   ]
  },
  {
   "cell_type": "code",
   "execution_count": 9,
   "id": "30ce1468-8c69-42b0-aaaa-dc19fe927c80",
   "metadata": {},
   "outputs": [
    {
     "name": "stdout",
     "output_type": "stream",
     "text": [
      "[[ 9 16 21]\n",
      " [24 25 24]\n",
      " [21 16  9]]\n"
     ]
    }
   ],
   "source": [
    "#Multiplication of Scalar Matrices\n",
    "\n",
    "Scalar_mul = a * b\n",
    "print(Scalar_mul)"
   ]
  },
  {
   "cell_type": "code",
   "execution_count": 10,
   "id": "46a11ae9-f152-42a5-9344-278444154c67",
   "metadata": {},
   "outputs": [
    {
     "data": {
      "text/plain": [
       "array([[ 30,  24,  18],\n",
       "       [ 84,  69,  54],\n",
       "       [138, 114,  90]])"
      ]
     },
     "execution_count": 10,
     "metadata": {},
     "output_type": "execute_result"
    }
   ],
   "source": [
    "#Multiplication of Vector Matrices\n",
    "\n",
    "vector_mul = np.dot(a, b)\n",
    "vector_mul"
   ]
  },
  {
   "cell_type": "code",
   "execution_count": 11,
   "id": "2b612aa4-f9d2-4a66-8de2-e6bc54e36e6c",
   "metadata": {},
   "outputs": [
    {
     "name": "stdout",
     "output_type": "stream",
     "text": [
      "[[1 4 7]\n",
      " [2 5 8]\n",
      " [3 6 9]]\n",
      "[[9 6 3]\n",
      " [8 5 2]\n",
      " [7 4 1]]\n"
     ]
    }
   ],
   "source": [
    "# Transpose of Matrices\n",
    "\n",
    "print(a.T)\n",
    "print(b.T)"
   ]
  },
  {
   "cell_type": "code",
   "execution_count": 12,
   "id": "0cf1a09e-beaf-463d-bb7e-519481bf049c",
   "metadata": {},
   "outputs": [
    {
     "name": "stdout",
     "output_type": "stream",
     "text": [
      "[[1. 0.]\n",
      " [0. 1.]]\n",
      "[[1. 0. 0.]\n",
      " [0. 1. 0.]\n",
      " [0. 0. 1.]]\n",
      "[[1. 0. 0. 0. 0.]\n",
      " [0. 1. 0. 0. 0.]\n",
      " [0. 0. 1. 0. 0.]\n",
      " [0. 0. 0. 1. 0.]]\n"
     ]
    }
   ],
   "source": [
    "#Identical function for Matrices\n",
    "\n",
    "I1= np.eye(2)   #eye() is function for identical matrix which takes size of matrix as parameter\n",
    "I2= np.eye(3)\n",
    "print(I1)\n",
    "print(I2)\n",
    "\n",
    "I3= np.eye(4,5)\n",
    "print(I3)"
   ]
  },
  {
   "cell_type": "code",
   "execution_count": 13,
   "id": "23be4a13-f3b9-460f-8d09-73c63437a5f9",
   "metadata": {},
   "outputs": [
    {
     "name": "stdout",
     "output_type": "stream",
     "text": [
      "Iteration 1 \n",
      "X value is 3.0\n",
      "Iteration 2 \n",
      "X value is 1.4\n",
      "Iteration 3 \n",
      "X value is 0.11999999999999966\n",
      "Iteration 4 \n",
      "X value is -0.9040000000000001\n",
      "Iteration 5 \n",
      "X value is -1.7232000000000003\n",
      "Iteration 6 \n",
      "X value is -2.3785600000000002\n",
      "Iteration 7 \n",
      "X value is -2.902848\n",
      "Iteration 8 \n",
      "X value is -3.3222784\n",
      "The local minimum occurs at -3.3222784\n"
     ]
    }
   ],
   "source": [
    "cur_x = 5   #Select randomly\n",
    "rate = 0.1   #Learning Rate\n",
    "precision =0.5   #Termination for algo\n",
    "previous_step_size =1   \n",
    "max_iters = 1000000   #Maximum number of iteration\n",
    "iters =0   #Iteration counter\n",
    "\n",
    "df = lambda x: 2*(x+5)\n",
    "\n",
    "while previous_step_size > precision and iters < max_iters:\n",
    "    prev_x = cur_x   #Store current x value in prev_x\n",
    "    cur_x = cur_x - rate * df(prev_x)   #Formula for gradient Descent\n",
    "    previous_step_size = abs(cur_x - prev_x)   \n",
    "    iters = iters + 1   #Increment counter\n",
    "    print(\"Iteration\", iters, \"\\nX value is\", cur_x)\n",
    "\n",
    "print(\"The local minimum occurs at\", cur_x)"
   ]
  },
  {
   "cell_type": "code",
   "execution_count": 14,
   "id": "f3173453-4600-4447-be82-5643180188f6",
   "metadata": {},
   "outputs": [
    {
     "name": "stderr",
     "output_type": "stream",
     "text": [
      "C:\\Users\\uSER\\AppData\\Local\\Temp\\ipykernel_8520\\2532803755.py:1: DeprecationWarning: \n",
      "Pyarrow will become a required dependency of pandas in the next major release of pandas (pandas 3.0),\n",
      "(to allow more performant data types, such as the Arrow string type, and better interoperability with other libraries)\n",
      "but was not found to be installed on your system.\n",
      "If this would cause problems for you,\n",
      "please provide us feedback at https://github.com/pandas-dev/pandas/issues/54466\n",
      "        \n",
      "  import pandas as pd\n"
     ]
    }
   ],
   "source": [
    "import pandas as pd\n",
    "import warnings\n",
    "warnings.filterwarnings('ignore')\n",
    "\n",
    "df = pd.DataFrame({\"Name\":[\"Jane\", \"Michael\", \"Willian\", \"Rosy\", \"Hana\", \"Ferdie\", \"Graeme\"],\n",
    "                 \"Salary\": [50000,54000,50000,189000,55000,40000,59000]})"
   ]
  },
  {
   "cell_type": "code",
   "execution_count": 15,
   "id": "7d496a68-15ea-45df-bd50-6cf6789123ed",
   "metadata": {},
   "outputs": [
    {
     "data": {
      "text/html": [
       "<div>\n",
       "<style scoped>\n",
       "    .dataframe tbody tr th:only-of-type {\n",
       "        vertical-align: middle;\n",
       "    }\n",
       "\n",
       "    .dataframe tbody tr th {\n",
       "        vertical-align: top;\n",
       "    }\n",
       "\n",
       "    .dataframe thead th {\n",
       "        text-align: right;\n",
       "    }\n",
       "</style>\n",
       "<table border=\"1\" class=\"dataframe\">\n",
       "  <thead>\n",
       "    <tr style=\"text-align: right;\">\n",
       "      <th></th>\n",
       "      <th>Name</th>\n",
       "      <th>Salary</th>\n",
       "    </tr>\n",
       "  </thead>\n",
       "  <tbody>\n",
       "    <tr>\n",
       "      <th>0</th>\n",
       "      <td>Jane</td>\n",
       "      <td>50000</td>\n",
       "    </tr>\n",
       "    <tr>\n",
       "      <th>1</th>\n",
       "      <td>Michael</td>\n",
       "      <td>54000</td>\n",
       "    </tr>\n",
       "    <tr>\n",
       "      <th>2</th>\n",
       "      <td>Willian</td>\n",
       "      <td>50000</td>\n",
       "    </tr>\n",
       "    <tr>\n",
       "      <th>3</th>\n",
       "      <td>Rosy</td>\n",
       "      <td>189000</td>\n",
       "    </tr>\n",
       "    <tr>\n",
       "      <th>4</th>\n",
       "      <td>Hana</td>\n",
       "      <td>55000</td>\n",
       "    </tr>\n",
       "    <tr>\n",
       "      <th>5</th>\n",
       "      <td>Ferdie</td>\n",
       "      <td>40000</td>\n",
       "    </tr>\n",
       "    <tr>\n",
       "      <th>6</th>\n",
       "      <td>Graeme</td>\n",
       "      <td>59000</td>\n",
       "    </tr>\n",
       "  </tbody>\n",
       "</table>\n",
       "</div>"
      ],
      "text/plain": [
       "      Name  Salary\n",
       "0     Jane   50000\n",
       "1  Michael   54000\n",
       "2  Willian   50000\n",
       "3     Rosy  189000\n",
       "4     Hana   55000\n",
       "5   Ferdie   40000\n",
       "6   Graeme   59000"
      ]
     },
     "execution_count": 15,
     "metadata": {},
     "output_type": "execute_result"
    }
   ],
   "source": [
    "df"
   ]
  },
  {
   "cell_type": "code",
   "execution_count": 16,
   "id": "5070fad8-572c-4795-b818-0757bc62bf3a",
   "metadata": {},
   "outputs": [
    {
     "data": {
      "text/plain": [
       "Name      Ferdie\n",
       "Salary     40000\n",
       "dtype: object"
      ]
     },
     "execution_count": 16,
     "metadata": {},
     "output_type": "execute_result"
    }
   ],
   "source": [
    "Min= df.min()\n",
    "Min"
   ]
  },
  {
   "cell_type": "code",
   "execution_count": 17,
   "id": "8227c698-72fb-4ec0-978a-0ea1285502a8",
   "metadata": {},
   "outputs": [
    {
     "data": {
      "text/plain": [
       "Name      Willian\n",
       "Salary     189000\n",
       "dtype: object"
      ]
     },
     "execution_count": 17,
     "metadata": {},
     "output_type": "execute_result"
    }
   ],
   "source": [
    "Max= df.max()\n",
    "Max"
   ]
  },
  {
   "cell_type": "code",
   "execution_count": 18,
   "id": "06f91bcb-c4c8-4e80-bc50-8230b3d76570",
   "metadata": {},
   "outputs": [
    {
     "data": {
      "text/plain": [
       "71000.0"
      ]
     },
     "execution_count": 18,
     "metadata": {},
     "output_type": "execute_result"
    }
   ],
   "source": [
    "Mean = df[\"Salary\"].mean()\n",
    "Mean"
   ]
  },
  {
   "cell_type": "code",
   "execution_count": 19,
   "id": "ddcb456c-e289-452b-bc25-7cc9beafa3bf",
   "metadata": {},
   "outputs": [
    {
     "data": {
      "text/plain": [
       "0    50000\n",
       "Name: Salary, dtype: int64"
      ]
     },
     "execution_count": 19,
     "metadata": {},
     "output_type": "execute_result"
    }
   ],
   "source": [
    "Mode = df[\"Salary\"].mode()\n",
    "Mode"
   ]
  },
  {
   "cell_type": "code",
   "execution_count": 20,
   "id": "f07bb29f-c800-4c28-a8ca-3c82234b8ca0",
   "metadata": {},
   "outputs": [
    {
     "data": {
      "text/plain": [
       "54000.0"
      ]
     },
     "execution_count": 20,
     "metadata": {},
     "output_type": "execute_result"
    }
   ],
   "source": [
    "Median = df[\"Salary\"].median()\n",
    "Median"
   ]
  },
  {
   "cell_type": "code",
   "execution_count": 21,
   "id": "cfa86705-8bac-4f8f-9529-046b83edc648",
   "metadata": {},
   "outputs": [
    {
     "data": {
      "text/plain": [
       "2742666666.6666665"
      ]
     },
     "execution_count": 21,
     "metadata": {},
     "output_type": "execute_result"
    }
   ],
   "source": [
    "Variance = df[\"Salary\"].var()\n",
    "Variance"
   ]
  },
  {
   "cell_type": "code",
   "execution_count": 22,
   "id": "43cf8697-1d78-4c1b-8e32-770fad392bcf",
   "metadata": {},
   "outputs": [
    {
     "data": {
      "text/plain": [
       "52370.47514264756"
      ]
     },
     "execution_count": 22,
     "metadata": {},
     "output_type": "execute_result"
    }
   ],
   "source": [
    "Std_Deviation= df[\"Salary\"].std()\n",
    "Std_Deviation"
   ]
  },
  {
   "cell_type": "code",
   "execution_count": 23,
   "id": "3ec56731-4fbd-445d-b530-8d8d66ef6a1e",
   "metadata": {},
   "outputs": [
    {
     "data": {
      "text/html": [
       "<div>\n",
       "<style scoped>\n",
       "    .dataframe tbody tr th:only-of-type {\n",
       "        vertical-align: middle;\n",
       "    }\n",
       "\n",
       "    .dataframe tbody tr th {\n",
       "        vertical-align: top;\n",
       "    }\n",
       "\n",
       "    .dataframe thead th {\n",
       "        text-align: right;\n",
       "    }\n",
       "</style>\n",
       "<table border=\"1\" class=\"dataframe\">\n",
       "  <thead>\n",
       "    <tr style=\"text-align: right;\">\n",
       "      <th></th>\n",
       "      <th>Salary</th>\n",
       "    </tr>\n",
       "  </thead>\n",
       "  <tbody>\n",
       "    <tr>\n",
       "      <th>count</th>\n",
       "      <td>7.000000</td>\n",
       "    </tr>\n",
       "    <tr>\n",
       "      <th>mean</th>\n",
       "      <td>71000.000000</td>\n",
       "    </tr>\n",
       "    <tr>\n",
       "      <th>std</th>\n",
       "      <td>52370.475143</td>\n",
       "    </tr>\n",
       "    <tr>\n",
       "      <th>min</th>\n",
       "      <td>40000.000000</td>\n",
       "    </tr>\n",
       "    <tr>\n",
       "      <th>25%</th>\n",
       "      <td>50000.000000</td>\n",
       "    </tr>\n",
       "    <tr>\n",
       "      <th>50%</th>\n",
       "      <td>54000.000000</td>\n",
       "    </tr>\n",
       "    <tr>\n",
       "      <th>75%</th>\n",
       "      <td>57000.000000</td>\n",
       "    </tr>\n",
       "    <tr>\n",
       "      <th>max</th>\n",
       "      <td>189000.000000</td>\n",
       "    </tr>\n",
       "  </tbody>\n",
       "</table>\n",
       "</div>"
      ],
      "text/plain": [
       "              Salary\n",
       "count       7.000000\n",
       "mean    71000.000000\n",
       "std     52370.475143\n",
       "min     40000.000000\n",
       "25%     50000.000000\n",
       "50%     54000.000000\n",
       "75%     57000.000000\n",
       "max    189000.000000"
      ]
     },
     "execution_count": 23,
     "metadata": {},
     "output_type": "execute_result"
    }
   ],
   "source": [
    "df.describe()"
   ]
  },
  {
   "cell_type": "code",
   "execution_count": 24,
   "id": "c149386d-4289-4487-9f6e-656442c295d2",
   "metadata": {},
   "outputs": [
    {
     "data": {
      "text/plain": [
       "<Axes: title={'center': 'Salary Distribution'}, ylabel='Frequency'>"
      ]
     },
     "execution_count": 24,
     "metadata": {},
     "output_type": "execute_result"
    },
    {
     "data": {
      "image/png": "[encoded data removed]",
      "text/plain": [
       "<Figure size 640x480 with 1 Axes>"
      ]
     },
     "metadata": {},
     "output_type": "display_data"
    }
   ],
   "source": [
    "import matplotlib.pyplot as plt\n",
    "salary=df[\"Salary\"]\n",
    "salary.plot.hist(title=\"Salary Distribution\", bins=25)"
   ]
  },
  {
   "cell_type": "markdown",
   "id": "6296ddfd-ee75-4523-98b2-2da738e33f6a",
   "metadata": {},
   "source": [
    "Calculus"
   ]
  },
  {
   "cell_type": "code",
   "execution_count": 25,
   "id": "c430f8f0-9d46-4817-beac-d4afaefcff50",
   "metadata": {},
   "outputs": [],
   "source": [
    "import sympy"
   ]
  },
  {
   "cell_type": "code",
   "execution_count": 26,
   "id": "7a80ca3b-3040-4b93-8d97-d610a62b60b2",
   "metadata": {},
   "outputs": [],
   "source": [
    "import math"
   ]
  },
  {
   "cell_type": "code",
   "execution_count": 27,
   "id": "91a71867-c3ba-4e3a-b52d-755325b9885f",
   "metadata": {},
   "outputs": [
    {
     "data": {
      "text/plain": [
       "6.0"
      ]
     },
     "execution_count": 27,
     "metadata": {},
     "output_type": "execute_result"
    }
   ],
   "source": [
    "squareroot = math.sqrt(36)\n",
    "squareroot"
   ]
  },
  {
   "cell_type": "code",
   "execution_count": 28,
   "id": "4ed0e0aa-0110-4519-aa6f-4cb9c511dcf2",
   "metadata": {},
   "outputs": [
    {
     "name": "stdout",
     "output_type": "stream",
     "text": [
      "154\n"
     ]
    }
   ],
   "source": [
    "import operator as op\n",
    "print(op.add(56,98))   #Direct operation can be performed using this module"
   ]
  },
  {
   "cell_type": "code",
   "execution_count": 29,
   "id": "df66950a-c048-4d9a-b653-3c0335bf9f3b",
   "metadata": {},
   "outputs": [
    {
     "name": "stdout",
     "output_type": "stream",
     "text": [
      "2047\n"
     ]
    }
   ],
   "source": [
    "from operator import mul\n",
    "print(mul(89, 23))"
   ]
  },
  {
   "cell_type": "markdown",
   "id": "870a70ca-57f1-4fe8-aebf-471d3ba1a2a9",
   "metadata": {},
   "source": [
    "\n",
    "There are four types of importing \n",
    "    --> direct module === import <modulename>\n",
    "    --> module with alias name === import <modulename> as <aliasname>\n",
    "    --> importung specific single function === from <module> import <function>\n",
    "    --> anonymous === from <module> import *"
   ]
  },
  {
   "cell_type": "code",
   "execution_count": 30,
   "id": "765f1d88-c321-4510-9c4b-e713873f2f47",
   "metadata": {},
   "outputs": [
    {
     "name": "stdin",
     "output_type": "stream",
     "text": [
      "Enter a number 56\n"
     ]
    },
    {
     "data": {
      "text/plain": [
       "263"
      ]
     },
     "execution_count": 30,
     "metadata": {},
     "output_type": "execute_result"
    }
   ],
   "source": [
    "import sympy as sp\n",
    "num = int(input(\"Enter a number\"))\n",
    "sp.prime(num)   #get prime nth prime number"
   ]
  },
  {
   "cell_type": "code",
   "execution_count": 31,
   "id": "2b7f7f82-bef1-44af-8f4c-d0d6bb523517",
   "metadata": {},
   "outputs": [
    {
     "data": {
      "text/plain": [
       "541"
      ]
     },
     "execution_count": 31,
     "metadata": {},
     "output_type": "execute_result"
    }
   ],
   "source": [
    "sp.prime(100)   #get 100th prime number"
   ]
  },
  {
   "cell_type": "code",
   "execution_count": 32,
   "id": "57c3792d-80e8-4508-a61e-c3e8926673ec",
   "metadata": {},
   "outputs": [
    {
     "data": {
      "text/latex": [
       "$\\displaystyle 120$"
      ],
      "text/plain": [
       "120"
      ]
     },
     "execution_count": 32,
     "metadata": {},
     "output_type": "execute_result"
    }
   ],
   "source": [
    "sp.factorial(5)"
   ]
  },
  {
   "cell_type": "code",
   "execution_count": 33,
   "id": "630de98e-2e5d-4fa5-b12e-44f71e9607ad",
   "metadata": {},
   "outputs": [
    {
     "data": {
      "text/plain": [
       "7.211102550927978"
      ]
     },
     "execution_count": 33,
     "metadata": {},
     "output_type": "execute_result"
    }
   ],
   "source": [
    "import math as m\n",
    "m.sqrt(52)"
   ]
  },
  {
   "cell_type": "code",
   "execution_count": 34,
   "id": "dac21190-65ce-4f4a-b75c-48d22b4b0a67",
   "metadata": {},
   "outputs": [
    {
     "data": {
      "text/latex": [
       "$\\displaystyle \\frac{3}{4}$"
      ],
      "text/plain": [
       "3/4"
      ]
     },
     "execution_count": 34,
     "metadata": {},
     "output_type": "execute_result"
    }
   ],
   "source": [
    "sp.Rational(3,4)"
   ]
  },
  {
   "cell_type": "code",
   "execution_count": 35,
   "id": "df37a509-7f81-4903-b488-21d916c16c46",
   "metadata": {},
   "outputs": [
    {
     "data": {
      "text/latex": [
       "$\\displaystyle \\frac{3900231685776981}{1125899906842624}$"
      ],
      "text/plain": [
       "3900231685776981/1125899906842624"
      ]
     },
     "execution_count": 35,
     "metadata": {},
     "output_type": "execute_result"
    }
   ],
   "source": [
    "sqrt1=m.sqrt(12)\n",
    "sp.Rational(sqrt1)"
   ]
  },
  {
   "cell_type": "code",
   "execution_count": 36,
   "id": "902e8abf-a01a-46cc-a2f6-e53fe332667f",
   "metadata": {},
   "outputs": [],
   "source": [
    "expr= sp.pi + sp.sqrt(2)* sp.Rational(3,4)"
   ]
  },
  {
   "cell_type": "code",
   "execution_count": 37,
   "id": "cffd2b60-01e9-4e8c-80f1-3d2f9408295d",
   "metadata": {},
   "outputs": [
    {
     "data": {
      "text/latex": [
       "$\\displaystyle \\pi$"
      ],
      "text/plain": [
       "pi"
      ]
     },
     "execution_count": 37,
     "metadata": {},
     "output_type": "execute_result"
    }
   ],
   "source": [
    "sp.pi"
   ]
  },
  {
   "cell_type": "code",
   "execution_count": 38,
   "id": "5673059f-718c-4356-b7f2-bd16b18fa0b7",
   "metadata": {},
   "outputs": [
    {
     "data": {
      "text/latex": [
       "$\\displaystyle 4.20225282536961$"
      ],
      "text/plain": [
       "4.20225282536961"
      ]
     },
     "execution_count": 38,
     "metadata": {},
     "output_type": "execute_result"
    }
   ],
   "source": [
    "(sp.pi + sp.sqrt(2)* sp.Rational(3,4)).evalf()"
   ]
  },
  {
   "cell_type": "code",
   "execution_count": 39,
   "id": "c4483c4a-a7e6-4c6d-90b9-fa750a7af43a",
   "metadata": {},
   "outputs": [
    {
     "data": {
      "text/latex": [
       "$\\displaystyle 3.14159265358979$"
      ],
      "text/plain": [
       "3.14159265358979"
      ]
     },
     "execution_count": 39,
     "metadata": {},
     "output_type": "execute_result"
    }
   ],
   "source": [
    "(sp.pi).evalf()"
   ]
  },
  {
   "cell_type": "code",
   "execution_count": 40,
   "id": "dbb1b071-1365-4035-a4bb-ce50c653177c",
   "metadata": {},
   "outputs": [
    {
     "data": {
      "text/latex": [
       "$\\displaystyle 4.20225282536961$"
      ],
      "text/plain": [
       "4.20225282536961"
      ]
     },
     "execution_count": 40,
     "metadata": {},
     "output_type": "execute_result"
    }
   ],
   "source": [
    "sp.N(expr)"
   ]
  },
  {
   "cell_type": "code",
   "execution_count": 41,
   "id": "e93ea925-e5f8-4054-9b96-b62a4095e35c",
   "metadata": {},
   "outputs": [
    {
     "data": {
      "text/latex": [
       "$\\displaystyle 4.2023$"
      ],
      "text/plain": [
       "4.2023"
      ]
     },
     "execution_count": 41,
     "metadata": {},
     "output_type": "execute_result"
    }
   ],
   "source": [
    "sp.N(expr, 5)"
   ]
  },
  {
   "cell_type": "code",
   "execution_count": 42,
   "id": "c92c8b0f-2a66-4928-8f8a-030d04fddf76",
   "metadata": {},
   "outputs": [
    {
     "data": {
      "text/latex": [
       "$\\displaystyle 4.202255249$"
      ],
      "text/plain": [
       "4.202255249"
      ]
     },
     "execution_count": 42,
     "metadata": {},
     "output_type": "execute_result"
    }
   ],
   "source": [
    "sp.N(_, 10)"
   ]
  },
  {
   "cell_type": "code",
   "execution_count": 43,
   "id": "114f2ead-16c5-469f-b4ad-c2933fa4bfb4",
   "metadata": {},
   "outputs": [
    {
     "name": "stdout",
     "output_type": "stream",
     "text": [
      "else\n"
     ]
    },
    {
     "data": {
      "text/plain": [
       "3.3000000000000003"
      ]
     },
     "execution_count": 43,
     "metadata": {},
     "output_type": "execute_result"
    }
   ],
   "source": [
    "a = 1.1+2.2\n",
    "if a==3.3:\n",
    "    print(\"if\")\n",
    "else:\n",
    "    print(\"else\")\n",
    "a"
   ]
  },
  {
   "cell_type": "code",
   "execution_count": 44,
   "id": "ceff4742-6e3a-4949-b316-c641781261bc",
   "metadata": {},
   "outputs": [
    {
     "name": "stdout",
     "output_type": "stream",
     "text": [
      "3.3000000000000003\n",
      "3.0\n",
      "else\n"
     ]
    }
   ],
   "source": [
    "a = 1.1+2.2\n",
    "print(a)\n",
    "print(sp.N(a, 1))\n",
    "\n",
    "if sp.N(a)==3.3:\n",
    "    print(\"if\")\n",
    "else:\n",
    "    print(\"else\")"
   ]
  },
  {
   "cell_type": "code",
   "execution_count": 45,
   "id": "c6072520-7da4-4d88-a8a6-c14e51f58d59",
   "metadata": {},
   "outputs": [
    {
     "name": "stdout",
     "output_type": "stream",
     "text": [
      "x\n",
      "n\n"
     ]
    }
   ],
   "source": [
    "x= sp.symbols('x')\n",
    "print(x)\n",
    "n= sp.symbols('n')\n",
    "print(n)"
   ]
  },
  {
   "cell_type": "code",
   "execution_count": 46,
   "id": "8848a665-bc0d-46b1-9239-7dae27e1dbaf",
   "metadata": {},
   "outputs": [],
   "source": [
    "from sympy.abc import a,b,h,p,n,q,x,y,z"
   ]
  },
  {
   "cell_type": "code",
   "execution_count": 47,
   "id": "7529e400-71b5-4c0a-807d-1ca270fcc49f",
   "metadata": {},
   "outputs": [
    {
     "data": {
      "text/latex": [
       "$\\displaystyle \\frac{1/2 b}{h}$"
      ],
      "text/plain": [
       "1/2*b/h"
      ]
     },
     "execution_count": 47,
     "metadata": {},
     "output_type": "execute_result"
    }
   ],
   "source": [
    "area = sp.symbols('1/2')*(b/h)\n",
    "area"
   ]
  },
  {
   "cell_type": "code",
   "execution_count": 48,
   "id": "57face70-b794-49ae-b51a-0a1b9db8f395",
   "metadata": {},
   "outputs": [
    {
     "data": {
      "text/latex": [
       "$\\displaystyle 9$"
      ],
      "text/plain": [
       "9"
      ]
     },
     "execution_count": 48,
     "metadata": {},
     "output_type": "execute_result"
    }
   ],
   "source": [
    "sp.gcd(18,81)"
   ]
  },
  {
   "cell_type": "code",
   "execution_count": 49,
   "id": "6349fc17-c419-48d9-b484-0ffbea7b36f0",
   "metadata": {},
   "outputs": [
    {
     "data": {
      "text/latex": [
       "$\\displaystyle 9 \\cdot \\left(2 x + 9\\right)$"
      ],
      "text/plain": [
       "9*(2*x + 9)"
      ]
     },
     "execution_count": 49,
     "metadata": {},
     "output_type": "execute_result"
    }
   ],
   "source": [
    "sp.factor(18*x+81)"
   ]
  },
  {
   "cell_type": "code",
   "execution_count": 50,
   "id": "14cf1df2-880e-4d73-b5dc-11f47e52437f",
   "metadata": {},
   "outputs": [
    {
     "data": {
      "text/latex": [
       "$\\displaystyle 18 x^{4}$"
      ],
      "text/plain": [
       "18*x**4"
      ]
     },
     "execution_count": 50,
     "metadata": {},
     "output_type": "execute_result"
    }
   ],
   "source": [
    "sp.factor(18*x**4, 81*x**2)"
   ]
  },
  {
   "cell_type": "code",
   "execution_count": 51,
   "id": "3d0a9302-2d04-40d8-b17f-d3f69d958496",
   "metadata": {},
   "outputs": [
    {
     "data": {
      "text/latex": [
       "$\\displaystyle 2 x^{2} + 51 x - 270$"
      ],
      "text/plain": [
       "2*x**2 + 51*x - 270"
      ]
     },
     "execution_count": 51,
     "metadata": {},
     "output_type": "execute_result"
    }
   ],
   "source": [
    "sp.expand((2*x-9)*(x+30))"
   ]
  },
  {
   "cell_type": "code",
   "execution_count": 52,
   "id": "1a37a5de-dc40-458c-8e6f-71198dc7d63f",
   "metadata": {},
   "outputs": [],
   "source": [
    "import numpy as np \n",
    "import sympy as sp\n",
    "from sympy.vector import *\n",
    "import matplotlib.pyplot as plt\n",
    "from scipy.integrate import quad\n",
    "from scipy.integrate import quad_vec"
   ]
  },
  {
   "cell_type": "code",
   "execution_count": 53,
   "id": "80090340-fde5-4254-bf9f-e03f7e071aba",
   "metadata": {},
   "outputs": [],
   "source": [
    "x,y,z,u1,u2,u3,v1,v2,v3,t = sp.symbols('x y z u_1 u_2 u_3 v_1 v_2 v_3 t')"
   ]
  },
  {
   "cell_type": "markdown",
   "id": "14c23d4c-cf53-4b45-8518-d7f18eb2a4b7",
   "metadata": {},
   "source": [
    "Vector and Geometry"
   ]
  },
  {
   "cell_type": "markdown",
   "id": "ed6e8d77-0b14-4b1b-89d8-d4b0ed9ecaea",
   "metadata": {},
   "source": [
    "Numerical or symbolic"
   ]
  },
  {
   "cell_type": "code",
   "execution_count": 54,
   "id": "29603e85-0755-4a1e-b5f8-38eda614ac99",
   "metadata": {},
   "outputs": [],
   "source": [
    "a = np.array([1,2,3])\n",
    "b = np.array([7,8,9])\n",
    "u = sp.Matrix([u1, u2, u3])\n",
    "v = sp.Matrix([v1, v2, v3])"
   ]
  },
  {
   "cell_type": "code",
   "execution_count": 55,
   "id": "4005c108-1f6c-43ac-b575-a22d7cae61d5",
   "metadata": {},
   "outputs": [
    {
     "name": "stdout",
     "output_type": "stream",
     "text": [
      "<class 'numpy.ndarray'>\n"
     ]
    },
    {
     "data": {
      "text/plain": [
       "array([1, 2, 3])"
      ]
     },
     "execution_count": 55,
     "metadata": {},
     "output_type": "execute_result"
    }
   ],
   "source": [
    "print(type(a))\n",
    "a # when look at no more numpy array"
   ]
  },
  {
   "cell_type": "code",
   "execution_count": 56,
   "id": "c65a0e98-7433-4998-a365-d72e14bb7313",
   "metadata": {},
   "outputs": [
    {
     "name": "stdout",
     "output_type": "stream",
     "text": [
      "<class 'sympy.matrices.dense.MutableDenseMatrix'>\n"
     ]
    },
    {
     "data": {
      "text/latex": [
       "$\\displaystyle \\left[\\begin{matrix}u_{1}\\\\u_{2}\\\\u_{3}\\end{matrix}\\right]$"
      ],
      "text/plain": [
       "Matrix([\n",
       "[u_1],\n",
       "[u_2],\n",
       "[u_3]])"
      ]
     },
     "execution_count": 56,
     "metadata": {},
     "output_type": "execute_result"
    }
   ],
   "source": [
    "print(type(u))\n",
    "u"
   ]
  },
  {
   "cell_type": "code",
   "execution_count": 57,
   "id": "1d4c445f-cdc1-4fc6-964d-119554e5e3a6",
   "metadata": {},
   "outputs": [
    {
     "data": {
      "text/latex": [
       "$\\displaystyle \\left[\\begin{matrix}3\\\\u_{2}\\\\u_{3}\\end{matrix}\\right]$"
      ],
      "text/plain": [
       "Matrix([\n",
       "[  3],\n",
       "[u_2],\n",
       "[u_3]])"
      ]
     },
     "execution_count": 57,
     "metadata": {},
     "output_type": "execute_result"
    }
   ],
   "source": [
    "u.subs([(u1, 3)]) #Substituting Function"
   ]
  },
  {
   "cell_type": "markdown",
   "id": "5f5a206c-6384-48fe-b76d-734526e10e39",
   "metadata": {},
   "source": [
    "## Addition and Multiplication"
   ]
  },
  {
   "cell_type": "code",
   "execution_count": 58,
   "id": "be15acf8-c629-423b-905e-9b8e1664e7a6",
   "metadata": {},
   "outputs": [
    {
     "data": {
      "text/plain": [
       "array([ 9, 12, 15])"
      ]
     },
     "execution_count": 58,
     "metadata": {},
     "output_type": "execute_result"
    }
   ],
   "source": [
    "2*a+b"
   ]
  },
  {
   "cell_type": "code",
   "execution_count": 59,
   "id": "76b3e988-60db-496f-bf08-f6b247ed9f40",
   "metadata": {},
   "outputs": [
    {
     "data": {
      "text/latex": [
       "$\\displaystyle \\left[\\begin{matrix}2 u_{1} + v_{1}\\\\2 u_{2} + v_{2}\\\\2 u_{3} + v_{3}\\end{matrix}\\right]$"
      ],
      "text/plain": [
       "Matrix([\n",
       "[2*u_1 + v_1],\n",
       "[2*u_2 + v_2],\n",
       "[2*u_3 + v_3]])"
      ]
     },
     "execution_count": 59,
     "metadata": {},
     "output_type": "execute_result"
    }
   ],
   "source": [
    "2*u+v"
   ]
  },
  {
   "cell_type": "code",
   "execution_count": 60,
   "id": "5e685d89-4ef9-4b7a-bcba-62408bd2ceb9",
   "metadata": {},
   "outputs": [
    {
     "data": {
      "text/plain": [
       "50"
      ]
     },
     "execution_count": 60,
     "metadata": {},
     "output_type": "execute_result"
    }
   ],
   "source": [
    "np.dot(a,b)"
   ]
  },
  {
   "cell_type": "code",
   "execution_count": 61,
   "id": "a8ae00d1-d4cc-4731-a1b8-6af46e679e2e",
   "metadata": {},
   "outputs": [
    {
     "data": {
      "text/latex": [
       "$\\displaystyle u_{1} v_{1} + u_{2} v_{2} + u_{3} v_{3}$"
      ],
      "text/plain": [
       "u_1*v_1 + u_2*v_2 + u_3*v_3"
      ]
     },
     "execution_count": 61,
     "metadata": {},
     "output_type": "execute_result"
    }
   ],
   "source": [
    "u.dot(v)"
   ]
  },
  {
   "cell_type": "markdown",
   "id": "61c32e04-0d43-44ab-b132-0245b85ba3c7",
   "metadata": {},
   "source": [
    "Cross Product"
   ]
  },
  {
   "cell_type": "code",
   "execution_count": 62,
   "id": "a5ae3b80-e5a3-4854-92a3-8b3548acebf2",
   "metadata": {},
   "outputs": [
    {
     "data": {
      "text/plain": [
       "array([-6, 12, -6])"
      ]
     },
     "execution_count": 62,
     "metadata": {},
     "output_type": "execute_result"
    }
   ],
   "source": [
    "np.cross(a,b)"
   ]
  },
  {
   "cell_type": "code",
   "execution_count": 63,
   "id": "13ce41c9-5464-4b42-9dca-3756bdf41177",
   "metadata": {},
   "outputs": [
    {
     "data": {
      "text/latex": [
       "$\\displaystyle \\left[\\begin{matrix}u_{2} v_{3} - u_{3} v_{2}\\\\- u_{1} v_{3} + u_{3} v_{1}\\\\u_{1} v_{2} - u_{2} v_{1}\\end{matrix}\\right]$"
      ],
      "text/plain": [
       "Matrix([\n",
       "[ u_2*v_3 - u_3*v_2],\n",
       "[-u_1*v_3 + u_3*v_1],\n",
       "[ u_1*v_2 - u_2*v_1]])"
      ]
     },
     "execution_count": 63,
     "metadata": {},
     "output_type": "execute_result"
    }
   ],
   "source": [
    "u.cross(v)"
   ]
  },
  {
   "cell_type": "markdown",
   "id": "db28a801-5529-47e0-9a9c-7d6174c40fa3",
   "metadata": {},
   "source": [
    "Length of vector"
   ]
  },
  {
   "cell_type": "code",
   "execution_count": 64,
   "id": "a98285fb-b805-4d5c-a219-c1377e378245",
   "metadata": {},
   "outputs": [
    {
     "data": {
      "text/plain": [
       "3.7416573867739413"
      ]
     },
     "execution_count": 64,
     "metadata": {},
     "output_type": "execute_result"
    }
   ],
   "source": [
    "np.linalg.norm(a) # Linear algebra and normal vector"
   ]
  },
  {
   "cell_type": "code",
   "execution_count": 65,
   "id": "2ea5df87-fe07-48e7-bd39-fbca2e7e58cc",
   "metadata": {},
   "outputs": [
    {
     "data": {
      "text/latex": [
       "$\\displaystyle \\sqrt{\\left|{u_{1}}\\right|^{2} + \\left|{u_{2}}\\right|^{2} + \\left|{u_{3}}\\right|^{2}}$"
      ],
      "text/plain": [
       "sqrt(Abs(u_1)**2 + Abs(u_2)**2 + Abs(u_3)**2)"
      ]
     },
     "execution_count": 65,
     "metadata": {},
     "output_type": "execute_result"
    }
   ],
   "source": [
    "u.norm()"
   ]
  },
  {
   "cell_type": "markdown",
   "id": "19b43f6d-fadd-4d5a-9e29-f5f1131e87a6",
   "metadata": {},
   "source": [
    "Vector Projection"
   ]
  },
  {
   "cell_type": "code",
   "execution_count": 66,
   "id": "d3db47ec-7723-46cc-afd4-5721b7e283bf",
   "metadata": {},
   "outputs": [
    {
     "data": {
      "text/plain": [
       "array([1.80412371, 2.06185567, 2.31958763])"
      ]
     },
     "execution_count": 66,
     "metadata": {},
     "output_type": "execute_result"
    }
   ],
   "source": [
    "proj_b_a = np.dot(a, b)/ np.linalg.norm(b)**2*b\n",
    "proj_b_a"
   ]
  },
  {
   "cell_type": "code",
   "execution_count": 67,
   "id": "ff1d27d2-5434-42a4-8715-8655ff29af2c",
   "metadata": {},
   "outputs": [
    {
     "data": {
      "text/latex": [
       "$\\displaystyle \\left[\\begin{matrix}\\frac{v_{1} \\left(u_{1} v_{1} + u_{2} v_{2} + u_{3} v_{3}\\right)}{\\left|{v_{1}}\\right|^{2} + \\left|{v_{2}}\\right|^{2} + \\left|{v_{3}}\\right|^{2}}\\\\\\frac{v_{2} \\left(u_{1} v_{1} + u_{2} v_{2} + u_{3} v_{3}\\right)}{\\left|{v_{1}}\\right|^{2} + \\left|{v_{2}}\\right|^{2} + \\left|{v_{3}}\\right|^{2}}\\\\\\frac{v_{3} \\left(u_{1} v_{1} + u_{2} v_{2} + u_{3} v_{3}\\right)}{\\left|{v_{1}}\\right|^{2} + \\left|{v_{2}}\\right|^{2} + \\left|{v_{3}}\\right|^{2}}\\end{matrix}\\right]$"
      ],
      "text/plain": [
       "Matrix([\n",
       "[v_1*(u_1*v_1 + u_2*v_2 + u_3*v_3)/(Abs(v_1)**2 + Abs(v_2)**2 + Abs(v_3)**2)],\n",
       "[v_2*(u_1*v_1 + u_2*v_2 + u_3*v_3)/(Abs(v_1)**2 + Abs(v_2)**2 + Abs(v_3)**2)],\n",
       "[v_3*(u_1*v_1 + u_2*v_2 + u_3*v_3)/(Abs(v_1)**2 + Abs(v_2)**2 + Abs(v_3)**2)]])"
      ]
     },
     "execution_count": 67,
     "metadata": {},
     "output_type": "execute_result"
    }
   ],
   "source": [
    "proj_v_u = u.dot(v)/v.norm()**2*v\n",
    "proj_v_u"
   ]
  },
  {
   "cell_type": "code",
   "execution_count": 68,
   "id": "5ed7dff3-f60c-43a2-b47e-a41246eed85b",
   "metadata": {},
   "outputs": [
    {
     "data": {
      "text/latex": [
       "$\\displaystyle \\left[\\begin{matrix}t + 1\\\\3 t + 1\\\\1 - t\\end{matrix}\\right]$"
      ],
      "text/plain": [
       "Matrix([\n",
       "[  t + 1],\n",
       "[3*t + 1],\n",
       "[  1 - t]])"
      ]
     },
     "execution_count": 68,
     "metadata": {},
     "output_type": "execute_result"
    }
   ],
   "source": [
    "r0 = sp.Matrix([1,1,1])\n",
    "v= sp.Matrix([1,3,-1])\n",
    "r=r0 + t*v\n",
    "r"
   ]
  },
  {
   "cell_type": "code",
   "execution_count": 69,
   "id": "64689f88-d14b-4b86-9bcf-c6262453d207",
   "metadata": {},
   "outputs": [
    {
     "data": {
      "text/latex": [
       "$\\displaystyle - x - y - z + 16$"
      ],
      "text/plain": [
       "-x - y - z + 16"
      ]
     },
     "execution_count": 69,
     "metadata": {},
     "output_type": "execute_result"
    }
   ],
   "source": [
    "p0 = sp.Matrix([4,4,8])\n",
    "r= sp.Matrix([x,y,z])\n",
    "n=sp.Matrix([1,1,1])\n",
    "n.dot(p0-r)"
   ]
  },
  {
   "cell_type": "code",
   "execution_count": 70,
   "id": "d90f155a-7115-4621-8334-ef46994b34c0",
   "metadata": {},
   "outputs": [
    {
     "data": {
      "text/plain": [
       "array([14,  2, 15])"
      ]
     },
     "execution_count": 70,
     "metadata": {},
     "output_type": "execute_result"
    }
   ],
   "source": [
    "n1=np.array([-3,6,2])\n",
    "n2=np.array([-2,-1,2])\n",
    "ans=np.cross(n1,n2)\n",
    "ans"
   ]
  },
  {
   "cell_type": "code",
   "execution_count": 71,
   "id": "df9c3764-32f9-4393-8878-64084e02168b",
   "metadata": {},
   "outputs": [],
   "source": [
    "v=sp.diff(r,t)\n",
    "a=sp.diff(v,t)\n",
    "theta=sp.acos(v.dot(a)/(v.norm()*a.norm())).simplify()"
   ]
  },
  {
   "cell_type": "code",
   "execution_count": null,
   "id": "0c6b0e03-04a2-4e88-bcb0-77bcf287c05e",
   "metadata": {},
   "outputs": [],
   "source": []
  },
  {
   "cell_type": "code",
   "execution_count": 72,
   "id": "8c1c9927-5ae2-4220-bd99-efcec6e6c62e",
   "metadata": {},
   "outputs": [
    {
     "data": {
      "text/latex": [
       "$\\displaystyle \\text{NaN}$"
      ],
      "text/plain": [
       "nan"
      ]
     },
     "execution_count": 72,
     "metadata": {},
     "output_type": "execute_result"
    }
   ],
   "source": [
    "theta.subs(t, 6).evalf()"
   ]
  },
  {
   "cell_type": "code",
   "execution_count": null,
   "id": "be76a55c-2114-48f5-acaa-a6ac52548251",
   "metadata": {},
   "outputs": [],
   "source": []
  }
 ],
 "metadata": {
  "kernelspec": {
   "display_name": "Python 3 (ipykernel)",
   "language": "python",
   "name": "python3"
  },
  "language_info": {
   "codemirror_mode": {
    "name": "ipython",
    "version": 3
   },
   "file_extension": ".py",
   "mimetype": "text/x-python",
   "name": "python",
   "nbconvert_exporter": "python",
   "pygments_lexer": "ipython3",
   "version": "3.12.4"
  }
 },
 "nbformat": 4,
 "nbformat_minor": 5
}
