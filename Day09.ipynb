{
 "cells": [
  {
   "cell_type": "code",
   "execution_count": 21,
   "id": "81f03e61-6575-4f7b-9a3c-2996707dac63",
   "metadata": {},
   "outputs": [
    {
     "name": "stdin",
     "output_type": "stream",
     "text": [
      "Enter the operation you want to do:\n",
      "\t Add \n",
      "\t Subtract \n",
      "\t Multiply \n",
      "\t Divide \n",
      "\t Stop\n",
      "\n",
      " Add\n",
      "Enter 1st Number: 10\n",
      "Enter 2nd Number: 30\n"
     ]
    },
    {
     "name": "stdout",
     "output_type": "stream",
     "text": [
      "10  +  30  =  40\n"
     ]
    },
    {
     "name": "stdin",
     "output_type": "stream",
     "text": [
      "Enter the operation you want to do:\n",
      "\t Add \n",
      "\t Subtract \n",
      "\t Multiply \n",
      "\t Divide \n",
      "\t Stop\n",
      "\n",
      " subtract\n",
      "Enter 1st Number: 10\n",
      "Enter 2nd Number: 2\n"
     ]
    },
    {
     "name": "stdout",
     "output_type": "stream",
     "text": [
      "10  +  2  =  8\n"
     ]
    },
    {
     "name": "stdin",
     "output_type": "stream",
     "text": [
      "Enter the operation you want to do:\n",
      "\t Add \n",
      "\t Subtract \n",
      "\t Multiply \n",
      "\t Divide \n",
      "\t Stop\n",
      "\n",
      " multiply\n",
      "Enter 1st Number: 2\n",
      "Enter 2nd Number: 5\n"
     ]
    },
    {
     "name": "stdout",
     "output_type": "stream",
     "text": [
      "2  +  5  =  10\n"
     ]
    },
    {
     "name": "stdin",
     "output_type": "stream",
     "text": [
      "Enter the operation you want to do:\n",
      "\t Add \n",
      "\t Subtract \n",
      "\t Multiply \n",
      "\t Divide \n",
      "\t Stop\n",
      "\n",
      " divide\n",
      "Enter 1st Number: 50\n",
      "Enter 2nd Number: 0\n"
     ]
    },
    {
     "name": "stdout",
     "output_type": "stream",
     "text": [
      "Cannot divide by zero!\n"
     ]
    },
    {
     "name": "stdin",
     "output_type": "stream",
     "text": [
      "Enter the operation you want to do:\n",
      "\t Add \n",
      "\t Subtract \n",
      "\t Multiply \n",
      "\t Divide \n",
      "\t Stop\n",
      "\n",
      " divide\n",
      "Enter 1st Number: 10\n",
      "Enter 2nd Number: 2\n"
     ]
    },
    {
     "name": "stdout",
     "output_type": "stream",
     "text": [
      "10  +  2  =  5.0\n"
     ]
    },
    {
     "name": "stdin",
     "output_type": "stream",
     "text": [
      "Enter the operation you want to do:\n",
      "\t Add \n",
      "\t Subtract \n",
      "\t Multiply \n",
      "\t Divide \n",
      "\t Stop\n",
      "\n",
      " stop\n"
     ]
    }
   ],
   "source": [
    "while (True):\n",
    "    choice=input(\"Enter the operation you want to do:\\n\\t Add \\n\\t Subtract \\n\\t Multiply \\n\\t Divide \\n\\t Stop\\n\\n\")\n",
    "    if (choice.lower() == \"stop\"):\n",
    "        break\n",
    "    num1=eval(input(\"Enter 1st Number:\"))\n",
    "    num2=eval(input(\"Enter 2nd Number:\"))\n",
    "    if choice.lower() == \"add\":\n",
    "        print(num1, \" + \", num2,\" = \", num1+num2)\n",
    "    elif choice.lower() == \"subtract\":\n",
    "        print(num1, \" + \", num2,\" = \", num1-num2)\n",
    "    elif choice.lower() == \"multiply\":\n",
    "        print(num1, \" + \", num2,\" = \", num1*num2)\n",
    "    elif choice.lower() == \"divide\":\n",
    "        if num2==0:\n",
    "            print(\"Cannot divide by zero!\")\n",
    "        else:\n",
    "            print(num1, \" + \", num2,\" = \", num1/num2)\n",
    "    else:\n",
    "        print(\"Wrong Input!\")"
   ]
  },
  {
   "cell_type": "code",
   "execution_count": 2,
   "id": "833f6897-18af-446c-a4d7-e9b48f3fbcb6",
   "metadata": {},
   "outputs": [
    {
     "data": {
      "text/plain": [
       "12"
      ]
     },
     "execution_count": 2,
     "metadata": {},
     "output_type": "execute_result"
    }
   ],
   "source": [
    "import Calci\n",
    "Calci.add(10,2)"
   ]
  },
  {
   "cell_type": "code",
   "execution_count": 3,
   "id": "8489bbb8-1bf2-4182-b3b6-512b5639fec0",
   "metadata": {},
   "outputs": [
    {
     "data": {
      "text/plain": [
       "(7.937253933193772+0j)"
      ]
     },
     "execution_count": 3,
     "metadata": {},
     "output_type": "execute_result"
    }
   ],
   "source": [
    "import cmath\n",
    "cmath.sqrt(63)"
   ]
  },
  {
   "cell_type": "code",
   "execution_count": 4,
   "id": "c4762418-c3da-4477-b5cf-c8750f9b632e",
   "metadata": {},
   "outputs": [],
   "source": [
    "import random"
   ]
  },
  {
   "cell_type": "markdown",
   "id": "b595bc1b-fa51-4acb-bc17-443304548e80",
   "metadata": {},
   "source": [
    "Methods of importing Modules\n",
    "``` python\n",
    "\n",
    "import module_name\n",
    "import module_name as alias_name\n",
    "from module_name import function_name\n",
    "from module_name import *\n",
    "```"
   ]
  },
  {
   "cell_type": "code",
   "execution_count": 5,
   "id": "6c2005f3-6655-4021-96c0-bedc028716ec",
   "metadata": {},
   "outputs": [
    {
     "name": "stdout",
     "output_type": "stream",
     "text": [
      "6\n"
     ]
    }
   ],
   "source": [
    "import random\n",
    "list1 = [1, 2, 3, 4, 5, 6]\n",
    "print(random.choice(list1))\n"
   ]
  },
  {
   "cell_type": "code",
   "execution_count": 6,
   "id": "9cc4cc03-0af1-4d8d-b91b-7fa54ffd7218",
   "metadata": {},
   "outputs": [
    {
     "name": "stdout",
     "output_type": "stream",
     "text": [
      "0.6229016948897019\n",
      "0.7417869892607294\n"
     ]
    }
   ],
   "source": [
    "import random\n",
    "random.seed(5)\n",
    "print(random.random())\n",
    "print(random.random())\n"
   ]
  },
  {
   "cell_type": "code",
   "execution_count": 7,
   "id": "c33d83b8-d4ac-44cf-95c8-95fafe0524e2",
   "metadata": {},
   "outputs": [
    {
     "name": "stdout",
     "output_type": "stream",
     "text": [
      "Random number between 5 and 15 is 15\n",
      "Random number between -10 and -2 is -2\n"
     ]
    }
   ],
   "source": [
    "import random\n",
    "r1 = random.randint(5, 15)\n",
    "print(\"Random number between 5 and 15 is % s\" % (r1))\n",
    "r2 = random.randint(-10, -2)\n",
    "print(\"Random number between -10 and -2 is % d\" % (r2))"
   ]
  },
  {
   "cell_type": "code",
   "execution_count": 8,
   "id": "294b0f6f-a873-4e87-b00c-0078248093cd",
   "metadata": {},
   "outputs": [
    {
     "name": "stdout",
     "output_type": "stream",
     "text": [
      "0.029005228283614737\n"
     ]
    }
   ],
   "source": [
    "from random import random\n",
    "print(random())"
   ]
  },
  {
   "cell_type": "code",
   "execution_count": 9,
   "id": "61b2b98b-ed1f-48ac-98f9-c7b4358535b2",
   "metadata": {},
   "outputs": [
    {
     "name": "stdout",
     "output_type": "stream",
     "text": [
      "4\n",
      "e\n",
      "1\n"
     ]
    }
   ],
   "source": [
    "import random\n",
    "list1 = [1, 2, 3, 4, 5, 6]\n",
    "print(random.choice(list1))\n",
    "string = \"geeks\"\n",
    "print(random.choice(string))\n",
    "tuple1 = (1, 2, 3, 4, 5)\n",
    "print(random.choice(tuple1))"
   ]
  },
  {
   "cell_type": "code",
   "execution_count": 10,
   "id": "32ad3587-bbc0-420f-a765-289320bdd471",
   "metadata": {},
   "outputs": [
    {
     "name": "stdout",
     "output_type": "stream",
     "text": [
      "[2, 1, 5]\n",
      "[7, 5, 8]\n",
      "['8', '4', '6']\n"
     ]
    }
   ],
   "source": [
    "from random import sample\n",
    "list1 = [1, 2, 3, 4, 5]\n",
    "\n",
    "print(sample(list1,3))\n",
    "list2 = (4, 5, 6, 7, 8)\n",
    "\n",
    "print(sample(list2,3))\n",
    "list3 = \"45678\"\n",
    "\n",
    "print(sample(list3,3))"
   ]
  },
  {
   "cell_type": "code",
   "execution_count": 11,
   "id": "cb1e049f-5f00-409a-9848-6731f854f518",
   "metadata": {},
   "outputs": [
    {
     "name": "stdout",
     "output_type": "stream",
     "text": [
      "Original list : \n",
      "[1, 2, 3, 4, 5]\n",
      "\n",
      "After the first shuffle : \n",
      "[5, 4, 3, 1, 2]\n",
      "\n",
      "After the second shuffle : \n",
      "[2, 4, 5, 3, 1]\n"
     ]
    }
   ],
   "source": [
    "import random\n",
    "sample_list = [1, 2, 3, 4, 5]\n",
    "\n",
    "print(\"Original list : \")\n",
    "print(sample_list)\n",
    "random.shuffle(sample_list)\n",
    "print(\"\\nAfter the first shuffle : \")\n",
    "print(sample_list)\n",
    "random.shuffle(sample_list)\n",
    "print(\"\\nAfter the second shuffle : \")\n",
    "print(sample_list)"
   ]
  },
  {
   "cell_type": "code",
   "execution_count": 12,
   "id": "a5b537fd-b007-4964-bd12-05a9373872c0",
   "metadata": {},
   "outputs": [
    {
     "name": "stderr",
     "output_type": "stream",
     "text": [
      "C:\\Users\\uSER\\AppData\\Local\\Temp\\ipykernel_13592\\1051347603.py:1: DeprecationWarning: \n",
      "Pyarrow will become a required dependency of pandas in the next major release of pandas (pandas 3.0),\n",
      "(to allow more performant data types, such as the Arrow string type, and better interoperability with other libraries)\n",
      "but was not found to be installed on your system.\n",
      "If this would cause problems for you,\n",
      "please provide us feedback at https://github.com/pandas-dev/pandas/issues/54466\n",
      "        \n",
      "  import pandas as pd\n"
     ]
    }
   ],
   "source": [
    "\n",
    "import pandas as pd\n",
    "\n",
    "df= pd.read_csv(r\"C:\\Users\\uSER\\Downloads\\Driver App Analytics (1).csv\")"
   ]
  },
  {
   "cell_type": "code",
   "execution_count": 13,
   "id": "616de2b6-926e-4a7b-9472-427e47b4cc50",
   "metadata": {},
   "outputs": [
    {
     "data": {
      "text/html": [
       "<div>\n",
       "<style scoped>\n",
       "    .dataframe tbody tr th:only-of-type {\n",
       "        vertical-align: middle;\n",
       "    }\n",
       "\n",
       "    .dataframe tbody tr th {\n",
       "        vertical-align: top;\n",
       "    }\n",
       "\n",
       "    .dataframe thead th {\n",
       "        text-align: right;\n",
       "    }\n",
       "</style>\n",
       "<table border=\"1\" class=\"dataframe\">\n",
       "  <thead>\n",
       "    <tr style=\"text-align: right;\">\n",
       "      <th></th>\n",
       "      <th>Analytics Event Name</th>\n",
       "      <th>Device Language</th>\n",
       "      <th>Device Model</th>\n",
       "      <th>Device OS</th>\n",
       "      <th>Device OS Version</th>\n",
       "      <th>Is Driver Online?</th>\n",
       "      <th>Application Version</th>\n",
       "      <th>Event Time (UTC)</th>\n",
       "      <th>Latitude</th>\n",
       "      <th>Longitude</th>\n",
       "      <th>Speed (GPS)</th>\n",
       "      <th>Analytics Event Type</th>\n",
       "    </tr>\n",
       "  </thead>\n",
       "  <tbody>\n",
       "    <tr>\n",
       "      <th>0</th>\n",
       "      <td>driver_app</td>\n",
       "      <td>en_NZ</td>\n",
       "      <td>iPhone12,1</td>\n",
       "      <td>ios</td>\n",
       "      <td>15.4.1</td>\n",
       "      <td>False</td>\n",
       "      <td>4.352.10002</td>\n",
       "      <td>4/29/2022 6:52</td>\n",
       "      <td>-37.70673</td>\n",
       "      <td>176.15875</td>\n",
       "      <td>0</td>\n",
       "      <td>custom</td>\n",
       "    </tr>\n",
       "    <tr>\n",
       "      <th>1</th>\n",
       "      <td>driver_app</td>\n",
       "      <td>en_NZ</td>\n",
       "      <td>iPhone12,1</td>\n",
       "      <td>ios</td>\n",
       "      <td>15.4.1</td>\n",
       "      <td>False</td>\n",
       "      <td>4.352.10002</td>\n",
       "      <td>4/29/2022 6:52</td>\n",
       "      <td>-37.70673</td>\n",
       "      <td>176.15875</td>\n",
       "      <td>0</td>\n",
       "      <td>custom</td>\n",
       "    </tr>\n",
       "    <tr>\n",
       "      <th>2</th>\n",
       "      <td>driver_app</td>\n",
       "      <td>en_NZ</td>\n",
       "      <td>iPhone12,1</td>\n",
       "      <td>ios</td>\n",
       "      <td>15.4.1</td>\n",
       "      <td>False</td>\n",
       "      <td>4.352.10002</td>\n",
       "      <td>4/29/2022 6:52</td>\n",
       "      <td>-37.70673</td>\n",
       "      <td>176.15875</td>\n",
       "      <td>0</td>\n",
       "      <td>lifecycle</td>\n",
       "    </tr>\n",
       "    <tr>\n",
       "      <th>3</th>\n",
       "      <td>driver_app</td>\n",
       "      <td>en_NZ</td>\n",
       "      <td>iPhone12,1</td>\n",
       "      <td>ios</td>\n",
       "      <td>15.4.1</td>\n",
       "      <td>False</td>\n",
       "      <td>4.352.10002</td>\n",
       "      <td>4/29/2022 6:52</td>\n",
       "      <td>-37.70673</td>\n",
       "      <td>176.15875</td>\n",
       "      <td>0</td>\n",
       "      <td>lifecycle</td>\n",
       "    </tr>\n",
       "    <tr>\n",
       "      <th>4</th>\n",
       "      <td>driver_app</td>\n",
       "      <td>en_NZ</td>\n",
       "      <td>iPhone12,1</td>\n",
       "      <td>ios</td>\n",
       "      <td>15.4.1</td>\n",
       "      <td>False</td>\n",
       "      <td>4.352.10002</td>\n",
       "      <td>4/29/2022 6:49</td>\n",
       "      <td>-37.70397</td>\n",
       "      <td>176.15357</td>\n",
       "      <td>8</td>\n",
       "      <td>custom</td>\n",
       "    </tr>\n",
       "    <tr>\n",
       "      <th>...</th>\n",
       "      <td>...</td>\n",
       "      <td>...</td>\n",
       "      <td>...</td>\n",
       "      <td>...</td>\n",
       "      <td>...</td>\n",
       "      <td>...</td>\n",
       "      <td>...</td>\n",
       "      <td>...</td>\n",
       "      <td>...</td>\n",
       "      <td>...</td>\n",
       "      <td>...</td>\n",
       "      <td>...</td>\n",
       "    </tr>\n",
       "    <tr>\n",
       "      <th>22675</th>\n",
       "      <td>driver_app</td>\n",
       "      <td>en_NZ</td>\n",
       "      <td>iPhone12,1</td>\n",
       "      <td>ios</td>\n",
       "      <td>15.4.1</td>\n",
       "      <td>NaN</td>\n",
       "      <td>4.353.10002</td>\n",
       "      <td>5/6/2022 4:18</td>\n",
       "      <td>-37.73232</td>\n",
       "      <td>176.19268</td>\n",
       "      <td>1</td>\n",
       "      <td>lifecycle</td>\n",
       "    </tr>\n",
       "    <tr>\n",
       "      <th>22676</th>\n",
       "      <td>driver_app</td>\n",
       "      <td>en_NZ</td>\n",
       "      <td>iPhone12,1</td>\n",
       "      <td>ios</td>\n",
       "      <td>15.4.1</td>\n",
       "      <td>NaN</td>\n",
       "      <td>4.353.10002</td>\n",
       "      <td>5/6/2022 4:18</td>\n",
       "      <td>-37.73232</td>\n",
       "      <td>176.19268</td>\n",
       "      <td>1</td>\n",
       "      <td>custom</td>\n",
       "    </tr>\n",
       "    <tr>\n",
       "      <th>22677</th>\n",
       "      <td>driver_app</td>\n",
       "      <td>en_NZ</td>\n",
       "      <td>iPhone12,1</td>\n",
       "      <td>ios</td>\n",
       "      <td>15.4.1</td>\n",
       "      <td>NaN</td>\n",
       "      <td>4.353.10002</td>\n",
       "      <td>5/6/2022 4:18</td>\n",
       "      <td>-37.73232</td>\n",
       "      <td>176.19268</td>\n",
       "      <td>1</td>\n",
       "      <td>custom</td>\n",
       "    </tr>\n",
       "    <tr>\n",
       "      <th>22678</th>\n",
       "      <td>driver_app</td>\n",
       "      <td>en_NZ</td>\n",
       "      <td>iPhone12,1</td>\n",
       "      <td>ios</td>\n",
       "      <td>15.4.1</td>\n",
       "      <td>NaN</td>\n",
       "      <td>4.353.10002</td>\n",
       "      <td>5/6/2022 4:18</td>\n",
       "      <td>-37.73232</td>\n",
       "      <td>176.19268</td>\n",
       "      <td>1</td>\n",
       "      <td>custom</td>\n",
       "    </tr>\n",
       "    <tr>\n",
       "      <th>22679</th>\n",
       "      <td>driver_app</td>\n",
       "      <td>en_NZ</td>\n",
       "      <td>iPhone12,1</td>\n",
       "      <td>ios</td>\n",
       "      <td>15.4.1</td>\n",
       "      <td>NaN</td>\n",
       "      <td>4.353.10002</td>\n",
       "      <td>5/6/2022 4:18</td>\n",
       "      <td>-37.73232</td>\n",
       "      <td>176.19268</td>\n",
       "      <td>1</td>\n",
       "      <td>custom</td>\n",
       "    </tr>\n",
       "  </tbody>\n",
       "</table>\n",
       "<p>22680 rows × 12 columns</p>\n",
       "</div>"
      ],
      "text/plain": [
       "      Analytics Event Name Device Language Device Model Device OS  \\\n",
       "0               driver_app           en_NZ   iPhone12,1       ios   \n",
       "1               driver_app           en_NZ   iPhone12,1       ios   \n",
       "2               driver_app           en_NZ   iPhone12,1       ios   \n",
       "3               driver_app           en_NZ   iPhone12,1       ios   \n",
       "4               driver_app           en_NZ   iPhone12,1       ios   \n",
       "...                    ...             ...          ...       ...   \n",
       "22675           driver_app           en_NZ   iPhone12,1       ios   \n",
       "22676           driver_app           en_NZ   iPhone12,1       ios   \n",
       "22677           driver_app           en_NZ   iPhone12,1       ios   \n",
       "22678           driver_app           en_NZ   iPhone12,1       ios   \n",
       "22679           driver_app           en_NZ   iPhone12,1       ios   \n",
       "\n",
       "      Device OS Version Is Driver Online? Application Version  \\\n",
       "0                15.4.1             False         4.352.10002   \n",
       "1                15.4.1             False         4.352.10002   \n",
       "2                15.4.1             False         4.352.10002   \n",
       "3                15.4.1             False         4.352.10002   \n",
       "4                15.4.1             False         4.352.10002   \n",
       "...                 ...               ...                 ...   \n",
       "22675            15.4.1               NaN         4.353.10002   \n",
       "22676            15.4.1               NaN         4.353.10002   \n",
       "22677            15.4.1               NaN         4.353.10002   \n",
       "22678            15.4.1               NaN         4.353.10002   \n",
       "22679            15.4.1               NaN         4.353.10002   \n",
       "\n",
       "      Event Time (UTC)  Latitude  Longitude  Speed (GPS) Analytics Event Type  \n",
       "0       4/29/2022 6:52 -37.70673  176.15875            0               custom  \n",
       "1       4/29/2022 6:52 -37.70673  176.15875            0               custom  \n",
       "2       4/29/2022 6:52 -37.70673  176.15875            0            lifecycle  \n",
       "3       4/29/2022 6:52 -37.70673  176.15875            0            lifecycle  \n",
       "4       4/29/2022 6:49 -37.70397  176.15357            8               custom  \n",
       "...                ...       ...        ...          ...                  ...  \n",
       "22675    5/6/2022 4:18 -37.73232  176.19268            1            lifecycle  \n",
       "22676    5/6/2022 4:18 -37.73232  176.19268            1               custom  \n",
       "22677    5/6/2022 4:18 -37.73232  176.19268            1               custom  \n",
       "22678    5/6/2022 4:18 -37.73232  176.19268            1               custom  \n",
       "22679    5/6/2022 4:18 -37.73232  176.19268            1               custom  \n",
       "\n",
       "[22680 rows x 12 columns]"
      ]
     },
     "execution_count": 13,
     "metadata": {},
     "output_type": "execute_result"
    }
   ],
   "source": [
    "df"
   ]
  },
  {
   "cell_type": "code",
   "execution_count": 14,
   "id": "fafbf644-7b02-49da-9382-d69ce9e90f8c",
   "metadata": {},
   "outputs": [
    {
     "name": "stdout",
     "output_type": "stream",
     "text": [
      "<class 'pandas.core.frame.DataFrame'>\n",
      "RangeIndex: 22680 entries, 0 to 22679\n",
      "Data columns (total 12 columns):\n",
      " #   Column                Non-Null Count  Dtype  \n",
      "---  ------                --------------  -----  \n",
      " 0   Analytics Event Name  22680 non-null  object \n",
      " 1   Device Language       22680 non-null  object \n",
      " 2   Device Model          22680 non-null  object \n",
      " 3   Device OS             22680 non-null  object \n",
      " 4   Device OS Version     22680 non-null  object \n",
      " 5   Is Driver Online?     21836 non-null  object \n",
      " 6   Application Version   22680 non-null  object \n",
      " 7   Event Time (UTC)      22680 non-null  object \n",
      " 8   Latitude              22680 non-null  float64\n",
      " 9   Longitude             22680 non-null  float64\n",
      " 10  Speed (GPS)           22680 non-null  int64  \n",
      " 11  Analytics Event Type  22680 non-null  object \n",
      "dtypes: float64(2), int64(1), object(9)\n",
      "memory usage: 2.1+ MB\n"
     ]
    }
   ],
   "source": [
    "df.info()"
   ]
  },
  {
   "cell_type": "code",
   "execution_count": 15,
   "id": "b99b2bf1-f749-48c9-87b7-a5e0c5eb1114",
   "metadata": {},
   "outputs": [],
   "source": [
    "dates=pd.date_range(\"20130101\", periods=6)"
   ]
  },
  {
   "cell_type": "code",
   "execution_count": 16,
   "id": "72acff42-94c5-45da-8a15-e18cf16b23df",
   "metadata": {},
   "outputs": [
    {
     "data": {
      "text/plain": [
       "dtype('<M8[ns]')"
      ]
     },
     "execution_count": 16,
     "metadata": {},
     "output_type": "execute_result"
    }
   ],
   "source": [
    "\n",
    "dates.dtype"
   ]
  },
  {
   "cell_type": "code",
   "execution_count": 17,
   "id": "ab573f42-ce62-4b4c-858e-eae6f669d9ca",
   "metadata": {},
   "outputs": [],
   "source": [
    "import numpy as np\n",
    "df2=pd.DataFrame(\n",
    "    {\n",
    "        \"A\":1.0,\n",
    "        \"B\":pd.Timestamp(\"20130102\"),\n",
    "        \"C\":pd.Series(1,index=list(range(4)), dtype=\"float32\"),\n",
    "        \"D\":np.array([3] * 4, dtype=\"int32\"),\n",
    "        \"E\":pd.Categorical([\"test\", \"train\", \"test\", \"train\"]),\n",
    "        \"F\":\"foo\",\n",
    "    }\n",
    ")"
   ]
  },
  {
   "cell_type": "code",
   "execution_count": 18,
   "id": "4b03a10b-02d0-4959-9c74-a8d6a63be889",
   "metadata": {},
   "outputs": [
    {
     "data": {
      "text/plain": [
       "array([3, 3, 3, 3])"
      ]
     },
     "execution_count": 18,
     "metadata": {},
     "output_type": "execute_result"
    }
   ],
   "source": [
    "test = np.array([3] * 4)\n",
    "test"
   ]
  },
  {
   "cell_type": "code",
   "execution_count": 19,
   "id": "09698dcd-61d9-4bfb-9115-046b1a3a2194",
   "metadata": {},
   "outputs": [
    {
     "name": "stdout",
     "output_type": "stream",
     "text": [
      "<class 'pandas.core.arrays.categorical.Categorical'>\n"
     ]
    },
    {
     "data": {
      "text/plain": [
       "['test', 'train', 'test', 'train']\n",
       "Categories (2, object): ['test', 'train']"
      ]
     },
     "execution_count": 19,
     "metadata": {},
     "output_type": "execute_result"
    }
   ],
   "source": [
    "E=pd.Categorical([\"test\", \"train\", \"test\", \"train\"])\n",
    "print(type(E))\n",
    "E"
   ]
  },
  {
   "cell_type": "code",
   "execution_count": 20,
   "id": "1e907f4e-a6da-43fa-8e38-0bb97c93d5c3",
   "metadata": {},
   "outputs": [
    {
     "data": {
      "text/html": [
       "<div>\n",
       "<style scoped>\n",
       "    .dataframe tbody tr th:only-of-type {\n",
       "        vertical-align: middle;\n",
       "    }\n",
       "\n",
       "    .dataframe tbody tr th {\n",
       "        vertical-align: top;\n",
       "    }\n",
       "\n",
       "    .dataframe thead th {\n",
       "        text-align: right;\n",
       "    }\n",
       "</style>\n",
       "<table border=\"1\" class=\"dataframe\">\n",
       "  <thead>\n",
       "    <tr style=\"text-align: right;\">\n",
       "      <th></th>\n",
       "      <th>A</th>\n",
       "      <th>B</th>\n",
       "      <th>C</th>\n",
       "      <th>D</th>\n",
       "      <th>E</th>\n",
       "      <th>F</th>\n",
       "    </tr>\n",
       "  </thead>\n",
       "  <tbody>\n",
       "    <tr>\n",
       "      <th>0</th>\n",
       "      <td>1.0</td>\n",
       "      <td>2013-01-02</td>\n",
       "      <td>1.0</td>\n",
       "      <td>3</td>\n",
       "      <td>test</td>\n",
       "      <td>foo</td>\n",
       "    </tr>\n",
       "    <tr>\n",
       "      <th>1</th>\n",
       "      <td>1.0</td>\n",
       "      <td>2013-01-02</td>\n",
       "      <td>1.0</td>\n",
       "      <td>3</td>\n",
       "      <td>train</td>\n",
       "      <td>foo</td>\n",
       "    </tr>\n",
       "    <tr>\n",
       "      <th>2</th>\n",
       "      <td>1.0</td>\n",
       "      <td>2013-01-02</td>\n",
       "      <td>1.0</td>\n",
       "      <td>3</td>\n",
       "      <td>test</td>\n",
       "      <td>foo</td>\n",
       "    </tr>\n",
       "    <tr>\n",
       "      <th>3</th>\n",
       "      <td>1.0</td>\n",
       "      <td>2013-01-02</td>\n",
       "      <td>1.0</td>\n",
       "      <td>3</td>\n",
       "      <td>train</td>\n",
       "      <td>foo</td>\n",
       "    </tr>\n",
       "  </tbody>\n",
       "</table>\n",
       "</div>"
      ],
      "text/plain": [
       "     A          B    C  D      E    F\n",
       "0  1.0 2013-01-02  1.0  3   test  foo\n",
       "1  1.0 2013-01-02  1.0  3  train  foo\n",
       "2  1.0 2013-01-02  1.0  3   test  foo\n",
       "3  1.0 2013-01-02  1.0  3  train  foo"
      ]
     },
     "execution_count": 20,
     "metadata": {},
     "output_type": "execute_result"
    }
   ],
   "source": [
    "df2"
   ]
  },
  {
   "cell_type": "code",
   "execution_count": null,
   "id": "4248dee7-cd65-41bf-8019-e2cd54325a15",
   "metadata": {},
   "outputs": [],
   "source": []
  }
 ],
 "metadata": {
  "kernelspec": {
   "display_name": "Python 3 (ipykernel)",
   "language": "python",
   "name": "python3"
  },
  "language_info": {
   "codemirror_mode": {
    "name": "ipython",
    "version": 3
   },
   "file_extension": ".py",
   "mimetype": "text/x-python",
   "name": "python",
   "nbconvert_exporter": "python",
   "pygments_lexer": "ipython3",
   "version": "3.12.1"
  }
 },
 "nbformat": 4,
 "nbformat_minor": 5
}
