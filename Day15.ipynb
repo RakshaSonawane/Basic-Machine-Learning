{
 "cells": [
  {
   "cell_type": "markdown",
   "id": "c5f9b4a6-5c60-4013-bb79-30bb9c313886",
   "metadata": {},
   "source": [
    "# Basic Python\n",
    "\n",
    "#### Take user input\n",
    " #### Syntax:\n",
    "\n",
    "     variable_name = datatype(input(Statement))\n",
    "Note:Default input is consider as String"
   ]
  },
  {
   "cell_type": "code",
   "execution_count": 156,
   "id": "0b216f10-1045-406d-a37f-89e21642be2a",
   "metadata": {},
   "outputs": [
    {
     "name": "stdin",
     "output_type": "stream",
     "text": [
      "Enter your name: Raksha\n"
     ]
    },
    {
     "name": "stdout",
     "output_type": "stream",
     "text": [
      "Raksha\n"
     ]
    }
   ],
   "source": [
    "Name = input(\"Enter your name:\")\n",
    "print(Name)"
   ]
  },
  {
   "cell_type": "code",
   "execution_count": 157,
   "id": "9048956e-641b-4933-ae84-f7c4eab87dca",
   "metadata": {},
   "outputs": [
    {
     "name": "stdin",
     "output_type": "stream",
     "text": [
      "Enter a Number: 100\n"
     ]
    },
    {
     "name": "stdout",
     "output_type": "stream",
     "text": [
      "100\n"
     ]
    }
   ],
   "source": [
    "num = int(input(\"Enter a Number:\"))\n",
    "print(num)"
   ]
  },
  {
   "cell_type": "markdown",
   "id": "6bef7fef-4372-4fdb-86c8-66bb48bea72b",
   "metadata": {},
   "source": [
    "### For Loop\n",
    "#### Syntax:\n",
    "    for x in range():\n",
    "        Statement to exec"
   ]
  },
  {
   "cell_type": "code",
   "execution_count": 3,
   "id": "934d08b0-ee99-4996-a504-6375fa068a29",
   "metadata": {},
   "outputs": [
    {
     "name": "stdout",
     "output_type": "stream",
     "text": [
      "Next letter: H  at position : 0\n",
      "Next letter: l  at position : 2\n",
      "Next letter: o  at position : 4\n",
      "Next letter: B  at position : 6\n",
      "Next letter: a  at position : 8\n",
      "Next letter: t  at position : 10\n",
      "Next letter: f  at position : 12\n",
      "Next letter: l  at position : 14\n",
      "Next letter: W  at position : 16\n",
      "Next letter: r  at position : 18\n",
      "Next letter: d  at position : 20\n"
     ]
    }
   ],
   "source": [
    "phrase = \"Hello Beautiful World!\"\n",
    "pos = -1\n",
    "for letter in phrase:\n",
    "    pos+=1\n",
    "    if pos%2 == 0:   #for printing even position\n",
    "        print(\"Next letter:\", letter, \" at position :\", pos)"
   ]
  },
  {
   "cell_type": "code",
   "execution_count": 4,
   "id": "2cffbb04-3a8b-48b7-b9dc-33df71b91f9b",
   "metadata": {},
   "outputs": [
    {
     "name": "stdout",
     "output_type": "stream",
     "text": [
      "Next word:  Hello  is at Positon:  0\n",
      "Next word:  Beautiful  is at Positon:  1\n",
      "Next word:  World!  is at Positon:  2\n"
     ]
    }
   ],
   "source": [
    "pos=-1\n",
    "for word in phrase.split():\n",
    "    pos+=1\n",
    "    print(\"Next word: \",word, \" is at Positon: \",pos)"
   ]
  },
  {
   "cell_type": "code",
   "execution_count": 5,
   "id": "62e74524-07f0-4d14-8d64-1b5493ba32eb",
   "metadata": {},
   "outputs": [
    {
     "name": "stdout",
     "output_type": "stream",
     "text": [
      "Total:  37\n"
     ]
    }
   ],
   "source": [
    "total=0\n",
    "for num in [1,2,4,10,20]:\n",
    "    total+=num\n",
    "print(\"Total: \", total)"
   ]
  },
  {
   "cell_type": "code",
   "execution_count": 6,
   "id": "00810353-e04a-411c-a015-c30116e70cd0",
   "metadata": {},
   "outputs": [
    {
     "name": "stdout",
     "output_type": "stream",
     "text": [
      "1875269751632\n"
     ]
    }
   ],
   "source": [
    "S = \"Spam\"\n",
    "S+'xyz'\n",
    "print(id(S))"
   ]
  },
  {
   "cell_type": "code",
   "execution_count": 7,
   "id": "fc044460-495a-4c4c-a918-98b59fdca80a",
   "metadata": {},
   "outputs": [
    {
     "name": "stdout",
     "output_type": "stream",
     "text": [
      "1875269756288\n"
     ]
    }
   ],
   "source": [
    "S= S+'xyz'\n",
    "S\n",
    "print(id(S))"
   ]
  },
  {
   "cell_type": "markdown",
   "id": "869a266e-324b-4aad-810b-47cbf03c8d81",
   "metadata": {},
   "source": [
    "S = 'Spam'\n",
    "S[0] = 'z'   #string is immutable\n",
    "\n",
    "```python\n",
    "---------------------------------------------------------------------------\r\n",
    "TypeError                                 Traceback (most recent call last)\r\n",
    "Cell In[8], line 2\r\n",
    "      1 S = 'Spam'\r\n",
    "----> 2 S[0] = 'z'   #string is immutable\r\n",
    "\r\n",
    "TypeError: 'str' object does not support item assig```nment\n"
   ]
  },
  {
   "cell_type": "code",
   "execution_count": 9,
   "id": "7d5260fa-3811-44d5-a2d2-7c5d5109dcb4",
   "metadata": {},
   "outputs": [
    {
     "data": {
      "text/plain": [
       "1"
      ]
     },
     "execution_count": 9,
     "metadata": {},
     "output_type": "execute_result"
    }
   ],
   "source": [
    "S.find('pa')"
   ]
  },
  {
   "cell_type": "code",
   "execution_count": 10,
   "id": "4a39ac5c-cd57-4bdf-866d-136750ce89c1",
   "metadata": {},
   "outputs": [
    {
     "data": {
      "text/plain": [
       "'SXYZm'"
      ]
     },
     "execution_count": 10,
     "metadata": {},
     "output_type": "execute_result"
    }
   ],
   "source": [
    "S.replace(\"pa\", \"XYZ\")"
   ]
  },
  {
   "cell_type": "code",
   "execution_count": 11,
   "id": "5f4fa19a-7774-4036-abaa-194f39fa79d8",
   "metadata": {},
   "outputs": [
    {
     "data": {
      "text/plain": [
       "'Spam'"
      ]
     },
     "execution_count": 11,
     "metadata": {},
     "output_type": "execute_result"
    }
   ],
   "source": [
    "S"
   ]
  },
  {
   "cell_type": "code",
   "execution_count": 12,
   "id": "acef5cf4-c8f7-485a-9321-81ab3b6baae5",
   "metadata": {},
   "outputs": [
    {
     "data": {
      "text/plain": [
       "['aaa', 'bbb', 'ccccc', 'dd']"
      ]
     },
     "execution_count": 12,
     "metadata": {},
     "output_type": "execute_result"
    }
   ],
   "source": [
    "line = \"aaa,bbb,ccccc,dd\"\n",
    "line.split(',')"
   ]
  },
  {
   "cell_type": "code",
   "execution_count": 13,
   "id": "8b6a9b0b-d2b1-42fa-a37e-671639e7c711",
   "metadata": {},
   "outputs": [
    {
     "name": "stdout",
     "output_type": "stream",
     "text": [
      "   SPAM   \n",
      "False\n",
      "   Spam\n",
      "Spam   \n"
     ]
    }
   ],
   "source": [
    "S='   Spam   '\n",
    "print(S.upper())\n",
    "print(S.isalpha())\n",
    "print(S.rstrip())\n",
    "print(S.lstrip())"
   ]
  },
  {
   "cell_type": "code",
   "execution_count": 14,
   "id": "1392faee-1afa-4182-b8a3-3a7d7a8cb9e6",
   "metadata": {},
   "outputs": [
    {
     "data": {
      "text/plain": [
       "'spam, eggs, and SPAM!'"
      ]
     },
     "execution_count": 14,
     "metadata": {},
     "output_type": "execute_result"
    }
   ],
   "source": [
    "'%s, eggs, and %s' % ('spam', 'SPAM!')"
   ]
  },
  {
   "cell_type": "code",
   "execution_count": 15,
   "id": "012948bc-7775-48f8-addb-7485598cdebc",
   "metadata": {},
   "outputs": [
    {
     "data": {
      "text/plain": [
       "'spam, eggs and SPAM!'"
      ]
     },
     "execution_count": 15,
     "metadata": {},
     "output_type": "execute_result"
    }
   ],
   "source": [
    "'{0}, eggs and {1}'.format('spam', 'SPAM!')"
   ]
  },
  {
   "cell_type": "code",
   "execution_count": 16,
   "id": "d2996a7c-2de4-4b90-b3e8-6c53d7da7523",
   "metadata": {},
   "outputs": [
    {
     "data": {
      "text/plain": [
       "['__add__',\n",
       " '__class__',\n",
       " '__contains__',\n",
       " '__delattr__',\n",
       " '__dir__',\n",
       " '__doc__',\n",
       " '__eq__',\n",
       " '__format__',\n",
       " '__ge__',\n",
       " '__getattribute__',\n",
       " '__getitem__',\n",
       " '__getnewargs__',\n",
       " '__getstate__',\n",
       " '__gt__',\n",
       " '__hash__',\n",
       " '__init__',\n",
       " '__init_subclass__',\n",
       " '__iter__',\n",
       " '__le__',\n",
       " '__len__',\n",
       " '__lt__',\n",
       " '__mod__',\n",
       " '__mul__',\n",
       " '__ne__',\n",
       " '__new__',\n",
       " '__reduce__',\n",
       " '__reduce_ex__',\n",
       " '__repr__',\n",
       " '__rmod__',\n",
       " '__rmul__',\n",
       " '__setattr__',\n",
       " '__sizeof__',\n",
       " '__str__',\n",
       " '__subclasshook__',\n",
       " 'capitalize',\n",
       " 'casefold',\n",
       " 'center',\n",
       " 'count',\n",
       " 'encode',\n",
       " 'endswith',\n",
       " 'expandtabs',\n",
       " 'find',\n",
       " 'format',\n",
       " 'format_map',\n",
       " 'index',\n",
       " 'isalnum',\n",
       " 'isalpha',\n",
       " 'isascii',\n",
       " 'isdecimal',\n",
       " 'isdigit',\n",
       " 'isidentifier',\n",
       " 'islower',\n",
       " 'isnumeric',\n",
       " 'isprintable',\n",
       " 'isspace',\n",
       " 'istitle',\n",
       " 'isupper',\n",
       " 'join',\n",
       " 'ljust',\n",
       " 'lower',\n",
       " 'lstrip',\n",
       " 'maketrans',\n",
       " 'partition',\n",
       " 'removeprefix',\n",
       " 'removesuffix',\n",
       " 'replace',\n",
       " 'rfind',\n",
       " 'rindex',\n",
       " 'rjust',\n",
       " 'rpartition',\n",
       " 'rsplit',\n",
       " 'rstrip',\n",
       " 'split',\n",
       " 'splitlines',\n",
       " 'startswith',\n",
       " 'strip',\n",
       " 'swapcase',\n",
       " 'title',\n",
       " 'translate',\n",
       " 'upper',\n",
       " 'zfill']"
      ]
     },
     "execution_count": 16,
     "metadata": {},
     "output_type": "execute_result"
    }
   ],
   "source": [
    "dir(S)"
   ]
  },
  {
   "cell_type": "code",
   "execution_count": 17,
   "id": "bf7c7525-b920-4a30-aff6-c7f5c806fd58",
   "metadata": {},
   "outputs": [
    {
     "name": "stdout",
     "output_type": "stream",
     "text": [
      "Help on built-in function replace:\n",
      "\n",
      "replace(old, new, count=-1, /) method of builtins.str instance\n",
      "    Return a copy with all occurrences of substring old replaced by new.\n",
      "\n",
      "      count\n",
      "        Maximum number of occurrences to replace.\n",
      "        -1 (the default value) means replace all occurrences.\n",
      "\n",
      "    If the optional argument count is given, only the first count occurrences are\n",
      "    replaced.\n",
      "\n"
     ]
    }
   ],
   "source": [
    "help(S.replace)"
   ]
  },
  {
   "cell_type": "code",
   "execution_count": 18,
   "id": "aca282d8-4fdd-4a01-a8d4-960e14ddbf48",
   "metadata": {},
   "outputs": [
    {
     "name": "stdout",
     "output_type": "stream",
     "text": [
      "Hello   Python world\n",
      "Python \n"
     ]
    }
   ],
   "source": [
    "import re\n",
    "match = re.match('Hello[ \\t]*(.*)world', 'Hello   Python world')\n",
    "print(match.group(0))\n",
    "print(match.group(1))"
   ]
  },
  {
   "cell_type": "code",
   "execution_count": 22,
   "id": "a5eeb0e0-6d6a-4963-96cc-5c8226f2e6db",
   "metadata": {},
   "outputs": [
    {
     "name": "stdout",
     "output_type": "stream",
     "text": [
      "3\n",
      "123\n",
      "[123, 'spam']\n",
      "[123, 'spam', 1.23, 4, 5, 6]\n",
      "[123, 'spam', 1.23, [4, 5, 6]]\n"
     ]
    }
   ],
   "source": [
    "L = [123, 'spam', 1.23]\n",
    "print(len(L))\n",
    "print(L[0])\n",
    "print(L[:-1])\n",
    "print(L + [4,5,6])\n",
    "L.append([4,5,6])\n",
    "print(L)"
   ]
  },
  {
   "cell_type": "code",
   "execution_count": 26,
   "id": "3bc71c94-e1f1-4fba-8129-5c513f760a05",
   "metadata": {},
   "outputs": [
    {
     "name": "stdout",
     "output_type": "stream",
     "text": [
      "['aa', 'bb', 'cc']\n",
      "['cc', 'bb', 'aa']\n"
     ]
    }
   ],
   "source": [
    "M = ['bb', 'aa', 'cc']\n",
    "M.sort()   #Sort function is also applicable for Characters\n",
    "print(M)\n",
    "M.reverse()\n",
    "print(M)"
   ]
  },
  {
   "cell_type": "markdown",
   "id": "bf9ca164-2c5c-4621-a188-36c3f3bccc8e",
   "metadata": {},
   "source": [
    "## List Comprehension"
   ]
  },
  {
   "cell_type": "code",
   "execution_count": 34,
   "id": "ac96e905-0725-442a-b175-ff98f5243a68",
   "metadata": {},
   "outputs": [
    {
     "name": "stdout",
     "output_type": "stream",
     "text": [
      "[[1, 2, 3], [4, 5, 6], [7, 8, 9]]\n",
      "[4, 5, 6]\n",
      "6\n"
     ]
    }
   ],
   "source": [
    "M=[[1,2,3],\n",
    "   [4,5,6],\n",
    "   [7,8,9]]\n",
    "print(M)\n",
    "print(M[1])\n",
    "print(M[1][2])"
   ]
  },
  {
   "cell_type": "code",
   "execution_count": 35,
   "id": "77c28b88-6619-4aee-a95f-62cc2163df70",
   "metadata": {},
   "outputs": [
    {
     "data": {
      "text/plain": [
       "[2, 5, 8]"
      ]
     },
     "execution_count": 35,
     "metadata": {},
     "output_type": "execute_result"
    }
   ],
   "source": [
    "col = [row[1] for row in M]\n",
    "col"
   ]
  },
  {
   "cell_type": "code",
   "execution_count": 36,
   "id": "fa50c654-904b-4746-90d4-09770c9bea38",
   "metadata": {},
   "outputs": [
    {
     "data": {
      "text/plain": [
       "[3, 6, 9]"
      ]
     },
     "execution_count": 36,
     "metadata": {},
     "output_type": "execute_result"
    }
   ],
   "source": [
    "[row[1]+1 for row in M]\n"
   ]
  },
  {
   "cell_type": "code",
   "execution_count": 42,
   "id": "404818ac-8e05-43d0-b1c4-b4b85faf5ed1",
   "metadata": {},
   "outputs": [
    {
     "data": {
      "text/plain": [
       "[2, 8]"
      ]
     },
     "execution_count": 42,
     "metadata": {},
     "output_type": "execute_result"
    }
   ],
   "source": [
    "[row[1] for row in M if row[1] % 2 == 0]   #Even Values of each row at 1 index"
   ]
  },
  {
   "cell_type": "code",
   "execution_count": 43,
   "id": "bc04c538-69db-4146-bd0d-c1a853b44cdf",
   "metadata": {},
   "outputs": [
    {
     "data": {
      "text/plain": [
       "[1, 5, 9]"
      ]
     },
     "execution_count": 43,
     "metadata": {},
     "output_type": "execute_result"
    }
   ],
   "source": [
    "diag = [M[i][i] for i in [0,1,2]]   #Diagonal Matrix\n",
    "diag"
   ]
  },
  {
   "cell_type": "code",
   "execution_count": 44,
   "id": "48a3ad0f-055e-42c6-9054-c4530dd1ddea",
   "metadata": {},
   "outputs": [
    {
     "data": {
      "text/plain": [
       "['SS', 'pp', 'aa', 'mm']"
      ]
     },
     "execution_count": 44,
     "metadata": {},
     "output_type": "execute_result"
    }
   ],
   "source": [
    "doubles = [c*2 for c in 'Spam']\n",
    "doubles\n"
   ]
  },
  {
   "cell_type": "code",
   "execution_count": 45,
   "id": "0347e9c4-60bd-469a-9792-5606f4dc1a3f",
   "metadata": {},
   "outputs": [
    {
     "data": {
      "text/plain": [
       "[6, 15, 24]"
      ]
     },
     "execution_count": 45,
     "metadata": {},
     "output_type": "execute_result"
    }
   ],
   "source": [
    "list(map(sum, M))"
   ]
  },
  {
   "cell_type": "code",
   "execution_count": 47,
   "id": "61308bbc-cdf3-41dd-8c33-41b61451db11",
   "metadata": {},
   "outputs": [
    {
     "data": {
      "text/plain": [
       "{6, 15, 24}"
      ]
     },
     "execution_count": 47,
     "metadata": {},
     "output_type": "execute_result"
    }
   ],
   "source": [
    "{sum(row) for row in M}"
   ]
  },
  {
   "cell_type": "code",
   "execution_count": 48,
   "id": "f6728f32-f7ab-4064-acf9-857380d6e224",
   "metadata": {},
   "outputs": [
    {
     "data": {
      "text/plain": [
       "{0: 6, 1: 15, 2: 24}"
      ]
     },
     "execution_count": 48,
     "metadata": {},
     "output_type": "execute_result"
    }
   ],
   "source": [
    "{i : sum(M[i]) for i in range(3)}"
   ]
  },
  {
   "cell_type": "code",
   "execution_count": 50,
   "id": "48c28747-0cde-4f86-9a9a-12abae7c25d0",
   "metadata": {},
   "outputs": [
    {
     "name": "stdout",
     "output_type": "stream",
     "text": [
      "[115, 112, 97, 97, 109]\n",
      "{112, 97, 115, 109}\n",
      "{'s': 115, 'p': 112, 'a': 97, 'm': 109}\n"
     ]
    }
   ],
   "source": [
    "print([ord(x) for x in 'spaam'])\n",
    "print({ord(x) for x in 'spaam'})\n",
    "print({x: ord(x) for x in 'spaam'})"
   ]
  },
  {
   "cell_type": "code",
   "execution_count": 56,
   "id": "ed97efd5-f937-46cb-b5ce-5d9e34b257f1",
   "metadata": {},
   "outputs": [
    {
     "name": "stdout",
     "output_type": "stream",
     "text": [
      "Spam\n",
      "4\n",
      "Pink\n"
     ]
    }
   ],
   "source": [
    "D = {\"food\":\"Spam\", \"Quality\": 4, \"color\":\"Pink\"}\n",
    "print(D[\"food\"])\n",
    "print(D[\"Quality\"])\n",
    "print(D[\"color\"])"
   ]
  },
  {
   "cell_type": "code",
   "execution_count": 57,
   "id": "fb6b20ac-cbfc-41a2-aca6-b4e7f6b72fd5",
   "metadata": {},
   "outputs": [
    {
     "name": "stdout",
     "output_type": "stream",
     "text": [
      "{'Name': 'Bob', 'Job': 'Dev', 'Age': 40}\n",
      "Bob\n"
     ]
    }
   ],
   "source": [
    "D = {}\n",
    "D['Name'] = \"Bob\"\n",
    "D['Job'] = \"Dev\"\n",
    "D['Age'] = 40\n",
    "print(D)\n",
    "print(D[\"Name\"])"
   ]
  },
  {
   "cell_type": "code",
   "execution_count": 64,
   "id": "c4a8b901-3856-4e79-bc24-9bd560d4a770",
   "metadata": {},
   "outputs": [
    {
     "name": "stdout",
     "output_type": "stream",
     "text": [
      "{'Name': {'First': 'Bob', 'Last': 'Smith'}, 'Job': ['dev', 'mgr'], 'Age': 40.5}\n",
      "{'First': 'Bob', 'Last': 'Smith'}\n",
      "Smith\n",
      "dev\n"
     ]
    }
   ],
   "source": [
    "rec = {'Name': {'First':\"Bob\", \"Last\": 'Smith'},\n",
    "      'Job':['dev', 'mgr'],\n",
    "      \"Age\": 40.5}\n",
    "print(rec)\n",
    "print(rec[\"Name\"])\n",
    "print(rec[\"Name\"][\"Last\"])\n",
    "print(rec[\"Job\"][0])"
   ]
  },
  {
   "cell_type": "code",
   "execution_count": 66,
   "id": "ce5ad727-3f62-4653-9270-7c5ad143492f",
   "metadata": {},
   "outputs": [
    {
     "name": "stdout",
     "output_type": "stream",
     "text": [
      "Age => 40\n",
      "Job => Dev\n",
      "Name => Bob\n"
     ]
    }
   ],
   "source": [
    "for key in sorted(D):\n",
    "    print(key, '=>', D[key])"
   ]
  },
  {
   "cell_type": "code",
   "execution_count": 67,
   "id": "f5f8de47-769d-4393-b049-f8aa2240be28",
   "metadata": {},
   "outputs": [
    {
     "name": "stdout",
     "output_type": "stream",
     "text": [
      "S\n",
      "P\n",
      "A\n",
      "M\n"
     ]
    }
   ],
   "source": [
    "for c in 'spam':\n",
    "    print(c.upper())"
   ]
  },
  {
   "cell_type": "code",
   "execution_count": 68,
   "id": "a85d27ed-8033-4726-ab1b-42bda31f3448",
   "metadata": {},
   "outputs": [
    {
     "name": "stdout",
     "output_type": "stream",
     "text": [
      "spam!spam!spam!spam!\n",
      "spam!spam!spam!\n",
      "spam!spam!\n",
      "spam!\n"
     ]
    }
   ],
   "source": [
    "x = 4\n",
    "while x>0:\n",
    "    print('spam!'*x)\n",
    "    x-=1"
   ]
  },
  {
   "cell_type": "code",
   "execution_count": 72,
   "id": "8a7d9c19-8971-4b4d-b5bf-fa07ee2f9ed6",
   "metadata": {},
   "outputs": [
    {
     "name": "stdout",
     "output_type": "stream",
     "text": [
      "\n",
      " * \n",
      " *  * \n",
      " *  *  * \n",
      " *  *  *  * \n",
      " *  *  *  *  * \n",
      " *  *  *  *  *  * \n",
      " *  *  *  *  *  *  * \n",
      " *  *  *  *  *  *  *  * \n",
      " *  *  *  *  *  *  *  *  * \n"
     ]
    }
   ],
   "source": [
    "for i in range(10):\n",
    "    print(' * '*i)"
   ]
  },
  {
   "cell_type": "code",
   "execution_count": 80,
   "id": "74557561-0407-4832-8808-fc2141be4c0c",
   "metadata": {},
   "outputs": [
    {
     "name": "stdout",
     "output_type": "stream",
     "text": [
      "[1, 4, 9, 16, 25]\n",
      "[1, 4, 9, 16, 25]\n"
     ]
    }
   ],
   "source": [
    "square = [x ** 2 for x in [1,2,3,4,5]]\n",
    "print(square)\n",
    "square=[]\n",
    "for i in [1,2,3,4,5]:\n",
    "    square.append(i ** 2)\n",
    "print(square)"
   ]
  },
  {
   "cell_type": "code",
   "execution_count": 85,
   "id": "49c69e03-f918-4daf-9a2f-dfc9940095f8",
   "metadata": {},
   "outputs": [
    {
     "name": "stdout",
     "output_type": "stream",
     "text": [
      "{'a': 1, 'c': 3, 'b': 2}\n",
      "{'a': 1, 'c': 3, 'b': 2, 'e': 99}\n"
     ]
    }
   ],
   "source": [
    "D = {'a':1,'c':3,'b':2}\n",
    "print(D)\n",
    "D['e'] = 99\n",
    "print(D)"
   ]
  },
  {
   "cell_type": "markdown",
   "id": "b05e29f5-351e-46b2-a9ec-dcac772bfedf",
   "metadata": {},
   "source": [
    "\n",
    "```python\n",
    ">>>D['f']\n",
    "\n",
    "---------------------------------------------------------------------------\r\n",
    "KeyError                                  Traceback (most recent call last)\r\n",
    "Cell In[84], line 5\r\n",
    "      3 D['e'] = 99\r\n",
    "      4 print(D)\r\n",
    "----> 5 D['f']\r\n",
    "\r\n",
    "KeyErr\n",
    "\n",
    "```or: 'f'"
   ]
  },
  {
   "cell_type": "code",
   "execution_count": 88,
   "id": "3beec440-e3c9-4d73-b1e0-edb96b33421b",
   "metadata": {},
   "outputs": [
    {
     "name": "stdout",
     "output_type": "stream",
     "text": [
      "Missing\n"
     ]
    }
   ],
   "source": [
    "'f' in D\n",
    "if not 'f' in D:\n",
    "    print(\"Missing\")"
   ]
  },
  {
   "cell_type": "code",
   "execution_count": 90,
   "id": "06cd5709-490a-4e7b-8826-3ed43cb296eb",
   "metadata": {},
   "outputs": [
    {
     "name": "stdout",
     "output_type": "stream",
     "text": [
      "0\n",
      "0\n"
     ]
    }
   ],
   "source": [
    "value = D.get('x', 0)\n",
    "print(value)\n",
    "value = D['x'] if 'x' in D else 0\n",
    "print(value)"
   ]
  },
  {
   "cell_type": "code",
   "execution_count": 91,
   "id": "cf0df237-2ebe-4182-9369-6e5486290b8e",
   "metadata": {},
   "outputs": [
    {
     "data": {
      "text/plain": [
       "4"
      ]
     },
     "execution_count": 91,
     "metadata": {},
     "output_type": "execute_result"
    }
   ],
   "source": [
    "T=(1,2,3,4)\n",
    "len(T)"
   ]
  },
  {
   "cell_type": "code",
   "execution_count": 92,
   "id": "10206394-fbb0-4d9f-a5ea-c7cc7101f961",
   "metadata": {},
   "outputs": [
    {
     "data": {
      "text/plain": [
       "(1, 2, 3, 4, 5, 6)"
      ]
     },
     "execution_count": 92,
     "metadata": {},
     "output_type": "execute_result"
    }
   ],
   "source": [
    "T+(5,6)"
   ]
  },
  {
   "cell_type": "code",
   "execution_count": 93,
   "id": "7f5d8205-2540-44f1-9fac-7ca20719f5cb",
   "metadata": {},
   "outputs": [
    {
     "data": {
      "text/plain": [
       "1"
      ]
     },
     "execution_count": 93,
     "metadata": {},
     "output_type": "execute_result"
    }
   ],
   "source": [
    "T[0]"
   ]
  },
  {
   "cell_type": "code",
   "execution_count": 97,
   "id": "bc4950fa-0dca-4bfe-86f5-8cb0984cdf2a",
   "metadata": {},
   "outputs": [
    {
     "name": "stdout",
     "output_type": "stream",
     "text": [
      "3\n",
      "1\n"
     ]
    }
   ],
   "source": [
    "print(T.index(4))\n",
    "print(T.count(4))"
   ]
  },
  {
   "cell_type": "markdown",
   "id": "cf682ec2-e7cf-4881-977e-c4d20e97ea5b",
   "metadata": {},
   "source": [
    "``` python\n",
    "\n",
    "print(T[0]=2)\n",
    "\n",
    " Cell In[96], line 3\n",
    "    print(T[0]=2)\n",
    "          ^\n",
    "SyntaxError: expression cannot contain assignment, perhaps you meant \"==\"?\n",
    "```"
   ]
  },
  {
   "cell_type": "code",
   "execution_count": 100,
   "id": "910b1a79-c289-4e44-8128-de66a26ce609",
   "metadata": {},
   "outputs": [
    {
     "name": "stdout",
     "output_type": "stream",
     "text": [
      "3.0\n",
      "22\n"
     ]
    }
   ],
   "source": [
    "T = ('spam', 3.0, [11,22,33])\n",
    "print(T[1])\n",
    "print(T[2][1])\n"
   ]
  },
  {
   "cell_type": "markdown",
   "id": "3050b24d-9cff-4ffe-9592-f63c4ecd10d1",
   "metadata": {},
   "source": [
    "``` python\n",
    "print(T.apppend(4))\n",
    "\n",
    "---------------------------------------------------------------------------\r\n",
    "AttributeError                            Traceback (most recent call last)\r\n",
    "Cell In[99], line 4\r\n",
    "      2 print(T[1])\r\n",
    "      3 print(T[2][1])\r\n",
    "----> 4 print(T.append(4))\r\n",
    "\r\n",
    "AttributeError: 'tuple' object has no attribute '\n",
    "```append'"
   ]
  },
  {
   "cell_type": "markdown",
   "id": "d5c207ad-7972-4a7c-9ca4-565fc18d52fd",
   "metadata": {},
   "source": [
    "## Files\n",
    "\n",
    "#### Fie objects are Python code's main interface to external file on your computer. Files are a core type but they are something of a oddball---there is no specific literal syntax for creatinh them."
   ]
  },
  {
   "cell_type": "code",
   "execution_count": 101,
   "id": "65a46977-0e5d-41ef-aabb-929ac720955c",
   "metadata": {},
   "outputs": [
    {
     "name": "stdout",
     "output_type": "stream",
     "text": [
      "6\n",
      "6\n"
     ]
    }
   ],
   "source": [
    "f = open('data.txt', 'w')\n",
    "print(f.write('Hello\\n'))\n",
    "print(f.write('World\\n'))\n",
    "f.close()"
   ]
  },
  {
   "cell_type": "code",
   "execution_count": 102,
   "id": "81d3bb82-a7c5-4d2b-89ff-3704e9c9fe2b",
   "metadata": {},
   "outputs": [
    {
     "data": {
      "text/plain": [
       "'Hello\\nWorld\\n'"
      ]
     },
     "execution_count": 102,
     "metadata": {},
     "output_type": "execute_result"
    }
   ],
   "source": [
    "f = open('data.txt')\n",
    "text = f.read()\n",
    "text"
   ]
  },
  {
   "cell_type": "code",
   "execution_count": 103,
   "id": "32a76626-e73b-4806-8e7f-0b632757aa99",
   "metadata": {},
   "outputs": [
    {
     "name": "stdout",
     "output_type": "stream",
     "text": [
      "Hello\n",
      "World\n",
      "\n"
     ]
    }
   ],
   "source": [
    "print(text)"
   ]
  },
  {
   "cell_type": "code",
   "execution_count": 105,
   "id": "d4026380-ac0c-4f27-af62-ce28c5791232",
   "metadata": {},
   "outputs": [
    {
     "data": {
      "text/plain": [
       "['Hello', 'World']"
      ]
     },
     "execution_count": 105,
     "metadata": {},
     "output_type": "execute_result"
    }
   ],
   "source": [
    "text.split()"
   ]
  },
  {
   "cell_type": "code",
   "execution_count": 119,
   "id": "d2b44177-a656-4fdc-9d2b-1a1e75076033",
   "metadata": {},
   "outputs": [
    {
     "data": {
      "text/plain": [
       "b'spam'"
      ]
     },
     "execution_count": 119,
     "metadata": {},
     "output_type": "execute_result"
    }
   ],
   "source": [
    "data =open('data.bin', 'w')\n",
    "data = data.write('spam')\n",
    "data=open('data.bin', 'rb').read()\n",
    "data"
   ]
  },
  {
   "cell_type": "markdown",
   "id": "6d266a0f-9737-4e3d-8b11-7e958a9b5091",
   "metadata": {},
   "source": [
    "## Sets\n",
    "\n",
    "Set are recent addition to the language that are neither mapping nor sequencing; rather they are ordered collection of uniwue and immutable objects."
   ]
  },
  {
   "cell_type": "code",
   "execution_count": 123,
   "id": "16daa0b5-544a-41c6-874b-dcf0be41c8b5",
   "metadata": {},
   "outputs": [
    {
     "name": "stdout",
     "output_type": "stream",
     "text": [
      "{'a', 'p', 's', 'm'} {'a', 'h', 'm'}\n",
      "{'a', 'm'}\n",
      "{'m', 'a', 'h', 'p', 's'}\n",
      "{'p', 's'}\n",
      "<generator object <genexpr> at 0x000001B49F695080>\n"
     ]
    }
   ],
   "source": [
    "X = set('spam')\n",
    "Y = {'h', 'a', 'm'}\n",
    "print(X,Y)\n",
    "print(X & Y)\n",
    "print(X | Y)\n",
    "print(X - Y)\n",
    "print(x ** 2 for x in [1,2,3,4])"
   ]
  },
  {
   "cell_type": "code",
   "execution_count": 124,
   "id": "666e2958-cff0-4225-a005-6d32fa2112b0",
   "metadata": {},
   "outputs": [
    {
     "data": {
      "text/plain": [
       "0.3333333333333333"
      ]
     },
     "execution_count": 124,
     "metadata": {},
     "output_type": "execute_result"
    }
   ],
   "source": [
    "1/3"
   ]
  },
  {
   "cell_type": "code",
   "execution_count": 125,
   "id": "9e73f3d3-91ee-4374-bcbb-736d9bed8215",
   "metadata": {},
   "outputs": [
    {
     "data": {
      "text/plain": [
       "Decimal('4.141')"
      ]
     },
     "execution_count": 125,
     "metadata": {},
     "output_type": "execute_result"
    }
   ],
   "source": [
    "import decimal\n",
    "d = decimal.Decimal('3.141')\n",
    "d+1"
   ]
  },
  {
   "cell_type": "code",
   "execution_count": 127,
   "id": "85124a19-d5b1-4ea9-b318-3ee52d4bd136",
   "metadata": {},
   "outputs": [
    {
     "data": {
      "text/plain": [
       "Decimal('0.33')"
      ]
     },
     "execution_count": 127,
     "metadata": {},
     "output_type": "execute_result"
    }
   ],
   "source": [
    "decimal.getcontext().prec = 2\n",
    "decimal.Decimal('1.00')/decimal.Decimal('3.00')"
   ]
  },
  {
   "cell_type": "code",
   "execution_count": 128,
   "id": "6889de70-79e4-4c21-98c4-7c82450feabe",
   "metadata": {},
   "outputs": [
    {
     "data": {
      "text/plain": [
       "Fraction(5, 3)"
      ]
     },
     "execution_count": 128,
     "metadata": {},
     "output_type": "execute_result"
    }
   ],
   "source": [
    "from fractions import Fraction\n",
    "f = Fraction(2,3)\n",
    "f+1"
   ]
  },
  {
   "cell_type": "code",
   "execution_count": 129,
   "id": "553ff363-b48b-414b-86cb-790397bb7a5c",
   "metadata": {},
   "outputs": [
    {
     "data": {
      "text/plain": [
       "Fraction(7, 6)"
      ]
     },
     "execution_count": 129,
     "metadata": {},
     "output_type": "execute_result"
    }
   ],
   "source": [
    "f+Fraction(1,2)"
   ]
  },
  {
   "cell_type": "code",
   "execution_count": 138,
   "id": "ce273e70-109d-476e-a7ef-0c688e7fcf9c",
   "metadata": {},
   "outputs": [
    {
     "name": "stdout",
     "output_type": "stream",
     "text": [
      "None\n"
     ]
    },
    {
     "data": {
      "text/plain": [
       "NoneType"
      ]
     },
     "execution_count": 138,
     "metadata": {},
     "output_type": "execute_result"
    }
   ],
   "source": [
    "X=None\n",
    "print(X)\n",
    "type(X)"
   ]
  },
  {
   "cell_type": "code",
   "execution_count": 145,
   "id": "4bedc46f-e1a5-4a53-8af3-18331f48a091",
   "metadata": {},
   "outputs": [
    {
     "name": "stdout",
     "output_type": "stream",
     "text": [
      "yes\n",
      "No\n"
     ]
    }
   ],
   "source": [
    "if isinstance(L, list):\n",
    "    print('yes')\n",
    "if isinstance(D, list):\n",
    "    print('yes')\n",
    "else:\n",
    "    print('No')"
   ]
  },
  {
   "cell_type": "markdown",
   "id": "cf646993-7ee3-4645-a81e-bb66dd2d3b66",
   "metadata": {},
   "source": [
    "## Class-Object\n",
    "```python   \n",
    "__init__ ``` is initialization Function\n",
    "The implied 'self' object is why we call this an object oriented model: There is always an implied subject in functions within a class"
   ]
  },
  {
   "cell_type": "code",
   "execution_count": 146,
   "id": "db0a9d76-130d-4110-af3c-0c2d67333155",
   "metadata": {},
   "outputs": [],
   "source": [
    "class Worker:\n",
    "    def __init__(self, name, pay):\n",
    "        self.name = name\n",
    "        self.pay = pay\n",
    "    def lastname(self):\n",
    "        return self.name.split()[-1]\n",
    "    def giveRaise(self, percent):\n",
    "        self.pay *= (1.0+percent)"
   ]
  },
  {
   "cell_type": "code",
   "execution_count": 155,
   "id": "aed1d1ab-e958-402a-a740-712b7fe9e327",
   "metadata": {},
   "outputs": [
    {
     "data": {
      "text/plain": [
       "55000.00000000001"
      ]
     },
     "execution_count": 155,
     "metadata": {},
     "output_type": "execute_result"
    }
   ],
   "source": [
    "bob = Worker('Bob Smith', 50000)\n",
    "bob.lastname()\n",
    "bob.giveRaise(.10)\n",
    "bob.pay"
   ]
  },
  {
   "cell_type": "code",
   "execution_count": 1,
   "id": "1bfba645-e9cf-469b-853d-cbbd0798cf3a",
   "metadata": {},
   "outputs": [
    {
     "data": {
      "text/plain": [
       "0.45454545454545453"
      ]
     },
     "execution_count": 1,
     "metadata": {},
     "output_type": "execute_result"
    }
   ],
   "source": [
    "a =20\n",
    "b=10\n",
    "b/(2.0 +a)"
   ]
  },
  {
   "cell_type": "code",
   "execution_count": 2,
   "id": "784978f0-02c9-4176-b65c-edd9dfd3bd50",
   "metadata": {},
   "outputs": [
    {
     "name": "stdout",
     "output_type": "stream",
     "text": [
      "0.45454545454545453\n"
     ]
    }
   ],
   "source": [
    "print(b /(2.0+a))"
   ]
  },
  {
   "cell_type": "code",
   "execution_count": 4,
   "id": "f518e237-b987-4fa9-b472-287dd34603ce",
   "metadata": {},
   "outputs": [
    {
     "data": {
      "text/plain": [
       "0.45"
      ]
     },
     "execution_count": 4,
     "metadata": {},
     "output_type": "execute_result"
    }
   ],
   "source": [
    "round(b /(2.0+a), 2)"
   ]
  },
  {
   "cell_type": "code",
   "execution_count": null,
   "id": "c4daddd0-863e-4c67-8ba4-07e5ced52bad",
   "metadata": {},
   "outputs": [],
   "source": []
  }
 ],
 "metadata": {
  "kernelspec": {
   "display_name": "Python 3 (ipykernel)",
   "language": "python",
   "name": "python3"
  },
  "language_info": {
   "codemirror_mode": {
    "name": "ipython",
    "version": 3
   },
   "file_extension": ".py",
   "mimetype": "text/x-python",
   "name": "python",
   "nbconvert_exporter": "python",
   "pygments_lexer": "ipython3",
   "version": "3.12.1"
  }
 },
 "nbformat": 4,
 "nbformat_minor": 5
}
