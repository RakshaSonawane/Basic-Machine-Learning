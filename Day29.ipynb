{
 "cells": [
  {
   "cell_type": "code",
   "execution_count": 1,
   "id": "e2cb00ab-f077-4efb-81d6-45860b8f5f21",
   "metadata": {},
   "outputs": [],
   "source": [
    "import cv2"
   ]
  },
  {
   "cell_type": "code",
   "execution_count": 2,
   "id": "5ef4b965-e8b8-476b-a9b1-b6ca7211cb9c",
   "metadata": {},
   "outputs": [],
   "source": [
    "path = r\"C:\\Users\\uSER\\Desktop\\cat.jpeg\""
   ]
  },
  {
   "cell_type": "code",
   "execution_count": 3,
   "id": "e2cb9e0a-5053-41da-969a-833405103867",
   "metadata": {},
   "outputs": [],
   "source": [
    "image = cv2.imread(path)"
   ]
  },
  {
   "cell_type": "code",
   "execution_count": 4,
   "id": "6777855d-5526-4a44-bc55-095cfc029d94",
   "metadata": {},
   "outputs": [],
   "source": [
    "cv2.imshow(\"Output\", image)"
   ]
  },
  {
   "cell_type": "code",
   "execution_count": 5,
   "id": "3ebbf661-5157-485f-a43e-102887565487",
   "metadata": {},
   "outputs": [
    {
     "data": {
      "text/plain": [
       "32"
      ]
     },
     "execution_count": 5,
     "metadata": {},
     "output_type": "execute_result"
    }
   ],
   "source": [
    "cv2.waitKey() \n"
   ]
  },
  {
   "cell_type": "code",
   "execution_count": 6,
   "id": "53adf8a6-01d7-4a31-9de6-70c012255dc8",
   "metadata": {},
   "outputs": [],
   "source": [
    "cv2.destroyAllWindows()"
   ]
  },
  {
   "cell_type": "code",
   "execution_count": null,
   "id": "184f8a8f-a98a-4b68-bba0-d102cb1f49cb",
   "metadata": {},
   "outputs": [],
   "source": []
  },
  {
   "cell_type": "markdown",
   "id": "7e6d3e15-5897-4e68-aaed-644510a64e00",
   "metadata": {},
   "source": [
    "#### Convert image to black and white"
   ]
  },
  {
   "cell_type": "code",
   "execution_count": 7,
   "id": "b5bda38f-b206-476c-9efb-deed01887c47",
   "metadata": {},
   "outputs": [],
   "source": [
    "image_gray = cv2.cvtColor(image, cv2.COLOR_BGR2GRAY)"
   ]
  },
  {
   "cell_type": "code",
   "execution_count": 8,
   "id": "5bbc46dc-4d3c-42a9-a1f1-df0889cfa302",
   "metadata": {},
   "outputs": [],
   "source": [
    "cv2.imshow(\"Output\", image)\n",
    "cv2.imshow(\"output_Gray\", image_gray)"
   ]
  },
  {
   "cell_type": "code",
   "execution_count": 9,
   "id": "b4b5d13d-d250-46e7-aedb-72967533ceb4",
   "metadata": {},
   "outputs": [
    {
     "data": {
      "text/plain": [
       "32"
      ]
     },
     "execution_count": 9,
     "metadata": {},
     "output_type": "execute_result"
    }
   ],
   "source": [
    "cv2.waitKey()\n"
   ]
  },
  {
   "cell_type": "code",
   "execution_count": 10,
   "id": "e3d6d308-a043-454c-9cd3-3f047ad2fdc5",
   "metadata": {},
   "outputs": [],
   "source": [
    "cv2.destroyAllWindows()"
   ]
  },
  {
   "cell_type": "code",
   "execution_count": 11,
   "id": "411af137-2cf7-4fbe-8f69-9fa32374e5dd",
   "metadata": {},
   "outputs": [
    {
     "data": {
      "text/plain": [
       "True"
      ]
     },
     "execution_count": 11,
     "metadata": {},
     "output_type": "execute_result"
    }
   ],
   "source": [
    "cv2.imwrite(r\"C:\\Users\\uSER\\Desktop\\cat_gray.jpeg\", image_gray)\n"
   ]
  },
  {
   "cell_type": "code",
   "execution_count": 12,
   "id": "40d060f9-040f-4eed-91bd-d84a62f3f53a",
   "metadata": {},
   "outputs": [],
   "source": [
    "cam = cv2.VideoCapture(0)"
   ]
  },
  {
   "cell_type": "code",
   "execution_count": 13,
   "id": "147b350b-b0d9-4ff1-b3e0-d950380f78ee",
   "metadata": {},
   "outputs": [],
   "source": [
    "cam = cv2.VideoCapture(r\"C:\\Users\\uSER\\Desktop\\cat_vid.mp4\")"
   ]
  },
  {
   "cell_type": "code",
   "execution_count": 14,
   "id": "dd6aecab-63d7-4f1c-8fd6-1a15da4309b9",
   "metadata": {},
   "outputs": [],
   "source": [
    "# IP camera give IP address\n",
    "#cam = cv2.VideoCapture(\"IP_Address\")"
   ]
  },
  {
   "cell_type": "code",
   "execution_count": 15,
   "id": "425d2899-2f6f-46de-890c-b6f7ffda870e",
   "metadata": {},
   "outputs": [],
   "source": [
    "cam = cv2.VideoCapture(0)\n",
    "while True:\n",
    "    _, frame = cam.read()\n",
    "    cv2.imshow(\"Webcam\", frame)\n",
    "    if cv2.waitKey(1) & 0xff == ord('q'):\n",
    "        break\n",
    "cam.release()\n",
    "cv2.destroyAllWindows()"
   ]
  },
  {
   "cell_type": "code",
   "execution_count": 16,
   "id": "a5f5a73d-144c-4473-a44e-efea3c17c99d",
   "metadata": {},
   "outputs": [],
   "source": [
    "cv2.destroyAllWindows()\n"
   ]
  },
  {
   "cell_type": "code",
   "execution_count": 17,
   "id": "810d3ff6-814d-4dde-8f7f-3d8966284e16",
   "metadata": {},
   "outputs": [],
   "source": [
    "cam = cv2.VideoCapture(0)"
   ]
  },
  {
   "cell_type": "code",
   "execution_count": 18,
   "id": "a18e6885-d330-4e5e-b6c1-8b99675f0683",
   "metadata": {},
   "outputs": [],
   "source": [
    "width = cam.get(cv2.CAP_PROP_FRAME_WIDTH)\n",
    "height = cam.get(cv2.CAP_PROP_FRAME_HEIGHT)\n",
    "fps = cam.get(cv2.CAP_PROP_FPS)"
   ]
  },
  {
   "cell_type": "code",
   "execution_count": 19,
   "id": "32b9f4d6-8fbb-43fc-86ec-abc016b12389",
   "metadata": {},
   "outputs": [
    {
     "name": "stdout",
     "output_type": "stream",
     "text": [
      "resolution: 640.0 x 480.0 | frames per second: 30.0\n",
      "resolution: 640.0 x 480.0 | frames per second: 30.0\n",
      "resolution: 640.0 x 480.0 | frames per second: 30.0\n",
      "resolution: 640.0 x 480.0 | frames per second: 30.0\n",
      "resolution: 640.0 x 480.0 | frames per second: 30.0\n",
      "resolution: 640.0 x 480.0 | frames per second: 30.0\n",
      "resolution: 640.0 x 480.0 | frames per second: 30.0\n",
      "resolution: 640.0 x 480.0 | frames per second: 30.0\n",
      "resolution: 640.0 x 480.0 | frames per second: 30.0\n",
      "resolution: 640.0 x 480.0 | frames per second: 30.0\n",
      "resolution: 640.0 x 480.0 | frames per second: 30.0\n",
      "resolution: 640.0 x 480.0 | frames per second: 30.0\n",
      "resolution: 640.0 x 480.0 | frames per second: 30.0\n",
      "resolution: 640.0 x 480.0 | frames per second: 30.0\n"
     ]
    }
   ],
   "source": [
    "while True:\n",
    "    i, frame = cam.read()\n",
    "    cv2.imshow('Webcam', frame)\n",
    "    print(\"resolution:\", width, 'x', height, '| frames per second:', fps)\n",
    "    if cv2.waitKey(1) & 0xff == ord('q'):\n",
    "        break\n"
   ]
  },
  {
   "cell_type": "code",
   "execution_count": 20,
   "id": "3f023c09-9954-40b1-9ada-7fb3d4559500",
   "metadata": {},
   "outputs": [],
   "source": [
    "\n",
    "cam.release()\n",
    "cv2.destroyAllWindows()"
   ]
  },
  {
   "cell_type": "code",
   "execution_count": 21,
   "id": "991a9bbe-cd44-4b7c-8399-a4bb74cad8a0",
   "metadata": {},
   "outputs": [
    {
     "data": {
      "text/plain": [
       "30.0"
      ]
     },
     "execution_count": 21,
     "metadata": {},
     "output_type": "execute_result"
    }
   ],
   "source": [
    "fps\n"
   ]
  },
  {
   "cell_type": "code",
   "execution_count": 22,
   "id": "ba1538fe-4745-40e6-8fe2-75fbc191cad1",
   "metadata": {},
   "outputs": [
    {
     "name": "stdout",
     "output_type": "stream",
     "text": [
      "resolution: 640.0 x 480.0 | frames per second: 30.0\n",
      "resolution: 640.0 x 480.0 | frames per second: 30.0\n",
      "resolution: 640.0 x 480.0 | frames per second: 30.0\n",
      "resolution: 640.0 x 480.0 | frames per second: 30.0\n",
      "resolution: 640.0 x 480.0 | frames per second: 30.0\n",
      "resolution: 640.0 x 480.0 | frames per second: 30.0\n",
      "resolution: 640.0 x 480.0 | frames per second: 30.0\n",
      "resolution: 640.0 x 480.0 | frames per second: 30.0\n",
      "resolution: 640.0 x 480.0 | frames per second: 30.0\n",
      "resolution: 640.0 x 480.0 | frames per second: 30.0\n",
      "resolution: 640.0 x 480.0 | frames per second: 30.0\n",
      "resolution: 640.0 x 480.0 | frames per second: 30.0\n",
      "resolution: 640.0 x 480.0 | frames per second: 30.0\n",
      "resolution: 640.0 x 480.0 | frames per second: 30.0\n",
      "resolution: 640.0 x 480.0 | frames per second: 30.0\n",
      "resolution: 640.0 x 480.0 | frames per second: 30.0\n",
      "resolution: 640.0 x 480.0 | frames per second: 30.0\n",
      "resolution: 640.0 x 480.0 | frames per second: 30.0\n",
      "resolution: 640.0 x 480.0 | frames per second: 30.0\n",
      "resolution: 640.0 x 480.0 | frames per second: 30.0\n",
      "resolution: 640.0 x 480.0 | frames per second: 30.0\n",
      "resolution: 640.0 x 480.0 | frames per second: 30.0\n",
      "resolution: 640.0 x 480.0 | frames per second: 30.0\n",
      "resolution: 640.0 x 480.0 | frames per second: 30.0\n",
      "resolution: 640.0 x 480.0 | frames per second: 30.0\n",
      "resolution: 640.0 x 480.0 | frames per second: 30.0\n"
     ]
    }
   ],
   "source": [
    "cam = cv2.VideoCapture(0)\n",
    "cam.set(cv2.CAP_PROP_FRAME_WIDTH,720)\n",
    "cam.set(cv2.CAP_PROP_FRAME_HEIGHT,720)\n",
    "cam.set(cv2.CAP_PROP_FPS,15)\n",
    "\n",
    "width = cam.get(cv2.CAP_PROP_FRAME_WIDTH)\n",
    "height = cam.get(cv2.CAP_PROP_FRAME_HEIGHT)\n",
    "fps = cam.get(cv2.CAP_PROP_FPS)\n",
    "while True:\n",
    "    i, frame = cam.read()\n",
    "    cv2.imshow('Webcam', frame)\n",
    "    print(\"resolution:\", width, 'x', height, '| frames per second:', fps)\n",
    "    if cv2.waitKey(1) & 0xff == ord('q'):\n",
    "        break\n",
    "cam.release()\n",
    "cv2.destroyAllWindows()"
   ]
  },
  {
   "cell_type": "code",
   "execution_count": 23,
   "id": "76b2375c-2bcc-486c-bbd3-a9735f43926a",
   "metadata": {},
   "outputs": [
    {
     "name": "stdout",
     "output_type": "stream",
     "text": [
      "a Pixel [ 72 145 135]\n"
     ]
    }
   ],
   "source": [
    "print(\"a Pixel\", image[5,5])"
   ]
  },
  {
   "cell_type": "code",
   "execution_count": 45,
   "id": "5e80ec3c-f3b6-4743-940d-444d51bf7e51",
   "metadata": {},
   "outputs": [],
   "source": [
    "new_image = image[:,:]"
   ]
  },
  {
   "cell_type": "code",
   "execution_count": 46,
   "id": "b6b874e7-171e-4e8a-b4ad-45143e829ab5",
   "metadata": {},
   "outputs": [],
   "source": [
    "B=new_image[:,:,0]\n",
    "G=new_image[:,:,1]\n",
    "R=new_image[:,:,2]\n"
   ]
  },
  {
   "cell_type": "code",
   "execution_count": 47,
   "id": "81686cc2-fa38-4d06-847d-901f1443b51a",
   "metadata": {},
   "outputs": [
    {
     "name": "stdout",
     "output_type": "stream",
     "text": [
      "Blue Channel:\n",
      "[[15 40 18 ... 52 53 53]\n",
      " [ 0  0 11 ... 53 54 54]\n",
      " [82 26 12 ... 54 54 55]\n",
      " ...\n",
      " [ 0  3 32 ...  6  9 10]\n",
      " [ 0  0 30 ...  5  7  9]\n",
      " [ 0  0 25 ...  5  9 10]]\n",
      "Green Channel:\n",
      "[[ 36  65  49 ... 162 163 163]\n",
      " [ 19  21  43 ... 163 164 164]\n",
      " [121  62  44 ... 165 165 166]\n",
      " ...\n",
      " [ 47  64  87 ...  93  95  96]\n",
      " [ 40  55  86 ...  92  93  95]\n",
      " [ 50  58  84 ...  91  92  93]]\n",
      "Red Channel:\n",
      "[[ 33  61  46 ... 156 157 157]\n",
      " [ 13  15  38 ... 157 158 158]\n",
      " [106  48  33 ... 161 161 162]\n",
      " ...\n",
      " [ 27  44  68 ...  83  83  84]\n",
      " [ 20  35  67 ...  82  81  83]\n",
      " [ 30  38  64 ...  81  83  84]]\n"
     ]
    }
   ],
   "source": [
    "print('Blue Channel:')\n",
    "print(B)\n",
    "print('Green Channel:')\n",
    "print(G)\n",
    "print('Red Channel:')\n",
    "print(R)"
   ]
  },
  {
   "cell_type": "code",
   "execution_count": 48,
   "id": "c4c60a58-ef0c-4acb-8f6f-d495748e69c1",
   "metadata": {},
   "outputs": [],
   "source": [
    "B,G,R = cv2.split(new_image)"
   ]
  },
  {
   "cell_type": "code",
   "execution_count": 49,
   "id": "5a9ff04e-6e6a-40b5-9fbd-0d99501b7a67",
   "metadata": {},
   "outputs": [
    {
     "data": {
      "text/plain": [
       "array([[ 0,  0,  0, ..., 52, 53, 53],\n",
       "       [ 0,  0,  0, ..., 53, 54, 54],\n",
       "       [ 0,  0,  0, ..., 54, 54, 55],\n",
       "       ...,\n",
       "       [ 0,  0,  0, ...,  6,  9, 10],\n",
       "       [ 0,  0,  0, ...,  5,  7,  9],\n",
       "       [ 0,  0,  0, ...,  5,  9, 10]], dtype=uint8)"
      ]
     },
     "execution_count": 49,
     "metadata": {},
     "output_type": "execute_result"
    }
   ],
   "source": [
    "b=B.copy()\n",
    "for i in range(len(b)):\n",
    "    for j in range(len(b)):\n",
    "        b[i][j] = 0\n",
    "\n",
    "b"
   ]
  },
  {
   "cell_type": "code",
   "execution_count": 50,
   "id": "40a9e0eb-887b-4578-a408-ea20ff93bf2f",
   "metadata": {},
   "outputs": [],
   "source": [
    "image_merged = cv2.merge((b,G,R))"
   ]
  },
  {
   "cell_type": "code",
   "execution_count": 51,
   "id": "026efd41-fe1c-472e-ab81-bc1d1bff5d85",
   "metadata": {},
   "outputs": [
    {
     "data": {
      "text/plain": [
       "32"
      ]
     },
     "execution_count": 51,
     "metadata": {},
     "output_type": "execute_result"
    }
   ],
   "source": [
    "cv2.imshow(\"output_Gray\", image_merged)\n",
    "cv2.waitKey()\n"
   ]
  },
  {
   "cell_type": "code",
   "execution_count": 52,
   "id": "177f2454-6dde-4a87-9dc7-8bfcc0e0ee1e",
   "metadata": {},
   "outputs": [
    {
     "data": {
      "text/plain": [
       "32"
      ]
     },
     "execution_count": 52,
     "metadata": {},
     "output_type": "execute_result"
    }
   ],
   "source": [
    "cv2.imshow(\"Output\", image)\n",
    "cv2.waitKey()\n"
   ]
  },
  {
   "cell_type": "code",
   "execution_count": 55,
   "id": "456d3398-938d-4cbd-97fa-a25c97cb4c97",
   "metadata": {},
   "outputs": [],
   "source": [
    "cv2.destroyAllWindows()"
   ]
  },
  {
   "cell_type": "code",
   "execution_count": 54,
   "id": "478063f0-0b20-49a5-83cc-973a2f7f6307",
   "metadata": {},
   "outputs": [
    {
     "data": {
      "text/plain": [
       "32"
      ]
     },
     "execution_count": 54,
     "metadata": {},
     "output_type": "execute_result"
    }
   ],
   "source": [
    "cv2.imshow(\"Output\", cv2.merge((b,G,R)))\n",
    "cv2.waitKey()\n"
   ]
  },
  {
   "cell_type": "code",
   "execution_count": null,
   "id": "283bcdba-60e9-40c9-8041-b4862bf825ef",
   "metadata": {},
   "outputs": [],
   "source": []
  }
 ],
 "metadata": {
  "kernelspec": {
   "display_name": "Python 3 (ipykernel)",
   "language": "python",
   "name": "python3"
  },
  "language_info": {
   "codemirror_mode": {
    "name": "ipython",
    "version": 3
   },
   "file_extension": ".py",
   "mimetype": "text/x-python",
   "name": "python",
   "nbconvert_exporter": "python",
   "pygments_lexer": "ipython3",
   "version": "3.12.4"
  }
 },
 "nbformat": 4,
 "nbformat_minor": 5
}
